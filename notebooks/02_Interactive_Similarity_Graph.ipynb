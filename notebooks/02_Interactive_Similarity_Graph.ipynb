{
 "cells": [
  {
   "cell_type": "markdown",
   "id": "453e15c9",
   "metadata": {},
   "source": [
    "# Project 1, Part 8: Interactive Film Similarity Graph\n",
    "\n",
    "This notebook takes the output of our Machine Learning pipeline—the cosine similarity matrix—and builds an interactive network graph to visualize film relationships.\n",
    "\n",
    "**Objective:**\n",
    "Create a function that, given a movie title, finds its most similar counterparts and displays the relationships as a dynamic, explorable graph.\n",
    "\n",
    "**Methodology:**\n",
    "1.  **Load Processed Data:** Load the similarity matrix (`.npy`) and the movie title-to-index mapping (`.pkl`) that we saved from the feature engineering script.\n",
    "2.  **Similarity Function:** Create a helper function to retrieve the top N most similar movies for a given title by looking up scores in the similarity matrix.\n",
    "3.  **Graph Visualization:** Use the **`pyvis`** library to build the network. The source movie will be a central node, and its similar movies will be connected by edges whose thickness or label indicates the similarity score."
   ]
  },
  {
   "cell_type": "code",
   "execution_count": 2,
   "id": "53eefa20",
   "metadata": {},
   "outputs": [
    {
     "name": "stdout",
     "output_type": "stream",
     "text": [
      "Successfully loaded similarity matrix and movie indices.\n",
      "Shape of similarity matrix: (4581, 4581)\n",
      "Number of movies in index: 4581\n",
      "pre_code_horror_similarity.html\n"
     ]
    },
    {
     "data": {
      "text/plain": [
       "<class 'pyvis.network.Network'> |N|=8 |E|=7"
      ]
     },
     "metadata": {},
     "output_type": "display_data"
    }
   ],
   "source": [
    "import numpy as np\n",
    "import pandas as pd\n",
    "import pickle\n",
    "from pyvis.network import Network\n",
    "import os\n",
    "\n",
    "# --- 1. Load Pre-computed Data ---\n",
    "PROCESSED_DATA_DIR = \"../data/processed\"\n",
    "SIMILARITY_MATRIX_PATH = os.path.join(PROCESSED_DATA_DIR, 'cosine_similarity_matrix.npy')\n",
    "INDICES_PATH = os.path.join(PROCESSED_DATA_DIR, 'movie_indices.pkl')\n",
    "\n",
    "# Load the data from the files our script created\n",
    "cosine_sim = np.load(SIMILARITY_MATRIX_PATH)\n",
    "\n",
    "with open(INDICES_PATH, 'rb') as f:\n",
    "    indices = pickle.load(f)\n",
    "\n",
    "print(\"Successfully loaded similarity matrix and movie indices.\")\n",
    "print(f\"Shape of similarity matrix: {cosine_sim.shape}\")\n",
    "print(f\"Number of movies in index: {len(indices)}\")\n",
    "\n",
    "# --- 2. Create Helper Function for Recommendations ---\n",
    "def get_similar_movies(title, similarity_matrix, index_map, count=10):\n",
    "    \"\"\"\n",
    "    Finds the top N similar movies to a given title.\n",
    "    \"\"\"\n",
    "    if title not in index_map:\n",
    "        print(f\"Error: Movie '{title}' not found in the dataset.\")\n",
    "        return None\n",
    "        \n",
    "    # Get the index of the movie that matches the title\n",
    "    idx = index_map[title]\n",
    "    \n",
    "    # Get the pairwise similarity scores of all movies with that movie\n",
    "    sim_scores = list(enumerate(similarity_matrix[idx]))\n",
    "    \n",
    "    # Sort the movies based on the similarity scores\n",
    "    sim_scores = sorted(sim_scores, key=lambda x: x[1], reverse=True)\n",
    "    \n",
    "    # Get the scores of the 10 most similar movies (slicing from 1 to skip itself)\n",
    "    sim_scores = sim_scores[1:count+1]\n",
    "    \n",
    "    # Get the movie indices\n",
    "    movie_indices = [i[0] for i in sim_scores]\n",
    "    \n",
    "    # Get the movie titles and their corresponding scores\n",
    "    similar_movies = index_map.iloc[movie_indices]\n",
    "    similarity_values = [score[1] for score in sim_scores]\n",
    "    \n",
    "    return list(zip(similar_movies.index, similar_movies.values, similarity_values))\n",
    "\n",
    "# --- 3. Build the Interactive Graph ---\n",
    "def build_similarity_graph(start_movie, sim_matrix, index_map, num_similar=7):\n",
    "    \n",
    "    similar_movies = get_similar_movies(start_movie, sim_matrix, index_map, count=num_similar)\n",
    "    \n",
    "    if similar_movies is None: # Handle movie not found case\n",
    "        return None\n",
    "\n",
    "    # Initialize the graph\n",
    "    net = Network(height=\"750px\", width=\"100%\", bgcolor=\"#222222\", font_color=\"white\", notebook=True, cdn_resources='in_line')\n",
    "    net.force_atlas_2based(gravity=-80, spring_length=200)\n",
    "\n",
    "    # Add the central node (the movie you searched for)\n",
    "    net.add_node(start_movie, label=start_movie, color=\"#FF4500\", size=30, shape='star')\n",
    "\n",
    "    # Add the similar movie nodes and the edges connecting them\n",
    "    for title, tconst, score in similar_movies:\n",
    "        net.add_node(title, label=title, size=15)\n",
    "        net.add_edge(start_movie, title, value=score*2, title=f\"Similarity: {score:.2f}\")\n",
    "\n",
    "    net.show_buttons(filter_=['physics'])\n",
    "    return net\n",
    "\n",
    "# --- 4. Generate and Display a Graph ---\n",
    "# Let's test with a classic Pre-Code film that has horror elements!\n",
    "movie_title = 'The Old Dark House' \n",
    "graph = build_similarity_graph(movie_title, cosine_sim, indices)\n",
    "\n",
    "if graph:\n",
    "    # Save the graph to an HTML file\n",
    "    graph.show(\"pre_code_horror_similarity.html\")\n",
    "    # Display the graph in the notebook output\n",
    "    display(graph)"
   ]
  }
 ],
 "metadata": {
  "kernelspec": {
   "display_name": "base",
   "language": "python",
   "name": "python3"
  },
  "language_info": {
   "codemirror_mode": {
    "name": "ipython",
    "version": 3
   },
   "file_extension": ".py",
   "mimetype": "text/x-python",
   "name": "python",
   "nbconvert_exporter": "python",
   "pygments_lexer": "ipython3",
   "version": "3.12.4"
  }
 },
 "nbformat": 4,
 "nbformat_minor": 5
}
