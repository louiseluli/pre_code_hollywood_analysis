{
 "cells": [
  {
   "cell_type": "markdown",
   "id": "05b07cb3",
   "metadata": {},
   "source": [
    "# Project 3: The \"Movie DNA\" Galaxy Explorer\n",
    "## Part 1: Enriching Data with Keywords from TMDB\n",
    "\n",
    "Our goal is to create a rich \"fingerprint\" for each film, and that requires more than just genre and cast. We need to understand the film's plot and themes. In this step, we will use the TMDB API to fetch descriptive keywords and other useful metadata (like poster paths) for every Pre-Code film in our dataset.\n",
    "\n",
    "**Methodology:**\n",
    "1.  **Load Data:** Start with our `hollywood_df.pkl` file.\n",
    "2.  **Connect to TMDB:** Use the `tmdbsimple` library and our API key to connect to The Movie Database.\n",
    "3.  **Fetch Keywords:** For each movie (identified by its `tconst`), we will query the TMDB API to find its keywords.\n",
    "4.  **Handle Missing Data:** Some older films may not have entries or keywords. Our code must handle these cases gracefully.\n",
    "5.  **Save Enriched Data:** We will save the result to a new file, `hollywood_df_enriched.pkl`, to use in the next steps."
   ]
  },
  {
   "cell_type": "code",
   "execution_count": null,
   "id": "8518afd8",
   "metadata": {},
   "outputs": [
    {
     "name": "stdout",
     "output_type": "stream",
     "text": [
      "TMDB API key loaded successfully from .env file.\n"
     ]
    },
    {
     "data": {
      "application/vnd.jupyter.widget-view+json": {
       "model_id": "985ca8096fe343e7af5342ddada2726e",
       "version_major": 2,
       "version_minor": 0
      },
      "text/plain": [
       "Fetching Keywords from TMDB:   0%|          | 0/4514 [00:00<?, ?it/s]"
      ]
     },
     "metadata": {},
     "output_type": "display_data"
    }
   ],
   "source": [
    "import pandas as pd\n",
    "import os\n",
    "import tmdbsimple as tmdb\n",
    "from tqdm.auto import tqdm\n",
    "from dotenv import load_dotenv\n",
    "\n",
    "# --- 1. Load Environment Variables and Setup TMDB API ---\n",
    "# This will find the .env file in your project root and load the keys.\n",
    "load_dotenv()\n",
    "\n",
    "tmdb.API_KEY = os.getenv('TMDB_API_KEY')\n",
    "\n",
    "if tmdb.API_KEY:\n",
    "    print(\"TMDB API key loaded successfully from .env file.\")\n",
    "else:\n",
    "    print(\"Error: Could not load TMDB_API_KEY from .env file.\")\n",
    "    print(\"Please ensure your .env file exists in the project root and contains the key.\")\n",
    "\n",
    "# --- 2. Load our Hollywood DataFrame ---\n",
    "HOLLYWOOD_DF_PATH = \"../data/processed/hollywood_df.pkl\"\n",
    "hollywood_df = pd.read_pickle(HOLLYWOOD_DF_PATH)\n",
    "unique_movies_df = hollywood_df[['tconst', 'primaryTitle', 'startYear']].drop_duplicates(subset=['primaryTitle']).reset_index(drop=True)\n",
    "\n",
    "# --- 3. Function to Fetch Keywords for a tconst ---\n",
    "def get_keywords_from_tmdb(tconst):\n",
    "    if not tmdb.API_KEY:\n",
    "        return \"NO_API_KEY\", \"\"\n",
    "    try:\n",
    "        find = tmdb.Find(tconst)\n",
    "        response = find.info(external_source='imdb_id')\n",
    "        if not response['movie_results']:\n",
    "            return \"not_found\", \"\"\n",
    "        movie_id = response['movie_results'][0]['id']\n",
    "        movie = tmdb.Movies(movie_id)\n",
    "        keywords = movie.keywords()['keywords']\n",
    "        keyword_str = ' '.join([k['name'] for k in keywords])\n",
    "        poster_path = response['movie_results'][0].get('poster_path', '')\n",
    "        return keyword_str, poster_path\n",
    "    except Exception:\n",
    "        return \"api_error\", \"\"\n",
    "\n",
    "# --- 4. Loop Through Movies and Enrich Data ---\n",
    "if tmdb.API_KEY:\n",
    "    tqdm.pandas(desc=\"Fetching Keywords from TMDB\")\n",
    "    results = unique_movies_df['tconst'].progress_apply(get_keywords_from_tmdb)\n",
    "    unique_movies_df[['keywords', 'poster_path']] = pd.DataFrame(results.tolist(), index=unique_movies_df.index)\n",
    "\n",
    "    # --- 5. Save the Enriched Data ---\n",
    "    ENRICHED_DF_PATH = \"../data/processed/hollywood_df_enriched.pkl\"\n",
    "    unique_movies_df.to_pickle(ENRICHED_DF_PATH)\n",
    "\n",
    "    print(f\"\\nEnrichment complete. Saved {len(unique_movies_df)} movies with keyword data.\")\n",
    "    print(\"Sample of enriched data:\")\n",
    "    display(unique_movies_df.head())\n",
    "else:\n",
    "    print(\"\\nSkipping data enrichment because TMDB API key was not found.\")"
   ]
  },
  {
   "cell_type": "code",
   "execution_count": null,
   "id": "14ef694b",
   "metadata": {},
   "outputs": [],
   "source": []
  }
 ],
 "metadata": {
  "kernelspec": {
   "display_name": "base",
   "language": "python",
   "name": "python3"
  },
  "language_info": {
   "codemirror_mode": {
    "name": "ipython",
    "version": 3
   },
   "file_extension": ".py",
   "mimetype": "text/x-python",
   "name": "python",
   "nbconvert_exporter": "python",
   "pygments_lexer": "ipython3",
   "version": "3.12.4"
  }
 },
 "nbformat": 4,
 "nbformat_minor": 5
}
