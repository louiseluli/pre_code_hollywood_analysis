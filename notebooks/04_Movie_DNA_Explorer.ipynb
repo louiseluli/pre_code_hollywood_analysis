{
 "cells": [
  {
   "cell_type": "markdown",
   "id": "05b07cb3",
   "metadata": {},
   "source": [
    "# Project 3: The \"Movie DNA\" Galaxy Explorer\n",
    "## Part 1: Enriching Data with Keywords from TMDB\n",
    "\n",
    "Our goal is to create a rich \"fingerprint\" for each film, and that requires more than just genre and cast. We need to understand the film's plot and themes. In this step, we will use the TMDB API to fetch descriptive keywords and other useful metadata (like poster paths) for every Pre-Code film in our dataset.\n",
    "\n",
    "**Methodology:**\n",
    "1.  **Load Data:** Start with our `hollywood_df.pkl` file.\n",
    "2.  **Connect to TMDB:** Use the `tmdbsimple` library and our API key to connect to The Movie Database.\n",
    "3.  **Fetch Keywords:** For each movie (identified by its `tconst`), we will query the TMDB API to find its keywords.\n",
    "4.  **Handle Missing Data:** Some older films may not have entries or keywords. Our code must handle these cases gracefully.\n",
    "5.  **Save Enriched Data:** We will save the result to a new file, `hollywood_df_enriched.pkl`, to use in the next steps."
   ]
  },
  {
   "cell_type": "code",
   "execution_count": 6,
   "id": "8518afd8",
   "metadata": {},
   "outputs": [
    {
     "name": "stdout",
     "output_type": "stream",
     "text": [
      "TMDB API key loaded successfully from .env file.\n",
      "Loaded 4514 unique movies from Hollywood DataFrame.\n",
      "Using cache directory: ../data/tmdb_cache\n"
     ]
    },
    {
     "data": {
      "application/vnd.jupyter.widget-view+json": {
       "model_id": "6841cd92a0e749c1b442e53370a15398",
       "version_major": 2,
       "version_minor": 0
      },
      "text/plain": [
       "Fetching Keywords from TMDB (with Cache):   0%|          | 0/4514 [00:00<?, ?it/s]"
      ]
     },
     "metadata": {},
     "output_type": "display_data"
    },
    {
     "name": "stdout",
     "output_type": "stream",
     "text": [
      "\n",
      "Enrichment complete. Saved 4514 movies with keyword data.\n",
      "Sample of enriched data:\n"
     ]
    },
    {
     "data": {
      "text/html": [
       "<div>\n",
       "<style scoped>\n",
       "    .dataframe tbody tr th:only-of-type {\n",
       "        vertical-align: middle;\n",
       "    }\n",
       "\n",
       "    .dataframe tbody tr th {\n",
       "        vertical-align: top;\n",
       "    }\n",
       "\n",
       "    .dataframe thead th {\n",
       "        text-align: right;\n",
       "    }\n",
       "</style>\n",
       "<table border=\"1\" class=\"dataframe\">\n",
       "  <thead>\n",
       "    <tr style=\"text-align: right;\">\n",
       "      <th></th>\n",
       "      <th>tconst</th>\n",
       "      <th>primaryTitle</th>\n",
       "      <th>startYear</th>\n",
       "      <th>genres</th>\n",
       "      <th>keywords</th>\n",
       "      <th>poster_path</th>\n",
       "    </tr>\n",
       "  </thead>\n",
       "  <tbody>\n",
       "    <tr>\n",
       "      <th>0</th>\n",
       "      <td>tt0017578</td>\n",
       "      <td>The Wrecker</td>\n",
       "      <td>1929</td>\n",
       "      <td>Crime,Drama</td>\n",
       "      <td></td>\n",
       "      <td>/oGCsBdjxDq7b4eTpTsjJrA6VayX.jpg</td>\n",
       "    </tr>\n",
       "    <tr>\n",
       "      <th>1</th>\n",
       "      <td>tt0018362</td>\n",
       "      <td>The Scar of Shame</td>\n",
       "      <td>1929</td>\n",
       "      <td>Crime,Drama,Romance</td>\n",
       "      <td>marriage contract prison escape class differen...</td>\n",
       "      <td>/tosJ21bDxJzvg2JcTuKQMqWglvM.jpg</td>\n",
       "    </tr>\n",
       "    <tr>\n",
       "      <th>2</th>\n",
       "      <td>tt0018588</td>\n",
       "      <td>Three Loves</td>\n",
       "      <td>1929</td>\n",
       "      <td>Drama</td>\n",
       "      <td>black and white silent film</td>\n",
       "      <td>/ncyxOfdoS0Rz9VWHxyx6HLyU5nB.jpg</td>\n",
       "    </tr>\n",
       "    <tr>\n",
       "      <th>3</th>\n",
       "      <td>tt0018630</td>\n",
       "      <td>After the Verdict</td>\n",
       "      <td>1929</td>\n",
       "      <td>Drama,Romance,Sport</td>\n",
       "      <td>sports</td>\n",
       "      <td>/dOGxHjXBFp1D59hZLzBl9Gheg20.jpg</td>\n",
       "    </tr>\n",
       "    <tr>\n",
       "      <th>4</th>\n",
       "      <td>tt0018685</td>\n",
       "      <td>The Bellamy Trial</td>\n",
       "      <td>1929</td>\n",
       "      <td>Adventure,Crime,Drama</td>\n",
       "      <td></td>\n",
       "      <td>None</td>\n",
       "    </tr>\n",
       "  </tbody>\n",
       "</table>\n",
       "</div>"
      ],
      "text/plain": [
       "      tconst       primaryTitle  startYear                 genres  \\\n",
       "0  tt0017578        The Wrecker       1929            Crime,Drama   \n",
       "1  tt0018362  The Scar of Shame       1929    Crime,Drama,Romance   \n",
       "2  tt0018588        Three Loves       1929                  Drama   \n",
       "3  tt0018630  After the Verdict       1929    Drama,Romance,Sport   \n",
       "4  tt0018685  The Bellamy Trial       1929  Adventure,Crime,Drama   \n",
       "\n",
       "                                            keywords  \\\n",
       "0                                                      \n",
       "1  marriage contract prison escape class differen...   \n",
       "2                        black and white silent film   \n",
       "3                                             sports   \n",
       "4                                                      \n",
       "\n",
       "                        poster_path  \n",
       "0  /oGCsBdjxDq7b4eTpTsjJrA6VayX.jpg  \n",
       "1  /tosJ21bDxJzvg2JcTuKQMqWglvM.jpg  \n",
       "2  /ncyxOfdoS0Rz9VWHxyx6HLyU5nB.jpg  \n",
       "3  /dOGxHjXBFp1D59hZLzBl9Gheg20.jpg  \n",
       "4                              None  "
      ]
     },
     "metadata": {},
     "output_type": "display_data"
    }
   ],
   "source": [
    "import pandas as pd\n",
    "import os\n",
    "import tmdbsimple as tmdb\n",
    "from tqdm.auto import tqdm\n",
    "from dotenv import load_dotenv\n",
    "import json # We need this library for caching\n",
    "\n",
    "# --- 1. Load Environment Variables and Setup TMDB API ---\n",
    "load_dotenv()\n",
    "tmdb.API_KEY = os.getenv('TMDB_API_KEY')\n",
    "if tmdb.API_KEY:\n",
    "    print(\"TMDB API key loaded successfully from .env file.\")\n",
    "else:\n",
    "    print(\"Error: Could not load TMDB_API_KEY from .env file.\")\n",
    "\n",
    "# --- 2. Load Hollywood DataFrame & Setup Cache Directory ---\n",
    "HOLLYWOOD_DF_PATH = \"../data/processed/hollywood_df.pkl\"\n",
    "hollywood_df = pd.read_pickle(HOLLYWOOD_DF_PATH)\n",
    "unique_movies_df = hollywood_df[['tconst', 'primaryTitle', 'startYear', 'genres']].drop_duplicates(subset=['primaryTitle']).reset_index(drop=True)\n",
    "print(f\"Loaded {len(unique_movies_df)} unique movies from Hollywood DataFrame.\")\n",
    "\n",
    "# Define the directory where we will store our cached results\n",
    "CACHE_DIR = \"../data/tmdb_cache\"\n",
    "os.makedirs(CACHE_DIR, exist_ok=True)\n",
    "print(f\"Using cache directory: {CACHE_DIR}\")\n",
    "\n",
    "# --- 3. Function to Fetch Keywords (with Caching) ---\n",
    "def get_keywords_from_tmdb(tconst, cache_dir):\n",
    "    \"\"\"\n",
    "    Fetches keywords and poster path for a tconst, using a local file cache.\n",
    "    \"\"\"\n",
    "    cache_filepath = os.path.join(cache_dir, f\"{tconst}.json\")\n",
    "\n",
    "    # First, check if the result is already in our cache\n",
    "    if os.path.exists(cache_filepath):\n",
    "        with open(cache_filepath, 'r') as f:\n",
    "            cached_data = json.load(f)\n",
    "            # Return the cached keywords and poster path\n",
    "            return cached_data.get('keywords', ''), cached_data.get('poster_path', '')\n",
    "\n",
    "    # If not in cache, proceed with the API call\n",
    "    if not tmdb.API_KEY:\n",
    "        return \"NO_API_KEY\", \"\"\n",
    "    try:\n",
    "        find = tmdb.Find(tconst)\n",
    "        response = find.info(external_source='imdb_id')\n",
    "        \n",
    "        if not response['movie_results']:\n",
    "            result_to_cache = {\"status\": \"not_found\", \"keywords\": \"not_found\", \"poster_path\": \"\"}\n",
    "        else:\n",
    "            movie_id = response['movie_results'][0]['id']\n",
    "            movie = tmdb.Movies(movie_id)\n",
    "            keywords = movie.keywords()['keywords']\n",
    "            keyword_str = ' '.join([k['name'] for k in keywords])\n",
    "            poster_path = response['movie_results'][0].get('poster_path', '')\n",
    "            result_to_cache = {\"status\": \"success\", \"keywords\": keyword_str, \"poster_path\": poster_path}\n",
    "\n",
    "    except Exception:\n",
    "        result_to_cache = {\"status\": \"api_error\", \"keywords\": \"api_error\", \"poster_path\": \"\"}\n",
    "\n",
    "    # Save the result to the cache file before returning\n",
    "    with open(cache_filepath, 'w') as f:\n",
    "        json.dump(result_to_cache, f)\n",
    "\n",
    "    return result_to_cache.get('keywords', ''), result_to_cache.get('poster_path', '')\n",
    "\n",
    "# --- 4. Loop Through Movies and Enrich Data ---\n",
    "if tmdb.API_KEY:\n",
    "    tqdm.pandas(desc=\"Fetching Keywords from TMDB (with Cache)\")\n",
    "    # We pass the cache directory to our function using a lambda\n",
    "    results = unique_movies_df['tconst'].progress_apply(lambda tconst: get_keywords_from_tmdb(tconst, CACHE_DIR))\n",
    "    unique_movies_df[['keywords', 'poster_path']] = pd.DataFrame(results.tolist(), index=unique_movies_df.index)\n",
    "\n",
    "    # --- 5. Save the Enriched Data ---\n",
    "    ENRICHED_DF_PATH = \"../data/processed/hollywood_df_enriched.pkl\"\n",
    "    unique_movies_df.to_pickle(ENRICHED_DF_PATH)\n",
    "\n",
    "    print(f\"\\nEnrichment complete. Saved {len(unique_movies_df)} movies with keyword data.\")\n",
    "    print(\"Sample of enriched data:\")\n",
    "    display(unique_movies_df.head())\n",
    "else:\n",
    "    print(\"\\nSkipping data enrichment because TMDB API key was not found.\")"
   ]
  },
  {
   "cell_type": "markdown",
   "id": "30493868",
   "metadata": {},
   "source": [
    "## Part 2: Engineering the \"Movie DNA\" with AI\n",
    "\n",
    "With our enriched dataset, we can now perform the core machine learning task. We will use a pre-trained Sentence Transformer model, a powerful form of NLP AI, to read the plot keywords for each film and convert them into a high-dimensional vector, also known as an \"embedding.\" This vector is the film's unique \"DNA,\" capturing its thematic essence in a way the machine can understand.\n",
    "\n",
    "**Methodology:**\n",
    "1.  **Load Enriched Data:** We'll load the `hollywood_df_enriched.pkl` file we created in the previous step.\n",
    "2.  **Instantiate AI Model:** We will load a state-of-the-art model (`all-MiniLM-L6-v2`) from the `sentence-transformers` library. The first time this runs, it will download the model files (a few hundred MB).\n",
    "3.  **Generate Embeddings:** We will feed the `keywords` column into the model. The model will output a 384-dimension vector for each film.\n",
    "4.  **Save the DNA:** We will save these embeddings to a file so we don't have to re-calculate them every time. This is a crucial step in any ML pipeline."
   ]
  },
  {
   "cell_type": "code",
   "execution_count": 7,
   "id": "14ef694b",
   "metadata": {},
   "outputs": [
    {
     "name": "stdout",
     "output_type": "stream",
     "text": [
      "Enriched movie data loaded successfully.\n",
      "Found cached 'Movie DNA' embeddings. Loading from: ../data/processed/movie_dna_embeddings.npy\n",
      "\n",
      "Movie DNA creation complete!\n",
      "Shape of our DNA matrix: (4514, 384)\n"
     ]
    }
   ],
   "source": [
    "import pandas as pd\n",
    "import numpy as np\n",
    "from sentence_transformers import SentenceTransformer\n",
    "from tqdm.auto import tqdm\n",
    "import os\n",
    "\n",
    "# --- 1. Define Paths and Load Enriched Data ---\n",
    "ENRICHED_DF_PATH = \"../data/processed/hollywood_df_enriched.pkl\"\n",
    "EMBEDDINGS_PATH = \"../data/processed/movie_dna_embeddings.npy\"\n",
    "\n",
    "enriched_df = pd.read_pickle(ENRICHED_DF_PATH)\n",
    "print(\"Enriched movie data loaded successfully.\")\n",
    "\n",
    "# --- 2. Check for Cached Embeddings ---\n",
    "if os.path.exists(EMBEDDINGS_PATH):\n",
    "    print(f\"Found cached 'Movie DNA' embeddings. Loading from: {EMBEDDINGS_PATH}\")\n",
    "    movie_dna_embeddings = np.load(EMBEDDINGS_PATH)\n",
    "else:\n",
    "    print(\"No cached embeddings found. Generating new ones...\")\n",
    "    \n",
    "    # --- Prepare the Text Data ---\n",
    "    enriched_df['keywords'] = enriched_df['keywords'].fillna('')\n",
    "    corpus = enriched_df['keywords'].tolist()\n",
    "\n",
    "    # --- Instantiate and Use the Transformer Model ---\n",
    "    print(\"Loading Sentence Transformer model (this may download the model)...\")\n",
    "    model = SentenceTransformer('all-MiniLM-L6-v2')\n",
    "    print(\"Model loaded.\")\n",
    "\n",
    "    # --- Generate the Embeddings (The \"Movie DNA\") ---\n",
    "    print(\"Generating movie DNA embeddings... (This may take a minute)\")\n",
    "    movie_dna_embeddings = model.encode(corpus, show_progress_bar=True)\n",
    "\n",
    "    # --- Save the Embeddings to the Cache ---\n",
    "    np.save(EMBEDDINGS_PATH, movie_dna_embeddings)\n",
    "    print(f\"Embeddings saved to cache: {EMBEDDINGS_PATH}\")\n",
    "\n",
    "print(\"\\nMovie DNA creation complete!\")\n",
    "print(f\"Shape of our DNA matrix: {movie_dna_embeddings.shape}\")"
   ]
  },
  {
   "cell_type": "markdown",
   "id": "b2eabba1",
   "metadata": {},
   "source": [
    "## Part 3: Mapping the Galaxy with t-SNE\n",
    "\n",
    "Our movie DNA is in a 384-dimensional space, which is impossible to visualize directly. In this step, we will use **t-SNE**, a powerful dimensionality reduction algorithm, to project these high-dimensional vectors down to a 2D space (an 'x' and 'y' coordinate for each movie). This creates a map where thematically similar movies are positioned close together, forming a \"galaxy\" of clusters we can explore.\n",
    "\n",
    "**Methodology:**\n",
    "1.  **Load Data:** We will load our cached `movie_dna_embeddings.npy` file.\n",
    "2.  **Instantiate t-SNE:** We will configure the t-SNE model from `scikit-learn`.\n",
    "3.  **Run Reduction:** We'll apply the `fit_transform` method to our embeddings. This is a computationally intensive step.\n",
    "4.  **Cache Results:** Just like before, we will save the resulting 2D coordinates to a file to avoid re-running this expensive step.\n",
    "5.  **Merge and Save:** We will merge these new 'x' and 'y' coordinates back into our main movie DataFrame for the final visualization step."
   ]
  },
  {
   "cell_type": "code",
   "execution_count": 8,
   "id": "854bb4f0",
   "metadata": {},
   "outputs": [
    {
     "name": "stdout",
     "output_type": "stream",
     "text": [
      "Found cached t-SNE coordinates. Loading from: ../data/processed/tsne_2d_coordinates.npy\n",
      "\n",
      "Merging 2D coordinates into the main movie DataFrame...\n",
      "Final DataFrame for visualization saved to: ../data/processed/hollywood_galaxy_df.pkl\n",
      "Sample of the final data with 'x' and 'y' coordinates:\n"
     ]
    },
    {
     "data": {
      "text/html": [
       "<div>\n",
       "<style scoped>\n",
       "    .dataframe tbody tr th:only-of-type {\n",
       "        vertical-align: middle;\n",
       "    }\n",
       "\n",
       "    .dataframe tbody tr th {\n",
       "        vertical-align: top;\n",
       "    }\n",
       "\n",
       "    .dataframe thead th {\n",
       "        text-align: right;\n",
       "    }\n",
       "</style>\n",
       "<table border=\"1\" class=\"dataframe\">\n",
       "  <thead>\n",
       "    <tr style=\"text-align: right;\">\n",
       "      <th></th>\n",
       "      <th>tconst</th>\n",
       "      <th>primaryTitle</th>\n",
       "      <th>startYear</th>\n",
       "      <th>genres</th>\n",
       "      <th>keywords</th>\n",
       "      <th>poster_path</th>\n",
       "      <th>x</th>\n",
       "      <th>y</th>\n",
       "    </tr>\n",
       "  </thead>\n",
       "  <tbody>\n",
       "    <tr>\n",
       "      <th>0</th>\n",
       "      <td>tt0017578</td>\n",
       "      <td>The Wrecker</td>\n",
       "      <td>1929</td>\n",
       "      <td>Crime,Drama</td>\n",
       "      <td></td>\n",
       "      <td>/oGCsBdjxDq7b4eTpTsjJrA6VayX.jpg</td>\n",
       "      <td>2.520578</td>\n",
       "      <td>35.050861</td>\n",
       "    </tr>\n",
       "    <tr>\n",
       "      <th>1</th>\n",
       "      <td>tt0018362</td>\n",
       "      <td>The Scar of Shame</td>\n",
       "      <td>1929</td>\n",
       "      <td>Crime,Drama,Romance</td>\n",
       "      <td>marriage contract prison escape class differen...</td>\n",
       "      <td>/tosJ21bDxJzvg2JcTuKQMqWglvM.jpg</td>\n",
       "      <td>-9.107474</td>\n",
       "      <td>-16.665449</td>\n",
       "    </tr>\n",
       "    <tr>\n",
       "      <th>2</th>\n",
       "      <td>tt0018588</td>\n",
       "      <td>Three Loves</td>\n",
       "      <td>1929</td>\n",
       "      <td>Drama</td>\n",
       "      <td>black and white silent film</td>\n",
       "      <td>/ncyxOfdoS0Rz9VWHxyx6HLyU5nB.jpg</td>\n",
       "      <td>31.801432</td>\n",
       "      <td>-39.114357</td>\n",
       "    </tr>\n",
       "    <tr>\n",
       "      <th>3</th>\n",
       "      <td>tt0018630</td>\n",
       "      <td>After the Verdict</td>\n",
       "      <td>1929</td>\n",
       "      <td>Drama,Romance,Sport</td>\n",
       "      <td>sports</td>\n",
       "      <td>/dOGxHjXBFp1D59hZLzBl9Gheg20.jpg</td>\n",
       "      <td>11.879026</td>\n",
       "      <td>0.767587</td>\n",
       "    </tr>\n",
       "    <tr>\n",
       "      <th>4</th>\n",
       "      <td>tt0018685</td>\n",
       "      <td>The Bellamy Trial</td>\n",
       "      <td>1929</td>\n",
       "      <td>Adventure,Crime,Drama</td>\n",
       "      <td></td>\n",
       "      <td>None</td>\n",
       "      <td>-2.034620</td>\n",
       "      <td>34.347107</td>\n",
       "    </tr>\n",
       "  </tbody>\n",
       "</table>\n",
       "</div>"
      ],
      "text/plain": [
       "      tconst       primaryTitle  startYear                 genres  \\\n",
       "0  tt0017578        The Wrecker       1929            Crime,Drama   \n",
       "1  tt0018362  The Scar of Shame       1929    Crime,Drama,Romance   \n",
       "2  tt0018588        Three Loves       1929                  Drama   \n",
       "3  tt0018630  After the Verdict       1929    Drama,Romance,Sport   \n",
       "4  tt0018685  The Bellamy Trial       1929  Adventure,Crime,Drama   \n",
       "\n",
       "                                            keywords  \\\n",
       "0                                                      \n",
       "1  marriage contract prison escape class differen...   \n",
       "2                        black and white silent film   \n",
       "3                                             sports   \n",
       "4                                                      \n",
       "\n",
       "                        poster_path          x          y  \n",
       "0  /oGCsBdjxDq7b4eTpTsjJrA6VayX.jpg   2.520578  35.050861  \n",
       "1  /tosJ21bDxJzvg2JcTuKQMqWglvM.jpg  -9.107474 -16.665449  \n",
       "2  /ncyxOfdoS0Rz9VWHxyx6HLyU5nB.jpg  31.801432 -39.114357  \n",
       "3  /dOGxHjXBFp1D59hZLzBl9Gheg20.jpg  11.879026   0.767587  \n",
       "4                              None  -2.034620  34.347107  "
      ]
     },
     "metadata": {},
     "output_type": "display_data"
    }
   ],
   "source": [
    "import numpy as np\n",
    "import pandas as pd\n",
    "from sklearn.manifold import TSNE\n",
    "import os\n",
    "\n",
    "# --- 1. Define Paths and Check for Cached Coordinates ---\n",
    "ENRICHED_DF_PATH = \"../data/processed/hollywood_df_enriched.pkl\"\n",
    "EMBEDDINGS_PATH = \"../data/processed/movie_dna_embeddings.npy\"\n",
    "TSNE_COORDS_PATH = \"../data/processed/tsne_2d_coordinates.npy\"\n",
    "\n",
    "# Load the data we'll need\n",
    "enriched_df = pd.read_pickle(ENRICHED_DF_PATH)\n",
    "movie_dna_embeddings = np.load(EMBEDDINGS_PATH)\n",
    "\n",
    "# --- 2. Run t-SNE or Load from Cache ---\n",
    "if os.path.exists(TSNE_COORDS_PATH):\n",
    "    print(f\"Found cached t-SNE coordinates. Loading from: {TSNE_COORDS_PATH}\")\n",
    "    tsne_coords = np.load(TSNE_COORDS_PATH)\n",
    "else:\n",
    "    print(\"No cached t-SNE coordinates found. Running dimensionality reduction...\")\n",
    "    print(\"This is computationally intensive and will take several minutes.\")\n",
    "    \n",
    "    # Configure the t-SNE model\n",
    "    tsne = TSNE(\n",
    "        n_components=2,          # We want a 2D map\n",
    "        perplexity=30,           # A standard value for this parameter\n",
    "        init='pca',              # Initialize with PCA for better stability\n",
    "        n_iter=1000,             # Number of iterations\n",
    "        random_state=42,         # For reproducible results\n",
    "        verbose=1                # To see the progress\n",
    "    )\n",
    "    \n",
    "    # Run the model\n",
    "    tsne_coords = tsne.fit_transform(movie_dna_embeddings)\n",
    "    \n",
    "    # Save the results to our cache\n",
    "    np.save(TSNE_COORDS_PATH, tsne_coords)\n",
    "    print(f\"t-SNE coordinates saved to cache: {TSNE_COORDS_PATH}\")\n",
    "\n",
    "# --- 3. Merge Coordinates into our Main DataFrame ---\n",
    "print(\"\\nMerging 2D coordinates into the main movie DataFrame...\")\n",
    "\n",
    "# Create a DataFrame from our 2D coordinates\n",
    "coords_df = pd.DataFrame(tsne_coords, columns=['x', 'y'])\n",
    "\n",
    "# Merge it with our original enriched data\n",
    "final_galaxy_df = pd.concat([enriched_df.reset_index(drop=True), coords_df], axis=1)\n",
    "\n",
    "# Save this final, fully-processed DataFrame\n",
    "FINAL_DF_PATH = \"../data/processed/hollywood_galaxy_df.pkl\"\n",
    "final_galaxy_df.to_pickle(FINAL_DF_PATH)\n",
    "\n",
    "print(f\"Final DataFrame for visualization saved to: {FINAL_DF_PATH}\")\n",
    "print(\"Sample of the final data with 'x' and 'y' coordinates:\")\n",
    "display(final_galaxy_df.head())"
   ]
  },
  {
   "cell_type": "markdown",
   "id": "f48eda54",
   "metadata": {},
   "source": [
    "## Part 4: Building the Interactive Galaxy Explorer 🌌\n",
    "\n",
    "This is the final step. We will now take our 2D coordinates and all our enriched metadata to build the final interactive visualization using **Plotly**. The result will be a \"galaxy map\" of Pre-Code Hollywood films.\n",
    "\n",
    "**Methodology:**\n",
    "1.  **Load Final Data:** We will load our final `hollywood_galaxy_df.pkl` file, which contains all movie info and their 'x' and 'y' coordinates.\n",
    "2.  **Prepare for Plotting:** We will create a `primary_genre` column to color the movie points effectively.\n",
    "3.  **Create Scatter Plot:** We will use `plotly.express` to create the scatter plot.\n",
    "4.  **Customize Interactivity:** We will configure the hover-over tooltips to display rich information for each movie, including title, year, keywords, and the poster path.\n",
    "5.  **Style and Display:** We'll apply a dark theme and other styling to make the visualization beautiful and easy to explore."
   ]
  },
  {
   "cell_type": "code",
   "execution_count": 11,
   "id": "856a2462",
   "metadata": {},
   "outputs": [
    {
     "name": "stdout",
     "output_type": "stream",
     "text": [
      "Final galaxy data loaded successfully.\n",
      "Plotting 4451 movies from major genres for a clearer view.\n"
     ]
    },
    {
     "data": {
      "application/vnd.plotly.v1+json": {
       "config": {
        "plotlyServerURL": "https://plot.ly"
       },
       "data": [
        {
         "customdata": [
          [
           1929,
           ""
          ],
          [
           1929,
           "marriage contract prison escape class differences silent film framed for a crime sleazy pimp sexual exploitation abusive stepfather mother son relationship african american caste piano player melodrama"
          ],
          [
           1929,
           "london, england casino loss of loved one forbidden love based on play or musical femme fatale remake black and white reward silent film new objectivity"
          ],
          [
           1929,
           "prison hotel murder physician injustice"
          ],
          [
           1929,
           "berlin, germany robbery seduction policeman silent film weimar, germany jewels"
          ],
          [
           1929,
           ""
          ],
          [
           1929,
           "sea captain"
          ],
          [
           1929,
           "london, england blackmail scotland yard based on play or musical black and white boyfriend girlfriend relationship"
          ],
          [
           1929,
           "world war i"
          ],
          [
           1929,
           "not_found"
          ],
          [
           1929,
           "gangster musical"
          ],
          [
           1929,
           "bulldog drummond"
          ],
          [
           1929,
           "self sacrifice blackmail stage show beautiful woman murder district attorney broadway showgirl pre-code police investigation philo vance duplicity early sound film father son relationship strangled society sleuth"
          ],
          [
           1929,
           ""
          ],
          [
           1929,
           "not_found"
          ],
          [
           1929,
           ""
          ],
          [
           1929,
           "based on play or musical pre-code"
          ],
          [
           1929,
           "silent film"
          ],
          [
           1929,
           ""
          ],
          [
           1929,
           "wife murder"
          ],
          [
           1929,
           "train railroad"
          ],
          [
           1929,
           "lost film"
          ],
          [
           1929,
           ""
          ],
          [
           1929,
           "paraplegic gunshot wound snow mansion secret door district attorney pre-code police investigation philo vance criminally insane murder by gunshot wealthy family poisoning mysterious footprint melodrama family doctor society sleuth acrimony"
          ],
          [
           1929,
           "banking embezzlement"
          ],
          [
           1929,
           "adultery blackmail gigolo murder pre-code high society illicit affair"
          ],
          [
           1929,
           "pre-code sherlock holmes"
          ],
          [
           1929,
           ""
          ],
          [
           1929,
           ""
          ],
          [
           1929,
           ""
          ],
          [
           1929,
           ""
          ],
          [
           1929,
           ""
          ],
          [
           1929,
           ""
          ],
          [
           1929,
           "hypnotism revenge murderer fu manchu"
          ],
          [
           1929,
           "gangster pre-code"
          ],
          [
           1929,
           "clown jury wrongly accused"
          ],
          [
           1929,
           ""
          ],
          [
           1929,
           "jealousy love triangle nightclub chinese woman trial murder chinese silent film nightclub owner asian woman nightclub performer other woman"
          ],
          [
           1929,
           ""
          ],
          [
           1929,
           "racketeers pre-code"
          ],
          [
           1929,
           ""
          ],
          [
           1929,
           ""
          ],
          [
           1929,
           "whodunit killer séance spiritualist"
          ],
          [
           1929,
           "film noir pre-code"
          ],
          [
           1929,
           "love triangle detective murder pre-code"
          ],
          [
           1929,
           "not_found"
          ],
          [
           1930,
           "prison romance burglary scam artist"
          ],
          [
           1930,
           "psychology pre-code"
          ],
          [
           1930,
           "detective murder philo vance stock market crash"
          ],
          [
           1930,
           "prison prison cell inmate pre-code manslaughter incarceration prison break attempt"
          ],
          [
           1929,
           "pre-code philo vance"
          ],
          [
           1930,
           "gangster singer pre-code"
          ],
          [
           1930,
           "woman director"
          ],
          [
           1930,
           ""
          ],
          [
           1930,
           "lost film"
          ],
          [
           1930,
           "gangster murder reporter"
          ],
          [
           1930,
           "jealousy love triangle silent film barbershop manicurist escaped prisoner isolated house devon dartmoor"
          ],
          [
           1930,
           ""
          ],
          [
           1930,
           "treasure island escape"
          ],
          [
           1930,
           "gangster pre-code"
          ],
          [
           1929,
           ""
          ],
          [
           1930,
           "prisoner escape fugitive hunting fox hunt"
          ],
          [
           1932,
           "plastic surgery murder"
          ],
          [
           1930,
           "lawyer pre-code"
          ],
          [
           1930,
           ""
          ],
          [
           1930,
           ""
          ],
          [
           1930,
           "sailor pre-code"
          ],
          [
           1930,
           ""
          ],
          [
           1930,
           "lone wolf"
          ],
          [
           1930,
           "nightclub"
          ],
          [
           1930,
           "jealousy suspicion bank teller bank examiner"
          ],
          [
           1930,
           ""
          ],
          [
           1930,
           ""
          ],
          [
           1930,
           "amnesia based on novel or book black and white murder investigation murder trial"
          ],
          [
           1930,
           ""
          ],
          [
           1930,
           ""
          ],
          [
           1930,
           ""
          ],
          [
           1930,
           "prison prison escape trustee pre-code prison road gang"
          ],
          [
           1930,
           "pre-code"
          ],
          [
           1930,
           ""
          ],
          [
           1930,
           "prison release from prison blackmail mona lisa (la gioconda) women's prison revenge female prisoner ex-con pre-code framed for a crime rich man criminal law corrupt district attorney"
          ],
          [
           1930,
           "prostitution pre-code escort girl"
          ],
          [
           1930,
           "bootlegger prohibition era kidnapping gangster pre-code"
          ],
          [
           1930,
           "gangster wealthy pre-code"
          ],
          [
           1930,
           "world war i detective scotland yard impersonation"
          ],
          [
           1930,
           "killing self-defense suite"
          ],
          [
           1930,
           "gambling mistaken identity pre-code"
          ],
          [
           1930,
           ""
          ],
          [
           1930,
           "haiti extramarital affair"
          ],
          [
           1930,
           ""
          ],
          [
           1930,
           ""
          ],
          [
           1930,
           "gambling gangster pre-code"
          ],
          [
           1930,
           ""
          ],
          [
           1930,
           ""
          ],
          [
           1930,
           ""
          ],
          [
           1930,
           "pickpocket carnival ventriloquist remake cross dressing pre-code strong man parrots midget jewel thieves hiding out carnival worker pet store"
          ],
          [
           1931,
           ""
          ],
          [
           1930,
           "gangster detective nightclub pre-code dance hall"
          ],
          [
           1930,
           "con artist high society"
          ],
          [
           1930,
           ""
          ],
          [
           1930,
           "prohibition era nightclub marriage raid amusement park pre-code illegal gambling"
          ],
          [
           1931,
           "based on novel or book snob trial murder pre-code social climbing pregnant woman murdered"
          ],
          [
           1931,
           "gangster lawyer pre-code"
          ],
          [
           1931,
           ""
          ],
          [
           1931,
           ""
          ],
          [
           1931,
           "gambler forced marriage"
          ],
          [
           1931,
           "hawaii murder whodunit psychic movie star police inspector honolulu, hawaii asian man charlie chan unsolved murder"
          ],
          [
           1931,
           "based on novel or book unrequited love black and white"
          ],
          [
           1931,
           ""
          ],
          [
           1931,
           "chinatown chinese jewel thief"
          ],
          [
           1931,
           "bootlegger gangster pre-code"
          ],
          [
           1932,
           ""
          ],
          [
           1931,
           "murder producer"
          ],
          [
           1931,
           "warden pre-code"
          ],
          [
           1931,
           "chicago, illinois bootlegger marriage proposal self sacrifice upper class gangster yacht tango shootout criminal underworld socialite newspaper editor pre-code newspaper reporter nightclub owner criminal gang wild party cabaret dancer moll 1930s female reporter father daughter relationship brother sister relationship rich to poor"
          ],
          [
           1931,
           "pre-code family curse vengeance fu manchu"
          ],
          [
           1931,
           ""
          ],
          [
           1931,
           "suicide mad scientist revenge tragic villain b movie death of daughter unwanted pregnancy bolshevik grieving father"
          ],
          [
           1931,
           ""
          ],
          [
           1931,
           "chicago, illinois musical jazz club south dakota 1930s african american"
          ],
          [
           1931,
           ""
          ],
          [
           1931,
           "newspaper corruption gangster pre-code"
          ],
          [
           1931,
           "press based on play or musical newspaper man newspaper editor pre-code female journalist breach of promise sensationalism accused of murder crime serial tabloid journalism newspaper headline"
          ],
          [
           1931,
           "gangster murder alcoholic pre-code"
          ],
          [
           1931,
           "new jersey bootlegging pre-code"
          ],
          [
           1931,
           "mobster single mother pre-code kept woman"
          ],
          [
           1931,
           "newspaper kidnapping murder reporter district attorney political corruption"
          ],
          [
           1931,
           "bootlegger italian gangster pre-code revenge murderer"
          ],
          [
           1931,
           "crooked lawyer womanizer playboy murder last will and testament pre-code framed for murder protective father shadow on wall perfect murder imminent wedding hasty marriage crooked district attorney father and daughter corrupt district attorney rigor mortis mistress of murdered man remote house corrupt lawyer justice from beyond the grave murdered fiancé murder framed as suicide"
          ],
          [
           1931,
           "gangster"
          ],
          [
           1931,
           ""
          ],
          [
           1931,
           "not_found"
          ],
          [
           1931,
           "women's prison pre-code"
          ],
          [
           1931,
           ""
          ],
          [
           1931,
           "sailor waterfront tong"
          ],
          [
           1931,
           ""
          ],
          [
           1931,
           "sailor"
          ],
          [
           1931,
           "berlin, germany germany psychopath detective inspector child murder investigation organized crime serial killer black and white criminal pre-code psycho expressionism german expressionism crime"
          ],
          [
           1931,
           "based on novel or book detective ladies' man femme fatale womanizer film noir murder statuette private detective black bird pre-code fall guy adulterous affair"
          ],
          [
           1931,
           "blackmail courtroom high society"
          ],
          [
           1931,
           ""
          ],
          [
           1931,
           "based on novel or book professor nostradamus"
          ],
          [
           1931,
           "card game pre-code police inspector palor game"
          ],
          [
           1931,
           "cemetery maid fingerprints"
          ],
          [
           1931,
           "prison brothel district attorney"
          ],
          [
           1931,
           "robbery pre-code"
          ],
          [
           1931,
           "robbery escape swindler playboy murder vigilante reporter pre-code embezzlement"
          ],
          [
           1931,
           "gangster anti hero tragedy organized crime best friend juvenile delinquent pre-code grapefruit"
          ],
          [
           1931,
           "railroad"
          ],
          [
           1931,
           "murder truck driver pre-code protection racket political corruption"
          ],
          [
           1931,
           "ship crime boss tutor socialite pre-code protection racket train wreck"
          ],
          [
           1931,
           "exotic island fictitious marriage call girl arbitrary law new orleans, louisiana self-defense death sentence promise fugitive accidental death courtroom sailor fake death pre-code crooked sheriff escort girl crooked cop caribbean sea hotel lobby sex worker extradition isolated island fake marriage tortuga loyal wife former prostitute motley crew sexy woman vulnerable woman faithful woman gun death"
          ],
          [
           1931,
           "newspaper man"
          ],
          [
           1931,
           "not_found"
          ],
          [
           1931,
           "secret society bootlegging pre-code"
          ],
          [
           1931,
           ""
          ],
          [
           1931,
           "detective based on short story sherlock holmes"
          ],
          [
           1931,
           "convict prison chaplain"
          ],
          [
           1931,
           "prison suicide prostitution pre-code medical school"
          ],
          [
           1931,
           "cheating poker gambling gangster blonde revenge death pre-code grifter frame up dice"
          ],
          [
           1931,
           "sherlock holmes"
          ],
          [
           1931,
           "war veteran kidnapping gangster grandfather police protection old man murder gang shootout fear district attorney perjury playing flute witness intimidation police search terrified family crime witness"
          ],
          [
           1931,
           "pre-code taxi dancer"
          ],
          [
           1931,
           "desert pre-code adventurer"
          ],
          [
           1931,
           ""
          ],
          [
           1931,
           ""
          ],
          [
           1931,
           "drug dealer crusader judge prohibition era gangster gang leader priest big city police officer police detective held at gunpoint gang member district attorney pre-code roman catholic church"
          ],
          [
           1932,
           "corrupt politician pre-code"
          ],
          [
           1932,
           "gangster playboy"
          ],
          [
           1932,
           "thief pre-code"
          ],
          [
           1932,
           "lawyer pre-code"
          ],
          [
           1932,
           "gangster police chief organized crime pre-code vigilantism"
          ],
          [
           1932,
           "murder crime scene"
          ],
          [
           1932,
           "undercover coffin drugs federal agent pre-code"
          ],
          [
           1932,
           "newspaper racket"
          ],
          [
           1932,
           ""
          ],
          [
           1932,
           "police"
          ],
          [
           1932,
           ""
          ],
          [
           1932,
           "san francisco, california pre-code brothel madam"
          ],
          [
           1932,
           "race horse"
          ],
          [
           1932,
           "waitress gangster cafe"
          ],
          [
           1932,
           "penitentiary revenge lawyer gun fight"
          ],
          [
           1932,
           "not_found"
          ],
          [
           1932,
           "newspaper"
          ],
          [
           1932,
           "gangster woman reporter newspaper man pre-code editor"
          ],
          [
           1932,
           ""
          ],
          [
           1932,
           "chicago, illinois gangster mobster vaudeville female killer"
          ],
          [
           1932,
           "harlem renaissance"
          ],
          [
           1932,
           "san francisco, california chinese pre-code"
          ],
          [
           1932,
           ""
          ],
          [
           1932,
           ""
          ],
          [
           1932,
           "hollywood"
          ],
          [
           1931,
           ""
          ],
          [
           1932,
           "newspaper robbery reporter gossip columnist"
          ],
          [
           1932,
           "hotel"
          ],
          [
           1932,
           ""
          ],
          [
           1932,
           "prison war veteran blackmail hamburger based on true story chain gang fugitive pre-code escaped prisoner reverend tradesman prison system prison brutality prison life prison reform innocent in jail reformed criminal escapee forced labor"
          ],
          [
           1932,
           "gambling"
          ],
          [
           1932,
           "hypochondriac ealing"
          ],
          [
           1933,
           "cruise ship"
          ],
          [
           1932,
           "blackmail blonde"
          ],
          [
           1931,
           "not_found"
          ],
          [
           1932,
           "skyscraper pre-code manhattan, new york city"
          ],
          [
           1931,
           "espionage world war i spy female spy pre-code exotic dancer"
          ],
          [
           1932,
           "chicago, illinois sweden monopoly tycoon rise and fall womanizer counterfeit downfall counterfeiter pre-code deceit dishonesty forgery loan procurement matches international finance crooked businessman manipulator"
          ],
          [
           1932,
           "hostage thief murder bank robbery lynch mob"
          ],
          [
           1932,
           ""
          ],
          [
           1932,
           "dancer policeman"
          ],
          [
           1932,
           "mad scientist death ray"
          ],
          [
           1932,
           "paris, france circus black and white ape pre-code genetic engineering murder mystery 19th century racist stereotype native"
          ],
          [
           1932,
           "nightclub murder"
          ],
          [
           1932,
           "taxi driver alibi courtroom pre-code framed for a crime confession of crime mother child separation night court bank account crooked judge corrupt judge secret investigation corrupt legal system loyal mistress"
          ],
          [
           1932,
           "based on novel or book"
          ],
          [
           1932,
           "black and white runaway train macguffin stolen necklace runaway bus"
          ],
          [
           1932,
           "based on play or musical murder pre-code"
          ],
          [
           1932,
           "suicide detective sister criminal"
          ],
          [
           1932,
           "bribery"
          ],
          [
           1932,
           ""
          ],
          [
           1932,
           "red hair gangster blackmail alibi new life paid companion"
          ],
          [
           1932,
           "murder fame"
          ],
          [
           1932,
           "frame up moll"
          ],
          [
           1932,
           ""
          ],
          [
           1932,
           "chinatown smuggling"
          ],
          [
           1932,
           "france pickpocket white russian kidnapping flower girl gendarmerie murder old dark house pre-code hypnotism gentleman thief french police hypnotic spell chinese servant mad lab"
          ],
          [
           1932,
           "sherlock holmes"
          ],
          [
           1932,
           "defense lawyer"
          ],
          [
           1932,
           "husband wife relationship murder old dark house hooded figure ghost newspaper reporter uncle nephew relationship"
          ],
          [
           1932,
           "prison daughter criminal"
          ],
          [
           1932,
           "cop-killer fugitive reporter pre-code newspaper reporter mother child separation small time crook gun fight unwed mother woman removes stockings in hiding"
          ],
          [
           1932,
           ""
          ],
          [
           1931,
           "new york city taxi waitress marriage crisis taxi driver marriage dance competition trial film in film cab driver revenge motive killer intimidation pre-code family tragedy courtship cabbie business rivalry taxicab"
          ],
          [
           1932,
           "pre-code"
          ],
          [
           1933,
           "delinquent victim hypnosis doctor criminal german expressionism"
          ],
          [
           1932,
           ""
          ],
          [
           1932,
           "bullying horoscope train trapeze pre-code schoolmates clairvoyant swami revenge murderer mixed race vengeance proto-slasher hypnotic powers revenge thriller lives of former students victim revenge group of young women sorority girls suicide by gun nyc subway eurasian revenge for bullying sorority sister former schoolmates"
          ],
          [
           1932,
           "infidelity kidnapping drug addiction desertion pre-code schoolmates child neglect"
          ],
          [
           1932,
           "accused of murder based on radio drama"
          ],
          [
           1932,
           "ship roulette pre-code"
          ],
          [
           1932,
           "death row just married woman between two men flashback murder electric chair capital punishment execution bookie dancehall girl pre-code told in flashback evil woman wife murderer sleaze riveter domineering wife life lessons emasculation nasty wife extreme measures dancehall downward spiral naive young man uncaring wife adulterous wife fall from height"
          ],
          [
           1932,
           "gangster murder"
          ],
          [
           1932,
           ""
          ],
          [
           1932,
           "waitress taxi driver brooklyn, new york city pre-code street walker vice cop"
          ],
          [
           1932,
           "not_found"
          ],
          [
           1932,
           "prison based on novel or book gangster death row jail guard self-defense electric chair code of honor warden sing sing pre-code hoodlum hard labor prison reform prison break attempt"
          ],
          [
           1932,
           "murder"
          ],
          [
           1933,
           "police gangster greed money murder psychic old dark house ghost clairvoyant death mask secret room"
          ],
          [
           1933,
           "blackmail death pre-code"
          ],
          [
           1932,
           "not_found"
          ],
          [
           1933,
           "ex-con oil baron"
          ],
          [
           1933,
           "gangster pre-code"
          ],
          [
           1933,
           ""
          ],
          [
           1933,
           "infidelity illustrator female friendship fistfight sexual freedom singing drunkenness ocean voyage shipboard romance philanderer flirtation french detective playful spurned suitor lighthearted women's independence romantic pursuit imposture romantic commercial artist"
          ],
          [
           1933,
           "infidelity suicide amateur detective lover hypnosis murder psychiatrist bank robbery button pre-code police investigation frame up police reporter badge lies unfaithful wife father and daughter family estrangement alienist"
          ],
          [
           1933,
           "not_found"
          ],
          [
           1933,
           ""
          ],
          [
           1933,
           ""
          ],
          [
           1933,
           ""
          ],
          [
           1933,
           "bootlegger reporter pre-code"
          ],
          [
           1933,
           ""
          ],
          [
           1933,
           "not_found"
          ],
          [
           1933,
           "based on novel or book murder dog pre-code dog show philo vance"
          ],
          [
           1933,
           "pre-code lynching"
          ],
          [
           1933,
           "fire judge nurse youth gang gang solitary confinement juvenile delinquent reformatory pre-code reform school revolt sick child reformer racketeer escape attempt mob justice self government child mistreatment kindly guard"
          ],
          [
           1933,
           "scotland yard pre-code jewelry thieves"
          ],
          [
           1933,
           "self sacrifice flashback reformatory social injustice unemployment ex-con pre-code gambling house stenographer false arrest murder trial moll life of crime interclass romance criminal rehabilitation bold law clerk"
          ],
          [
           1934,
           "baby"
          ],
          [
           1933,
           "tiger lion zoo alligator cage murder wild animal snake bite pre-code adventurer jealous husband publicist"
          ],
          [
           1933,
           "kidnapping murder gang wrongful arrest"
          ],
          [
           1933,
           "corruption melodrama"
          ],
          [
           1932,
           "hit-and-run policeman"
          ],
          [
           1933,
           "pre-code"
          ],
          [
           1933,
           "prison fire jealousy department store blackmail marriage bigamy revenge arson divorce parole shoplifting racketeers pre-code bribery wrongful conviction counterfeit money extravagance parolee prison life sham marriage"
          ],
          [
           1933,
           "jealousy alcoholism murder pre-code"
          ],
          [
           1932,
           ""
          ],
          [
           1933,
           "call girl gangster investigation murder pre-code kept woman"
          ],
          [
           1933,
           "radio station pre-code"
          ],
          [
           1933,
           "con man pre-code swindle"
          ],
          [
           1933,
           "new york city parent child relationship photographer subway execution tailor pre-code perfume editor demotion typesetter"
          ],
          [
           1933,
           "melodrama"
          ],
          [
           1933,
           "drug addiction murder private detective gambler pre-code detective agency business partner racket club owner"
          ],
          [
           1933,
           "politician ex-con"
          ],
          [
           1933,
           ""
          ],
          [
           1933,
           "newspaper murder reporter pre-code"
          ],
          [
           1933,
           "jewel thief"
          ],
          [
           1933,
           "brewery"
          ],
          [
           1933,
           "bootlegger rape self-defense rape victim courtroom pre-code southern belle murder trial social scandal county judge controversial concealing the truth"
          ],
          [
           1933,
           "jurors"
          ],
          [
           1933,
           "medium newspaper reporter séance scam artist woman director"
          ],
          [
           1933,
           "ocean liner"
          ],
          [
           1933,
           "pre-code"
          ],
          [
           1933,
           ""
          ],
          [
           1933,
           "based on novel or book inspector aunt murder murder mystery"
          ],
          [
           1933,
           ""
          ],
          [
           1934,
           "woman director"
          ],
          [
           1933,
           "pre-code"
          ],
          [
           1934,
           "suicide playboy revenge murder novelist"
          ],
          [
           1933,
           ""
          ],
          [
           1934,
           ""
          ],
          [
           1934,
           "con man counterfeit pre-code racketeer racket druggist racketeering knockoff"
          ],
          [
           1934,
           "chess prisoner of war hungary black and white train storm psychiatrist black cat spiral staircase high priest newlywed pre-code based on short story satanic ritual satanic cult psychotronic preserved corpse female corpse devil worship mystery writer wife murderer woman in peril bus crash europe honeymoon flaying glass display cases gun turret married to stepdaughter"
          ],
          [
           1934,
           ""
          ],
          [
           1934,
           "murder india"
          ],
          [
           1934,
           "death row murder murder investigation police inspector asian man charlie chan"
          ],
          [
           1934,
           "rescue rebellion jungle cross dressing"
          ],
          [
           1934,
           "infidelity jealousy wife insanity smoking deception tension false accusations anger pre-code retribution framed for murder damsel in distress"
          ],
          [
           1934,
           "murder lawyer"
          ],
          [
           1934,
           "nightclub"
          ],
          [
           1934,
           "murder doctor"
          ],
          [
           1934,
           "based on novel or book baseball st. louis, missouri pennant race"
          ],
          [
           1934,
           ""
          ],
          [
           1934,
           "arson arsonist insurance investigator"
          ],
          [
           1933,
           ""
          ],
          [
           1934,
           "san francisco, california gangster pre-code government agent embezzlement bad girl half sister stolen bonds"
          ],
          [
           1934,
           ""
          ],
          [
           1934,
           "based on novel or book redemption"
          ],
          [
           1934,
           ""
          ],
          [
           1934,
           "murder prostitution"
          ],
          [
           1934,
           "artist love pre-code greenwich village"
          ],
          [
           1934,
           "gangster fisherman revenge pre-code hideout portuguese"
          ],
          [
           1934,
           "diner mojave pre-code"
          ],
          [
           1934,
           "revenge newspaper reporter"
          ],
          [
           1934,
           ""
          ],
          [
           1934,
           "adoption imprisonment senator revelation politician murder gossip extramarital affair pre-code milliner unwed mother millinery shop love child"
          ],
          [
           1934,
           "suicide london, england interracial relationship mistress"
          ],
          [
           1934,
           "based on novel or book whodunit female corpse"
          ],
          [
           1934,
           "concert kidnapping murder shootout criminal clue dentist hypnotism ski resort brawl assassination plan corrupt church cymbals sharpshooting worship service saint moritz, switzerland"
          ],
          [
           1934,
           "hotel mind control theatrical producer"
          ],
          [
           1934,
           "friendship woman between two men organized crime orphan pre-code opposite sides of the law"
          ],
          [
           1934,
           "murder"
          ],
          [
           1934,
           "death sentence pre-code"
          ],
          [
           1934,
           "scotland yard"
          ],
          [
           1934,
           "socialite pre-code poverty row"
          ],
          [
           1934,
           "murder pre-code"
          ],
          [
           1934,
           "secret mission murder aviation b movie"
          ],
          [
           1934,
           "rediscovered film"
          ],
          [
           1934,
           "gambler pre-code"
          ],
          [
           1934,
           "husband wife relationship con man con artist swindler debt little girl unpaid bill child custody swindle wanderer father daughter relationship stepmother stepdaughter relationship rich woman"
          ],
          [
           1933,
           "painting"
          ],
          [
           1934,
           "not_found"
          ],
          [
           1934,
           ""
          ],
          [
           1934,
           "rare book"
          ],
          [
           1934,
           "train"
          ],
          [
           1933,
           "car racing"
          ],
          [
           1934,
           ""
          ],
          [
           1933,
           "police officer pre-code gaslighting"
          ],
          [
           1934,
           "chauffeur blackmail marriage scandal tragedy loneliness love affair millionaire showgirl pre-code burlesque high society blackmailer costume party murder trial cover-up attempt arrogant"
          ],
          [
           1934,
           "prison newspaper jealousy self sacrifice fiancé carnival deception hypochondriac jail reporter ex-con pre-code father daughter reunion hidden identity manslaughter trial witness female reporter father and daughter melodrama melodramatic"
          ],
          [
           1934,
           "murder mind transfer"
          ],
          [
           1934,
           "prohibition era gangster great depression"
          ],
          [
           1934,
           "sheriff release from prison cabin ex-con pre-code killing a dog pipe smoking damsel in distress"
          ],
          [
           1933,
           "husband wife relationship trial pre-code"
          ],
          [
           1934,
           "death pre-code black face"
          ],
          [
           1934,
           "circus murder false accusations"
          ],
          [
           1934,
           ""
          ],
          [
           1934,
           "diamond jewel thief"
          ],
          [
           1934,
           ""
          ],
          [
           1934,
           ""
          ],
          [
           1934,
           "legal drama"
          ],
          [
           1934,
           ""
          ],
          [
           1933,
           ""
          ],
          [
           1931,
           ""
          ],
          [
           1932,
           "exploitation death in childbirth lost film abortion"
          ],
          [
           1933,
           "not_found"
          ],
          [
           1932,
           "not_found"
          ],
          [
           1930,
           ""
          ],
          [
           1931,
           "france"
          ],
          [
           1931,
           "charlie chan"
          ],
          [
           1931,
           "not_found"
          ],
          [
           1931,
           "not_found"
          ],
          [
           1934,
           ""
          ],
          [
           1934,
           ""
          ],
          [
           1932,
           "pre-code"
          ],
          [
           1931,
           "murder pre-code stage manager"
          ],
          [
           1932,
           ""
          ],
          [
           1932,
           ""
          ],
          [
           1931,
           ""
          ],
          [
           1932,
           ""
          ],
          [
           1931,
           "prohibition era nevada murder divorce pre-code"
          ],
          [
           1931,
           ""
          ],
          [
           1931,
           ""
          ],
          [
           1932,
           ""
          ],
          [
           1932,
           ""
          ],
          [
           1932,
           ""
          ],
          [
           1934,
           "ex-con"
          ],
          [
           1934,
           "robbery detective crime boss wedding criminal gang"
          ],
          [
           1934,
           "not_found"
          ],
          [
           1934,
           ""
          ],
          [
           1934,
           "not_found"
          ],
          [
           1929,
           "not_found"
          ],
          [
           1933,
           ""
          ],
          [
           1930,
           "jekyll and hyde psychological drama"
          ],
          [
           1930,
           ""
          ],
          [
           1930,
           "not_found"
          ],
          [
           1930,
           "partially lost film"
          ],
          [
           1931,
           ""
          ],
          [
           1931,
           ""
          ],
          [
           1932,
           ""
          ],
          [
           1931,
           ""
          ],
          [
           1932,
           ""
          ],
          [
           1931,
           ""
          ],
          [
           1930,
           "train devil jazz age allegorical"
          ],
          [
           1930,
           ""
          ],
          [
           1932,
           ""
          ],
          [
           1930,
           ""
          ],
          [
           1929,
           "hypnosis inheritance"
          ],
          [
           1929,
           "not_found"
          ],
          [
           1930,
           "not_found"
          ],
          [
           1930,
           ""
          ],
          [
           1934,
           "not_found"
          ],
          [
           1934,
           "not_found"
          ]
         ],
         "hovertemplate": "<b>%{hovertext}</b><br><br>primary_genre=Crime<br>startYear=%{customdata[0]}<br>keywords=%{customdata[1]}<extra></extra>",
         "hovertext": [
          "The Wrecker",
          "The Scar of Shame",
          "Pandora's Box",
          "Acquitted",
          "Asphalt",
          "Below the Deadline",
          "Black Waters",
          "Blackmail",
          "Blaze o' Glory",
          "The Body Punch",
          "Broadway",
          "Bulldog Drummond",
          "The Canary Murder Case",
          "The Clue of the New Pin",
          "Dark Skies",
          "The Drake Case",
          "Evidence",
          "Eyes of the Underworld",
          "The Faker",
          "Fast Life",
          "The Flying Scotsman",
          "The Gamblers",
          "The Girl from Havana",
          "The Greene Murder Case",
          "Hardboiled Rose",
          "Her Private Affair",
          "The Hound of the Baskervilles",
          "Just Off Broadway",
          "Light Fingers",
          "The Lone Wolf's Daughter",
          "The Love Racket",
          "Masked Emotions",
          "A Most Immoral Lady",
          "The Mysterious Dr. Fu Manchu",
          "New York Nights",
          "Painted Faces",
          "The Phantom in the House",
          "Piccadilly",
          "Prisoners",
          "The Racketeer",
          "The Runaway Princess",
          "Speakeasy",
          "The Thirteenth Chair",
          "Thunderbolt",
          "The Voice of the City",
          "The Woman I Love",
          "Alias French Gertie",
          "The Bat Whispers",
          "The Benson Murder Case",
          "The Big House",
          "The Bishop Murder Case",
          "Born Reckless",
          "The Cheaters",
          "Contre-enquête",
          "Convict's Code",
          "The Costello Case",
          "Escape from Dartmoor",
          "Czar of Broadway",
          "Dangerous Paradise",
          "The Doorway to Hell",
          "Downstream",
          "Escape!",
          "The Menace",
          "For the Defense",
          "The Furies",
          "Guilty?",
          "Her Man",
          "Walk Cheerfully",
          "The Last of the Lone Wolf",
          "Man Trouble",
          "Man to Man",
          "The Melody Man",
          "Midnight Mystery",
          "Murder!",
          "Mystery at the Villa Rose",
          "The Mystery of the Yellow Room",
          "The Night Ride",
          "Numbered Men",
          "One Night at Susie's",
          "Outside the Law",
          "Paid",
          "Party Girl",
          "Roadhouse Nights",
          "The Runaway Bride",
          "Scotland Yard",
          "Shadow of the Law",
          "Shooting Straight",
          "Sisters",
          "Soldiers and Women",
          "That Night's Wife",
          "The Squeaker",
          "Street of Chance",
          "Der Tanz geht weiter",
          "Temple Tower",
          "Trailing Trouble",
          "The Unholy Three",
          "Road to Rio",
          "The Widow from Chicago",
          "Wild Company",
          "Wolves",
          "The Woman Racket",
          "An American Tragedy",
          "Bad Company",
          "The Bells",
          "Berlin-Alexanderplatz: The Story of Franz Biberkopf",
          "The Big Gamble",
          "The Black Camel",
          "The Bitch",
          "The Boat from Shanghai",
          "Chinatown After Dark",
          "City Streets",
          "Lilac",
          "Convicted",
          "The Criminal Code",
          "Dance, Fools, Dance",
          "Daughter of the Dragon",
          "The Devil Plays",
          "The Drums of Jeopardy",
          "Enemies of the Law",
          "The Exile",
          "The False Madonna",
          "The Finger Points",
          "Five Star Final",
          "A Free Soul",
          "Gentleman's Fate",
          "The Good Bad Girl",
          "Graft",
          "The Guilty Generation",
          "Guilty Hands",
          "Homicide Squad",
          "How Burke Was Captured",
          "Is There Justice?",
          "Ladies of the Big House",
          "The Lady from Nowhere",
          "The Law of the Tong",
          "The Lawless Woman",
          "The Lawyer's Secret",
          "M",
          "The Maltese Falcon",
          "Men in Her Life",
          "Menschen hinter Gittern",
          "Méphisto",
          "Murder at Midnight",
          "Murder by the Clock",
          "The Night Angel",
          "Night Beat",
          "The Public Defender",
          "The Public Enemy",
          "Road to Life",
          "Quick Millions",
          "The Ruling Voice",
          "Safe in Hell",
          "Scandal Sheet",
          "Scareheads",
          "The Secret 6",
          "Sheer Luck",
          "Sherlock Holmes' Fatal Hour",
          "Silence",
          "The Sin of Madelon Claudet",
          "Smart Money",
          "The Speckled Band",
          "The Star Witness",
          "Ten Cents a Dance",
          "The Unholy Garden",
          "The Vice Squad",
          "X Marks the Spot",
          "Young Donovan's Kid",
          "Afraid to Talk",
          "Alias Mary Smith",
          "Arsène Lupin",
          "Attorney for the Defense",
          "The Beast of the City",
          "Behind Stone Walls",
          "Behind the Mask",
          "Big Town",
          "Blame the Woman",
          "Central Park",
          "Collision",
          "Frisco Jenny",
          "The County Fair",
          "Docks of San Francisco",
          "Escapade",
          "Exposed",
          "The Famous Ferguson Case",
          "The Final Edition",
          "Criminal at Large",
          "The Girl from Chicago",
          "Harlem Is Heaven",
          "The Hatchet Man",
          "Her Mad Night",
          "High Speed",
          "Hollywood Speaks",
          "Footsteps in the Night",
          "The Honor of the Press",
          "Hotel Continental",
          "Hotel Splendide",
          "I Am a Fugitive from a Chain Gang",
          "Illegal",
          "Woman in Chains",
          "The Intruder",
          "The King Murder",
          "The Last Ride",
          "Manhattan Tower",
          "Mata Hari",
          "The Match King",
          "Men of America",
          "The Midnight Lady",
          "Midnight Morals",
          "Murder at Dawn",
          "Murders in the Rue Morgue",
          "The Night Club Lady",
          "Night Court",
          "Night at the Crossroads",
          "Number 17",
          "Payment Deferred",
          "The Phantom of Crestwood",
          "Radio Patrol",
          "The Reckoning",
          "Red-Haired Alibi",
          "The Roadhouse Murder",
          "Sally of the Subway",
          "A Shot at Dawn",
          "The Secrets of Wu Sin",
          "Secrets of the French Police",
          "The Sign of Four: Sherlock Holmes' Greatest Case",
          "Sin's Pay Day",
          "A Strange Adventure",
          "The Strange Case of Clara Deane",
          "The Strange Love of Molly Louvain",
          "The Tempest",
          "Taxi",
          "Tess of the Storm Country",
          "The Testament of Dr. Mabuse",
          "Over Night",
          "Thirteen Women",
          "Three on a Match",
          "The Trial of Vivienne Ware",
          "Two Against the World",
          "Two Seconds",
          "Under-Cover Man",
          "The Unwritten Law",
          "Virtue",
          "The Widow in Scarlet",
          "20,000 Years in Sing Sing",
          "As the Devil Commands",
          "Before Dawn",
          "Before Morning",
          "Behind Jury Doors",
          "The Billion Dollar Scandal",
          "Blondie Johnson",
          "Cheating Blondes",
          "Cocktail Hour",
          "The Crime of the Century",
          "Dance Hall Hostess",
          "Song of the Streets",
          "Her Forgotten Past",
          "Dragnet Girl",
          "I Cover the Waterfront",
          "I Love That Man",
          "Justice Takes a Holiday",
          "The Kennel Murder Case",
          "Laughter in Hell",
          "The Mayor of Hell",
          "Midnight Club",
          "Midnight Mary",
          "Miss Fane's Baby Is Stolen",
          "Murders in the Zoo",
          "Notorious But Nice",
          "Obey the Law",
          "Officer Thirteen",
          "One Year Later",
          "Parole Girl",
          "The Past of Mary Holmes",
          "The Penal Code",
          "Penthouse",
          "The Phantom Broadcast",
          "Pick-up",
          "Picture Snatcher",
          "Police Car 17",
          "Private Detective 62",
          "Reform Girl",
          "Revenge at Monte Carlo",
          "A Shriek in the Night",
          "The Solitaire Man",
          "Song of the Eagle",
          "The Story of Temple Drake",
          "Strange People",
          "Sucker Money",
          "Terror Aboard",
          "This Day and Age",
          "House of Silence",
          "A Man's Head",
          "Invisible Opponent",
          "The Woman Condemned",
          "The World Gone Mad",
          "Affairs of a Gentleman",
          "Back Page",
          "Beggar's Holiday",
          "The Big Shakedown",
          "The Black Cat",
          "Blind Justice",
          "Bombay Mail",
          "Charlie Chan in London",
          "Come On, Marines!",
          "The Crime Doctor",
          "Crime Without Passion",
          "The Crime of Helen Stanley",
          "The Crosby Case",
          "Death on the Diamond",
          "The Feathered Serpent",
          "The Fire Raisers",
          "Fog",
          "Fog Over Frisco",
          "Gambling",
          "Grand Canary",
          "Border Patrol",
          "Guilty Parents",
          "Hat, Coat, and Glove",
          "He Was Her Man",
          "Heat Lightning",
          "The Hell Cat",
          "I Give My Love",
          "The Life of Vergie Winters",
          "Limehouse Blues",
          "Lord Edgware Dies",
          "The Man Who Knew Too Much",
          "The Man with Two Faces",
          "Manhattan Melodrama",
          "Menace",
          "Midnight",
          "The Moonstone",
          "The Moth",
          "Murder at the Vanities",
          "Murder in the Clouds",
          "The Murder Party",
          "Now I'll Tell",
          "Now and Forever",
          "The Pointing Finger",
          "The River Wolves",
          "Road House",
          "Secret of the Chateau",
          "Sleepers East",
          "Straightaway",
          "The Third Clue",
          "Twin Husbands",
          "Upperworld",
          "Whirlpool",
          "The Witching Hour",
          "Woman Unafraid",
          "Woman in the Dark",
          "The Women in His Life",
          "Wonder Bar",
          "Zou Zou",
          "Anything Might Happen",
          "I Am a Thief",
          "The Mysterious Mr. Wong",
          "Port of Lost Dreams",
          "Sing Sing Nights",
          "White Lies",
          "Wolves of the Underworld",
          "The Hawk",
          "The Seventh Commandment",
          "Paris Plane",
          "The Green Spot Mystery",
          "El presidio",
          "Big House",
          "Eran trece",
          "El impostor",
          "El pasado acusa",
          "When London Sleeps",
          "The Kidnapping",
          "Ten Minutes to Live",
          "Grief Street",
          "Edgar Wallace's White Face the Fiend",
          "Tumultes",
          "The Limping Man",
          "The Face on the Barroom Floor",
          "Night Life in Reno",
          "Down River",
          "The Man They Couldn't Arrest",
          "The Chinese Puzzle",
          "The House Opposite",
          "Life Goes On",
          "I Can't Escape",
          "The Mystic Hour",
          "The Scoop",
          "The Way of Youth",
          "What's Your Racket?",
          "Human Cargo",
          "On Your Guard",
          "L'autre",
          "Los que danzan",
          "El cuerpo del delito",
          "Le spectre vert",
          "Carne de cabaret",
          "The Gables Mystery",
          "Le triangle de feu",
          "Nuit d'Espagne",
          "Unknown Heroes",
          "Trapped",
          "Hellbound Train",
          "The Woman from China",
          "After Dark",
          "Lily of Killarney",
          "The Silent House",
          "That Murder in Berlin",
          "Sombras habaneras",
          "Night Birds",
          "The Wedding Tragedy",
          "El Misterioso Mr. Wong"
         ],
         "legendgroup": "Crime",
         "marker": {
          "color": "#636efa",
          "line": {
           "color": "DarkSlateGrey",
           "width": 0.5
          },
          "opacity": 0.9,
          "size": 6,
          "symbol": "circle"
         },
         "mode": "markers",
         "name": "Crime",
         "showlegend": true,
         "type": "scattergl",
         "x": [
          2.5205777,
          -9.107474,
          34.949516,
          -0.13245082,
          27.700111,
          1.3523968,
          15.224774,
          -13.425659,
          18.004244,
          0.053143766,
          8.968298,
          30.177382,
          -9.450239,
          0.7613499,
          0.053143766,
          -2.1648123,
          -8.700897,
          30.920292,
          -1.5681356,
          -0.3112775,
          30.324093,
          35.282894,
          -1.3283643,
          0.9539218,
          -35.25288,
          -10.035523,
          8.313893,
          -0.05850409,
          -0.05850409,
          -0.05850409,
          -0.05850409,
          -0.05850409,
          -0.05850409,
          -1.3873049,
          -15.2434,
          -3.0709043,
          -0.05850409,
          -14.705383,
          -0.05850409,
          -32.916763,
          -0.05850409,
          -0.05850409,
          12.4778805,
          42.168465,
          -11.247897,
          0.053143766,
          -5.620771,
          -30.467035,
          1.085197,
          -11.913277,
          -21.102407,
          -10.993959,
          12.777502,
          -0.05850409,
          36.908554,
          2.4330113,
          -15.784798,
          -0.05850409,
          14.441245,
          -15.24347,
          -0.05850409,
          4.718205,
          -0.7858103,
          -23.991756,
          -0.05850409,
          -0.05850409,
          -19.117413,
          -0.05850409,
          25.262302,
          6.8449054,
          -20.26867,
          -0.05850409,
          -0.05850409,
          11.882938,
          -0.05850409,
          -0.05850409,
          -0.05850409,
          -11.2133,
          -27.211658,
          -0.05850409,
          -7.3056507,
          -21.477715,
          -16.734789,
          -15.4510765,
          16.468004,
          1.790877,
          -17.61182,
          -0.05850409,
          -20.531412,
          -0.05850409,
          -0.05850409,
          -17.035906,
          -0.05850409,
          -0.05850409,
          -0.05850409,
          19.238985,
          -0.05850409,
          -14.516092,
          -8.4453,
          -0.05850409,
          -17.152466,
          -10.218939,
          -14.972661,
          -0.05850409,
          -0.05850409,
          -17.791964,
          10.774848,
          12.616526,
          -0.05850409,
          -3.674999,
          -17.23596,
          -0.05850409,
          1.5007094,
          -23.239725,
          -7.546877,
          -1.3600128,
          -0.05850409,
          28.261168,
          -0.05850409,
          0.15471435,
          -0.05850409,
          -9.468449,
          -9.9884,
          -13.591607,
          -18.69874,
          -10.4900875,
          -5.182446,
          -16.431849,
          -10.085022,
          8.081987,
          -0.05850409,
          0.09415658,
          -10.915769,
          -0.05850409,
          14.985507,
          -0.05850409,
          15.337689,
          -3.0219848,
          11.664631,
          -8.47463,
          -0.05850409,
          14.738003,
          -17.000977,
          0.8040622,
          6.53025,
          -16.867683,
          -8.718759,
          -13.934838,
          30.316498,
          -6.5826154,
          -17.273005,
          -12.360257,
          5.833194,
          0.09415658,
          -18.210573,
          -0.05850409,
          7.7755938,
          4.851401,
          -20.948404,
          -16.793585,
          8.149092,
          3.6638854,
          -16.207233,
          -18.470177,
          -0.05850409,
          -0.05850409,
          8.501939,
          -6.5439515,
          1.860691,
          -16.385511,
          -23.991753,
          -15.061899,
          1.262196,
          -16.898565,
          5.5054493,
          -0.05850409,
          9.35539,
          -0.05850409,
          -13.360866,
          24.096579,
          7.1163673,
          -1.0259255,
          0.09415658,
          5.5851245,
          -9.514347,
          -0.05850409,
          2.866838,
          2.1655078,
          -20.799366,
          -0.05850409,
          -0.05850409,
          28.396221,
          -0.05850409,
          4.560926,
          5.9890037,
          -0.05850409,
          -9.776917,
          -4.534485,
          -3.554843,
          12.342133,
          -7.975431,
          0.09415658,
          -27.303118,
          -7.1226,
          -33.057407,
          0.93717784,
          -0.05850409,
          6.0827956,
          11.467898,
          -1.3891579,
          0.43991026,
          -13.416156,
          13.84658,
          -2.8428125,
          -8.2444105,
          -8.061335,
          -32.14842,
          -0.05850409,
          -8.583858,
          1.4502518,
          10.391434,
          -0.05850409,
          -5.008096,
          -2.196928,
          8.149217,
          -1.6268394,
          2.4842947,
          -6.7157946,
          -10.240649,
          -0.05850409,
          -5.8925056,
          -26.742575,
          -2.9717495,
          -0.05850409,
          0.675578,
          -16.796484,
          2.4831553,
          -21.333544,
          -5.7791314,
          2.4178803,
          -0.05850409,
          -5.8105893,
          0.09415658,
          -9.997912,
          0.8973107,
          1.8949203,
          -14.128346,
          0.09415658,
          2.5572026,
          -15.243495,
          -0.05850409,
          -13.980536,
          -10.144483,
          0.09415658,
          -0.05850409,
          -0.05850409,
          -0.05850409,
          -18.71923,
          -0.05850409,
          0.09415658,
          -20.976501,
          -22.97425,
          -14.695487,
          -4.856742,
          -5.9022317,
          -0.61967844,
          24.0043,
          3.735135,
          -4.1844215,
          8.977221,
          -28.328753,
          -9.77229,
          -13.169636,
          -0.05850409,
          -11.416519,
          -27.649292,
          -31.588509,
          -14.482588,
          -4.0465074,
          -13.801601,
          -1.7316751,
          -0.05850409,
          -10.376773,
          -3.4992566,
          5.78898,
          -6.1470046,
          -2.481911,
          14.030057,
          13.1933365,
          -28.334396,
          -0.05850409,
          11.973121,
          -0.05850409,
          12.777541,
          -28.169716,
          1.643299,
          -0.05850409,
          -0.05850409,
          -32.95409,
          -6.0349975,
          -0.05850409,
          1.0296643,
          10.879459,
          29.210058,
          -10.734403,
          -1.40641,
          6.8460603,
          0.29428083,
          13.367908,
          -0.05850409,
          4.8209825,
          -0.05850409,
          -7.4959583,
          -0.05850409,
          13.3958845,
          -0.05850409,
          -1.4623083,
          -10.906706,
          -15.979936,
          -23.482935,
          4.808292,
          -0.05850409,
          -10.492469,
          -7.5547576,
          12.584737,
          0.44935724,
          0.91743934,
          -10.420761,
          0.89714986,
          -12.85368,
          16.61309,
          -24.438335,
          -12.417159,
          35.6443,
          39.53524,
          -17.685694,
          -16.624874,
          38.226032,
          0.09415658,
          -0.05850409,
          14.977851,
          30.032621,
          26.4825,
          -0.05850409,
          -19.267517,
          -9.475,
          -10.296445,
          0.14180277,
          -9.508633,
          -11.875082,
          -24.028368,
          -13.874309,
          -3.2185829,
          -0.05850409,
          -3.5946884,
          -0.05850409,
          -0.05850409,
          -2.152706,
          -0.05850409,
          -0.05850409,
          -0.05850409,
          28.182367,
          0.09415658,
          0.09415658,
          -0.05850409,
          0.44549477,
          12.429628,
          0.09415658,
          0.09415658,
          -0.05850409,
          -0.05850409,
          -29.015928,
          -12.659565,
          -0.05850409,
          -0.05850409,
          -0.05850409,
          -0.05850409,
          -21.130785,
          -0.05850409,
          -0.05850409,
          -0.05850409,
          -0.05850409,
          -0.05850409,
          -1.7439889,
          -5.1563344,
          0.09415658,
          -0.05850409,
          0.09415658,
          0.09415658,
          -0.05850409,
          -2.3051376,
          -0.05850409,
          0.09415658,
          40.414124,
          -0.05850409,
          -0.05850409,
          -0.05850409,
          -0.05850409,
          -0.05850409,
          -0.05850409,
          0.11436379,
          -0.05850409,
          -0.05850409,
          -0.05850409,
          -3.319244,
          0.09415658,
          0.09415658,
          -0.05850409,
          0.09415658,
          0.09415658
         ],
         "xaxis": "x",
         "y": [
          35.05086,
          -16.66545,
          -42.499504,
          -17.556303,
          -40.01688,
          33.989895,
          -29.714352,
          -6.278322,
          -38.955833,
          74.79034,
          -10.361025,
          -0.6456021,
          -16.007465,
          33.755085,
          74.79034,
          34.465195,
          -50.966507,
          -39.487373,
          34.02982,
          -14.438735,
          -11.125933,
          -31.58628,
          33.907776,
          -20.06243,
          -21.82792,
          -11.943641,
          -19.566046,
          36.81693,
          36.81693,
          36.81693,
          36.81693,
          36.81693,
          36.81693,
          -27.10296,
          -27.742,
          -11.356417,
          36.81693,
          -8.219137,
          36.81693,
          -25.336033,
          36.81693,
          36.81693,
          -19.09527,
          -37.915142,
          -23.232588,
          74.79034,
          -17.79911,
          -32.077133,
          -19.986055,
          -25.36414,
          -29.750093,
          -44.597355,
          -56.00926,
          36.81693,
          -31.276426,
          -16.566128,
          -4.848755,
          36.81693,
          -33.16603,
          -27.741955,
          36.81693,
          -10.9027815,
          -18.743536,
          -21.42011,
          36.81693,
          36.81693,
          -41.190792,
          36.81693,
          -45.135242,
          -26.818428,
          -21.840723,
          36.81693,
          36.81693,
          -44.22589,
          36.81693,
          36.81693,
          36.81693,
          -26.176022,
          -31.892513,
          36.81693,
          -17.106789,
          -25.139885,
          -27.318548,
          -28.204613,
          -35.43635,
          -3.5925972,
          -21.561974,
          36.81693,
          -11.565235,
          36.81693,
          36.81693,
          -21.728298,
          36.81693,
          36.81693,
          36.81693,
          -21.904095,
          36.81693,
          -28.530695,
          -3.927702,
          36.81693,
          -20.25477,
          -23.875193,
          -26.808428,
          36.81693,
          36.81693,
          -19.114212,
          -21.092346,
          -45.913372,
          36.81693,
          -22.77442,
          -27.500597,
          36.81693,
          -16.246996,
          -32.942863,
          -18.430908,
          -27.04507,
          36.81693,
          -33.470226,
          36.81693,
          -52.546093,
          36.81693,
          -21.396284,
          -20.06926,
          -28.016088,
          -28.049181,
          -35.303284,
          -8.032853,
          -27.086142,
          -13.136045,
          -10.589336,
          36.81693,
          77.94953,
          -26.531425,
          36.81693,
          -27.626028,
          36.81693,
          -27.507801,
          -26.747915,
          -43.479225,
          -12.11315,
          36.81693,
          -47.369125,
          -34.503128,
          -22.964773,
          -11.957582,
          -24.261509,
          -19.497711,
          -27.729458,
          -11.350987,
          -8.660535,
          -25.402689,
          -12.057784,
          -22.543255,
          77.94953,
          -27.918148,
          36.81693,
          -19.145613,
          -13.376043,
          -25.076975,
          -21.931122,
          -19.399796,
          -10.756398,
          -45.08675,
          -33.009243,
          36.81693,
          36.81693,
          -12.510416,
          -8.675309,
          -31.967274,
          -24.198387,
          -21.420343,
          -26.967304,
          -15.774605,
          -28.441847,
          -22.692547,
          36.81693,
          -14.008991,
          36.81693,
          -36.740814,
          -4.391078,
          -25.69561,
          -9.959603,
          77.94953,
          -22.478973,
          -21.153341,
          36.81693,
          -15.165273,
          -39.27683,
          -38.903076,
          36.81693,
          36.81693,
          -29.777039,
          36.81693,
          -21.64989,
          -26.87212,
          36.81693,
          -26.123167,
          -3.655744,
          -27.80191,
          -29.06193,
          -10.757892,
          77.94953,
          -39.750996,
          -35.717106,
          -23.424873,
          -8.7078495,
          36.81693,
          -41.744083,
          -23.771486,
          -33.282196,
          -16.031694,
          -20.111797,
          -46.77405,
          -19.784689,
          -51.948273,
          -14.940777,
          -20.72461,
          36.81693,
          -10.48323,
          -15.556085,
          -7.7170424,
          36.81693,
          -24.412521,
          -34.605843,
          -19.39969,
          -13.443886,
          -23.316414,
          -16.301249,
          -19.050198,
          36.81693,
          -41.035946,
          -33.53304,
          -26.924578,
          36.81693,
          -25.32264,
          -17.362106,
          -18.126081,
          -41.39499,
          -14.199542,
          -14.988247,
          36.81693,
          -41.13063,
          77.94953,
          -26.239552,
          -14.84988,
          -22.174427,
          -22.741243,
          77.94953,
          0.35947984,
          -27.741598,
          36.81693,
          -8.99404,
          -13.672189,
          77.94953,
          36.81693,
          36.81693,
          36.81693,
          -27.958855,
          36.81693,
          77.94953,
          -29.720371,
          -27.06653,
          -17.456985,
          -22.149487,
          -13.548617,
          18.640442,
          -19.106277,
          -9.782206,
          -6.9780636,
          -14.238157,
          -32.238087,
          -12.075531,
          -27.761026,
          36.81693,
          -24.070278,
          -43.31326,
          -33.904438,
          -43.09672,
          -6.8582883,
          -26.04935,
          -5.5414276,
          36.81693,
          -20.727886,
          -22.346424,
          -4.085032,
          -12.83845,
          -12.686539,
          -55.841393,
          -29.9362,
          -34.24346,
          36.81693,
          -43.943695,
          36.81693,
          -56.009106,
          -31.341772,
          -31.8565,
          36.81693,
          36.81693,
          -24.51307,
          -14.912117,
          36.81693,
          -13.725038,
          -21.152653,
          -16.422495,
          -12.461821,
          -13.818457,
          -26.817406,
          -17.482801,
          -48.678158,
          36.81693,
          -19.449795,
          36.81693,
          -20.101557,
          36.81693,
          -46.37882,
          36.81693,
          -15.418415,
          -46.827194,
          -27.216135,
          -31.794062,
          -21.705786,
          36.81693,
          -14.379631,
          -13.988445,
          -43.609013,
          -10.808035,
          -45.86378,
          -23.120232,
          -14.84998,
          -24.251648,
          -35.418472,
          -24.625298,
          -23.504976,
          -23.119747,
          -33.51912,
          -21.263515,
          -10.65067,
          -10.208012,
          77.94953,
          36.81693,
          -45.71854,
          -10.409976,
          -4.506255,
          36.81693,
          -24.323528,
          -11.403123,
          -14.165689,
          -14.911564,
          -30.466074,
          -26.570307,
          -13.977221,
          -24.194944,
          -11.042756,
          36.81693,
          -22.437872,
          36.81693,
          36.81693,
          -13.591436,
          36.81693,
          36.81693,
          36.81693,
          -33.559814,
          77.94953,
          77.94953,
          36.81693,
          -36.4023,
          -21.678118,
          77.94953,
          77.94953,
          36.81693,
          36.81693,
          -32.43031,
          -23.171211,
          36.81693,
          36.81693,
          36.81693,
          36.81693,
          -15.382455,
          36.81693,
          36.81693,
          36.81693,
          36.81693,
          36.81693,
          -5.4467034,
          -19.121668,
          77.94953,
          36.81693,
          77.94953,
          77.94953,
          36.81693,
          -30.814074,
          36.81693,
          77.94953,
          -33.92085,
          36.81693,
          36.81693,
          36.81693,
          36.81693,
          36.81693,
          36.81693,
          -53.00527,
          36.81693,
          36.81693,
          36.81693,
          -27.464016,
          77.94953,
          77.94953,
          36.81693,
          77.94953,
          77.94953
         ],
         "yaxis": "y"
        },
        {
         "customdata": [
          [
           1929,
           "black and white silent film"
          ],
          [
           1929,
           "sports"
          ],
          [
           1929,
           ""
          ],
          [
           1929,
           ""
          ],
          [
           1929,
           "not_found"
          ],
          [
           1929,
           ""
          ],
          [
           1929,
           "early sound film"
          ],
          [
           1929,
           ""
          ],
          [
           1929,
           "prison shootout warden"
          ],
          [
           1929,
           "silent film"
          ],
          [
           1929,
           "partially lost film"
          ],
          [
           1929,
           "not_found"
          ],
          [
           1929,
           ""
          ],
          [
           1929,
           ""
          ],
          [
           1929,
           "pre-code"
          ],
          [
           1929,
           "lost film"
          ],
          [
           1929,
           ""
          ],
          [
           1929,
           "uniform world war i laughing gas russian soldier post world war i soldier homecoming russian revolution (1917) russian army bolshevik train wreck"
          ],
          [
           1929,
           "titanic"
          ],
          [
           1929,
           "society presumed lost"
          ],
          [
           1929,
           "not_found"
          ],
          [
           1929,
           ""
          ],
          [
           1929,
           "artist maid bohemian"
          ],
          [
           1929,
           ""
          ],
          [
           1929,
           "south seas silent film"
          ],
          [
           1929,
           "orphan"
          ],
          [
           1929,
           "gang cantina across the border"
          ],
          [
           1929,
           "not_found"
          ],
          [
           1929,
           ""
          ],
          [
           1929,
           "singer"
          ],
          [
           1929,
           ""
          ],
          [
           1929,
           "nun bridge pulitzer prize priest"
          ],
          [
           1929,
           "musical boarding house gambler pre-code chorus girl flapper"
          ],
          [
           1929,
           "new york city dancing love triangle revue girls show business musical tap dancing singer singing black and white undressing broadway pre-code vaudeville dressing room wisecrack humor showbiz chorus girl girl fight crooner broadway show early sound film dance act sisterhood partially lost film sister act show girls stage show performer sister sister relationship vaudeville troupe sisters love many beautiful girls dancing girls sisters love same man"
          ],
          [
           1929,
           ""
          ],
          [
           1929,
           ""
          ],
          [
           1929,
           ""
          ],
          [
           1929,
           ""
          ],
          [
           1929,
           ""
          ],
          [
           1929,
           "lost film"
          ],
          [
           1929,
           "janitor lost film partially lost film"
          ],
          [
           1929,
           ""
          ],
          [
           1929,
           "lost film"
          ],
          [
           1929,
           "lost film"
          ],
          [
           1929,
           ""
          ],
          [
           1929,
           "lost film"
          ],
          [
           1929,
           ""
          ],
          [
           1929,
           ""
          ],
          [
           1929,
           ""
          ],
          [
           1929,
           "prison warden convict pre-code penal colony devil's island"
          ],
          [
           1929,
           "doctor southern belle flirtation"
          ],
          [
           1929,
           "outlaw"
          ],
          [
           1929,
           "show business alcoholism pre-code burlesque"
          ],
          [
           1929,
           "circus"
          ],
          [
           1929,
           ""
          ],
          [
           1929,
           "cellist samurai sword sculptor jealous husband suspicion of adultery english garden ballet performance"
          ],
          [
           1929,
           ""
          ],
          [
           1929,
           "con artist captive desert silent film diamond theft lost in the desert jewel thieves"
          ],
          [
           1929,
           "spies"
          ],
          [
           1929,
           "not_found"
          ],
          [
           1929,
           "silent film"
          ],
          [
           1929,
           ""
          ],
          [
           1929,
           ""
          ],
          [
           1930,
           ""
          ],
          [
           1929,
           "not_found"
          ],
          [
           1929,
           "partially lost film fragment"
          ],
          [
           1929,
           ""
          ],
          [
           1929,
           ""
          ],
          [
           1929,
           "based on song, poem or rhyme acadia"
          ],
          [
           1929,
           ""
          ],
          [
           1929,
           "not_found"
          ],
          [
           1929,
           ""
          ],
          [
           1929,
           ""
          ],
          [
           1929,
           ""
          ],
          [
           1929,
           ""
          ],
          [
           1929,
           "broadway manhattan, new york city"
          ],
          [
           1929,
           ""
          ],
          [
           1929,
           "american football lost film"
          ],
          [
           1929,
           ""
          ],
          [
           1929,
           "nightclub"
          ],
          [
           1929,
           "not_found"
          ],
          [
           1929,
           "newspaper man"
          ],
          [
           1929,
           ""
          ],
          [
           1929,
           ""
          ],
          [
           1929,
           "not_found"
          ],
          [
           1929,
           ""
          ],
          [
           1929,
           ""
          ],
          [
           1929,
           "society girl"
          ],
          [
           1929,
           "musical pre-code"
          ],
          [
           1929,
           "lost film"
          ],
          [
           1929,
           ""
          ],
          [
           1929,
           "not_found"
          ],
          [
           1929,
           ""
          ],
          [
           1929,
           "not_found"
          ],
          [
           1929,
           "architect pre-code elopement drunkenness"
          ],
          [
           1929,
           "trapeze"
          ],
          [
           1929,
           "brother musical preacher all black cast"
          ],
          [
           1929,
           "not_found"
          ],
          [
           1929,
           "horse"
          ],
          [
           1929,
           ""
          ],
          [
           1929,
           "gambling musical drinking racial stereotype cotton picker dixieland"
          ],
          [
           1929,
           "bank robber godfather desert pre-code"
          ],
          [
           1929,
           "pre-code"
          ],
          [
           1929,
           "passenger snowstorm organ on the run church pre-code"
          ],
          [
           1929,
           "blackmail impostor cavalry"
          ],
          [
           1929,
           "based on play or musical revenge pre-code"
          ],
          [
           1929,
           "nightclub"
          ],
          [
           1929,
           ""
          ],
          [
           1929,
           "not_found"
          ],
          [
           1929,
           "suicide magician"
          ],
          [
           1929,
           "not_found"
          ],
          [
           1929,
           "lost film"
          ],
          [
           1929,
           ""
          ],
          [
           1929,
           ""
          ],
          [
           1929,
           "not_found"
          ],
          [
           1929,
           "murder financial problem lost film"
          ],
          [
           1929,
           ""
          ],
          [
           1929,
           "boarding school inheritance flapper lost film"
          ],
          [
           1929,
           "loss of job losing a job"
          ],
          [
           1929,
           "preserved george eastman house"
          ],
          [
           1929,
           "infatuation married woman silent film"
          ],
          [
           1929,
           "world war i shell shocked soldier"
          ],
          [
           1929,
           "based on play or musical wealth domestic life pre-code"
          ],
          [
           1929,
           ""
          ],
          [
           1929,
           "australia"
          ],
          [
           1929,
           ""
          ],
          [
           1929,
           "magician"
          ],
          [
           1929,
           "ranch"
          ],
          [
           1929,
           ""
          ],
          [
           1929,
           ""
          ],
          [
           1929,
           "texas ranger lost film"
          ],
          [
           1929,
           ""
          ],
          [
           1929,
           "based on play or musical pre-code"
          ],
          [
           1929,
           "woman director"
          ],
          [
           1929,
           "prohibition era based on play or musical pre-code"
          ],
          [
           1929,
           "not_found"
          ],
          [
           1929,
           "horse race cowboy"
          ],
          [
           1929,
           ""
          ],
          [
           1929,
           "world war i"
          ],
          [
           1929,
           "pre-code"
          ],
          [
           1929,
           "paris, france blackmail murder pre-code unforgiven fallen woman"
          ],
          [
           1929,
           ""
          ],
          [
           1929,
           ""
          ],
          [
           1929,
           ""
          ],
          [
           1929,
           "secret love baby love triangle wife marriage fisherman bride deception unrequited love lawyer best friend silent film guilty conscience coastal village moral dilemma isle of man abandonment seafarer deemster public disgrace"
          ],
          [
           1929,
           "fiancé post world war i orphan military police blind man french woman pet pig american g.i. war buddies woman impersonating man doughboy"
          ],
          [
           1929,
           "society screwball comedy"
          ],
          [
           1929,
           ""
          ],
          [
           1929,
           "musical minstrel show"
          ],
          [
           1929,
           "saloon mexican border"
          ],
          [
           1929,
           "not_found"
          ],
          [
           1929,
           "german shepherd rin tin tin dog hero"
          ],
          [
           1929,
           "southern gambler"
          ],
          [
           1929,
           "lost film"
          ],
          [
           1929,
           ""
          ],
          [
           1929,
           ""
          ],
          [
           1929,
           ""
          ],
          [
           1929,
           ""
          ],
          [
           1929,
           ""
          ],
          [
           1929,
           "pre-code racketeer"
          ],
          [
           1929,
           ""
          ],
          [
           1929,
           "lost film"
          ],
          [
           1929,
           "soviet union paris commune"
          ],
          [
           1929,
           "propaganda politics"
          ],
          [
           1929,
           "newspaper"
          ],
          [
           1929,
           "not_found"
          ],
          [
           1929,
           ""
          ],
          [
           1929,
           ""
          ],
          [
           1929,
           "lost film"
          ],
          [
           1929,
           ""
          ],
          [
           1929,
           "silent film pagan tropical island carefree existence"
          ],
          [
           1929,
           ""
          ],
          [
           1929,
           ""
          ],
          [
           1929,
           "pre-code"
          ],
          [
           1929,
           "not_found"
          ],
          [
           1929,
           "fur trapping romance royal canadian mounted police (mountie)"
          ],
          [
           1929,
           "not_found"
          ],
          [
           1929,
           "not_found"
          ],
          [
           1929,
           ""
          ],
          [
           1929,
           ""
          ],
          [
           1929,
           "not_found"
          ],
          [
           1929,
           "not_found"
          ],
          [
           1930,
           "strike workers union"
          ],
          [
           1929,
           "not_found"
          ],
          [
           1929,
           "brothel queen prince wedding convent (nunnery)"
          ],
          [
           1929,
           "musical lost film"
          ],
          [
           1929,
           ""
          ],
          [
           1929,
           "not_found"
          ],
          [
           1929,
           "dancer doctor"
          ],
          [
           1929,
           ""
          ],
          [
           1929,
           "not_found"
          ],
          [
           1929,
           "not_found"
          ],
          [
           1929,
           "mississippi river quakerism"
          ],
          [
           1929,
           ""
          ],
          [
           1929,
           ""
          ],
          [
           1929,
           ""
          ],
          [
           1929,
           ""
          ],
          [
           1929,
           "musical early sound film"
          ],
          [
           1929,
           ""
          ],
          [
           1929,
           "black and white silent film"
          ],
          [
           1929,
           ""
          ],
          [
           1929,
           "cinema on cinema silent film chorus girl boyfriend girlfriend relationship pessimist"
          ],
          [
           1929,
           ""
          ],
          [
           1929,
           ""
          ],
          [
           1929,
           ""
          ],
          [
           1929,
           "based on play or musical silent film riverboat early sound film"
          ],
          [
           1930,
           "winter ojibwe indians ontario, canada silent film starvation native canadian"
          ],
          [
           1929,
           ""
          ],
          [
           1929,
           "artist silent film socialite"
          ],
          [
           1929,
           ""
          ],
          [
           1929,
           "lost film"
          ],
          [
           1929,
           ""
          ],
          [
           1929,
           ""
          ],
          [
           1929,
           "not_found"
          ],
          [
           1929,
           ""
          ],
          [
           1930,
           ""
          ],
          [
           1929,
           "not_found"
          ],
          [
           1929,
           ""
          ],
          [
           1929,
           ""
          ],
          [
           1929,
           "gypsy hungary windmill pre-code temptress"
          ],
          [
           1929,
           "lost film"
          ],
          [
           1929,
           ""
          ],
          [
           1929,
           "jazz violinist pre-code"
          ],
          [
           1929,
           "based on novel or book"
          ],
          [
           1929,
           "rape based on novel or book brothel inheritance prostitution reformatory silent film girls' reformatory brothel madam innocent cold cruel world fallen woman"
          ],
          [
           1929,
           ""
          ],
          [
           1929,
           "infidelity prayer loyalty heart disease mistress storm divorce pre-code diving board polo estrangement peril summer resort"
          ],
          [
           1929,
           ""
          ],
          [
           1929,
           "horse race gold rush silent film"
          ],
          [
           1929,
           "manhunt"
          ],
          [
           1929,
           "not_found"
          ],
          [
           1929,
           ""
          ],
          [
           1929,
           "lost film"
          ],
          [
           1929,
           "pre-code stenographer"
          ],
          [
           1929,
           "romance"
          ],
          [
           1929,
           "trial lawyer"
          ],
          [
           1929,
           "spies"
          ],
          [
           1929,
           ""
          ],
          [
           1929,
           ""
          ],
          [
           1929,
           "not_found"
          ],
          [
           1929,
           "not_found"
          ],
          [
           1929,
           "new york city guardian pre-code fisticuffs"
          ],
          [
           1929,
           "death row mute"
          ],
          [
           1929,
           ""
          ],
          [
           1929,
           "not_found"
          ],
          [
           1929,
           ""
          ],
          [
           1929,
           "deception steel worker"
          ],
          [
           1929,
           ""
          ],
          [
           1929,
           "not_found"
          ],
          [
           1929,
           ""
          ],
          [
           1929,
           "not_found"
          ],
          [
           1929,
           "vietnam south seas gorilla seduction older woman seduces younger guy indochina laos femme fatale silent film scarred face river barge animal trades imminent wedding father daughter relationship zoo animals animal trapping mother seduces daughter's fiancee"
          ],
          [
           1929,
           ""
          ],
          [
           1929,
           ""
          ],
          [
           1929,
           "ship tiger cruise"
          ],
          [
           1929,
           ""
          ],
          [
           1929,
           "canada fur trapping"
          ],
          [
           1929,
           "partially lost film"
          ],
          [
           1929,
           "not_found"
          ],
          [
           1929,
           "new england silent film amusement park lost film"
          ],
          [
           1929,
           "infidelity concert widow mistress pianist lost film death of a child part-talkie"
          ],
          [
           1929,
           ""
          ],
          [
           1929,
           "not_found"
          ],
          [
           1929,
           "not_found"
          ],
          [
           1929,
           "silent film generation gap manhattan, new york city"
          ],
          [
           1930,
           "friendship army based on novel or book germany disillusion world war i steel helmet patriotism boot camp battlefield atrocity black and white soldier combat warfare death pre-code anti war mud trenches young soldier battlefield trauma philosophical depiction of war"
          ],
          [
           1930,
           ""
          ],
          [
           1930,
           ""
          ],
          [
           1930,
           "prostitute based on play or musical sailor pre-code"
          ],
          [
           1930,
           "pre-code woman director"
          ],
          [
           1930,
           "native american stagecoach indian attack"
          ],
          [
           1930,
           ""
          ],
          [
           1930,
           ""
          ],
          [
           1930,
           "department store pre-code"
          ],
          [
           1930,
           "ranch bandit pre-code"
          ],
          [
           1930,
           "cattle rustling"
          ],
          [
           1930,
           "bank robbery bandit"
          ],
          [
           1929,
           "singer divorce child custody"
          ],
          [
           1930,
           "suicide love triangle show business debt poverty illicit affair vaudeville performer"
          ],
          [
           1930,
           ""
          ],
          [
           1930,
           "ranch gang bank robbery"
          ],
          [
           1930,
           "gangster"
          ],
          [
           1930,
           "pre-code billy the kid"
          ],
          [
           1930,
           "based on novel or book sexual obsession professor femme fatale unrequited love descent into madness downfall black and white traveling circus seductress pre-code cuckold expressionism cabaret performer downward spiral moral corruption self-destructive behavior"
          ],
          [
           1930,
           "outlaw murder cowhand"
          ],
          [
           1930,
           ""
          ],
          [
           1930,
           ""
          ],
          [
           1930,
           ""
          ],
          [
           1930,
           ""
          ],
          [
           1930,
           ""
          ],
          [
           1930,
           "colonel riverboat lost film"
          ],
          [
           1930,
           "sheep cattleman"
          ],
          [
           1930,
           ""
          ],
          [
           1930,
           ""
          ],
          [
           1930,
           "world war i corporal lost film german army corporal"
          ],
          [
           1930,
           "not_found"
          ],
          [
           1930,
           "u.s. marshal payroll robbery"
          ],
          [
           1930,
           "waitress countryside marriage crisis pre-code wheat"
          ],
          [
           1930,
           "infidelity pimp violinist cafe"
          ],
          [
           1930,
           ""
          ],
          [
           1931,
           "arranged marriage pre-code"
          ],
          [
           1930,
           "servant blackmail wealthy family"
          ],
          [
           1930,
           ""
          ],
          [
           1930,
           "lost film"
          ],
          [
           1930,
           ""
          ],
          [
           1930,
           "not_found"
          ],
          [
           1930,
           "not_found"
          ],
          [
           1931,
           ""
          ],
          [
           1930,
           "texas cattleman sheep farm"
          ],
          [
           1930,
           "obsession pre-code family disapproval manicure"
          ],
          [
           1930,
           "new year's eve infidelity husband wife relationship based on novel or book double moral standard wedding divorce extramarital affair pre-code ex-husband ex-wife relationship"
          ],
          [
           1930,
           "ucla"
          ],
          [
           1930,
           "french revolution based on play or musical pre-code shopgirl"
          ],
          [
           1930,
           "dude cowboy"
          ],
          [
           1930,
           "pre-code sable stock broker"
          ],
          [
           1930,
           ""
          ],
          [
           1931,
           "texas cattle ranch"
          ],
          [
           1930,
           "marshal texas ranger"
          ],
          [
           1930,
           "gambling murder cabin claim"
          ],
          [
           1930,
           "ranger counterfeiter"
          ],
          [
           1930,
           "pre-code gold digger vaudeville chorus girl"
          ],
          [
           1930,
           ""
          ],
          [
           1930,
           "based on play or musical lost film"
          ],
          [
           1930,
           "showgirl fiji"
          ],
          [
           1930,
           ""
          ],
          [
           1931,
           ""
          ],
          [
           1930,
           "not_found"
          ],
          [
           1930,
           ""
          ],
          [
           1931,
           ""
          ],
          [
           1930,
           "world war i brother fighter pilot zeppelin unfaithful girlfriend aerial combat royal flying corps (rfc) dogfight airship duel suicide mission bombing pre-code casualty of war flirtatious woman night patrol"
          ],
          [
           1930,
           "foreign legion"
          ],
          [
           1930,
           ""
          ],
          [
           1930,
           "courtship motherhood abortion illegitimacy parentage melodrama small town life domestic drama"
          ],
          [
           1930,
           "pre-code lost film"
          ],
          [
           1930,
           ""
          ],
          [
           1930,
           ""
          ],
          [
           1929,
           "rescue mutiny shipwreck deception pirate south sea island pacific  ocean"
          ],
          [
           1930,
           "pre-code"
          ],
          [
           1930,
           "movie serial"
          ],
          [
           1930,
           "world war i spy pre-code"
          ],
          [
           1930,
           ""
          ],
          [
           1930,
           "department store socialite"
          ],
          [
           1930,
           "romance"
          ],
          [
           1930,
           ""
          ],
          [
           1930,
           "new york city based on play or musical class differences pre-code gold digger escort girl rich parents art model painter as artist party girl aspiring artist father son relationship social prejudice"
          ],
          [
           1930,
           "marriage divorce argument"
          ],
          [
           1930,
           ""
          ],
          [
           1930,
           "robbery kidnapping stage coach wild west posse"
          ],
          [
           1930,
           "california pre-code revolt whipping"
          ],
          [
           1930,
           "romance avenge"
          ],
          [
           1930,
           ""
          ],
          [
           1930,
           "sports part-talkie"
          ],
          [
           1930,
           "not_found"
          ],
          [
           1929,
           "gold digger cheater"
          ],
          [
           1930,
           "robbery afterlife hell redemption heaven carousel  pre-code foreign language adaptation"
          ],
          [
           1930,
           "silent film weimar, germany new objectivity"
          ],
          [
           1930,
           "german shepherd movie serial dog hero"
          ],
          [
           1930,
           "vigilante"
          ],
          [
           1930,
           "daughter of cattle rustler"
          ],
          [
           1930,
           ""
          ],
          [
           1930,
           "musical pre-code manipulative lover vaudeville"
          ],
          [
           1930,
           ""
          ],
          [
           1930,
           "not_found"
          ],
          [
           1930,
           "caged bird secret message"
          ],
          [
           1930,
           ""
          ],
          [
           1930,
           ""
          ],
          [
           1930,
           ""
          ],
          [
           1930,
           "africa pre-code"
          ],
          [
           1930,
           ""
          ],
          [
           1931,
           ""
          ],
          [
           1930,
           "based on novel or book women's prison remake pre-code"
          ],
          [
           1931,
           "black and white"
          ],
          [
           1931,
           ""
          ],
          [
           1930,
           "arizona b western"
          ],
          [
           1930,
           ""
          ],
          [
           1930,
           "montana musical train makeover pre-code singing cowboy flapper rich girl"
          ],
          [
           1930,
           ""
          ],
          [
           1930,
           "foreign legion morocco pre-code nightclub singer"
          ],
          [
           1930,
           ""
          ],
          [
           1930,
           ""
          ],
          [
           1930,
           "ranch sheep rustling"
          ],
          [
           1930,
           "pre-code"
          ],
          [
           1930,
           "concert reconciliation"
          ],
          [
           1930,
           ""
          ],
          [
           1930,
           ""
          ],
          [
           1930,
           "beach philadelphia, pennsylvania secretary pre-code publishing"
          ],
          [
           1930,
           ""
          ],
          [
           1930,
           "suicide ship liverpool, england bankruptcy"
          ],
          [
           1930,
           ""
          ],
          [
           1930,
           "new york city society"
          ],
          [
           1930,
           "german shepherd"
          ],
          [
           1930,
           ""
          ],
          [
           1930,
           "suicide pre-code fashion show modeling broken heart breach of promise salesgirl evening gown 1930s fashion model"
          ],
          [
           1930,
           "dying and death afterlife ghost ship purgatory death pre-code voyage suicide pact eternity limbo waiting room young lovers ship passengers mystery destination passenger ship suicide by gas deceased psychological journey"
          ],
          [
           1930,
           ""
          ],
          [
           1930,
           ""
          ],
          [
           1930,
           "not_found"
          ],
          [
           1930,
           "chauffeur pre-code society woman"
          ],
          [
           1930,
           "new york city dawn pre-code proprosal suit"
          ],
          [
           1930,
           ""
          ],
          [
           1930,
           "movie serial"
          ],
          [
           1930,
           "not_found"
          ],
          [
           1930,
           ""
          ],
          [
           1930,
           ""
          ],
          [
           1930,
           "gypsy compulsive gambling pre-code unfaithful husband"
          ],
          [
           1930,
           "domestic"
          ],
          [
           1930,
           ""
          ],
          [
           1930,
           "missionary"
          ],
          [
           1930,
           ""
          ],
          [
           1930,
           "gang of thieves sister thief orphan criminal twins heiress pre-code police investigation impersonation dual role courtship wall safe society matron long lost sibling"
          ],
          [
           1930,
           "geologist"
          ],
          [
           1930,
           "mexican bandit"
          ],
          [
           1930,
           "loss clergyman love pre-code nostalgic opera star recollection woman with past"
          ],
          [
           1930,
           ""
          ],
          [
           1930,
           ""
          ],
          [
           1930,
           "german shepherd"
          ],
          [
           1929,
           "lost film"
          ],
          [
           1930,
           "pre-code woman director"
          ],
          [
           1931,
           ""
          ],
          [
           1930,
           "marriage lost film"
          ],
          [
           1930,
           "pre-code"
          ],
          [
           1930,
           ""
          ],
          [
           1930,
           ""
          ],
          [
           1930,
           "fisherman alaska dancehall girl pre-code salmon yukon, canada"
          ],
          [
           1931,
           "ship bank robber minister pre-code"
          ],
          [
           1930,
           "talkie family pre-code"
          ],
          [
           1930,
           "not_found"
          ],
          [
           1930,
           "regret disgust revelation rejection love honor wealth chinese policeman death socialite pre-code racial prejudice flogging contempt stigma ostracism young gentleman"
          ],
          [
           1930,
           "village romance orphan guardian"
          ],
          [
           1930,
           ""
          ],
          [
           1930,
           ""
          ],
          [
           1930,
           "undercover rustlers"
          ],
          [
           1930,
           "spurs"
          ],
          [
           1930,
           "pre-code"
          ],
          [
           1930,
           ""
          ],
          [
           1930,
           ""
          ],
          [
           1930,
           ""
          ],
          [
           1930,
           "boxing"
          ],
          [
           1930,
           "circus"
          ],
          [
           1930,
           "crime"
          ],
          [
           1930,
           ""
          ],
          [
           1930,
           "jealousy baseball pre-code gold digger vaudeville"
          ],
          [
           1930,
           ""
          ],
          [
           1930,
           "horse racing"
          ],
          [
           1930,
           "world war i spy based on play or musical pre-code"
          ],
          [
           1930,
           ""
          ],
          [
           1930,
           "woman director"
          ],
          [
           1930,
           ""
          ],
          [
           1930,
           "pre-code"
          ],
          [
           1930,
           "rescue horse reward"
          ],
          [
           1930,
           ""
          ],
          [
           1930,
           "corruption nightclub marriage singer pre-code gold digger bribery"
          ],
          [
           1930,
           ""
          ],
          [
           1930,
           "opera house hotel owner cattle-rustler theatrical troupe"
          ],
          [
           1930,
           ""
          ],
          [
           1930,
           ""
          ],
          [
           1930,
           "france invasion romance pre-code medieval"
          ],
          [
           1930,
           ""
          ],
          [
           1930,
           "pre-code"
          ],
          [
           1930,
           "post-traumatic stress disorder (ptsd) nurse disease pre-code war injury shell shock unmarried mother field hospital"
          ],
          [
           1930,
           "heroism sailor pre-code lechery"
          ],
          [
           1930,
           "infidelity operation nurse world war i steel helmet poison military officer village hunger marriage hand grenade infantry dead soldier tank knife family relationships shelter dying man singer attack poverty black and white doctor explosion dog nervous breakdown death machine gun artillery cuckold red cross blindness mud shell shock german soldier comradeship runner western front furlough 1910s amputee german abroad"
          ],
          [
           1930,
           "adultery infidelity jealousy seduction femme fatale playboy mistress pre-code entanglement"
          ],
          [
           1929,
           "not_found"
          ],
          [
           1930,
           ""
          ],
          [
           1930,
           "suicide carnival"
          ],
          [
           1930,
           "paris, france world war i aviation"
          ],
          [
           1930,
           ""
          ],
          [
           1930,
           "farm silent film communism proletariat rural setting"
          ],
          [
           1931,
           "based on novel or book murder"
          ],
          [
           1931,
           "paris, france marriage literary agent divorce"
          ],
          [
           1931,
           "lost film"
          ],
          [
           1931,
           ""
          ],
          [
           1931,
           "island tradition south seas marriage"
          ],
          [
           1931,
           ""
          ],
          [
           1931,
           "world war i"
          ],
          [
           1931,
           "robbery witness pre-code"
          ],
          [
           1931,
           "outlaw cattle"
          ],
          [
           1931,
           "pre-code plague"
          ],
          [
           1931,
           "saloon father"
          ],
          [
           1931,
           "misunderstanding pre-code"
          ],
          [
           1931,
           "con man pre-code"
          ],
          [
           1931,
           ""
          ],
          [
           1931,
           "movie serial buffalo bill"
          ],
          [
           1931,
           "infidelity jealousy adoption romance divorce"
          ],
          [
           1931,
           "world war i alps mountains"
          ],
          [
           1931,
           "world war i u.s. soldier"
          ],
          [
           1931,
           ""
          ],
          [
           1931,
           "world war i raf (royal air force) spy pre-code"
          ],
          [
           1931,
           ""
          ],
          [
           1931,
           "world war i pregnancy pre-code red cross armistice day 1918 army air corps"
          ],
          [
           1931,
           "pre-code"
          ],
          [
           1931,
           ""
          ],
          [
           1931,
           ""
          ],
          [
           1931,
           ""
          ],
          [
           1929,
           ""
          ],
          [
           1930,
           ""
          ],
          [
           1931,
           ""
          ],
          [
           1931,
           ""
          ],
          [
           1931,
           "outlaw saloon girl cavalry officer female outlaw western"
          ],
          [
           1931,
           "murder trial horse rustler"
          ],
          [
           1931,
           "lost film"
          ],
          [
           1931,
           "sports gambling fighter boxer alcoholic single father racetrack alcoholic father prizefight divorced parents mother child separation boxing father son relationship remade prizefighter retired prizefighter mother son reunion"
          ],
          [
           1931,
           "love triangle world war i"
          ],
          [
           1931,
           "infidelity addiction money lust gambler pre-code impulsive"
          ],
          [
           1930,
           ""
          ],
          [
           1931,
           "newspaper gunslinger indian territory oklahoma family history frontier black and white newspaper editor pre-code land grab oil rig  land rush marksmanship drilling for oil land grant osage indian defense lawyer american history 1890s"
          ],
          [
           1931,
           "cisco kid"
          ],
          [
           1931,
           "revenge capture"
          ],
          [
           1931,
           "yacht nightclub artist mistress pre-code art model nude modeling past relationship kept woman manipulative sister woman with past"
          ],
          [
           1931,
           "lost film rich man poor woman"
          ],
          [
           1931,
           "college pre-code"
          ],
          [
           1931,
           "texas us army"
          ],
          [
           1931,
           "marriage of convenience pre-code"
          ],
          [
           1931,
           "not_found"
          ],
          [
           1931,
           "lost film"
          ],
          [
           1931,
           "suicide gambling"
          ],
          [
           1931,
           "ambush cattle ranch"
          ],
          [
           1931,
           ""
          ],
          [
           1931,
           "spy black and white secret service black cat pre-code"
          ],
          [
           1931,
           ""
          ],
          [
           1931,
           "monster based on novel or book transylvania vampire spider castle bat undead count based on play or musical sanitarium black and white biting pre-code real estate agent lunatic dracula"
          ],
          [
           1931,
           "ship monster based on novel or book transylvania vampire spider castle bat undead based on play or musical sanitarium black and white crucifix real estate agent lunatic dracula"
          ],
          [
           1931,
           ""
          ],
          [
           1931,
           "colorado great depression family relationships mistress tenement pre-code modeling kept woman"
          ],
          [
           1931,
           "family hardship"
          ],
          [
           1933,
           "tango carlos gardel"
          ],
          [
           1930,
           "jealousy"
          ],
          [
           1931,
           "romance pre-code high society"
          ],
          [
           1931,
           ""
          ],
          [
           1931,
           "small town parent child relationship prodigal son"
          ],
          [
           1931,
           "pre-code"
          ],
          [
           1932,
           ""
          ],
          [
           1931,
           "sheriff robbery red river"
          ],
          [
           1931,
           "remake"
          ],
          [
           1931,
           "architect high rise pre-code family tragedy neglected wife millionaire's daughter unfaithful wife misplaced priorities wealthy family chain store magnate society wedding social snub"
          ],
          [
           1931,
           ""
          ],
          [
           1931,
           "movie business"
          ],
          [
           1931,
           "fire monster experiment based on novel or book reanimation laboratory mad doctor black and white pre-code body part angry mob woman in peril villager human monster frankenstein"
          ],
          [
           1931,
           "raid wagon train"
          ],
          [
           1931,
           "jealousy blackmail photograph pre-code"
          ],
          [
           1931,
           "pilot movie serial college american football gambling ring"
          ],
          [
           1931,
           ""
          ],
          [
           1931,
           "spy pre-code"
          ],
          [
           1931,
           "rape revenge killing revenge murderer venereal diseases"
          ],
          [
           1931,
           ""
          ],
          [
           1931,
           ""
          ],
          [
           1932,
           ""
          ],
          [
           1931,
           "success womanizer valet pre-code understudy"
          ],
          [
           1931,
           "revolutionary war"
          ],
          [
           1931,
           "black and white"
          ],
          [
           1931,
           "mistaken identity"
          ],
          [
           1931,
           ""
          ],
          [
           1931,
           "lost in the fox film vault fire"
          ],
          [
           1931,
           "fortune teller animal thief"
          ],
          [
           1931,
           "married couple"
          ],
          [
           1931,
           ""
          ],
          [
           1931,
           "dance blackmail pre-code schooner"
          ],
          [
           1931,
           "secretary pre-code woman director"
          ],
          [
           1931,
           "lost film"
          ],
          [
           1931,
           "foreign language adaptation"
          ],
          [
           1931,
           "fisherman new england pre-code"
          ],
          [
           1931,
           ""
          ],
          [
           1931,
           ""
          ],
          [
           1931,
           "husband wife relationship upper class marriage coercion pre-code manipulative lover ex-boyfriend ex-girlfriend relationship premarital sex daughter–in–law father–in–law relationship"
          ],
          [
           1931,
           ""
          ],
          [
           1931,
           ""
          ],
          [
           1931,
           "pre-code"
          ],
          [
           1931,
           "pre-code gold digger boxing"
          ],
          [
           1930,
           "not_found"
          ],
          [
           1931,
           "mine cooperation"
          ],
          [
           1931,
           ""
          ],
          [
           1931,
           "hero new jersey pre-code steel mill allowance daughter of the boss"
          ],
          [
           1931,
           ""
          ],
          [
           1931,
           ""
          ],
          [
           1931,
           "gigolo pre-code"
          ],
          [
           1931,
           "jealousy love triangle self sacrifice murder prostitution pre-code gold digger interclass romance father son relationship melodrama melodramatic father and son jealous lover wild oats"
          ],
          [
           1930,
           "smuggling (contraband) blackmail"
          ],
          [
           1931,
           ""
          ],
          [
           1931,
           "jewel smuggling"
          ],
          [
           1931,
           ""
          ],
          [
           1931,
           "pilot pre-code irrational behavior"
          ],
          [
           1931,
           "pre-code salvation army"
          ],
          [
           1931,
           "on the lam cowboys and outlaws"
          ],
          [
           1931,
           ""
          ],
          [
           1931,
           "love lawyer divorce"
          ],
          [
           1931,
           "not_found"
          ],
          [
           1931,
           ""
          ],
          [
           1931,
           "german shepherd movie serial dog hero"
          ],
          [
           1931,
           "isolation boat river fate silent film"
          ],
          [
           1931,
           ""
          ],
          [
           1931,
           ""
          ],
          [
           1931,
           "cabaret puppeteer puppet ballet pre-code ballerina"
          ],
          [
           1931,
           "blind soldier nightclub singer"
          ],
          [
           1931,
           "sports american football pre-code"
          ],
          [
           1931,
           "china shanghai, china prohibition era opium redemption drugs alcoholic pre-code"
          ],
          [
           1931,
           ""
          ],
          [
           1931,
           "jealousy paris, france melancholy unrequited love american abroad pre-code duplicity moral reformation blackmailer marly horse yellow-journalism"
          ],
          [
           1931,
           "pre-code west point"
          ],
          [
           1931,
           "infidelity bachelor pre-code"
          ],
          [
           1931,
           "pilot musical love affair"
          ],
          [
           1930,
           ""
          ],
          [
           1931,
           "infidelity cabaret unfaithful boyfriend love affair pre-code gold digger underage girlfriend"
          ],
          [
           1931,
           "blackmail con man fraud religious hypocrisy pre-code landlady declaration of love evangelist moral transformation conflagration faith healer ventriloquist's dummy ventriloquism blind man memorization coming clean saviour building on fire fake miracle landlady tenant relationship angry sermon revival meeting"
          ],
          [
           1931,
           "ranch cowboy swindle"
          ],
          [
           1931,
           "prostitution pre-code"
          ],
          [
           1931,
           "money stock market crash"
          ],
          [
           1931,
           "not_found"
          ],
          [
           1931,
           "self sacrifice yacht pre-code seasickness marital separation nude swimming"
          ],
          [
           1931,
           "deportation panama murder pre-code landlady"
          ],
          [
           1931,
           ""
          ],
          [
           1931,
           "coming out suicide attempt female friendship girls' boarding school based on play or musical punishment black and white orphan female homosexuality lgbt woman director teen rebel lesbian"
          ],
          [
           1931,
           ""
          ],
          [
           1931,
           ""
          ],
          [
           1931,
           ""
          ],
          [
           1931,
           "u.s. marshal double cross"
          ],
          [
           1931,
           "stage robbery"
          ],
          [
           1931,
           "island pre-code south sea island"
          ],
          [
           1931,
           "world war i"
          ],
          [
           1931,
           ""
          ],
          [
           1931,
           ""
          ],
          [
           1931,
           "pre-code"
          ],
          [
           1931,
           "saloon poker shootout"
          ],
          [
           1930,
           "ladies' man railroad pre-code"
          ],
          [
           1931,
           "farm house"
          ],
          [
           1931,
           "baby mining feud foundling"
          ],
          [
           1931,
           ""
          ],
          [
           1931,
           ""
          ],
          [
           1931,
           ""
          ],
          [
           1931,
           "new york city based on novel or book wealth maid"
          ],
          [
           1931,
           "wheelchair prison escape murder fugitive last will and testament police detective escape artist presumed dead impersonation wrongful arrest marquis secret hideout"
          ],
          [
           1931,
           "black and white"
          ],
          [
           1930,
           "hollywood"
          ],
          [
           1931,
           "factory worker self sacrifice lawyer mistress black and white break-up love affair pre-code contractor political candidate luxury apartment rich man kept woman smear campaign"
          ],
          [
           1931,
           ""
          ],
          [
           1931,
           "american football pregnancy calendar lovers lane"
          ],
          [
           1931,
           ""
          ],
          [
           1931,
           "crook"
          ],
          [
           1931,
           "sheriff murder frame up rustling"
          ],
          [
           1931,
           ""
          ],
          [
           1931,
           ""
          ],
          [
           1931,
           "marriage unrequited love pre-code"
          ],
          [
           1931,
           "love affair pre-code book seller"
          ],
          [
           1931,
           ""
          ],
          [
           1931,
           "based on novel or book"
          ],
          [
           1932,
           "escape refugee servant baron wedding disguise old flame newlywed pre-code hardship russian revolution (1917) pearl necklace swindle struggles constantinople"
          ],
          [
           1931,
           "based on novel or book shipping company"
          ],
          [
           1931,
           ""
          ],
          [
           1931,
           "not_found"
          ],
          [
           1931,
           "not_found"
          ],
          [
           1931,
           ""
          ],
          [
           1931,
           ""
          ],
          [
           1931,
           ""
          ],
          [
           1930,
           ""
          ],
          [
           1931,
           ""
          ],
          [
           1931,
           "doctor pre-code tropics"
          ],
          [
           1931,
           ""
          ],
          [
           1931,
           ""
          ],
          [
           1931,
           "salvation army"
          ],
          [
           1931,
           "based on play or musical"
          ],
          [
           1931,
           ""
          ],
          [
           1931,
           "adultery based on novel or book murder"
          ],
          [
           1931,
           "love triangle engagement secretary pre-code stock market crash"
          ],
          [
           1931,
           "clerk novelist"
          ],
          [
           1931,
           "lost film"
          ],
          [
           1931,
           ""
          ],
          [
           1931,
           "not_found"
          ],
          [
           1931,
           ""
          ],
          [
           1931,
           ""
          ],
          [
           1931,
           "black and white"
          ],
          [
           1931,
           "skyscraper"
          ],
          [
           1931,
           "based on novel or book journalism romance black and white 1930s"
          ],
          [
           1931,
           "diamond india pre-code"
          ],
          [
           1931,
           ""
          ],
          [
           1931,
           "american football college notre-dame"
          ],
          [
           1931,
           "sports mistress pre-code thoroughbred horse breeder churchill downs"
          ],
          [
           1931,
           ""
          ],
          [
           1931,
           "cattle pre-code embezzlement"
          ],
          [
           1931,
           "suicide prostitute"
          ],
          [
           1931,
           "mexico europe unrequited love pre-code"
          ],
          [
           1931,
           "infidelity new york city neighbor summer tenement gossip apartment building pre-code jealous husband melting pot heatwave apartment husband murders wife street scene"
          ],
          [
           1931,
           "alcoholism"
          ],
          [
           1931,
           "ranch outlaw lawyer singing stagecoach robbery cattle ranch singing cowboy foreman"
          ],
          [
           1931,
           ""
          ],
          [
           1931,
           "prisoner of war pre-code"
          ],
          [
           1931,
           "love at first sight arranged marriage carnival politician mistress pre-code"
          ],
          [
           1931,
           "based on novel or book telepathy artist unrequited love model pre-code hypnotism mesmerist"
          ],
          [
           1931,
           "female protagonist pre-code stock market crash"
          ],
          [
           1931,
           "world war i anti war gallipoli campaign"
          ],
          [
           1931,
           "alcoholism"
          ],
          [
           1931,
           ""
          ],
          [
           1931,
           "architect murder"
          ],
          [
           1931,
           "based on novel or book remake"
          ],
          [
           1931,
           "pre-code"
          ],
          [
           1932,
           "based on play or musical neglected wife brain surgeon"
          ],
          [
           1931,
           "american football coach"
          ],
          [
           1931,
           ""
          ],
          [
           1931,
           "pre-code"
          ],
          [
           1930,
           "not_found"
          ],
          [
           1931,
           ""
          ],
          [
           1931,
           "sheriff saloon ranch partner"
          ],
          [
           1931,
           ""
          ],
          [
           1931,
           "ranch rustlers"
          ],
          [
           1931,
           "great depression female protagonist pre-code based on short story seamstress broadway producer"
          ],
          [
           1931,
           ""
          ],
          [
           1931,
           "marriage proposal prostitute world war i bridge based on play or musical rent soldier showgirl pre-code landlady air raid"
          ],
          [
           1931,
           ""
          ],
          [
           1930,
           ""
          ],
          [
           1931,
           "not_found"
          ],
          [
           1931,
           ""
          ],
          [
           1931,
           "imprisonment murder prison sentence pre-code"
          ],
          [
           1931,
           ""
          ],
          [
           1931,
           "not_found"
          ],
          [
           1931,
           ""
          ],
          [
           1931,
           "stepmother romance cruise ship pre-code"
          ],
          [
           1931,
           "world war i letter female spy pre-code reputation ex prostitute military counter intelligence"
          ],
          [
           1931,
           ""
          ],
          [
           1931,
           "not_found"
          ],
          [
           1931,
           "not_found"
          ],
          [
           1931,
           "love triangle sibling rivalry hostel woman director"
          ],
          [
           1931,
           ""
          ],
          [
           1931,
           ""
          ],
          [
           1931,
           "soviet union proletarian"
          ],
          [
           1932,
           "pre-code"
          ],
          [
           1932,
           "college pre-code premarital sex"
          ],
          [
           1932,
           "operation pre-code"
          ],
          [
           1932,
           "american football"
          ],
          [
           1934,
           ""
          ],
          [
           1932,
           "adoption mistaken identity orphan pledge"
          ],
          [
           1932,
           "banker bank bank manager banking great depression pre-code small community"
          ],
          [
           1932,
           ""
          ],
          [
           1932,
           "pre-code"
          ],
          [
           1932,
           "budapest, hungary alcoholic pre-code amnesiac"
          ],
          [
           1932,
           "love devotion pre-code kept woman"
          ],
          [
           1932,
           ""
          ],
          [
           1932,
           ""
          ],
          [
           1932,
           "extortion barbershop manicurist"
          ],
          [
           1932,
           ""
          ],
          [
           1932,
           "ranch trap cattle roundup"
          ],
          [
           1932,
           "cattle rustling"
          ],
          [
           1932,
           "sports boxer wedding ring pre-code manhattan, new york city"
          ],
          [
           1932,
           "insanity lunatic asylum divorce inherited disease pre-code father daughter relationship"
          ],
          [
           1932,
           "not_found"
          ],
          [
           1932,
           "village mountain tragic love black and white dog woman director"
          ],
          [
           1932,
           "prostitute love triangle germany nightclub deceived husband radium romance chemist pre-code nightclub singer motherhood nightclub entertainer mother child separation cabaret singer kept woman fallen woman adulterous wife wife leaves husband sick husband"
          ],
          [
           1932,
           "probation temper"
          ],
          [
           1932,
           ""
          ],
          [
           1932,
           ""
          ],
          [
           1932,
           "guilt german soldier"
          ],
          [
           1932,
           "mexico pilot"
          ],
          [
           1932,
           "daughter based on novel or book southern usa son education tenant poverty black and white confrontation pre-code social justice lynch mob landlord tenant relationship rich girl cotton cotton picker bookkeeper"
          ],
          [
           1932,
           "texas female protagonist pre-code"
          ],
          [
           1931,
           ""
          ],
          [
           1932,
           ""
          ],
          [
           1932,
           "jewel heist"
          ],
          [
           1932,
           ""
          ],
          [
           1932,
           ""
          ],
          [
           1931,
           "morocco caper curse cultural offense"
          ],
          [
           1932,
           "sheriff horse henchman"
          ],
          [
           1932,
           ""
          ],
          [
           1932,
           "depression optimism banking lawlessness bank run american frontier"
          ],
          [
           1932,
           "stock market crash"
          ],
          [
           1932,
           "world war i army life"
          ],
          [
           1932,
           ""
          ],
          [
           1932,
           "gangster district attorney"
          ],
          [
           1932,
           "extramarital affair pre-code"
          ],
          [
           1931,
           "ballerina"
          ],
          [
           1932,
           "based on play or musical pre-code"
          ],
          [
           1932,
           ""
          ],
          [
           1933,
           "not_found"
          ],
          [
           1932,
           ""
          ],
          [
           1932,
           "falsely accused revenge"
          ],
          [
           1932,
           "movie serial"
          ],
          [
           1932,
           "pre-code"
          ],
          [
           1932,
           ""
          ],
          [
           1933,
           ""
          ],
          [
           1932,
           "stepfather divorce pre-code"
          ],
          [
           1932,
           ""
          ],
          [
           1932,
           "chauffeur blackmail butler wine cellar baroness swindler wedding pre-code scoundrel cad lady's maid insolence grape stomping indiscretion"
          ],
          [
           1932,
           ""
          ],
          [
           1932,
           ""
          ],
          [
           1932,
           ""
          ],
          [
           1932,
           ""
          ],
          [
           1932,
           "nanny honeymoon lawsuit last will and testament housekeeper pre-code"
          ],
          [
           1932,
           "smoke signal"
          ],
          [
           1932,
           "reporter"
          ],
          [
           1933,
           "black and white nude swimming"
          ],
          [
           1932,
           ""
          ],
          [
           1932,
           "great depression pre-code riches to rags fallen woman"
          ],
          [
           1932,
           "hospital plastic surgeon operating room"
          ],
          [
           1932,
           "based on novel or book escape nurse world war i italy pregnancy love letter priest hospital best friend pre-code air raid battle of the isonzo deathbed air attack"
          ],
          [
           1933,
           "poker"
          ],
          [
           1932,
           "championship fight"
          ],
          [
           1932,
           ""
          ],
          [
           1931,
           "escaped convict"
          ],
          [
           1932,
           ""
          ],
          [
           1932,
           "immigrant germany wrestler organized crime ex-con pre-code"
          ],
          [
           1932,
           "cuba cruise pre-code"
          ],
          [
           1932,
           ""
          ],
          [
           1932,
           ""
          ],
          [
           1932,
           ""
          ],
          [
           1932,
           "new mexico taxes"
          ],
          [
           1932,
           "infidelity dwarf attempted murder clown beauty carnival romance revenge murder black and white newlywed pre-code bigotry disability sideshow told in flashback speech impediment trapeze artist stutterer deformity conjoined twins freak armless midgets midget bareback rider poisoned drink pseudo-hermaphrodite bearded lady microcephalics human skeleton"
          ],
          [
           1932,
           "newspaper american football reporter pre-code gay theme"
          ],
          [
           1932,
           "detective cheyenne wyoming"
          ],
          [
           1932,
           "not_found"
          ],
          [
           1931,
           "mistaken identity murder"
          ],
          [
           1932,
           ""
          ],
          [
           1932,
           "newspaper editor"
          ],
          [
           1932,
           "gold mine ghost"
          ],
          [
           1932,
           ""
          ],
          [
           1932,
           "gold rush"
          ],
          [
           1932,
           ""
          ],
          [
           1932,
           "hotel card game burglar stolen money based on play or musical industrialist baron dying man murder tragic love black and white conscience jewel thief pre-code merger public humiliation revolving door dachshund stenographer flirtation prima ballerina bookkeeper"
          ],
          [
           1931,
           ""
          ],
          [
           1932,
           "not_found"
          ],
          [
           1931,
           "propaganda film parable"
          ],
          [
           1931,
           "jealousy love triangle trapeze acrobats"
          ],
          [
           1932,
           "silent film"
          ],
          [
           1932,
           "gold mine"
          ],
          [
           1932,
           "accidental death boxing"
          ],
          [
           1932,
           "burglar school policeman"
          ],
          [
           1932,
           ""
          ],
          [
           1932,
           ""
          ],
          [
           1932,
           "bootlegger pre-code"
          ],
          [
           1932,
           "bank robbery"
          ],
          [
           1932,
           "sheep surveyor"
          ],
          [
           1932,
           "hidden gold"
          ],
          [
           1932,
           ""
          ],
          [
           1932,
           ""
          ],
          [
           1932,
           "small town pre-code bank clerk"
          ],
          [
           1932,
           "college gary, indiana"
          ],
          [
           1932,
           ""
          ],
          [
           1932,
           "silent film"
          ],
          [
           1931,
           "based on play or musical family man"
          ],
          [
           1932,
           ""
          ],
          [
           1932,
           "drug abuse africa congo based on play or musical remake black and white pre-code ritual sacrifice african tribe"
          ],
          [
           1932,
           "berlin, germany pregnancy socialism underclass republic of weimar working class unemployment communism proletarian proletariat german family"
          ],
          [
           1932,
           "pre-code boxing"
          ],
          [
           1932,
           "movie serial"
          ],
          [
           1932,
           "movie serial american wilderness"
          ],
          [
           1932,
           ""
          ],
          [
           1932,
           ""
          ],
          [
           1931,
           "murder attempted rape pre-code"
          ],
          [
           1932,
           "revenge rustler"
          ],
          [
           1932,
           "lawyer pre-code breach of promise"
          ],
          [
           1932,
           ""
          ],
          [
           1932,
           "plantation uncle"
          ],
          [
           1932,
           "pre-code"
          ],
          [
           1932,
           "pregnancy hospital pre-code expectant father maternity ward social class infant death medical drama unwed mother convicted murderer maternal death nurses doctors childbirth compassionate"
          ],
          [
           1932,
           "not_found"
          ],
          [
           1932,
           ""
          ],
          [
           1932,
           "pilot hollywood pre-code stunt pilot"
          ],
          [
           1932,
           "heiress pre-code aviator"
          ],
          [
           1932,
           "blackmail murder pre-code nom de plume"
          ],
          [
           1932,
           "london, england playwright admiral"
          ],
          [
           1932,
           ""
          ],
          [
           1932,
           "suicide geisha based on play or musical promise interracial romance cultural difference black and white pre-code yellowface"
          ],
          [
           1932,
           "sports"
          ],
          [
           1932,
           "cardsharp pearl diver"
          ],
          [
           1932,
           "washington dc, usa spy"
          ],
          [
           1932,
           ""
          ],
          [
           1932,
           "new york city older man younger woman relationship pre-code good deed concert pianist assassination attempt vow lip reading command performance helping people deaf pianist sudden deafness central park"
          ],
          [
           1932,
           ""
          ],
          [
           1932,
           "undercover detective"
          ],
          [
           1932,
           ""
          ],
          [
           1932,
           "hotel husband wife relationship world war i doctor"
          ],
          [
           1932,
           ""
          ],
          [
           1932,
           ""
          ],
          [
           1932,
           ""
          ],
          [
           1932,
           ""
          ],
          [
           1932,
           ""
          ],
          [
           1932,
           ""
          ],
          [
           1932,
           "royal canadian mounted police (mountie)"
          ],
          [
           1932,
           ""
          ],
          [
           1932,
           "singer"
          ],
          [
           1932,
           "alternate version"
          ],
          [
           1931,
           "marriage pre-code race track destitution desperate woman"
          ],
          [
           1932,
           "pre-code"
          ],
          [
           1932,
           "lost film sherlock holmes"
          ],
          [
           1932,
           "false accusations prosecutor defense attorney pre-code courtroom drama"
          ],
          [
           1932,
           "based on novel or book"
          ],
          [
           1932,
           "circus horse royalty king"
          ],
          [
           1932,
           ""
          ],
          [
           1932,
           ""
          ],
          [
           1932,
           "love affair pre-code nagging mother overprotective parent"
          ],
          [
           1932,
           ""
          ],
          [
           1932,
           ""
          ],
          [
           1932,
           ""
          ],
          [
           1932,
           ""
          ],
          [
           1932,
           "banker parent child relationship pre-code insurance policy uncle niece relationship financial ruin"
          ],
          [
           1932,
           "doctor death pre-code"
          ],
          [
           1932,
           "gossip columnist"
          ],
          [
           1931,
           "promoter despute b western"
          ],
          [
           1932,
           ""
          ],
          [
           1932,
           "based on play or musical"
          ],
          [
           1932,
           "gigolo"
          ],
          [
           1932,
           ""
          ],
          [
           1932,
           "pre-code"
          ],
          [
           1932,
           ""
          ],
          [
           1932,
           "canada kidnapping compulsive gambling pre-code marital separation"
          ],
          [
           1931,
           "romance high society"
          ],
          [
           1931,
           "outlaw gang brothers"
          ],
          [
           1932,
           "suicide attempt difficult childhood sibling rivalry family"
          ],
          [
           1932,
           "alcoholism dissipation"
          ],
          [
           1932,
           "circus falsely accused love fired from the job trapeze pre-code"
          ],
          [
           1932,
           "chauffeur judge birthday uncle sister aunt niece parole socialite pre-code landlady night court juvenile hall"
          ],
          [
           1932,
           "sports"
          ],
          [
           1932,
           "prostitute quarantine missionary rain deluge remake pacific island religious fundamentalism religious hypocrisy pre-code based on short story u.s. marine persecution record player south sea island samoa moral reformation general store reformer tropics fallen woman christian missionary public domain rainy setting cholera epidemic"
          ],
          [
           1932,
           ""
          ],
          [
           1932,
           ""
          ],
          [
           1932,
           "based on novel or book rural life rural setting"
          ],
          [
           1932,
           "prison falsely accused ranch murder shootout cowboy ex-con"
          ],
          [
           1932,
           "gold mine horse desert"
          ],
          [
           1932,
           "new mexico territory"
          ],
          [
           1932,
           "not_found"
          ],
          [
           1932,
           "marshal ranch deputy"
          ],
          [
           1932,
           "wild horse"
          ],
          [
           1932,
           "rodeo horse riding accident"
          ],
          [
           1932,
           "newspaper man pre-code"
          ],
          [
           1932,
           ""
          ],
          [
           1932,
           ""
          ],
          [
           1932,
           "sherlock holmes"
          ],
          [
           1932,
           ""
          ],
          [
           1932,
           "waitress snob orphan reformatory showgirl pre-code college student"
          ],
          [
           1932,
           "arena ancient rome empress pre-code roman army historical drama nero 1st century christian faith historical epic costume epic romantic drama divided loyalties"
          ],
          [
           1932,
           "jail landlord"
          ],
          [
           1932,
           "cattleman"
          ],
          [
           1932,
           "mechanic socialite pre-code"
          ],
          [
           1932,
           ""
          ],
          [
           1932,
           "pilot barnstorming"
          ],
          [
           1932,
           "new york city skyscraper new building womanizer secretary older man younger woman relationship pre-code dressing room changing room jumping off a building open marriage stock market crash workplace romance murder by gunshot stock swindle real estate developer bank loan business acquisition office building corrupt businessman bank president shareholders dating the boss revenge for cheating gold diggers loyal mistress mistress kills lover"
          ],
          [
           1932,
           "young woman pre-code stormy night"
          ],
          [
           1932,
           "widow vegetable farm life pre-code"
          ],
          [
           1932,
           ""
          ],
          [
           1932,
           ""
          ],
          [
           1932,
           "revolution arranged marriage duty modesty pre-code dowry"
          ],
          [
           1932,
           "suicide femme fatale bandit oil baron"
          ],
          [
           1932,
           "rodeo"
          ],
          [
           1932,
           "mistress district attorney pre-code"
          ],
          [
           1932,
           ""
          ],
          [
           1932,
           "taxi driver murder false accusations sea captain"
          ],
          [
           1932,
           "insanity marriage pre-code"
          ],
          [
           1932,
           "banker roommates pre-code false arrest hat check girl"
          ],
          [
           1932,
           "small town competition business pre-code"
          ],
          [
           1932,
           "unrequited love wedding extramarital affair pre-code"
          ],
          [
           1932,
           ""
          ],
          [
           1932,
           "family relationships doctor pre-code"
          ],
          [
           1932,
           ""
          ],
          [
           1932,
           ""
          ],
          [
           1932,
           "mail plane"
          ],
          [
           1932,
           "sheriff ranch"
          ],
          [
           1932,
           "outlaw gang"
          ],
          [
           1932,
           ""
          ],
          [
           1932,
           "texas ranger"
          ],
          [
           1932,
           ""
          ],
          [
           1932,
           "theatrical producer church pre-code small town girl casting couch"
          ],
          [
           1932,
           "police guest dinner pre-code"
          ],
          [
           1932,
           ""
          ],
          [
           1932,
           ""
          ],
          [
           1932,
           "jungle south america pre-code"
          ],
          [
           1932,
           "shipwreck fisherman pre-code tuna"
          ],
          [
           1932,
           ""
          ],
          [
           1932,
           "phantom white horse"
          ],
          [
           1932,
           "tramp remake"
          ],
          [
           1933,
           ""
          ],
          [
           1932,
           "based on play or musical stage adaptation"
          ],
          [
           1932,
           "based on play or musical pre-code"
          ],
          [
           1932,
           "hotel gas chamber pre-code gold digger"
          ],
          [
           1932,
           ""
          ],
          [
           1932,
           "literary adaptation"
          ],
          [
           1933,
           ""
          ],
          [
           1932,
           "new york city"
          ],
          [
           1932,
           "california"
          ],
          [
           1932,
           "lost film"
          ],
          [
           1932,
           "based on novel or book femme fatale love pre-code vanity"
          ],
          [
           1932,
           ""
          ],
          [
           1932,
           "all black cast"
          ],
          [
           1932,
           ""
          ],
          [
           1932,
           ""
          ],
          [
           1932,
           ""
          ],
          [
           1931,
           ""
          ],
          [
           1933,
           ""
          ],
          [
           1932,
           "governor speech corporate greed pre-code political corruption scheming wife"
          ],
          [
           1932,
           "washington dc, usa library of congress washington monument granddaughter"
          ],
          [
           1932,
           ""
          ],
          [
           1932,
           "based on novel or book pre-code"
          ],
          [
           1932,
           "kidnapping asylum drug addiction"
          ],
          [
           1931,
           "friendship alcohol arizona ranch hospital doctor divorce alcoholic pre-code gold digger wounded soldier fiancée delirium tremens justice of the peace jilted homecoming soldier hasty marriage quick wedding"
          ],
          [
           1932,
           "texas ranger will"
          ],
          [
           1932,
           "writer divorce pre-code"
          ],
          [
           1932,
           "based on novel or book prohibition era liquor alcoholism pre-code volstead act 1910s"
          ],
          [
           1932,
           "waitress show business alcoholism film in film hollywood wedding alcoholic filmmaking millionaire pre-code has been big break marital separation first date stardom drunkard celebrity interview film director polo player"
          ],
          [
           1932,
           "disability fisticuffs"
          ],
          [
           1932,
           "paris, france escaped convict"
          ],
          [
           1932,
           ""
          ],
          [
           1932,
           ""
          ],
          [
           1932,
           "new mexico pre-code society woman boxing"
          ],
          [
           1932,
           "texas ranger"
          ],
          [
           1932,
           "palace exile serbia pre-code"
          ],
          [
           1932,
           "navy captain france submarine love triangle world war i monte carlo austria based on play or musical lieutenant remake pre-code court martial secret past"
          ],
          [
           1932,
           "russian revolution (1917)"
          ],
          [
           1933,
           "not_found"
          ],
          [
           1932,
           "transformation dancehall girl pre-code braggart"
          ],
          [
           1933,
           ""
          ],
          [
           1933,
           "world war i pilot pre-code"
          ],
          [
           1933,
           "spy countess pre-code seamstress"
          ],
          [
           1933,
           "pre-code aviator"
          ],
          [
           1933,
           "trial murder ex-wife"
          ],
          [
           1933,
           "jealousy necklace architect nightclub marriage seduction ambition trial murder accidental death strangulation alcoholic courtroom law student pre-code marital separation nightclub singer crooner breach of promise all-american married life murder trial working wife domesticity male egos vocational education passing for white female lawyer neglected husband legal profession"
          ],
          [
           1933,
           "scandal love affair pre-code reformer prison reform"
          ],
          [
           1933,
           "aristocrat disability"
          ],
          [
           1933,
           "pre-code"
          ],
          [
           1934,
           "violinist wedding"
          ],
          [
           1933,
           "new york city paris, france ambition mistress black and white pre-code speakeasy gold digger flirtation kept woman mischievous"
          ],
          [
           1933,
           "broken promise kept woman"
          ],
          [
           1933,
           ""
          ],
          [
           1933,
           ""
          ],
          [
           1933,
           ""
          ],
          [
           1933,
           "horse racing"
          ],
          [
           1933,
           "conductor vienna, austria"
          ],
          [
           1932,
           "china shanghai, china missionary chinese civil war betrayal interracial romance pre-code held against will"
          ],
          [
           1933,
           "racehorse injured horse"
          ],
          [
           1933,
           "nymphomaniac pre-code bail bondsman kleptomaniac nightclub hostess"
          ],
          [
           1933,
           ""
          ],
          [
           1933,
           ""
          ],
          [
           1933,
           ""
          ],
          [
           1933,
           ""
          ],
          [
           1933,
           "marriage crisis horse race great depression playboy in-laws pre-code job seeking high society nightclub singer race track drunkard wealthy family fast living europe honeymoon unhappy wife bad influence"
          ],
          [
           1933,
           "divorce showgirl child custody"
          ],
          [
           1933,
           "gangster musical pre-code"
          ],
          [
           1933,
           "nurse doctor"
          ],
          [
           1933,
           "doctor pre-code ethics problem"
          ],
          [
           1933,
           ""
          ],
          [
           1933,
           ""
          ],
          [
           1933,
           "love triangle world war i prisoner of war pre-code"
          ],
          [
           1933,
           "london, england world war i black and white pre-code upstairs downstairs 1900s wealthy family"
          ],
          [
           1933,
           "pilot storm pre-code gulf of mexico"
          ],
          [
           1933,
           "pregnancy pre-code reckless driving"
          ],
          [
           1933,
           "baby pregnancy divorce pre-code"
          ],
          [
           1933,
           "sports american football coach college pre-code"
          ],
          [
           1933,
           "infidelity circus drugstore love"
          ],
          [
           1933,
           "not_found"
          ],
          [
           1932,
           "sheriff murder"
          ],
          [
           1932,
           ""
          ],
          [
           1933,
           "nun"
          ],
          [
           1933,
           ""
          ],
          [
           1933,
           "war veteran mine"
          ],
          [
           1930,
           ""
          ],
          [
           1933,
           ""
          ],
          [
           1933,
           "prison pre-code"
          ],
          [
           1933,
           "escape from jail"
          ],
          [
           1933,
           ""
          ],
          [
           1933,
           ""
          ],
          [
           1933,
           "ship hurricane spiritualism"
          ],
          [
           1933,
           ""
          ],
          [
           1933,
           "murderer execution lost film"
          ],
          [
           1933,
           "escape doctor"
          ],
          [
           1933,
           "adultery new york city businessman blackmail great depression based on play or musical alcoholism social satire debt extramarital affair socialite pre-code eviction financial problem heart condition financier shipping magnate dinner party socialite party shipping company unhappy marriage stage actress fading star suicide by gas corrupt businessman theatrical agent theatre producer"
          ],
          [
           1933,
           "robbery revenge"
          ],
          [
           1932,
           "russian revolution (1917)"
          ],
          [
           1933,
           ""
          ],
          [
           1933,
           ""
          ],
          [
           1933,
           "based on play or musical"
          ],
          [
           1933,
           "island escape pre-code caribbean sea"
          ],
          [
           1933,
           "infidelity department store beautiful woman pre-code corporate take over financial crisis secret marriage tyrannical boss fired from a job life and career working girl career goals livin' single dress model shareholders"
          ],
          [
           1934,
           "pregnancy exploitation teenage girl"
          ],
          [
           1933,
           "rape snowstorm inuit walrus alaska fugitive hunting dog sled igloo royal canadian mounted police (mountie) death of wife clash of cultures caribou loyal wife eskimo wife swapping seal hunting alaska native"
          ],
          [
           1933,
           "not_found"
          ],
          [
           1933,
           "france pre-code"
          ],
          [
           1933,
           "judge deception trial betrayal rivet"
          ],
          [
           1933,
           ""
          ],
          [
           1933,
           ""
          ],
          [
           1933,
           "movie serial"
          ],
          [
           1932,
           "ranch unpaid taxes"
          ],
          [
           1932,
           ""
          ],
          [
           1933,
           "stallion"
          ],
          [
           1932,
           "ranch jail cattle"
          ],
          [
           1933,
           "neglect family conflict ungrateful child"
          ],
          [
           1933,
           "jungle"
          ],
          [
           1931,
           "not_found"
          ],
          [
           1933,
           ""
          ],
          [
           1933,
           "congress president pre-code"
          ],
          [
           1933,
           "circus clown revenge murder wanted man town boss"
          ],
          [
           1933,
           "adoption"
          ],
          [
           1933,
           "b western"
          ],
          [
           1933,
           "gangster pre-code"
          ],
          [
           1933,
           ""
          ],
          [
           1933,
           ""
          ],
          [
           1933,
           ""
          ],
          [
           1933,
           "farming"
          ],
          [
           1933,
           "movie serial"
          ],
          [
           1933,
           ""
          ],
          [
           1933,
           "navy submarine world war i pre-code"
          ],
          [
           1933,
           "sea captain"
          ],
          [
           1932,
           "seduction sexual awakening"
          ],
          [
           1933,
           "not_found"
          ],
          [
           1933,
           "inventor world war i drug addiction street riots great depression unrequited love war hero laundry pre-code bank clerk 1920s soup kitchen 1910s 1930s red squad"
          ],
          [
           1933,
           ""
          ],
          [
           1933,
           "nazi hitler youth nazi propaganda 1930s"
          ],
          [
           1933,
           "marriage"
          ],
          [
           1933,
           "not_found"
          ],
          [
           1933,
           "pre-code"
          ],
          [
           1933,
           "pre-code"
          ],
          [
           1933,
           ""
          ],
          [
           1933,
           ""
          ],
          [
           1933,
           "dancer puppeteer pre-code"
          ],
          [
           1933,
           ""
          ],
          [
           1933,
           "chicago, illinois pre-code historical event meatpacker accounting fraud unethical business"
          ],
          [
           1933,
           "nurse spy trial"
          ],
          [
           1933,
           "paris, france romance pre-code"
          ],
          [
           1933,
           "bomb anarchist screwball comedy pre-code"
          ],
          [
           1933,
           ""
          ],
          [
           1933,
           "taisho"
          ],
          [
           1933,
           "pre-code"
          ],
          [
           1931,
           ""
          ],
          [
           1934,
           "inuit greenland"
          ],
          [
           1933,
           "geisha family silent film resentment shame teenage son"
          ],
          [
           1933,
           ""
          ],
          [
           1933,
           "prison jealousy lovers murder lawyer vienna, austria guilt extramarital affair pre-code old friends dressing courtroom drama unfaithful wife murderous intent dramatic female lawyer law clerk"
          ],
          [
           1933,
           ""
          ],
          [
           1933,
           "prison jealousy revenge female prisoner bank robbery pre-code contempt reformer moll forbidden hollywood life of crime stool pigeon prison break attempt women in prison"
          ],
          [
           1933,
           "cowboy"
          ],
          [
           1933,
           "monarchy duel soldier vienna, austria"
          ],
          [
           1933,
           "arizona"
          ],
          [
           1933,
           "boxer pre-code"
          ],
          [
           1933,
           "magic carnival marriage of convenience pre-code unwed mother"
          ],
          [
           1933,
           "holiday coming of age american civil war four sisters"
          ],
          [
           1933,
           "banker"
          ],
          [
           1933,
           "london, england great depression family business  bakery bankruptcy entrepreneurship employer employee relationship shop owner"
          ],
          [
           1933,
           "jail friendless"
          ],
          [
           1933,
           "ship murder ship's doctor stock swindle"
          ],
          [
           1934,
           ""
          ],
          [
           1933,
           "sheriff"
          ],
          [
           1933,
           ""
          ],
          [
           1933,
           "slum freedom pregnancy hunger freight train great depression love poverty drifter devotion break in wedding dress showgirl pre-code shack stove philosophical shantytown marriage rite walking on stilts cohabitation walking advertisement romantic empathetic powerful"
          ],
          [
           1933,
           "pregnancy doctor pre-code pediatrician"
          ],
          [
           1933,
           "scar pre-code member of parliament"
          ],
          [
           1933,
           "pre-code"
          ],
          [
           1933,
           "song"
          ],
          [
           1933,
           ""
          ],
          [
           1933,
           ""
          ],
          [
           1933,
           "mentor diva seduction ambition unrequited love theatrical producer playwright tutor broadway critic pre-code drunkenness broadway star philanderer broadway producer stage actress stage struck wardrobe mistress afterparty egocentric artists opening night"
          ],
          [
           1933,
           "radio success pre-code cuckold"
          ],
          [
           1933,
           "suicide smuggling (contraband) south seas murder fugitive pre-code tropical island"
          ],
          [
           1933,
           "airplane airport rio de janeiro pilot south america pre-code dangerous mission aerial aviation history flight inspector mail plane"
          ],
          [
           1933,
           "victim gathering murder old house séance"
          ],
          [
           1933,
           "suicide open relationship advertising fired from the job pre-code cosmetics"
          ],
          [
           1933,
           "industrialist pre-code child custody"
          ],
          [
           1932,
           ""
          ],
          [
           1933,
           "world war i"
          ],
          [
           1933,
           "based on novel or book pickpocket orphanage orphan literary adaptation 19th century"
          ],
          [
           1934,
           "kidnapping romance"
          ],
          [
           1933,
           "small town parent child relationship doctor"
          ],
          [
           1933,
           "lost film"
          ],
          [
           1933,
           "pre-code"
          ],
          [
           1933,
           "england detective fishing dog pre-code"
          ],
          [
           1933,
           ""
          ],
          [
           1933,
           "world war i arkansas pre-code illegitimate child"
          ],
          [
           1933,
           "railroad extramarital affair pre-code business tycoon"
          ],
          [
           1930,
           "not_found"
          ],
          [
           1932,
           ""
          ],
          [
           1933,
           "backstage depression era"
          ],
          [
           1933,
           "lost film"
          ],
          [
           1933,
           ""
          ],
          [
           1934,
           ""
          ],
          [
           1933,
           ""
          ],
          [
           1933,
           "vienna, austria"
          ],
          [
           1933,
           "wedding pre-code"
          ],
          [
           1932,
           "sheriff ranch fugitive cattle frame up"
          ],
          [
           1933,
           "rustler roundup"
          ],
          [
           1933,
           ""
          ],
          [
           1933,
           ""
          ],
          [
           1933,
           "outlaw shootout informant wrongful arrest"
          ],
          [
           1933,
           "american football roadhouse pre-code"
          ],
          [
           1933,
           ""
          ],
          [
           1933,
           "not_found"
          ],
          [
           1933,
           ""
          ],
          [
           1933,
           "upper class world war i showgirl pre-code rich snob perjury spoiled rich kid"
          ],
          [
           1933,
           "california pre-code cattle-rustler"
          ],
          [
           1933,
           "navy china pre-code"
          ],
          [
           1933,
           "new york city great depression engagement sexual harassment pre-code male domination sexual exploitation"
          ],
          [
           1933,
           ""
          ],
          [
           1933,
           "new york city sabotage invalid pre-code train conductor"
          ],
          [
           1933,
           "newlywed pre-code"
          ],
          [
           1933,
           ""
          ],
          [
           1932,
           ""
          ],
          [
           1933,
           ""
          ],
          [
           1933,
           "horse bronco buster"
          ],
          [
           1933,
           "bank gang bank robbery"
          ],
          [
           1934,
           ""
          ],
          [
           1933,
           "naivety love triangle love lust extramarital affair pre-code sculptor nude modeling"
          ],
          [
           1933,
           "poverty struggle for survival couple amusement park"
          ],
          [
           1934,
           "not_found"
          ],
          [
           1933,
           ""
          ],
          [
           1933,
           "musical puritan pre-code stage mother"
          ],
          [
           1933,
           "escape mayor serbian pre-code love torn"
          ],
          [
           1933,
           "plastic surgery lonely hearts ad hiding from the police clip joint on the lam"
          ],
          [
           1933,
           "widow detective secret society lawyer sherlock holmes"
          ],
          [
           1932,
           ""
          ],
          [
           1933,
           "murderer pre-code séance spiritualist"
          ],
          [
           1933,
           "department store"
          ],
          [
           1933,
           ""
          ],
          [
           1933,
           ""
          ],
          [
           1933,
           "vigilante"
          ],
          [
           1933,
           "marriage pre-code living in sin"
          ],
          [
           1933,
           "prostitution parent"
          ],
          [
           1933,
           "princess based on play or musical"
          ],
          [
           1933,
           "singer pre-code illegitimate child"
          ],
          [
           1933,
           ""
          ],
          [
           1933,
           "south america bonds"
          ],
          [
           1933,
           ""
          ],
          [
           1933,
           ""
          ],
          [
           1933,
           "vampire bat death pre-code police inspector"
          ],
          [
           1933,
           ""
          ],
          [
           1933,
           ""
          ],
          [
           1933,
           ""
          ],
          [
           1933,
           "king louis xv of france enlightenment pre-code philosopher voltaire"
          ],
          [
           1933,
           ""
          ],
          [
           1933,
           "christianity judaism antisemitism christ allegory spanish inquisition"
          ],
          [
           1933,
           ""
          ],
          [
           1933,
           "lost film"
          ],
          [
           1933,
           "adolescence pregnancy teenage girl"
          ],
          [
           1933,
           ""
          ],
          [
           1933,
           "gold mine"
          ],
          [
           1933,
           "sheriff wrestling match"
          ],
          [
           1933,
           "wartime pre-code"
          ],
          [
           1933,
           "jungle pre-code"
          ],
          [
           1933,
           ""
          ],
          [
           1933,
           "loyalty ex-lover threat of death deception engagement lawyer possessiveness pre-code persecution hired killer whipping abuse manslaughter accidental killing cover-up attempt threatened woman justifiable homicide man in love"
          ],
          [
           1932,
           ""
          ],
          [
           1933,
           "pre-code rich snob passage of time ungrateful child"
          ],
          [
           1933,
           "paris, france englishwoman"
          ],
          [
           1933,
           "son tokyo, japan single mother silent film husband"
          ],
          [
           1932,
           "crooked sheriff gunfighter"
          ],
          [
           1933,
           "budapest, hungary zoo romance orphan pre-code"
          ],
          [
           1933,
           "boarding school cigarette dinner revolt boys' school gay theme short film"
          ],
          [
           1934,
           "oil"
          ],
          [
           1934,
           "nurse ambulance man"
          ],
          [
           1934,
           "based on novel or book countess lawyer divorce pre-code manhattan, new york city 19th century"
          ],
          [
           1934,
           ""
          ],
          [
           1934,
           "professor relocation pre-code"
          ],
          [
           1934,
           "loyalty picnic municipal park dog housekeeper break in missing person jewelry store burglar alarm jewel theft antiques shop scrubwoman girl next door jewel thieves"
          ],
          [
           1934,
           ""
          ],
          [
           1934,
           ""
          ],
          [
           1934,
           "depression marriage surrealism underwater barge marital problem"
          ],
          [
           1934,
           "based on novel or book land sale"
          ],
          [
           1934,
           ""
          ],
          [
           1934,
           "romantic rivalry police officer"
          ],
          [
           1934,
           "american football campus"
          ],
          [
           1934,
           "fraud train pre-code shock treatment x-ray"
          ],
          [
           1934,
           "factory peddler steel mill"
          ],
          [
           1934,
           "egypt cairo poison extramarital affair"
          ],
          [
           1934,
           "musical"
          ],
          [
           1933,
           "carnival broadway"
          ],
          [
           1934,
           "voodoo murder secretary jungle pre-code tropical island revolt"
          ],
          [
           1934,
           ""
          ],
          [
           1934,
           "u.s. marshal bridge blowup"
          ],
          [
           1934,
           "dancer nightclub pre-code"
          ],
          [
           1934,
           "pre-code"
          ],
          [
           1934,
           "b western"
          ],
          [
           1934,
           ""
          ],
          [
           1934,
           ""
          ],
          [
           1934,
           "spy revolution pre-code bolshevik"
          ],
          [
           1934,
           "composer musical murder"
          ],
          [
           1934,
           "gold mine killer"
          ],
          [
           1934,
           "new york city love triangle divorce shipping magnate shipboard romance gun shop horse breeder rich old man marries young girl traveler"
          ],
          [
           1934,
           "unemployment manhattan, new york city coney island, new york city"
          ],
          [
           1934,
           ""
          ],
          [
           1934,
           "not_found"
          ],
          [
           1934,
           ""
          ],
          [
           1934,
           "new york city debutante"
          ],
          [
           1933,
           ""
          ],
          [
           1934,
           "ranch cattleman"
          ],
          [
           1934,
           "star crossed lovers"
          ],
          [
           1934,
           "new york city paris, france musical"
          ],
          [
           1934,
           "elderly woman"
          ],
          [
           1934,
           "gambling pre-code compulsive gambler"
          ],
          [
           1934,
           "holiday threat of death based on play or musical romance unrequited love grim reaper mansion car accident attraction pre-code meaning of life nobility power of love death personified thrill seeker wealthy family supernatural being"
          ],
          [
           1934,
           "held at gunpoint"
          ],
          [
           1934,
           "ranch"
          ],
          [
           1934,
           "older man younger woman relationship pre-code luxury apartment"
          ],
          [
           1934,
           "horse white horse"
          ],
          [
           1934,
           ""
          ],
          [
           1934,
           "pre-code matriarch secret chamber"
          ],
          [
           1934,
           "infidelity new york city pregnancy doctor pre-code philanderer"
          ],
          [
           1934,
           ""
          ],
          [
           1934,
           "cattle ranch rustling"
          ],
          [
           1934,
           "experiment gorilla jungle"
          ],
          [
           1934,
           ""
          ],
          [
           1934,
           "jury murder courtroom"
          ],
          [
           1934,
           ""
          ],
          [
           1934,
           "blackmail pre-code criminal lawyer"
          ],
          [
           1934,
           "opera singer"
          ],
          [
           1934,
           ""
          ],
          [
           1933,
           ""
          ],
          [
           1934,
           "texas texas ranger murder"
          ],
          [
           1934,
           ""
          ],
          [
           1934,
           "double cross cattle rustling"
          ],
          [
           1934,
           "royal canadian mounted police (mountie)"
          ],
          [
           1934,
           "upper class roommates female friendship girls' boarding school doctor waiter pre-code woman director 1930s"
          ],
          [
           1934,
           "beautiful woman vienna, austria apartment building pre-code police inspector lothario protective mother"
          ],
          [
           1934,
           "prison sibling relationship based on novel or book russian army"
          ],
          [
           1934,
           ""
          ],
          [
           1934,
           ""
          ],
          [
           1934,
           "arizona territory"
          ],
          [
           1934,
           "double life fugitive jewel thief"
          ],
          [
           1933,
           "jungle"
          ],
          [
           1934,
           "marriage proposal cheating gambling marriage wedding pre-code"
          ],
          [
           1934,
           "college great depression"
          ],
          [
           1934,
           "drowned"
          ],
          [
           1934,
           "london, england composer falling in love chorus girl"
          ],
          [
           1934,
           "orphan"
          ],
          [
           1934,
           ""
          ],
          [
           1933,
           "sheriff ranch"
          ],
          [
           1934,
           "adaptation"
          ],
          [
           1934,
           "con man deacon"
          ],
          [
           1934,
           "romcom street vendor disability"
          ],
          [
           1934,
           "nightclub revenge highway patrol"
          ],
          [
           1934,
           "world war i flyer"
          ],
          [
           1934,
           ""
          ],
          [
           1934,
           "not_found"
          ],
          [
           1934,
           "wine trial travel theft"
          ],
          [
           1934,
           ""
          ],
          [
           1934,
           "gangster"
          ],
          [
           1934,
           "sheriff saloon"
          ],
          [
           1934,
           "love triangle wife return office writing lover success client romance inspiration love business advertising divorce old flame pre-code claim demands vamp"
          ],
          [
           1934,
           "based on play or musical"
          ],
          [
           1934,
           "artist city life ucla"
          ],
          [
           1934,
           ""
          ],
          [
           1934,
           ""
          ],
          [
           1934,
           ""
          ],
          [
           1934,
           ""
          ],
          [
           1934,
           ""
          ],
          [
           1934,
           "sheriff musician horse cowboy singing cowboy"
          ],
          [
           1934,
           "not_found"
          ],
          [
           1934,
           "based on novel or book mansion governess 19th century"
          ],
          [
           1934,
           "19th century bristol, england"
          ],
          [
           1934,
           "based on novel or book antisemitism"
          ],
          [
           1934,
           "mistress guilt eiffel tower, paris catholic hospital"
          ],
          [
           1934,
           "waitress boredom marriage hospital car accident family hometown boyfriend"
          ],
          [
           1934,
           "horse trainer"
          ],
          [
           1934,
           "british officer"
          ],
          [
           1934,
           "love triangle romance unrequited love resort swimming"
          ],
          [
           1934,
           "navajo outcast native american reservation pre-code"
          ],
          [
           1934,
           "sheriff"
          ],
          [
           1933,
           "musical pre-code"
          ],
          [
           1934,
           "jealousy love doctor extramarital affair"
          ],
          [
           1931,
           ""
          ],
          [
           1934,
           "reanimation doctor"
          ],
          [
           1933,
           "not_found"
          ],
          [
           1934,
           "based on novel or book germany brothel bravery greed cigarette smuggling bartender stepmother tenderness deception grief betrayal salesman tension sorrow poverty police detective unemployment newlywed foreign language adaptation pregnant wife 1930s"
          ],
          [
           1934,
           "gypsy"
          ],
          [
           1934,
           "depression tennis heart attack marriage honesty trial love murder lawyer mansion maid dog heartbreak pre-code understanding recovery numb heart kind man"
          ],
          [
           1934,
           "not_found"
          ],
          [
           1934,
           ""
          ],
          [
           1934,
           "writer pacifist anti war"
          ],
          [
           1934,
           ""
          ],
          [
           1934,
           "henchman b western"
          ],
          [
           1934,
           "inuit"
          ],
          [
           1934,
           "firefighting"
          ],
          [
           1934,
           "alcohol doctor prostitution pre-code gunrunner"
          ],
          [
           1933,
           ""
          ],
          [
           1934,
           "undercover agent espionage kidnapping saboteur romance central america pre-code panama canal pre-war"
          ],
          [
           1934,
           "not_found"
          ],
          [
           1933,
           "hutsuls rusyn"
          ],
          [
           1933,
           "not_found"
          ],
          [
           1934,
           "doctor extramarital affair pre-code"
          ],
          [
           1934,
           "suspicion trap romance"
          ],
          [
           1934,
           "redemption ex-con cosette straight"
          ],
          [
           1934,
           "circus ambition pre-code circus performer"
          ],
          [
           1934,
           "divorce snobbery"
          ],
          [
           1934,
           "cabaret sailor"
          ],
          [
           1934,
           ""
          ],
          [
           1934,
           "secret identity movie serial"
          ],
          [
           1934,
           ""
          ],
          [
           1934,
           "pre-code woman director"
          ],
          [
           1934,
           "arson reporter rescue team"
          ],
          [
           1934,
           "death movie star host unknown host"
          ],
          [
           1934,
           ""
          ],
          [
           1934,
           "street gang based on novel or book allegory pre-code anti war kids children in wartime"
          ],
          [
           1934,
           ""
          ],
          [
           1934,
           "baby waitress self-destruction one-sided love unrequited love inheritance doctor destruction pre-code tuberculosis medical school unwed mother mistreatment meltdown aspiring artist jilted woman spurned man club foot destitution vitriol savings bonds horrible person selfish woman"
          ],
          [
           1934,
           "not_found"
          ],
          [
           1934,
           "operation nurse suicide attempt poison surgeon hospital physician pre-code ward brain surgery x-ray philanderer medical drama workplace romance hospital setting"
          ],
          [
           1934,
           "adultery rape divorce wife beater"
          ],
          [
           1934,
           ""
          ],
          [
           1934,
           "female spy pre-code based on short story american civil war confederate spy 19th century"
          ],
          [
           1934,
           "train"
          ],
          [
           1934,
           "drought farming"
          ],
          [
           1934,
           "suicide widow marriage remake wedding pre-code"
          ],
          [
           1934,
           "german shepherd dog hero"
          ],
          [
           1934,
           "china based on novel or book cholera doctor epidemic extramarital affair pre-code"
          ],
          [
           1934,
           ""
          ],
          [
           1934,
           "not_found"
          ],
          [
           1934,
           ""
          ],
          [
           1934,
           ""
          ],
          [
           1934,
           "based on novel or book president"
          ],
          [
           1934,
           "public stenographer"
          ],
          [
           1934,
           ""
          ],
          [
           1934,
           ""
          ],
          [
           1934,
           "cowboy"
          ],
          [
           1934,
           "strike romance management"
          ],
          [
           1934,
           "nurse"
          ],
          [
           1934,
           ""
          ],
          [
           1934,
           "scandal old flame socialite pre-code riviera"
          ],
          [
           1934,
           "remake underage drinking pre-code underage sex wild party woman director unplanned pregnancy strip poker illegal abortion defloration moral corruption exploitation film unknowingly dating married man marijuana use"
          ],
          [
           1934,
           ""
          ],
          [
           1933,
           "labor strike woman director anti-fascism"
          ],
          [
           1934,
           "upper class desertion singer boarding house big city maid disillusionment alcoholic millionaire pre-code loveless marriage regeneration interclass romance nightclub hostess working girl"
          ],
          [
           1934,
           ""
          ],
          [
           1934,
           "based on novel or book royal family biography empress royalty pre-code 18th century catherine the great"
          ],
          [
           1934,
           "adultery puritan pre-code colonial america"
          ],
          [
           1933,
           "saloon cabaret pre-code"
          ],
          [
           1934,
           "hollywood"
          ],
          [
           1934,
           ""
          ],
          [
           1934,
           "infidelity san francisco, california pre-code furrier"
          ],
          [
           1934,
           "suicide attempt patriarchy love"
          ],
          [
           1934,
           ""
          ],
          [
           1933,
           "son war hero"
          ],
          [
           1934,
           "engineer dam witchcraft pre-code"
          ],
          [
           1934,
           "father milk murder"
          ],
          [
           1934,
           "world war i asylum pre-code firing squad"
          ],
          [
           1933,
           ""
          ],
          [
           1934,
           "tenement manhattan, new york city williamsburg bridge"
          ],
          [
           1934,
           "rivalry secretary pre-code social climber"
          ],
          [
           1934,
           ""
          ],
          [
           1934,
           "tango"
          ],
          [
           1934,
           ""
          ],
          [
           1934,
           "not_found"
          ],
          [
           1934,
           "cigarette deception over the hill"
          ],
          [
           1934,
           "sibling relationship marriage crisis painting femme fatale pre-code manipulative woman homewrecker"
          ],
          [
           1934,
           "despair car crash family relationships family embezzlement co-signer imminent scandal missing money adult children contemplating suicide"
          ],
          [
           1934,
           ""
          ],
          [
           1934,
           "based on novel or book"
          ],
          [
           1933,
           "buffalo"
          ],
          [
           1934,
           "skeleton gold mine shack"
          ],
          [
           1933,
           "cattle drive"
          ],
          [
           1934,
           "not_found"
          ],
          [
           1934,
           "matador (bullfighter) pre-code"
          ],
          [
           1934,
           "great depression pregnant minor run away orphan child labor pre-code reform school"
          ],
          [
           1934,
           "revenge family abandonment mistress train unknown father silent film aging actor paternity revealed male bonding financial ruin illegitimate son theater troupe japanese man kabuki starting over father son conflict remade actor woman scorned absent father revenge for cheating"
          ],
          [
           1934,
           "hustler divorce"
          ],
          [
           1934,
           ""
          ],
          [
           1934,
           "settler oregon, usa indian attack scout"
          ],
          [
           1934,
           "not_found"
          ],
          [
           1934,
           ""
          ],
          [
           1934,
           "communism leo tolstoy russian"
          ],
          [
           1934,
           "divorce neglected child child custody neglectful mother kids"
          ],
          [
           1934,
           "lost film"
          ],
          [
           1934,
           "falsely accused pre-code"
          ],
          [
           1934,
           "gold wagon train"
          ],
          [
           1934,
           "woman director"
          ],
          [
           1934,
           ""
          ],
          [
           1934,
           "parent child relationship shipwreck assumed identity return from dead"
          ],
          [
           1934,
           "swamp"
          ],
          [
           1934,
           ""
          ],
          [
           1933,
           "not_found"
          ],
          [
           1934,
           "family relationships sinking ship"
          ],
          [
           1934,
           ""
          ],
          [
           1934,
           "miser control freak charitable contribution old grudge charity hospital"
          ],
          [
           1934,
           "not_found"
          ],
          [
           1934,
           ""
          ],
          [
           1934,
           "suicide sister revenge wealthy family"
          ],
          [
           1934,
           "mexican revolution cowboy the old west smugglers"
          ],
          [
           1934,
           "voodoo plantation louisiana swamp bayou murder racism blackface vengeance"
          ],
          [
           1934,
           "not_found"
          ],
          [
           1934,
           "dog pre-code"
          ],
          [
           1934,
           ""
          ],
          [
           1934,
           ""
          ],
          [
           1934,
           ""
          ],
          [
           1934,
           "pregnancy sex education"
          ],
          [
           1934,
           "mine attempted kidnapping"
          ],
          [
           1934,
           "school homeless boys"
          ],
          [
           1934,
           "island marooned"
          ],
          [
           1934,
           "murder political corruption political scandal"
          ],
          [
           1934,
           "train"
          ],
          [
           1934,
           ""
          ],
          [
           1934,
           ""
          ],
          [
           1934,
           ""
          ],
          [
           1934,
           ""
          ],
          [
           1934,
           ""
          ],
          [
           1931,
           ""
          ],
          [
           1934,
           ""
          ],
          [
           1934,
           ""
          ],
          [
           1933,
           "based on novel or book spy"
          ],
          [
           1933,
           "adultery pre-code syphilis sexually transmitted disease venereal diseases"
          ],
          [
           1934,
           ""
          ],
          [
           1931,
           "aviation vintage aircraft"
          ],
          [
           1934,
           "female homosexuality fake documentary"
          ],
          [
           1934,
           ""
          ],
          [
           1934,
           "not_found"
          ],
          [
           1933,
           "silent film toy maker child kidnapping toymaker"
          ],
          [
           1931,
           "based on novel or book silent film ancient greece"
          ],
          [
           1931,
           "not_found"
          ],
          [
           1934,
           "not_found"
          ],
          [
           1932,
           "not_found"
          ],
          [
           1929,
           ""
          ],
          [
           1929,
           "not_found"
          ],
          [
           1929,
           "not_found"
          ],
          [
           1934,
           ""
          ],
          [
           1929,
           "not_found"
          ],
          [
           1929,
           "not_found"
          ],
          [
           1932,
           ""
          ],
          [
           1933,
           "not_found"
          ],
          [
           1934,
           ""
          ],
          [
           1933,
           "not_found"
          ],
          [
           1933,
           "not_found"
          ],
          [
           1930,
           "not_found"
          ],
          [
           1934,
           ""
          ],
          [
           1933,
           ""
          ],
          [
           1934,
           "not_found"
          ],
          [
           1934,
           ""
          ],
          [
           1933,
           ""
          ],
          [
           1934,
           ""
          ],
          [
           1932,
           ""
          ],
          [
           1931,
           "not_found"
          ],
          [
           1932,
           "not_found"
          ],
          [
           1932,
           "not_found"
          ],
          [
           1932,
           "curse"
          ],
          [
           1931,
           ""
          ],
          [
           1929,
           ""
          ],
          [
           1930,
           "not_found"
          ],
          [
           1932,
           ""
          ],
          [
           1933,
           ""
          ],
          [
           1929,
           "lost film"
          ],
          [
           1929,
           ""
          ],
          [
           1929,
           "feature version of movie serial"
          ],
          [
           1934,
           "ranch murder lawyer"
          ],
          [
           1934,
           ""
          ],
          [
           1934,
           "not_found"
          ],
          [
           1931,
           "not_found"
          ],
          [
           1933,
           ""
          ],
          [
           1931,
           "not_found"
          ],
          [
           1931,
           "not_found"
          ],
          [
           1933,
           ""
          ],
          [
           1931,
           ""
          ],
          [
           1933,
           ""
          ],
          [
           1933,
           ""
          ],
          [
           1934,
           ""
          ],
          [
           1930,
           "not_found"
          ],
          [
           1931,
           "woman director"
          ],
          [
           1930,
           ""
          ],
          [
           1930,
           ""
          ],
          [
           1932,
           "romance"
          ],
          [
           1932,
           "not_found"
          ],
          [
           1931,
           "not_found"
          ],
          [
           1931,
           ""
          ],
          [
           1932,
           ""
          ],
          [
           1930,
           "not_found"
          ],
          [
           1934,
           ""
          ],
          [
           1929,
           ""
          ],
          [
           1934,
           ""
          ],
          [
           1930,
           ""
          ],
          [
           1932,
           "gold"
          ],
          [
           1931,
           ""
          ],
          [
           1931,
           ""
          ],
          [
           1931,
           "not_found"
          ],
          [
           1932,
           ""
          ],
          [
           1930,
           "charity"
          ],
          [
           1934,
           ""
          ],
          [
           1930,
           "lost film"
          ],
          [
           1933,
           ""
          ],
          [
           1934,
           "lost film"
          ],
          [
           1929,
           "betrayal lost film"
          ],
          [
           1934,
           ""
          ],
          [
           1931,
           ""
          ],
          [
           1934,
           ""
          ],
          [
           1933,
           ""
          ],
          [
           1934,
           "world war i german soldier"
          ],
          [
           1934,
           ""
          ],
          [
           1931,
           ""
          ],
          [
           1930,
           "not_found"
          ],
          [
           1930,
           ""
          ],
          [
           1932,
           ""
          ],
          [
           1934,
           ""
          ],
          [
           1930,
           "not_found"
          ],
          [
           1934,
           "based on novel or book"
          ],
          [
           1934,
           "not_found"
          ],
          [
           1933,
           "not_found"
          ],
          [
           1931,
           ""
          ],
          [
           1934,
           "suicide attempt house party newlywed syphilis sexually transmitted disease casting couch gonorrhea venereal diseases premarital sex lesbian"
          ],
          [
           1931,
           ""
          ],
          [
           1931,
           "pre-code"
          ],
          [
           1933,
           "based on novel or book historical drama 19th century"
          ],
          [
           1931,
           "not_found"
          ],
          [
           1931,
           ""
          ],
          [
           1931,
           "not_found"
          ],
          [
           1931,
           "not_found"
          ],
          [
           1931,
           ""
          ],
          [
           1933,
           "maupassant"
          ],
          [
           1930,
           ""
          ],
          [
           1931,
           ""
          ],
          [
           1931,
           ""
          ],
          [
           1933,
           "circus"
          ],
          [
           1931,
           "singer"
          ],
          [
           1933,
           ""
          ],
          [
           1934,
           ""
          ],
          [
           1934,
           ""
          ],
          [
           1933,
           "not_found"
          ],
          [
           1933,
           "not_found"
          ],
          [
           1933,
           "lost film"
          ],
          [
           1931,
           ""
          ],
          [
           1934,
           "not_found"
          ],
          [
           1933,
           ""
          ],
          [
           1934,
           "not_found"
          ],
          [
           1934,
           ""
          ],
          [
           1930,
           "not_found"
          ],
          [
           1930,
           ""
          ],
          [
           1933,
           "tunnel construction tunnel"
          ],
          [
           1930,
           "not_found"
          ],
          [
           1934,
           ""
          ],
          [
           1934,
           ""
          ],
          [
           1929,
           "not_found"
          ],
          [
           1932,
           "drugs"
          ],
          [
           1933,
           "harbor yokohama"
          ],
          [
           1931,
           ""
          ],
          [
           1933,
           "nudist camp nudism newspaper article naturism"
          ],
          [
           1934,
           "not_found"
          ],
          [
           1933,
           "based on play or musical"
          ],
          [
           1929,
           "not_found"
          ],
          [
           1932,
           "soviet union feminism silent film"
          ],
          [
           1934,
           "not_found"
          ],
          [
           1934,
           "cult murder"
          ],
          [
           1934,
           "poverty row"
          ],
          [
           1934,
           "german shepherd dog hero"
          ],
          [
           1930,
           ""
          ],
          [
           1934,
           "farm ranch dog desert chicken coop"
          ],
          [
           1932,
           "based on short story"
          ],
          [
           1929,
           ""
          ],
          [
           1931,
           ""
          ],
          [
           1933,
           ""
          ],
          [
           1934,
           ""
          ],
          [
           1934,
           ""
          ],
          [
           1931,
           ""
          ],
          [
           1931,
           ""
          ],
          [
           1930,
           ""
          ],
          [
           1931,
           ""
          ],
          [
           1930,
           "dwarf circus lion tamer"
          ],
          [
           1930,
           "not_found"
          ],
          [
           1932,
           ""
          ],
          [
           1934,
           "not_found"
          ],
          [
           1929,
           "not_found"
          ],
          [
           1929,
           "not_found"
          ],
          [
           1931,
           "not_found"
          ],
          [
           1934,
           ""
          ],
          [
           1934,
           ""
          ],
          [
           1934,
           ""
          ],
          [
           1930,
           "not_found"
          ],
          [
           1934,
           ""
          ],
          [
           1933,
           ""
          ],
          [
           1930,
           ""
          ],
          [
           1933,
           ""
          ],
          [
           1930,
           "little red riding hood based on fairy tale"
          ],
          [
           1931,
           ""
          ],
          [
           1930,
           ""
          ],
          [
           1931,
           ""
          ],
          [
           1930,
           ""
          ],
          [
           1934,
           "rusyn"
          ],
          [
           1933,
           ""
          ],
          [
           1931,
           "pre-code"
          ],
          [
           1931,
           "china"
          ],
          [
           1932,
           "not_found"
          ],
          [
           1932,
           "mexico texas sidekick"
          ],
          [
           1932,
           "cattleman"
          ],
          [
           1932,
           "marshal"
          ],
          [
           1932,
           ""
          ],
          [
           1934,
           "silent film"
          ],
          [
           1934,
           ""
          ],
          [
           1929,
           "based on novel or book"
          ],
          [
           1931,
           ""
          ],
          [
           1933,
           ""
          ],
          [
           1934,
           "federal marshal"
          ],
          [
           1934,
           "not_found"
          ],
          [
           1931,
           "not_found"
          ],
          [
           1930,
           "foreign language adaptation boxing"
          ],
          [
           1931,
           "presumed lost"
          ],
          [
           1931,
           ""
          ],
          [
           1932,
           "not_found"
          ],
          [
           1931,
           "not_found"
          ],
          [
           1934,
           ""
          ],
          [
           1933,
           ""
          ],
          [
           1931,
           "not_found"
          ],
          [
           1930,
           ""
          ],
          [
           1930,
           "not_found"
          ],
          [
           1930,
           ""
          ],
          [
           1930,
           ""
          ],
          [
           1930,
           "not_found"
          ],
          [
           1931,
           "not_found"
          ],
          [
           1930,
           ""
          ],
          [
           1930,
           "based on play or musical lost film"
          ],
          [
           1929,
           ""
          ],
          [
           1930,
           ""
          ],
          [
           1934,
           ""
          ],
          [
           1934,
           ""
          ],
          [
           1933,
           ""
          ],
          [
           1934,
           ""
          ],
          [
           1933,
           ""
          ],
          [
           1932,
           ""
          ],
          [
           1933,
           "nazi germany nazi propaganda"
          ],
          [
           1931,
           ""
          ],
          [
           1930,
           ""
          ],
          [
           1934,
           ""
          ],
          [
           1930,
           ""
          ],
          [
           1933,
           "not_found"
          ],
          [
           1930,
           "love mount olympus black sheep popular fable folk song"
          ],
          [
           1932,
           "fustanella"
          ],
          [
           1929,
           ""
          ],
          [
           1932,
           "not_found"
          ],
          [
           1930,
           ""
          ],
          [
           1932,
           ""
          ],
          [
           1931,
           ""
          ],
          [
           1929,
           ""
          ],
          [
           1932,
           "not_found"
          ],
          [
           1930,
           ""
          ],
          [
           1931,
           "not_found"
          ],
          [
           1930,
           ""
          ],
          [
           1930,
           ""
          ],
          [
           1934,
           "cattleman"
          ],
          [
           1933,
           ""
          ],
          [
           1934,
           ""
          ],
          [
           1933,
           "espionage"
          ],
          [
           1934,
           ""
          ],
          [
           1934,
           ""
          ],
          [
           1930,
           ""
          ],
          [
           1934,
           ""
          ],
          [
           1932,
           ""
          ],
          [
           1931,
           ""
          ],
          [
           1933,
           ""
          ],
          [
           1933,
           ""
          ],
          [
           1931,
           "not_found"
          ],
          [
           1931,
           "arizona ranger"
          ],
          [
           1934,
           ""
          ],
          [
           1931,
           ""
          ],
          [
           1933,
           "tribal customs"
          ],
          [
           1929,
           "silent film"
          ],
          [
           1932,
           "not_found"
          ],
          [
           1931,
           "not_found"
          ],
          [
           1929,
           "not_found"
          ],
          [
           1929,
           "not_found"
          ],
          [
           1930,
           "not_found"
          ],
          [
           1929,
           "not_found"
          ],
          [
           1929,
           ""
          ],
          [
           1929,
           "not_found"
          ],
          [
           1929,
           ""
          ],
          [
           1933,
           ""
          ],
          [
           1929,
           ""
          ],
          [
           1932,
           ""
          ],
          [
           1929,
           "not_found"
          ],
          [
           1929,
           "not_found"
          ],
          [
           1929,
           "not_found"
          ],
          [
           1931,
           ""
          ],
          [
           1931,
           ""
          ],
          [
           1932,
           ""
          ],
          [
           1932,
           ""
          ],
          [
           1929,
           "not_found"
          ],
          [
           1929,
           "not_found"
          ],
          [
           1933,
           "not_found"
          ],
          [
           1934,
           ""
          ],
          [
           1932,
           "not_found"
          ],
          [
           1932,
           "country girl"
          ],
          [
           1931,
           "not_found"
          ],
          [
           1929,
           "lost film"
          ],
          [
           1933,
           "not_found"
          ],
          [
           1931,
           "silent film"
          ],
          [
           1932,
           ""
          ],
          [
           1930,
           ""
          ],
          [
           1931,
           "not_found"
          ],
          [
           1932,
           "remake presumed lost"
          ],
          [
           1934,
           ""
          ],
          [
           1933,
           ""
          ],
          [
           1930,
           "not_found"
          ],
          [
           1929,
           ""
          ],
          [
           1931,
           "based on play or musical lost film"
          ],
          [
           1930,
           "not_found"
          ],
          [
           1930,
           ""
          ],
          [
           1933,
           "not_found"
          ],
          [
           1934,
           "not_found"
          ],
          [
           1933,
           "lost film chinese opera"
          ],
          [
           1930,
           "not_found"
          ],
          [
           1934,
           "not_found"
          ],
          [
           1932,
           "not_found"
          ],
          [
           1934,
           "not_found"
          ],
          [
           1930,
           "not_found"
          ],
          [
           1929,
           "not_found"
          ],
          [
           1930,
           ""
          ],
          [
           1930,
           ""
          ],
          [
           1929,
           ""
          ],
          [
           1930,
           "not_found"
          ],
          [
           1930,
           ""
          ],
          [
           1932,
           ""
          ],
          [
           1932,
           "not_found"
          ],
          [
           1931,
           "based on novel or book world war i"
          ],
          [
           1930,
           ""
          ],
          [
           1929,
           "college black and white silent film college student 1920s college freshman"
          ],
          [
           1933,
           ""
          ],
          [
           1933,
           "not_found"
          ],
          [
           1934,
           "not_found"
          ],
          [
           1929,
           "silent film"
          ],
          [
           1930,
           "not_found"
          ],
          [
           1934,
           "not_found"
          ],
          [
           1930,
           ""
          ],
          [
           1932,
           "not_found"
          ],
          [
           1934,
           "seoul, south korea"
          ],
          [
           1933,
           "not_found"
          ],
          [
           1934,
           "not_found"
          ],
          [
           1934,
           ""
          ],
          [
           1931,
           "book of mormon mormon latter day saints mormonism church of jesus christ of latter-day saints"
          ],
          [
           1930,
           ""
          ],
          [
           1929,
           ""
          ],
          [
           1932,
           "not_found"
          ],
          [
           1932,
           "not_found"
          ],
          [
           1931,
           "not_found"
          ],
          [
           1929,
           "not_found"
          ],
          [
           1930,
           "not_found"
          ],
          [
           1929,
           "traveling circus circus troupe"
          ],
          [
           1934,
           ""
          ],
          [
           1932,
           "factory worker apartment complex anime"
          ],
          [
           1931,
           ""
          ],
          [
           1931,
           "not_found"
          ],
          [
           1931,
           "not_found"
          ],
          [
           1929,
           "not_found"
          ],
          [
           1930,
           "not_found"
          ],
          [
           1932,
           "not_found"
          ],
          [
           1930,
           "not_found"
          ],
          [
           1930,
           "not_found"
          ],
          [
           1934,
           "not_found"
          ],
          [
           1930,
           ""
          ]
         ],
         "hovertemplate": "<b>%{hovertext}</b><br><br>primary_genre=Drama<br>startYear=%{customdata[0]}<br>keywords=%{customdata[1]}<extra></extra>",
         "hovertext": [
          "Three Loves",
          "After the Verdict",
          "The Last Fort",
          "Man, Woman and Wife",
          "Sin Town",
          "Times Square",
          "The Veiled Woman",
          "Waterloo",
          "Weary River",
          "The Living Corpse",
          "'Neath Western Skies",
          "The Air Legion",
          "The Amazing Vagabond",
          "Anne Against the World",
          "Applause",
          "The Argyle Case",
          "The Arizona Kid",
          "Arsenal",
          "Atlantic",
          "The Bachelor Girl",
          "Bad Men's Money",
          "Battle of Paris",
          "Betrayal",
          "Big Time",
          "Black Magic",
          "Blue Skies",
          "Border Romance",
          "The Border Wildcat",
          "Born to the Saddle",
          "The Burning Heart",
          "Bride of the Desert",
          "The Bridge of San Luis Rey",
          "Broadway Babies",
          "The Broadway Melody",
          "Brothers",
          "Bullets and Justice",
          "The California Mail",
          "Captain Cowboy",
          "Careers",
          "The Careless Age",
          "The Case of Lena Smith",
          "Charming Sinners",
          "Cheyenne",
          "Children of the Ritz",
          "China Slaver",
          "Christina",
          "Circumstantial Evidence",
          "City of Play",
          "Code of the West",
          "Condemned!",
          "Coquette",
          "The Cowboy and the Outlaw",
          "The Dance of Life",
          "Dangerous Curves",
          "A Dangerous Woman",
          "Dark Red Roses",
          "Daughters of Desire",
          "Desert Nights",
          "The Devil's Chaplain",
          "The Diamond Master",
          "The Divine Voyage",
          "The Doctor's Secret",
          "Drag",
          "Two-Buldi-Two",
          "East Side Sadie",
          "Hungarian Nights",
          "Eternal Love",
          "The Eternal Woman",
          "Evangeline",
          "The Far Call",
          "False Fathers",
          "Father and Son",
          "Figaro",
          "Fighters of the Saddle",
          "The Fighting Terror",
          "Footlights and Fools",
          ".45 Calibre War",
          "The Forward Pass",
          "The Freckled Rascal",
          "Fugitives",
          "Fury of the Wild",
          "Gentlemen of the Press",
          "The Girl in the Glass Cage",
          "The Girl on the Barge",
          "Girls Gone Wild",
          "Glad Rag Doll",
          "China Express",
          "The Great Divide",
          "The Great Gabbo",
          "The Great Power",
          "The Greyhound Limited",
          "Grit Wins",
          "City Butterfly",
          "Gun Law",
          "Half Marriage",
          "Half Way to Heaven",
          "Hallelujah",
          "Handcuffed",
          "The Harvest of Hate",
          "Headin' Westward",
          "Hearts in Dixie",
          "Hell's Heroes",
          "Her Private Life",
          "High Voltage",
          "His Glorious Night",
          "The Hole in the Wall",
          "Honky Tonk",
          "I Kiss Your Hand Madame",
          "Idaho Red",
          "Illusion",
          "In Old California",
          "In the Headlines",
          "The Informer",
          "The Invaders",
          "The Jazz Age",
          "Jealousy",
          "Harbor Drift",
          "Joy Street",
          "The Life of an Office Worker",
          "Kid Gloves",
          "The Kiss",
          "Kitty",
          "The Lady Lies",
          "Lady of the Pavements",
          "Bride 68",
          "The Lariat Kid",
          "The Last Performance",
          "The Last Round-Up",
          "The Laughing Lady",
          "The Law of the Plains",
          "The Lawless Legion",
          "The Leatherneck",
          "The Letter",
          "Linda",
          "The Locked Door",
          "The Lone Horseman",
          "The Long, Long Trail",
          "Love and the Devil",
          "Love, Live and Laugh",
          "Lucky Star",
          "Madame X",
          "Madonna of Avenue A",
          "Mother Hummingbird",
          "The Man from Nevada",
          "The Manxman",
          "Marianne",
          "The Marriage Playground",
          "Master and Man",
          "Melody Lane",
          "Mexicali Rose",
          "Midnight on the Barbary Coast",
          "The Million Dollar Collar",
          "The Mississippi Gambler",
          "Montmartre Rose",
          "Mother's Boy",
          "Mother Love",
          "My Lady's Past",
          "New Orleans",
          "New Year's Eve",
          "Night Parade",
          "No Defense",
          "Not Quite Decent",
          "The New Babylon",
          "Fragment of an Empire",
          "The Office Scandal",
          "An Oklahoma Cowboy",
          "The Oklahoma Kid",
          "The One Woman Idea",
          "Overland Bound",
          "The Overland Telegraph",
          "The Pagan",
          "The Painted Angel",
          "Pals of the Prairie",
          "Paris Bound",
          "The Phantom Rider",
          "The Phantom of the North",
          "Pioneers of the West",
          "Pleasure Crazed",
          "Plunging Hoofs",
          "Points West",
          "The Pride of Pawnee",
          "The Prince of Hearts",
          "The Ghost That Never Returns",
          "Protection",
          "Queen Kelly",
          "Queen of the Night Clubs",
          "The Quitter",
          "The Rainbow",
          "The Redeeming Sin",
          "Riders of the Rio Grande",
          "Riders of the Storm",
          "The Ridin' Demon",
          "The River of Romance",
          "Romance of the Rio Grande",
          "The Royal Rider",
          "The Sacred Flame",
          "Salute",
          "Say It with Songs",
          "Scandal",
          "The Ship of Lost Men",
          "Seven Faces",
          "The Sixth Sense",
          "Señor Americano",
          "The Shakedown",
          "Shanghai Lady",
          "Show Boat",
          "The Silent Enemy",
          "Silks and Saddles",
          "The Single Standard",
          "Sioux Blood",
          "Skin Deep",
          "Smilin' Guns",
          "Smiling Irish Eyes",
          "The Smiling Terror",
          "Smoke Bellew",
          "Such Is Life",
          "Some Mother's Boy",
          "A Song of Kentucky",
          "Speedway",
          "The Squall",
          "Stairs of Sand",
          "The General Line",
          "Street Girl",
          "Sunset Pass",
          "Diary of a Lost Girl",
          "Hell of a Reporter",
          "Their Own Desire",
          "Thru Different Eyes",
          "Tide of Empire",
          "Tiger Rose",
          "The Tip Off",
          "Tonight at Twelve",
          "Trail of the Horse Thieves",
          "The Trespasser",
          "Trial Marriage",
          "The Trial of Mary Dugan",
          "True Heaven",
          "Two Men and a Maid",
          "The Greenwood Tree",
          "Unguarded Girls",
          "The Unknown Rider",
          "Untamed",
          "The Valiant",
          "The Voice Within",
          "The Voice of the Storm",
          "The Wagon Master",
          "Wall Street",
          "The Way Through the Night",
          "West of the Rockies",
          "The Wheel of Life",
          "When Dreams Come True",
          "Where East Is East",
          "Whispering Winds",
          "The White Outlaw",
          "Wild Orchids",
          "The Winged Horseman",
          "Wolf Song",
          "The Wolf of Wall Street",
          "Wolves of the City",
          "The Woman from Hell",
          "Wonder of Women",
          "The Wonderful Lies of Nina Petrovna",
          "Wyoming Tornado",
          "The Yellow-Back",
          "The Younger Generation",
          "All Quiet on the Western Front",
          "Alma de Gaucho",
          "Old Song",
          "Anna Christie",
          "Anybody's Woman",
          "The Apache Kid's Escape",
          "The Luck Which Touched the Leg",
          "Ladies' Paradise",
          "Back Pay",
          "The Bad Man",
          "Bar-L Ranch",
          "Beau Bandit",
          "Because I Loved You",
          "Behind the Make-Up",
          "Beyond the Law",
          "Beyond the Rio Grande",
          "Big Money",
          "Billy the Kid",
          "The Blue Angel",
          "The Border Legion",
          "Borderline",
          "Breed of the West",
          "Breezy Bill",
          "Call of the Circus",
          "Call of the Desert",
          "Cameo Kirby",
          "Canyon Hawks",
          "The Canyon of Missing Men",
          "Captain of the Guard",
          "The Case of Sergeant Grischa",
          "A Jew at War",
          "The Cheyenne Kid",
          "City Girl",
          "Cock o' the Walk",
          "Code of Honor",
          "Command Performance",
          "Common Clay",
          "The Concentratin' Kid",
          "Courage",
          "Covered Wagon Trails",
          "The Dancers",
          "The Danger Man",
          "David Golder",
          "The Dawn Trail",
          "The Devil's Holiday",
          "The Divorcee",
          "Double Cross Roads",
          "Du Barry, Woman of Passion",
          "The Dude Wrangler",
          "Extravagance",
          "The Eyes of the World",
          "Fair Warning",
          "The Fighting Legion",
          "Fighting Thru; or, California in 1878",
          "Firebrand Jordan",
          "The Florodora Girl",
          "The Flute Concert of Sans-Souci",
          "The Girl of the Golden West",
          "Girl of the Port",
          "Cities and Years",
          "The Big Attraction",
          "Handsome Gigolo, Poor Gigolo",
          "Headin' North",
          "Die heilige Flamme",
          "Hell's Angels",
          "Hell's Island",
          "Hello Sister",
          "Her Unborn Child",
          "Hide-Out",
          "Hjärtats röst",
          "The Hunted Men",
          "Hurricane",
          "In Gay Madrid",
          "The Indians Are Coming",
          "Inside the Lines",
          "Isle of Escape",
          "The Jazz Cinderella",
          "Just Like Heaven",
          "Kathleen Mavourneen",
          "Ladies of Leisure",
          "A Lady Surrenders",
          "A Lady to Love",
          "The Land of Missing Men",
          "The Lash",
          "The Last of the Duanes",
          "Lawful Larceny",
          "The Comeback",
          "The Lightning Express",
          "Lilies of the Field",
          "Liliom",
          "Bookkeeper Kremke",
          "The Lone Defender",
          "The Lone Rider",
          "The Lone Star Ranger",
          "The Lonesome Trail",
          "Lord Byron of Broadway",
          "Lord Richard in the Pantry",
          "Lotus Lady",
          "Love Comes Along",
          "Lucky Larkin",
          "Lummox",
          "Madonna of the Streets",
          "Mamba",
          "The Man from Nowhere",
          "Der Mann, der den Mord beging",
          "Manslaughter",
          "Mary",
          "Die Maske fällt",
          "Men Without Law",
          "The Love Storm",
          "Montana Moon",
          "Moral um Mitternacht",
          "Morocco",
          "Mother's Cry",
          "Mountain Justice",
          "Near the Rainbow's End",
          "New Moon",
          "A Notorious Affair",
          "När rosorna slå ut",
          "O'Malley Rides Alone",
          "The Office Wife",
          "The Oklahoma Cyclone",
          "Old English",
          "Olympia",
          "On Your Back",
          "On the Border",
          "The Other Tomorrow",
          "Our Blushing Brides",
          "Outward Bound",
          "Parade of the West",
          "Mon gosse de père",
          "The Parting of the Trails",
          "Passion Flower",
          "Peacock Alley",
          "Phantom of the Desert",
          "The Phantom of the West",
          "The Poor Millionaire",
          "Five Brides",
          "The Rampant Age",
          "Redemption",
          "Reno",
          "Ridin' Law",
          "The Right to Love",
          "River's End",
          "Road to Paradise",
          "Roaring Ranch",
          "Rogue of the Rio Grande",
          "Romance",
          "Romance of the West",
          "Love's Carnival",
          "Rough Waters",
          "Sagebrush Politics",
          "Sarah and Son",
          "Schuberts Frühlingstraum",
          "Second Choice",
          "Second Wife",
          "Die Sehnsucht jeder Frau",
          "Shadow Ranch",
          "The Silver Horde",
          "The Sin Ship",
          "The Sins of the Children",
          "Sombras de gloria",
          "Son of the Gods",
          "Song o' My Heart",
          "Song of the Caballero",
          "Sons of the Saddle",
          "South of Sonora",
          "Spurs",
          "Strictly Unconventional",
          "Such Is the Law",
          "Such Men Are Dangerous",
          "Suspense",
          "The Swellhead",
          "Swing High",
          "Temptation",
          "The Texan",
          "They Learned About Women",
          "This Mad World",
          "The Thoroughbred",
          "Three Faces East",
          "The Three Sisters",
          "And Quiet Flows the Don",
          "Today",
          "Tol'able David",
          "Trails of Danger",
          "Trigger Tricks",
          "The Truth About Youth",
          "El último de los Vargas",
          "Under Montana Skies",
          "Under Texas Skies",
          "Undertow",
          "The Vagabond King",
          "Vi två",
          "The Virtuous Sin",
          "War Nurse",
          "Way for a Sailor",
          "Westfront 1918",
          "What Men Want",
          "The Woman Who Was Forgotten",
          "Worldly Goods",
          "Young Desire",
          "Young Eagles",
          "Young Woodley",
          "Earth",
          "24 Hours",
          "The Age for Love",
          "The Light of the World",
          "Alias the Bad Man",
          "Aloha",
          "Always Goodbye",
          "The Other Side",
          "Are These Our Children",
          "The Arizona Terror",
          "Arrowsmith",
          "The Avenger",
          "Bad Girl",
          "Bad Sister",
          "The Bargain",
          "Battling with Buffalo Bill",
          "The Beloved Bachelor",
          "Mountains on Fire",
          "Beyond Victory",
          "The Sorrow of the Beautiful Woman",
          "Body and Soul",
          "Border Law",
          "Born to Love",
          "Bought!",
          "Branded",
          "Branded Men",
          "Bachelor's Folly",
          "All Faces West",
          "A Canção do Berço",
          "Captivation",
          "Venetian Nights",
          "Caught",
          "Cavalier of the West",
          "Woman Hungry",
          "The Champ",
          "Chances",
          "The Cheat",
          "The Chinese Bungalow",
          "Cimarron",
          "The Cisco Kid",
          "Clearing the Range",
          "The Common Law",
          "Compromised",
          "Confessions of a Co-Ed",
          "The Conquering Horde",
          "Consolation Marriage",
          "Cyclone Kid",
          "Damaged Love",
          "Daybreak",
          "The Deadline",
          "Desert Vengeance",
          "Dishonored",
          "Doctors' Wives",
          "Dracula",
          "Drácula",
          "Dugan of the Badlands",
          "The Easiest Way",
          "East Lynne",
          "Esperáme",
          "Ex-Flame",
          "Expensive Women",
          "Farornas paradis",
          "Father's Son",
          "Fighting Caravans",
          "The Fighting Fool",
          "The Fighting Sheriff",
          "Up for Murder",
          "Five and Ten",
          "The Flood",
          "Forgotten Women",
          "Frankenstein",
          "Freighters of Destiny",
          "Friends and Lovers",
          "The Galloping Ghost",
          "Galloping Thru",
          "The Gay Diplomat",
          "A Woman Branded",
          "Generalen",
          "God's Country and the Man",
          "Horizon",
          "The Great Lover",
          "The Great Meadow",
          "Die große Fahrt",
          "The Hard Hombre",
          "Headin' for Trouble",
          "Heartbreak",
          "Heaven on Earth",
          "Hell Bound",
          "Hell's Valley",
          "His Woman",
          "Honor Among Lovers",
          "Honor of the Family",
          "La gran jornada",
          "A House Divided",
          "The Hurricane Horseman",
          "I Take This Woman",
          "Illicit",
          "In the Employ of the Secret Service",
          "In Old Cheyenne",
          "Inspiration",
          "The Iron Man",
          "La jaula de los leones",
          "Comradeship",
          "Keepers of Youth",
          "Kept Husbands",
          "The Kid from Arizona",
          "En kvinnas morgondag",
          "Ladies' Man",
          "The Lady Refuses",
          "The Lady Who Dared",
          "Land of Wanted Men",
          "Lariats and Six-Shooters",
          "Lasca of the Rio Grande",
          "The Last Flight",
          "Laughing Sinners",
          "Law of the Rio Grande",
          "The Thaw",
          "Left Over Ladies",
          "Lightnin' Smith Returns",
          "The Lightning Flyer",
          "The Lightning Warrior",
          "Limit",
          "The Lion and the Lamb",
          "Luise, Königin von Preußen",
          "The Mad Genius",
          "The Magnificent Lie",
          "Maker of Men",
          "The Man Who Came Back",
          "The Man from Death Valley",
          "Man of the World",
          "Arizona",
          "Men Call It Love",
          "Men of the Sky",
          "Midnight Special",
          "Millie",
          "The Miracle Woman",
          "The Montana Kid",
          "Morals for Women",
          "Mother and Son",
          "Mounted Fury",
          "My Past",
          "My Sin",
          "The Mystery Trooper",
          "Mädchen in Uniform",
          "Die Männer um Lucie",
          "Die Nacht der Entscheidung",
          "One Night",
          "Near the Trail's End",
          "The Nevada Buckaroo",
          "Never the Twain Shall Meet",
          "Hell on Earth",
          "Alone",
          "Oklahoma Jim",
          "Once a Lady",
          "The One Way Trail",
          "Other Men's Women",
          "Over the Hill",
          "The Painted Desert",
          "Panic in Chicago",
          "The Darling of Paris",
          "Partners of the Trail",
          "Personal Maid",
          "The Phantom of Paris",
          "La piste des géants",
          "Playthings of Hollywood",
          "Possessed",
          "Potiphar's Wife",
          "The Primrose Path",
          "Pueblo Terror",
          "Quick Trigger Lee",
          "The Range Feud",
          "Range Law",
          "The Theft of the Mona Lisa",
          "Rebound",
          "The Reckless Hour",
          "Red Fork Range",
          "Resurrection",
          "Scarlet Dawn",
          "Rich Man's Folly",
          "Rider of the Plains",
          "Riders of the Rio",
          "Riders of the Cactus",
          "Riders of the North",
          "Riders of the Purple Sage",
          "The Ridin' Fool",
          "The Right of Way",
          "The Road to Reno",
          "The Road to Singapore",
          "Rubacuori",
          "Trapeze",
          "Salvation Nell",
          "The Secret Call",
          "Secret Service",
          "The Secret Witness",
          "Secrets of a Secretary",
          "Seed",
          "Shanghaied Love",
          "The She-Wolf",
          "The Sheriff's Secret",
          "Shotgun Pass",
          "The Sign of the Wolf",
          "The Skin Game",
          "Skyline",
          "Sob Sister",
          "Son of India",
          "A Son of the Plains",
          "The Spirit of Notre Dame",
          "Sporting Blood",
          "The Spy",
          "The Squaw Man",
          "Stolen Heaven",
          "Strangers May Kiss",
          "Street Scene",
          "The Struggle",
          "Sundown Trail",
          "The Sunrise Trail",
          "Surrender",
          "Susan Lenox (Her Fall and Rise)",
          "Svengali",
          "Tarnished Lady",
          "The Battle of Gallipoli",
          "Ten Nights in a Bar-Room",
          "The Texas Ranger",
          "Three Girls Lost",
          "Not Exactly Gentlemen",
          "Three Who Loved",
          "Tomorrow and Tomorrow",
          "Touchdown!",
          "Trails of the Golden West",
          "Transgression",
          "Transport of Fire",
          "Trötte Teodor",
          "Two-Gun Caballero",
          "Two Fisted Justice",
          "The Two Gun Man",
          "Under Eighteen",
          "Unfaithful",
          "Waterloo Bridge",
          "West of Cheyenne",
          "Westward Bound",
          "White Renegade",
          "White Shoulders",
          "Wicked",
          "Wild Horse",
          "Wild West Whoopee",
          "The Woman Decides",
          "The Woman Between",
          "A Woman of Experience",
          "Women Go on Forever",
          "Women Love Once",
          "Women Men Marry",
          "Working Girls",
          "Yankee Don",
          "Young Sinners",
          "Golden Mountains",
          "After Tomorrow",
          "The Age of Consent",
          "Alias the Doctor",
          "The All-American",
          "Souls in Conflict",
          "Amateur Daddy",
          "American Madness",
          "Crying to the Blue Sky",
          "Are You Listening?",
          "As You Desire Me",
          "Back Street",
          "Die Tänzerin von Sanssouci",
          "Love in Morocco",
          "Beauty Parlor",
          "Between Fighting Men",
          "Beyond the Rockies",
          "The Big Stampede",
          "The Big Timer",
          "A Bill of Divorcement",
          "The Black Ghost",
          "The Blue Light",
          "Blonde Venus",
          "The Boiling Point",
          "Border Devils",
          "Breach of Promise",
          "Broken Lullaby",
          "The Broken Wing",
          "The Cabin in the Cotton",
          "Call Her Savage",
          "Carmen",
          "Deception",
          "Cheaters at Play",
          "Chocolate Girl",
          "The Loyal 47 Ronin",
          "Moon Over Morocco",
          "Come on, Tarzan",
          "Come on Danger!",
          "The Conquerors",
          "The Crash",
          "Wooden Crosses",
          "Cross-Examination",
          "The Crusader",
          "Cynara",
          "Dance Pretty Lady",
          "Dancers in the Dark",
          "Daring Danger",
          "A Daughter of Her People",
          "Men and Jobs",
          "Destry Rides Again",
          "The Devil Horse",
          "Devil and the Deep",
          "Devil's Lottery",
          "Diamond Trail",
          "Divorce in the Family",
          "The Doomed Battalion",
          "Downstairs",
          "Drifting Souls",
          "Dynamite Denny",
          "Dynamite Ranch",
          "Gilgi: One of Us",
          "Emma",
          "End of the Trail",
          "Exposure",
          "Ecstasy",
          "Faithful Hearts",
          "Faithless",
          "False Faces",
          "A Farewell to Arms",
          "Fargo Express",
          "The Fighting Champ",
          "The Fighting Gentleman",
          "The Fighting Marshal",
          "Flaming Guns",
          "Flesh",
          "Forbidden",
          "Forbidden Company",
          "Forgotten Commandments",
          "The Forty-Niners",
          "The Fourth Horseman",
          "Freaks",
          "The Sport Parade",
          "Broadway to Cheyenne",
          "The Galloping Kid",
          "The Gay Buckaroo",
          "The Gay Caballero",
          "Ghost City",
          "Ghost Valley",
          "En glad gutt",
          "Gold",
          "The Golden West",
          "Grand Hotel",
          "The Great Love",
          "Guns for Hire",
          "Nail in the Boot",
          "Halvvägs till himlen",
          "Spring Comes from the Ladies",
          "Haunted Gold",
          "The Heart Punch",
          "Hearts of Humanity",
          "Hell-Fire Austin",
          "Hell's Headquarters",
          "Hell's House",
          "Hello Trouble",
          "Heritage of the Desert",
          "Hidden Gold",
          "Hidden Valley",
          "Honor of the Mounted",
          "Hot Saturday",
          "Huddle",
          "Human Targets",
          "Loving Blood of the Volcano",
          "Husband's Holiday",
          "Insult",
          "Kongo",
          "Kuhle Wampe or Who Owns the World?",
          "Lady and Gent",
          "The Last Frontier",
          "The Last of the Mohicans",
          "Law and Lawless",
          "Law of the North",
          "The Law of the Sea",
          "Law of the West",
          "Lawyer Man",
          "Ulica",
          "Lena Rivers",
          "Letty Lynton",
          "Life Begins",
          "Ljubav i strast",
          "The Local Bad Man",
          "The Lost Squadron",
          "Love Affair",
          "Love Bound",
          "Lovers Courageous",
          "Lucky Larrigan",
          "Madame Butterfly",
          "Madison Square Garden",
          "Malay Nights",
          "Man About Town",
          "The Man Called Back",
          "The Man Who Played God",
          "The Man from Arizona",
          "The Man from Hell's Edges",
          "The Man from New Mexico",
          "The Man from Yesterday",
          "A Man's Land",
          "The Dawn of Mongolia",
          "Spring Shower",
          "Mark of the Spur",
          "Mason of the Mounted",
          "Until the Day We Meet Again",
          "McKenna of the Mounted",
          "Right to Happiness",
          "Men Are Such Fools",
          "Hombres de mi vida",
          "Men of Chance",
          "The Miracle Man",
          "Sherlock Holmes and the Missing Rembrandt",
          "The Mouthpiece",
          "Moth-eaten Spring",
          "My Pal, the King",
          "Mystery Ranch",
          "No Blood Relation",
          "New Morals for Old",
          "The Night Mayor",
          "The Night Rider",
          "Nine Till Six",
          "No Greater Love",
          "No More Orchids",
          "No One Man",
          "Okay America!",
          "One Man Law",
          "Outlaw Justice",
          "The Painted Woman",
          "A Parisian Romance",
          "Partners",
          "A Passport to Hell",
          "Passport to Paradise",
          "Play Girl",
          "Pleasure",
          "The Pocatello Kid",
          "Poil de carotte",
          "Police Court",
          "Polly of the Circus",
          "Probation",
          "The Racing Strain",
          "Rain",
          "The Rainbow Trail",
          "Rasputin, Demon with Women",
          "Rebecca of Sunnybrook Farm",
          "Renegades of the West",
          "The Rider of Death Valley",
          "Riders of the Desert",
          "Riders of the Golden Gulch",
          "Ridin' for Justice",
          "The Riding Tornado",
          "The Saddle Buster",
          "Scandal for Sale",
          "The Scarlet Brand",
          "Self Made Lady",
          "Sherlock Holmes",
          "Shop Angel",
          "Shopworn",
          "The Sign of the Cross",
          "The Silver Lining",
          "Single-Handed Sanders",
          "Sinners in the Sun",
          "6 Hours to Live",
          "Sky Bride",
          "Skyscraper Souls",
          "Smilin' Through",
          "So Big!",
          "Society Girl",
          "Son of Oklahoma",
          "The Son-Daughter",
          "South of the Rio Grande",
          "Spirit of the West",
          "State's Attorney",
          "The Stoker",
          "Stowaway",
          "Strange Interlude",
          "Strange Justice",
          "Stranger in Town",
          "Street of Women",
          "Sunset Trail",
          "Symphony of Six Million",
          "Tangled Fortunes",
          "The Texas Bad Man",
          "Texas Buddies",
          "Texas Cyclone",
          "Texas Gun Fighter",
          "Texas Pioneers",
          "The Texas Tornado",
          "That's My Boy",
          "They Call It Sin",
          "The Thirteenth Guest",
          "Those We Love",
          "Thrill of Youth",
          "Thunder Below",
          "Tiger Shark",
          "Tom Brown of Culver",
          "Tombstone Canyon",
          "Too Busy to Work",
          "Trouble Busters",
          "Melo",
          "Two Kinds of Women",
          "Unashamed",
          "Uncle Moses",
          "Unholy Love",
          "Die unsichtbare Front",
          "Uptown New York",
          "The Vanishing Frontier",
          "Vanishing Men",
          "Vanity Fair",
          "The Old Lady",
          "Veiled Aristocrats",
          "The Return of Nathan Becker",
          "Shame",
          "Vaermlaenningarna",
          "So lang' noch ein Walzer vom Strauß erklingt",
          "What Men Know",
          "The Washington Masquerade",
          "Washington Merry-Go-Round",
          "The Water Gipsies",
          "Week Ends Only",
          "Dope",
          "West of Broadway",
          "The Western Code",
          "Westward Passage",
          "The Wet Parade",
          "What Price Hollywood?",
          "When a Feller Needs a Friend",
          "While Paris Sleeps",
          "Whistlin' Dan",
          "White Eagle",
          "Winner Take All",
          "Without Honor",
          "A Woman Commands",
          "The Woman from Monte Carlo",
          "The World and the Flesh",
          "Yiskor",
          "Young Bride",
          "Gesuzza the Garibaldian Wife",
          "Ace of Aces",
          "After Tonight",
          "Air Hostess",
          "Alimony Madness",
          "Ann Carver's Profession",
          "Ann Vickers",
          "Anna and Elizabeth",
          "Another Language",
          "As the Earth Turns",
          "Baby Face",
          "Beauty for Sale",
          "The Bermondsey Kid",
          "The Big Brain",
          "Big Executive",
          "The Big Race",
          "Bitter Sweet",
          "The Bitter Tea of General Yen",
          "Black Beauty",
          "Blood Money",
          "A Man with a Married Woman's Hairdo",
          "Bondage",
          "Breed of the Border",
          "The Burning Secret",
          "Brief Moment",
          "Broadway Bad",
          "Broadway Thru a Keyhole",
          "Broken Dreams",
          "By Appointment Only",
          "The Lark",
          "The California Trail",
          "Captured!",
          "Cavalcade",
          "Central Airport",
          "Chance at Heaven",
          "Child of Manhattan",
          "College Coach",
          "The Constant Woman",
          "Contraband",
          "Cornered",
          "The Cowboy Counsellor",
          "Cradle Song",
          "Crashin' Broadway",
          "Cross Fire",
          "Cuando el amor ríe",
          "Daring Daughters",
          "Day of Reckoning",
          "Deadwood Pass",
          "Passing Fancy",
          "Deserter",
          "Destination Unknown",
          "The Two Orphans",
          "The Devil's Mate",
          "The Devil's in Love",
          "Dinner at Eight",
          "The Dude Bandit",
          "Twenty-Six Commissars",
          "Story of a Sin",
          "East of Fifth Avenue",
          "The Eleventh Commandment",
          "The Emperor Jones",
          "Employees' Entrance",
          "Enlighten Thy Daughter",
          "Eskimo",
          "The Eternal Jew",
          "Ever in My Heart",
          "Fast Workers",
          "The Fighting Parson",
          "Fighting Texans",
          "Fighting with Kit Carson",
          "Fighting for Justice",
          "The Flag Lieutenant",
          "Strawberry Roan",
          "Forbidden Trail",
          "Forgotten",
          "Found Alive",
          "The Woman They Talk About",
          "The Fugitive",
          "Gabriel Over the White House",
          "The Gallant Fool",
          "Gallant Lady",
          "Galloping Romeo",
          "Gambling Ship",
          "Gigolettes of Paris",
          "The Peak Scaler",
          "The Golden Cage",
          "Golden Harvest",
          "Gordon of Ghost City",
          "The Great Jasper",
          "Hell Below",
          "Hell and High Water",
          "Her First Affaire",
          "Her Resale Value",
          "Heroes for Sale",
          "High Finance",
          "Our Flags Lead Us Forward",
          "Hold Me Tight",
          "Home, Sweet Home",
          "Hoopla",
          "The House on 56th Street",
          "Humanity",
          "Hälsingar",
          "I Am Suzanne!",
          "I Have Lived",
          "I Loved a Woman",
          "I Was a Spy",
          "If I Were Free",
          "Infernal Machine",
          "The Iron Master",
          "The Dancing Girl of Izu",
          "Jennie Gerhardt",
          "Cadets",
          "The Wedding of Palo",
          "Apart from You",
          "King of the Arena",
          "The Kiss Before the Mirror",
          "Little Man What Now",
          "Ladies They Talk About",
          "The Last Trail",
          "Playing at Love",
          "Life in the Raw",
          "The Life of Jimmy Dolan",
          "Lilly Turner",
          "Little Women",
          "The Lone Avenger",
          "Looking Forward",
          "Lucky Dog",
          "Luxury Liner",
          "The Little School Mistress",
          "Man of Action",
          "A Man of Sentiment",
          "Man's Castle",
          "Mary Stevens, M.D.",
          "The Masquerader",
          "Men Must Fight",
          "Moonlight and Pretzels",
          "Life Begins Tomorrow",
          "Dawn",
          "Morning Glory",
          "My Woman",
          "The Narrow Corner",
          "Night Flight",
          "Night of Terror",
          "No Marriage Ties",
          "No Other Woman",
          "November Night",
          "Outskirts",
          "Oliver Twist",
          "A Man Has Been Stolen",
          "One Man's Journey",
          "One Precious Year",
          "Only Yesterday",
          "Peg o' My Heart",
          "Phantom Thunderbolt",
          "Pilgrimage",
          "The Power and the Glory",
          "El precio de un beso",
          "Racing Youth",
          "Rainbow Over Broadway",
          "Ranger's Code",
          "The Growing Youth",
          "The Riders of German East Africa",
          "The Reliquary",
          "Reunion in Vienna",
          "The Right to Romance",
          "Robbers' Roost",
          "The Rustler's Roundup",
          "Rusty Rides Alone",
          "Rakoczi March",
          "Sagebrush Trail",
          "Saturday's Millions",
          "Tugboat M 17",
          "Second Hand Wife",
          "Secret Sinners",
          "The Secret of Madame Blanche",
          "Secrets",
          "Shanghai Madness",
          "She Had to Say Yes",
          "Silent Men",
          "The Silk Express",
          "The Silver Cord",
          "Sing Sinner Sing",
          "Sister to Judas",
          "Smoke Lightning",
          "Smoky",
          "Son of the Border",
          "The Song You Gave Me",
          "The Song of Songs",
          "Ray of Sunshine",
          "A Southern Maid",
          "Spies at Work",
          "Stage Mother",
          "Storm at Daybreak",
          "Strictly Personal",
          "A Study in Scarlet",
          "Sundown Rider",
          "Supernatural",
          "Sweepings",
          "Spy",
          "The Water Magician",
          "Terror Trail",
          "Today We Live",
          "Woman of Tokyo",
          "Tonight Is Ours",
          "Torch Singer",
          "Trailing North",
          "Under Secret Orders",
          "A Love Story",
          "Unknown Valley",
          "The Vampire Bat",
          "The Great Consoler",
          "Via Pony Express",
          "The Distant Voice",
          "Voltaire",
          "Walls of Gold",
          "The Wandering Jew",
          "War of the Range",
          "What Price Decency",
          "What Price Innocence?",
          "When Strangers Marry",
          "When a Man Rides Alone",
          "The Whirlwind",
          "The White Sister",
          "White Woman",
          "Wine, Women and Song",
          "The Woman Accused",
          "Women Won't Tell",
          "The World Changes",
          "The Worst Woman in Paris?",
          "Every-Night Dreams",
          "Young Blood",
          "Zoo in Budapest",
          "Zero for Conduct",
          "'Neath the Arizona Skies",
          "Against the Law",
          "The Age of Innocence",
          "All Men Are Enemies",
          "All of Me",
          "Among the Missing",
          "Angele",
          "Are We Civilized?",
          "L'Atalante",
          "Babbitt",
          "Bachelor of Arts",
          "Badge of Honor",
          "The Band Plays On",
          "Bedside",
          "Beggars in Ermine",
          "Bella Donna",
          "Beloved",
          "Big Time or Bust",
          "Black Moon",
          "The Blue Squadron",
          "Blue Steel",
          "Bolero",
          "Born to Be Bad",
          "The Brand of Hate",
          "The Bride of the Lake",
          "Brides of Sulu",
          "British Agent",
          "Vagabond Violinist",
          "Call of the Coyote: A Legend of the Golden West",
          "Chained",
          "Change of Heart",
          "The Blind Woman of Sorrento",
          "La ciudad de cartón",
          "Clara Gibbings",
          "Coming Out Party",
          "The Constant Nymph",
          "Cowboy Holiday",
          "Cross Streets",
          "Cuesta abajo",
          "The Curtain Falls",
          "Dark Hazard",
          "Death Takes a Holiday",
          "The Defense Rests",
          "A Demon for Trouble",
          "Desirable",
          "Smoking Guns",
          "Two Monks",
          "Double Door",
          "Dr. Monica",
          "Drums o' Voodoo",
          "The Dude Ranger",
          "The Beast of Borneo",
          "8 Girls in a Boat",
          "Elinor Norton",
          "The Scandal",
          "Evelyn Prentice",
          "Evensong",
          "Ever Since Eve",
          "The Fighting Code",
          "The Fighting Ranger",
          "The Fighting Rookie",
          "Fighting Through",
          "The Fighting Trooper",
          "Finishing School",
          "The Firebird",
          "Forbidden Territory",
          "The Fountain",
          "Frontier Days",
          "Frontier Marshal",
          "Fugitive Lady",
          "Fury of the Jungle",
          "Gambling Lady",
          "Gentlemen Are Born",
          "A Girl of the Limberlost",
          "Glamour",
          "Great Expectations",
          "Thunderstorm",
          "Gun Justice",
          "A Mother Should Be Loved",
          "Half a Sinner",
          "Have a Heart",
          "Hell Bent for Love",
          "Hell in the Heavens",
          "Mr. Kobin Seeks Adventure",
          "Hired Wife",
          "His Greatest Gamble",
          "The Mystery of Carlo Cavelli",
          "Hollywood Mystery",
          "Honor of the Range",
          "Housewife",
          "The Human Side",
          "I Believed in You",
          "I Hate Women",
          "I'm for You, You're for Me",
          "Ich sehne mich nach dir",
          "The Line-Up",
          "In Love with Life",
          "In Old Santa Fe",
          "Norah O'Neale",
          "Jane Eyre",
          "Java Head",
          "Power",
          "Journal of a Crime",
          "Street Without End",
          "Keep 'Em Rolling",
          "The Key",
          "Ladies Lake",
          "Laughing Boy",
          "The Lawless Frontier",
          "Let's Fall in Love",
          "Let's Try Again",
          "Das Lied vom Leben",
          "Life Returns",
          "The Lucky Diamond",
          "Little Man, What Now?",
          "The Little Minister",
          "A Lost Lady",
          "The Love Captive",
          "The Man Trailer",
          "The Man Who Reclaimed His Head",
          "The Man from Hell",
          "The Man from Utah",
          "Man of Two Worlds",
          "A Man's Game",
          "Mandalay",
          "Mannequin",
          "Marie Galante",
          "Marrying Widows",
          "Maryjka",
          "Melodía prohibida",
          "Men in White",
          "Men of the Night",
          "Les Misérables",
          "A Modern Hero",
          "Most Precious Thing in Life",
          "The Woman of the Port",
          "Murder in Trinidad",
          "Mystery Mountain",
          "Nada más que una mujer",
          "Nana",
          "Night Alarm",
          "The 9th Guest",
          "No Escape",
          "No Greater Glory",
          "Moscow Nights",
          "Of Human Bondage",
          "Once to Every Bachelor",
          "Once to Every Woman",
          "One More River",
          "Open All Night",
          "Operator 13",
          "Orient Express",
          "Our Daily Bread",
          "Outcast Lady",
          "Outlaw's Highway",
          "The Painted Veil",
          "Paris Interlude",
          "The Pecos Dandy",
          "Pesnya o shchastye",
          "Petersburg Nights",
          "The President Vanishes",
          "Public Stenographer",
          "Pursued",
          "Boule de suif",
          "Range Riders",
          "Strike!",
          "Registered Nurse",
          "Ridin' Thru",
          "Riptide",
          "The Road to Ruin",
          "Rocky Rhodes",
          "Broken Shoes",
          "Sadie McKee",
          "Sans famille",
          "The Scarlet Empress",
          "The Scarlet Letter",
          "Sensation Hunters",
          "She Had to Choose",
          "Shock",
          "Side Streets",
          "Everybody's Woman",
          "Sisters Under the Skin",
          "Sorrell and Son",
          "Spitfire",
          "The St. Louis Kid",
          "Stamboul Quest",
          "The Star of Valencia",
          "Straight Is the Way",
          "Success at Any Price",
          "Such Women Are Dangerous",
          "El tango en Broadway",
          "Loyalty of Love",
          "Theft of Sight",
          "There's Always Tomorrow",
          "This Man Is Mine",
          "This Side of Heaven",
          "Thunder Over Texas",
          "Thunder in the East",
          "The Thundering Herd",
          "The Trail Beyond",
          "The Trail Drive",
          "Tres Amores",
          "The Trumpet Blows",
          "Two Alone",
          "A Story of Floating Weeds",
          "Unknown Blonde",
          "The Prodigal Son",
          "Wagon Wheels",
          "War Is a Racket",
          "The Way of the West",
          "We Live Again",
          "Wednesday's Child",
          "West of the Pecos",
          "Wharf Angel",
          "Wheels of Destiny",
          "White Heat",
          "The White Parade",
          "Whom the Gods Destroy",
          "A Wicked Woman",
          "The Legend of William Tell",
          "The Woman Who Dared",
          "The World Moves On",
          "You Belong to Me",
          "You Can't Buy Everything",
          "The Youth of Russia",
          "Aysel Batakli Dam's Daughter",
          "Behold My Wife!",
          "Border Guns",
          "Chloe, Love Is Calling You",
          "Fighting Hero",
          "Flirtation",
          "Flood Tide",
          "Gunfire",
          "Helldorado",
          "High School Girl",
          "Kid Courageous",
          "Little Men",
          "Red Morning",
          "The Secret Bride",
          "The Silver Streak",
          "Sons of Steel",
          "Terror of the Plains",
          "Tomorrow's Youth",
          "Western Justice",
          "The World Accuses",
          "Polish Jew",
          "I Stand Condemned",
          "The Prescott Kid",
          "Spy 77",
          "Damaged Lives",
          "A Man and His Woman",
          "The Conquest of the Air",
          "The Third Sex",
          "St. Louis Woman",
          "Modern Motherhood",
          "Little Toys",
          "Daphnis and Chloe",
          "That's What You Do When You Fall in Love",
          "The Man They Could Not Hang",
          "Paustian's Watch",
          "Auld Lang Syne",
          "A Texan's Honor",
          "The Three Outcasts",
          "The Westerner",
          "Children of the New Day",
          "Clown George",
          "Diary of a Revolutionist",
          "Enemies of Progress",
          "Millions in Flight",
          "Grain",
          "Island of Doom",
          "Law of the Siberian Taiga",
          "Lighting Bill",
          "Marriage on Approval",
          "Miracles",
          "Soulless Women",
          "Reckless Decision",
          "The Call of the Blood",
          "Sniper",
          "Son of the Land",
          "The Unfortunate Bride",
          "Amor in montagna",
          "Amore e morte",
          "Express 13",
          "Cain and Artem",
          "The Love Kiss",
          "The Dreamy Mouth",
          "Pioneers of Palestine",
          "The Dream Melody",
          "The Lighthouse Keepers",
          "Hawk of the Hills",
          "The Tonto Kid",
          "The Boss Cowboy",
          "Un capitán de cosacos",
          "La cautivadora",
          "Circle Canyon",
          "Cuerpo y alma",
          "Der Fall des Generalstabs-Oberst Redl",
          "The Fighting Cowboy",
          "Glos serca",
          "Lightning Range",
          "Rainbow Ranch",
          "Rawhide Mail",
          "Il richiamo del cuore",
          "The Elf King",
          "Toda una vida",
          "Toute sa vie",
          "Crown of Thorns",
          "Battling Buckaroo",
          "El código penal",
          "Dämon des Meeres",
          "La foule hurle",
          "The Fourth Alarm",
          "Riding Speed",
          "Girls Who Dare",
          "Little Dorrit",
          "Oriente es Occidente",
          "South of Santa Fe",
          "Esclavas de la moda",
          "La ley del harem",
          "La llama sagrada",
          "Quand on est belle",
          "La virgen de la Caridad",
          "Inheritance in Pretoria",
          "Easy Street",
          "Grandeur and Decadence",
          "Harlem After Midnight",
          "Wages of Sin",
          "Juarez and Maximillian",
          "Mordprozeß Mary Dugan",
          "Gold and Silver",
          "Over the Waves",
          "Shock Troop",
          "For the Rights of Man",
          "A Man's a Man",
          "El barbero de Napoleón",
          "Del mismo barro",
          "La femme nue",
          "Mountain Man",
          "El valiente",
          "Volga in Flames",
          "Gunners and Guns",
          "La bataille",
          "Dans une île perdue",
          "Sex Madness",
          "Tropennächte",
          "The Mad Parade",
          "The Death Agony of the Eagles",
          "Camino del infierno",
          "The Happy Ending",
          "Mamá",
          "Luigi La Volpe",
          "La mujer X",
          "The Orderly",
          "The Road to Fortune",
          "Dragnet Night",
          "L'aiglon",
          "Carnival Lady",
          "The Unknown Singer",
          "Discord",
          "Designing Women",
          "The Green Pack",
          "Yo, tú y ella",
          "Neighbors' Wives",
          "Victims of Persecution",
          "Gloria",
          "Little Stranger",
          "The Lost Chord",
          "Money Mad",
          "These Thirty Years",
          "Rough and Ready",
          "Si l'empereur savait ça",
          "The Tunnel",
          "Crusaders of the West",
          "The Bread Peddler",
          "Iceland Fisherman",
          "The Saddle King",
          "Stupéfiants",
          "Japanese Girls at the Harbor",
          "La ronde des heures",
          "Elysia (Valley of the Nude)",
          "House of Greed",
          "The Judas of Tyrol",
          "The Break-Up",
          "Woman's World",
          "The Case for the Crown",
          "The Great Gamble",
          "The Border Menace",
          "Ferocious Pal",
          "Sweeping Against the Winds",
          "Fighting to Live",
          "Daïnah la métisse",
          "A Texas Cowboy",
          "Luck",
          "Dokhtare Lor ya irane druz va emruz",
          "Adventures of Texas Jack",
          "The Rawhide Terror",
          "Le réquisitoire",
          "Seine Freundin Annette",
          "Une femme a menti",
          "Woman in the Jungle",
          "Une belle garce",
          "A Woman's Justice",
          "La belle marinière",
          "The Whirlwind Rider",
          "Wedding on the Volga",
          "Western Methods",
          "The Cheyenne Cyclone",
          "¡Viva México!",
          "The Human Octopus",
          "Death Flight",
          "Forever Yours",
          "Rawhide Romance",
          "Dos noches",
          "Olimpia",
          "White Majesty",
          "Little Red Riding Hood",
          "Resurrección",
          "Wu Li Chang",
          "À mi-chemin du ciel",
          "Cascarrabias",
          "Marijka nevernice",
          "Chun can",
          "Love and Duty",
          "The Peach Girl",
          "Tex Takes a Holiday",
          "45 Calibre Echo",
          "Lawless Valley",
          "The Reckless Rider",
          "The Horror",
          "The Goddess",
          "La belle de nuit",
          "The Woman and the Puppet",
          "Le rêve",
          "L'homme à l'Hispano",
          "Range Warfare",
          "Paradise Valley",
          "A Minha Noite de Núpcias",
          "La fuerza del querer",
          "Sombras del circo",
          "Sonntag des Lebens",
          "Der Sprung ins Nichts",
          "La vacanza del diavolo",
          "Twin Sisters",
          "La voie sans disque",
          "The White Woman",
          "Doña mentiras",
          "El hombre malo",
          "Lopez, le bandit",
          "Le secret du docteur",
          "El secreto del doctor",
          "Il segreto del dottore",
          "Tajemnica lekarza",
          "Tajemství lékarovo",
          "No More Children",
          "Goethe's Jugendgeliebte",
          "Vanquished Hearts",
          "Enemigos",
          "La noche del pecado",
          "Sins of Love",
          "Su última canción",
          "Una vida por otra",
          "S.A.-Mann Brand",
          "Zirkus Leben",
          "Wild Flower",
          "Silent Night",
          "Zwei Menschen",
          "Sajiv Murti",
          "The Song of the Flute",
          "Sweetheart of a Shepherdess",
          "Astero",
          "Greek Rhapsody",
          "Blue Candles",
          "Social Decay",
          "The Wizard of Athens",
          "Far from the Crowd",
          "The Fatal",
          "The Sculptor's Dream",
          "Stella Violanti",
          "Tomorrow Night",
          "Marriage in Name Only",
          "Western Racketeers",
          "Zabawka",
          "At the Strassburg",
          "The Seventh Power",
          "The Sporck Battalion",
          "Das verlorene Tal",
          "Zeemansvrouwen",
          "Between Heaven and Earth",
          "The Ringer",
          "Girls for Sale",
          "The Wrong Road",
          "Kurds-Yezidis",
          "The Ridin' Kid",
          "So This Is Arizona",
          "Mlody las",
          "Santa Lucia Luntana",
          "Insel der Dämonen",
          "Finis terrae",
          "The Lone Trail",
          "La regina di Sparta",
          "Carnival of Crime",
          "Far Western Trails",
          "Fighting Cowboy",
          "The Inseparables",
          "The Little Savage",
          "Lure of the Mine",
          "Fue no shiratama",
          "Playthings of Desire",
          "Sacrifice",
          "Soul of Mexico",
          "Cowboy Cavalier",
          "The Galloping Lover",
          "Illusion of Love",
          "Hollywood, ciudad de ensueño",
          "Regeneración",
          "Contrabando",
          "The Divorce Racket",
          "Flashing Spurs",
          "Texas Battler",
          "Mazie",
          "Queen of Sports",
          "Manchurian Marching Song",
          "Wild Rose",
          "Pink Seduction",
          "The Girl Who Wouldn't Wait",
          "Hokuman's Joan of Arc",
          "Koina no Ginpei: Yuki no wataridori",
          "White Venom",
          "Souls in Bondage",
          "Così è la vita",
          "It Happened in Paris",
          "Sea of Fragrant Snow",
          "Night in the City",
          "En nombre de la amistad",
          "Z dnia na dzien",
          "The Laughing Woman",
          "Otoko ippiki dokyô no yaibâ",
          "The Lordless Retainer",
          "The Lucky Land",
          "Just One Night",
          "Platinum Dragon",
          "Beyond the Spring Wind",
          "The Killing of Otsuya",
          "Kentatsu's Vengeance",
          "A Migrating Bird's Souvenirs of the Kiso Valley",
          "Mejî shinnen-kanchô orai",
          "Konsen konshinkyoku",
          "Hail to the Farmers",
          "Wind Across the Rapids",
          "Jalma",
          "American girl from Baghdad",
          "Fire Revenge",
          "Temptation's Workshop",
          "O Festino o la legge",
          "Third Company",
          "Daughter of Saint",
          "Ed's Coed",
          "Cry of Women",
          "Shanghai Over 24 Hours",
          "Homesick",
          "The Night Coachman",
          "Chijiku wo mawasuru chikara",
          "They'll Never Surrender",
          "Western Honor",
          "Born to Fight",
          "Turning Point of the Youngsters",
          "The Fool Pays Respects",
          "The Bitter Sea",
          "Mourning of the Chaste Tree Flower",
          "Corianton",
          "Bread",
          "The Orphan of the Storm",
          "The Most Dangerous Game in Color",
          "Brave New World",
          "Hollywood After Dark",
          "Mary, the Beautiful",
          "The Messenger of the Blessed Virgin",
          "The Last Attraction",
          "Romance Tropical",
          "Struggling",
          "Peace After Storm",
          "Il Grande Sentiero",
          "Valley of Badmen",
          "Uruwashiki tenbatsû",
          "Ken",
          "Shinsho hâchinin onna",
          "Metoden",
          "The Beating",
          "Debeso no cuikara",
          "Return to Heaven"
         ],
         "legendgroup": "Drama",
         "marker": {
          "color": "#EF553B",
          "line": {
           "color": "DarkSlateGrey",
           "width": 0.5
          },
          "opacity": 0.9,
          "size": 6,
          "symbol": "circle"
         },
         "mode": "markers",
         "name": "Drama",
         "showlegend": true,
         "type": "scattergl",
         "x": [
          31.801432,
          11.879026,
          2.0631945,
          2.0631945,
          2.049142,
          -0.26427054,
          37.100204,
          0.17163363,
          10.430279,
          30.919237,
          40.412643,
          2.049142,
          1.9007913,
          0.7222936,
          -25.228506,
          35.622368,
          -2.3606758,
          20.932686,
          12.414468,
          41.410686,
          0.053143766,
          1.1308614,
          4.7308326,
          0.7222936,
          31.46454,
          24.552567,
          8.360369,
          0.053143766,
          -2.0346203,
          2.741223,
          -2.0346203,
          -4.7450204,
          -3.154982,
          -2.107045,
          -1.5888026,
          -0.7180042,
          -2.0346203,
          -2.6855679,
          1.0954361,
          37.400932,
          40.930847,
          2.9203393,
          36.449646,
          35.653324,
          -0.53652537,
          35.572784,
          1.2957551,
          -1.2086788,
          -1.2096738,
          -11.850953,
          6.997063,
          8.144426,
          -13.471623,
          22.616512,
          -1.2593082,
          6.600664,
          0.15163675,
          -4.0470138,
          8.654852,
          0.053143766,
          30.920473,
          -0.33689466,
          -0.2335716,
          0.24203683,
          0.053143766,
          41.949814,
          -2.3820214,
          -0.8672458,
          9.66926,
          -1.6263443,
          0.053143766,
          -0.8039366,
          0.036706116,
          -1.6935598,
          -0.94784915,
          -1.7136846,
          -0.34080347,
          43.625397,
          -0.7762337,
          6.845997,
          0.053143766,
          5.833454,
          -2.9571214,
          -1.1321503,
          2.049142,
          -2.7362738,
          1.6528945,
          4.3009415,
          -9.480725,
          35.307262,
          2.116098,
          0.053143766,
          2.7510746,
          2.049142,
          -12.505197,
          -16.650751,
          41.055317,
          0.053143766,
          23.608038,
          -2.9571214,
          -1.4201211,
          -16.662899,
          -25.327051,
          -12.9317045,
          23.527311,
          -8.381739,
          6.8450418,
          -2.956831,
          2.049142,
          14.864967,
          2.049142,
          35.160946,
          -3.1522791,
          -3.1522791,
          2.049142,
          32.930412,
          -0.05850409,
          40.189205,
          43.125275,
          25.520739,
          32.23065,
          17.637146,
          -9.209228,
          -0.05850409,
          20.338953,
          -0.05850409,
          14.917904,
          16.993498,
          -0.05850409,
          -0.05850409,
          16.327229,
          -0.05850409,
          -8.700967,
          12.7774,
          -10.668934,
          0.053143766,
          22.413666,
          -0.05850409,
          18.004871,
          -25.586102,
          -2.1657295,
          -0.05850409,
          -0.05850409,
          -0.05850409,
          -17.483013,
          16.716671,
          -13.803583,
          -0.05850409,
          -4.134688,
          18.432516,
          0.053143766,
          35.851566,
          -4.9016914,
          35.89666,
          -0.05850409,
          -0.05850409,
          -0.05850409,
          -0.05850409,
          -0.05850409,
          -32.917477,
          -0.05850409,
          36.20669,
          23.258606,
          25.08809,
          5.5851245,
          0.053143766,
          -0.05850409,
          -0.05850409,
          36.337753,
          -0.05850409,
          31.026873,
          -0.05850409,
          -0.05850409,
          -25.64731,
          0.053143766,
          24.087671,
          0.053143766,
          2.049142,
          -0.05850409,
          -0.05850409,
          0.053143766,
          0.053143766,
          23.457663,
          0.053143766,
          -4.8802137,
          36.872585,
          -0.05850409,
          0.053143766,
          6.271997,
          -0.05850409,
          0.053143766,
          0.053143766,
          21.313694,
          -0.05850409,
          -0.05850409,
          -0.05850409,
          -0.05850409,
          36.985428,
          -0.05850409,
          31.801521,
          -0.05850409,
          31.977161,
          -0.05850409,
          -0.05850409,
          -0.05850409,
          34.65487,
          22.627905,
          -0.05850409,
          30.7895,
          -0.05850409,
          35.611557,
          -0.05850409,
          -0.05850409,
          0.053143766,
          -0.05850409,
          -0.05850409,
          0.053143766,
          -0.05850409,
          -0.05850409,
          -13.380879,
          36.079334,
          -0.05850409,
          -11.347116,
          13.846589,
          -0.44752213,
          -0.05850409,
          -18.296366,
          -0.05850409,
          31.810846,
          5.3928266,
          0.053143766,
          -0.05850409,
          35.984703,
          -35.214237,
          -10.493088,
          -1.9050375,
          8.654852,
          -0.05850409,
          -0.05850409,
          0.053143766,
          0.053143766,
          -26.888275,
          28.669699,
          -0.05850409,
          0.053143766,
          -0.05850409,
          2.816002,
          -0.05850409,
          0.053143766,
          -0.05850409,
          0.053143766,
          27.23032,
          -0.05850409,
          -0.05850409,
          12.278862,
          -0.05850409,
          23.840313,
          40.410686,
          0.053143766,
          35.038803,
          34.674664,
          -0.05850409,
          0.053143766,
          0.053143766,
          31.203936,
          16.733145,
          -0.05850409,
          -0.05850409,
          -17.524504,
          -10.920062,
          20.781075,
          -0.05850409,
          -0.05850409,
          -28.407976,
          -18.23262,
          16.911512,
          0.6312628,
          -18.311703,
          -11.087601,
          -0.05850409,
          0.93337905,
          8.083171,
          -23.131052,
          -10.698256,
          13.139914,
          -0.05850409,
          -0.05850409,
          -0.05850409,
          -0.05850409,
          -0.05850409,
          32.941666,
          18.59256,
          -0.05850409,
          -0.05850409,
          18.905731,
          0.053143766,
          0.9898234,
          -24.207561,
          -15.067302,
          -0.05850409,
          -24.272226,
          -8.540113,
          -0.05850409,
          36.483547,
          -0.05850409,
          0.053143766,
          0.053143766,
          -0.05850409,
          18.015434,
          -21.72887,
          -19.390541,
          8.553657,
          -5.8724775,
          20.31674,
          -32.621414,
          -0.05850409,
          17.455404,
          15.864103,
          -3.9077802,
          16.846107,
          -8.453384,
          -0.05850409,
          36.816597,
          5.520352,
          -0.05850409,
          -0.05850409,
          0.053143766,
          -0.05850409,
          -0.05850409,
          19.505083,
          17.589382,
          -0.05850409,
          -10.3281555,
          41.858353,
          -0.05850409,
          -0.05850409,
          14.296768,
          -26.738483,
          36.10559,
          -18.358517,
          -0.05850409,
          8.481917,
          -10.4936905,
          -0.05850409,
          -3.1197357,
          -21.61104,
          -0.05850409,
          1.5739129,
          -22.25786,
          -11.081439,
          -0.05850409,
          12.296681,
          0.053143766,
          -20.73635,
          -12.8743305,
          28.09445,
          35.414017,
          6.2376657,
          15.490258,
          -0.05850409,
          -6.0960727,
          -0.05850409,
          0.053143766,
          18.277586,
          -0.05850409,
          -0.05850409,
          -0.05850409,
          -23.106054,
          -0.05850409,
          -0.05850409,
          -10.587392,
          38.01089,
          -0.05850409,
          23.65113,
          -0.05850409,
          -3.5676165,
          -0.05850409,
          -21.164082,
          -0.05850409,
          -0.05850409,
          17.102468,
          -27.397942,
          1.8780929,
          -0.05850409,
          -0.05850409,
          -27.010435,
          -0.05850409,
          -2.7624974,
          -0.05850409,
          -2.5129855,
          34.193966,
          -0.05850409,
          -11.08041,
          -2.541731,
          -0.05850409,
          -0.05850409,
          0.053143766,
          -11.367481,
          -26.927038,
          -0.05850409,
          36.103886,
          0.053143766,
          -0.05850409,
          -0.05850409,
          -17.723984,
          -21.762314,
          -0.05850409,
          15.688647,
          -0.05850409,
          -7.4573245,
          10.844177,
          17.465982,
          -11.138657,
          -0.05850409,
          -0.05850409,
          34.193966,
          37.061268,
          -10.919947,
          -0.05850409,
          34.64005,
          -27.608742,
          -0.05850409,
          -0.05850409,
          -30.820894,
          -17.25815,
          -24.065273,
          0.053143766,
          -0.5205632,
          24.539682,
          -0.05850409,
          -0.05850409,
          14.372319,
          12.837629,
          -25.552776,
          -0.05850409,
          -0.05850409,
          -0.05850409,
          14.8883295,
          22.61796,
          2.4532745,
          -0.05850409,
          -20.641735,
          -0.05850409,
          24.646029,
          -16.870968,
          -0.05850409,
          12.777502,
          -0.05850409,
          -26.741377,
          24.39017,
          -0.05850409,
          -21.0411,
          -0.05850409,
          1.4797516,
          -0.05850409,
          -0.05850409,
          -21.849916,
          -0.05850409,
          -26.288637,
          2.6279414,
          -18.938482,
          16.669094,
          -13.09294,
          0.053143766,
          -0.05850409,
          -1.9952981,
          18.882767,
          -0.05850409,
          29.37275,
          12.405451,
          -2.7722127,
          36.575745,
          -0.05850409,
          12.921804,
          -0.05850409,
          18.004238,
          -16.94406,
          17.418966,
          -26.188313,
          17.996523,
          -27.77355,
          -31.437006,
          -0.05850409,
          35.137646,
          -20.523678,
          19.887444,
          17.808529,
          -0.05850409,
          -18.590902,
          -0.05850409,
          -18.5777,
          -26.189781,
          -0.05850409,
          -0.05850409,
          -0.05850409,
          -0.05850409,
          -0.05850409,
          -0.05850409,
          -0.05850409,
          19.626072,
          13.63366,
          35.64219,
          14.674356,
          16.418507,
          -17.86209,
          -0.05850409,
          20.644005,
          -22.90323,
          -1.0437901,
          -15.394212,
          35.483307,
          -31.410152,
          15.596211,
          -25.14118,
          0.09415658,
          35.853115,
          -4.6962676,
          17.424864,
          -0.05850409,
          -19.33367,
          -0.05850409,
          19.177757,
          19.179245,
          -0.05850409,
          -9.701631,
          -15.456462,
          16.954105,
          -13.750884,
          -9.313604,
          -0.05850409,
          -19.03702,
          -26.14934,
          -0.05850409,
          0.83512104,
          34.433083,
          -22.874298,
          -0.05850409,
          30.102537,
          19.09117,
          29.085545,
          -14.729843,
          37.004368,
          -0.05850409,
          -19.424831,
          -0.60529095,
          -0.05850409,
          -0.05850409,
          -0.05850409,
          -11.524464,
          14.826626,
          38.01086,
          -3.9375596,
          -0.05850409,
          39.110016,
          16.855818,
          -22.064442,
          -0.05850409,
          -17.713303,
          -10.770021,
          36.096844,
          26.252232,
          -24.698126,
          -0.05850409,
          -0.05850409,
          -19.934334,
          -0.05850409,
          -0.05850409,
          -25.421856,
          -21.310658,
          0.09415658,
          23.594128,
          -0.05850409,
          2.753628,
          -0.05850409,
          -0.05850409,
          -28.221962,
          -15.6132765,
          -6.0835757,
          -0.05850409,
          -3.4269047,
          -0.05850409,
          -23.095842,
          -34.874268,
          20.346512,
          -0.05850409,
          -20.981916,
          0.09415658,
          -0.05850409,
          35.414017,
          34.119766,
          -0.05850409,
          -0.05850409,
          -16.758669,
          2.0587406,
          -34.939102,
          -12.232794,
          -0.05850409,
          -2.0509994,
          -36.01671,
          -21.205984,
          -0.944282,
          -0.05850409,
          -15.230618,
          -9.000519,
          18.49695,
          -21.506721,
          -5.282225,
          0.09415658,
          -18.153011,
          -7.1155953,
          -0.05850409,
          0.7980067,
          -0.05850409,
          -0.05850409,
          -0.05850409,
          14.073789,
          0.17532128,
          -24.036755,
          18.004244,
          -0.05850409,
          -0.05850409,
          -26.10071,
          -3.5153136,
          -28.565125,
          17.261227,
          22.959913,
          -0.05850409,
          -0.05850409,
          -0.05850409,
          3.9736934,
          3.3548198,
          38.01086,
          28.39743,
          -13.261498,
          -0.05850409,
          -30.57636,
          -0.05850409,
          10.774818,
          3.9390292,
          -0.05850409,
          -0.05850409,
          -24.002796,
          -27.710224,
          -0.05850409,
          13.846749,
          -3.7661188,
          14.960167,
          -0.05850409,
          0.09415658,
          0.09415658,
          -0.05850409,
          -0.05850409,
          -0.05850409,
          -0.05850409,
          -0.05850409,
          -25.77119,
          -0.05850409,
          -0.05850409,
          -34.821365,
          8.632003,
          -0.05850409,
          12.426443,
          -29.33482,
          4.68311,
          37.05331,
          -0.05850409,
          0.09415658,
          -0.05850409,
          -0.05850409,
          38.01094,
          8.262085,
          12.281346,
          -31.17737,
          -0.05850409,
          8.566721,
          24.909672,
          -0.05850409,
          -35.213047,
          -1.8302693,
          -28.35175,
          -12.282184,
          5.2304015,
          19.310686,
          -0.05850409,
          -16.96787,
          -23.539349,
          -12.251249,
          -11.355899,
          18.671593,
          5.2304015,
          -0.05850409,
          0.37280732,
          14.430491,
          -27.039433,
          8.831116,
          9.920664,
          -0.05850409,
          -27.569365,
          0.09415658,
          -0.05850409,
          17.80444,
          -0.05850409,
          15.531042,
          -8.026625,
          -0.05850409,
          -16.984322,
          -0.05850409,
          -0.05850409,
          0.09415658,
          -0.05850409,
          -12.183416,
          -0.05850409,
          0.09415658,
          -0.05850409,
          -20.756592,
          -7.2619534,
          -0.05850409,
          0.09415658,
          0.09415658,
          -15.580411,
          -0.05850409,
          -0.05850409,
          23.21105,
          -26.126244,
          -29.08671,
          -30.125664,
          10.319001,
          -0.05850409,
          -16.053808,
          -27.011076,
          -0.05850409,
          -26.853899,
          -13.318599,
          -11.233021,
          -0.05850409,
          -0.05850409,
          6.6216755,
          -0.05850409,
          17.189884,
          16.911512,
          -29.703306,
          -22.737478,
          0.09415658,
          24.72836,
          -15.117479,
          -2.0851214,
          -0.05850409,
          -0.05850409,
          18.763784,
          17.650923,
          -3.7342796,
          -12.10031,
          -0.05850409,
          -0.05850409,
          -2.21705,
          -0.05850409,
          -0.05850409,
          -20.300566,
          22.347599,
          -0.05850409,
          -7.858499,
          -5.2806373,
          17.763973,
          -0.05850409,
          7.041042,
          -20.846285,
          5.7549872,
          -8.702877,
          -0.05850409,
          0.09415658,
          -0.05850409,
          -1.8819839,
          35.841633,
          -26.02174,
          -0.05850409,
          -0.05850409,
          -23.35361,
          -0.05850409,
          -9.309935,
          -0.05850409,
          -0.05850409,
          -0.05850409,
          -0.05850409,
          -24.796349,
          8.812627,
          5.681919,
          35.730854,
          -0.05850409,
          -9.044357,
          -0.77221197,
          16.47306,
          -3.71295,
          15.951123,
          -0.05850409,
          3.8614547,
          -0.05850409,
          -11.071422,
          -21.39229,
          -0.05850409,
          -0.05850409,
          -0.05850409,
          19.163967,
          -9.960442,
          -35.81995,
          19.460863,
          0.09415658,
          -3.652801,
          -0.05850409,
          5.4712296,
          23.642956,
          -0.05850409,
          24.666683,
          -0.05850409,
          -5.8710055,
          -0.05850409,
          0.09415658,
          25.50131,
          -16.52481,
          30.921104,
          23.913399,
          14.74853,
          8.989758,
          -0.05850409,
          -0.05850409,
          -18.520954,
          0.49596915,
          18.477465,
          24.566095,
          -0.05850409,
          -0.05850409,
          -27.071709,
          7.2393465,
          -0.05850409,
          30.921104,
          7.982257,
          -0.05850409,
          -6.342138,
          23.552729,
          -29.27556,
          36.106953,
          34.861115,
          -0.05850409,
          -0.05850409,
          -11.928219,
          14.064785,
          -23.701307,
          -0.05850409,
          3.4492872,
          -27.53616,
          -10.796256,
          0.09415658,
          -0.05850409,
          -22.829473,
          4.23881,
          -13.931352,
          7.808658,
          -0.05850409,
          -2.9521654,
          11.878957,
          13.781091,
          8.683115,
          -0.05850409,
          -3.7181907,
          -0.05850409,
          6.235675,
          -0.05850409,
          -20.038551,
          -0.05850409,
          -0.05850409,
          -0.05850409,
          -0.05850409,
          -0.05850409,
          -0.05850409,
          24.500122,
          -0.05850409,
          2.7410736,
          34.350967,
          -23.80617,
          -26.032959,
          33.994816,
          -12.613788,
          13.846749,
          22.332417,
          -0.05850409,
          -0.05850409,
          -22.061113,
          -0.05850409,
          -0.05850409,
          -0.05850409,
          -0.05850409,
          -23.57456,
          -25.727041,
          4.545976,
          24.262144,
          -0.05850409,
          8.632268,
          11.175283,
          -0.05850409,
          -27.691538,
          -0.05850409,
          -17.911875,
          -9.264732,
          7.919163,
          -8.423432,
          5.0540752,
          -3.2954092,
          3.167021,
          11.879123,
          1.0083684,
          -0.05850409,
          -0.05850409,
          12.402031,
          14.407399,
          23.669077,
          19.374666,
          0.09415658,
          16.231672,
          23.511765,
          22.458265,
          -22.581123,
          -0.05850409,
          -0.05850409,
          8.149118,
          -0.05850409,
          -6.8989105,
          -34.410923,
          5.5467744,
          18.662264,
          -31.331629,
          -0.05850409,
          20.929914,
          -12.336902,
          -11.491822,
          -26.5744,
          -0.05850409,
          -0.05850409,
          -24.464117,
          2.555571,
          21.77755,
          -24.005392,
          -0.05850409,
          15.633984,
          -23.7458,
          -20.267683,
          -28.034052,
          -21.343298,
          -0.05850409,
          -25.215893,
          -0.05850409,
          -0.05850409,
          20.693243,
          17.44326,
          7.9506254,
          -0.05850409,
          16.33462,
          -0.05850409,
          -7.3906097,
          -19.275766,
          -0.05850409,
          -0.05850409,
          -20.721273,
          -19.727985,
          -0.05850409,
          23.336367,
          34.52384,
          -0.05850409,
          8.956313,
          -8.703172,
          -22.06032,
          -0.05850409,
          15.3864355,
          -0.05850409,
          -2.3648055,
          20.339754,
          36.029545,
          -12.215543,
          -0.05850409,
          41.032402,
          -0.05850409,
          -0.05850409,
          -0.05850409,
          -0.05850409,
          -0.05850409,
          -6.6124115,
          7.068642,
          -0.05850409,
          -14.007653,
          -16.583807,
          -19.832409,
          16.301281,
          -23.656796,
          -10.796585,
          -6.19733,
          -21.04643,
          -0.5636159,
          -0.05850409,
          -0.05850409,
          -29.312286,
          16.334606,
          -16.318712,
          -16.430023,
          21.478151,
          0.09415658,
          -9.364478,
          -0.05850409,
          -18.512163,
          -19.56316,
          -0.7003625,
          -3.8168843,
          -11.632849,
          -10.293992,
          -21.082727,
          -27.76599,
          -11.6716795,
          -1.9401039,
          -11.454309,
          -0.05850409,
          -0.05850409,
          -0.05850409,
          24.646029,
          3.1457791,
          0.0554603,
          23.07129,
          -19.015112,
          -0.05850409,
          -0.05850409,
          -0.05850409,
          -0.05850409,
          -14.559756,
          -18.320967,
          -10.454342,
          8.583177,
          -25.402376,
          -0.05850409,
          -0.05850409,
          -16.06208,
          -19.312405,
          -22.44615,
          -29.36686,
          -23.560837,
          -34.58389,
          -11.711071,
          0.09415658,
          3.5310018,
          -0.05850409,
          -4.7879725,
          -0.05850409,
          17.481758,
          -0.05850409,
          -0.05850409,
          -11.603511,
          3.961421,
          -0.05850409,
          -0.05850409,
          11.404048,
          -0.05850409,
          32.913406,
          0.47444564,
          -11.079203,
          -0.6773275,
          21.478151,
          -0.05850409,
          -0.05850409,
          8.633385,
          -23.920095,
          -11.628713,
          -30.982697,
          23.448154,
          0.09415658,
          -22.334024,
          -5.5474358,
          -0.05850409,
          -0.05850409,
          35.876686,
          16.712465,
          -0.05850409,
          23.621546,
          17.443151,
          -17.800478,
          27.694641,
          0.09415658,
          -0.05850409,
          -36.031563,
          21.574795,
          -15.988034,
          24.118177,
          -15.243595,
          -0.05850409,
          -0.05850409,
          -0.05850409,
          16.934763,
          35.841946,
          -0.05850409,
          -19.558796,
          15.22469,
          -11.018247,
          0.09415658,
          -9.026891,
          -0.05850409,
          25.137817,
          -22.69705,
          0.09415658,
          -27.978,
          -27.716322,
          -0.05850409,
          -0.05850409,
          -16.822168,
          -0.05850409,
          -33.174797,
          7.5721784,
          -21.991255,
          -15.155305,
          -0.05850409,
          15.289977,
          -28.06678,
          -0.05850409,
          22.249292,
          31.24749,
          -0.05850409,
          -10.687582,
          -0.05850409,
          -7.085961,
          20.378675,
          3.1871898,
          20.257853,
          -29.305471,
          -24.372692,
          13.9028015,
          10.473463,
          -7.4447184,
          5.0189915,
          15.032954,
          -0.05850409,
          10.366945,
          -0.05850409,
          -13.537884,
          -25.559753,
          -35.16187,
          -28.116955,
          30.459175,
          -0.05850409,
          -0.05850409,
          -4.3771095,
          -27.42791,
          -6.387935,
          20.589237,
          12.083715,
          -10.889712,
          -23.235868,
          -0.05850409,
          18.004284,
          23.5718,
          -11.458735,
          -19.159883,
          36.22872,
          -28.324362,
          -24.660799,
          -0.05850409,
          -21.029016,
          -20.141523,
          0.09415658,
          -0.05850409,
          -6.2704773,
          35.773327,
          -0.05850409,
          -0.05850409,
          -0.05850409,
          3.0934894,
          -26.25848,
          17.547321,
          14.167188,
          -0.05850409,
          -0.05850409,
          4.5159945,
          -34.947266,
          -0.05850409,
          0.09415658,
          -0.05850409,
          -7.592929,
          16.211447,
          -20.52131,
          -9.994613,
          -0.05850409,
          -27.41572,
          -26.02472,
          -0.05850409,
          -0.05850409,
          -0.05850409,
          22.309616,
          0.6793054,
          -0.05850409,
          -15.917479,
          -14.8834715,
          0.09415658,
          -0.05850409,
          -5.9482317,
          -16.279177,
          -0.9241215,
          7.762892,
          -0.05850409,
          12.440615,
          8.475749,
          -0.05850409,
          -0.05850409,
          6.2376657,
          -24.169487,
          -21.643993,
          5.14522,
          -12.312692,
          -0.05850409,
          -19.623976,
          -0.05850409,
          -0.05850409,
          -13.367211,
          -0.05850409,
          -0.05850409,
          -0.05850409,
          -22.029713,
          -0.05850409,
          15.108715,
          -0.05850409,
          36.796425,
          -30.969652,
          -0.05850409,
          23.913399,
          16.229168,
          -18.177084,
          -20.933006,
          -0.05850409,
          -11.425868,
          -0.05850409,
          -17.149338,
          -0.50828743,
          31.373325,
          11.094665,
          24.4375,
          0.9381043,
          2.5952587,
          8.656385,
          3.4128354,
          -0.05850409,
          -31.391476,
          -5.4535017,
          -0.05850409,
          -0.05850409,
          -18.21201,
          13.178687,
          -0.05850409,
          -13.341231,
          8.713292,
          -21.102945,
          2.7925,
          -11.611374,
          1.1601031,
          5.266434,
          -5.9338784,
          -0.05850409,
          14.054195,
          -16.83422,
          -28.442806,
          24.11813,
          -0.05850409,
          -0.05850409,
          -6.272649,
          2.4278512,
          23.715858,
          -17.26859,
          -2.503567,
          -0.05850409,
          0.09415658,
          -0.05850409,
          -2.7013273,
          -0.05850409,
          18.306246,
          29.284782,
          -0.29386657,
          10.714725,
          -17.60292,
          -3.9045863,
          11.713759,
          16.993786,
          -26.455626,
          23.507833,
          -0.05850409,
          -18.94851,
          -21.084305,
          -0.05850409,
          16.958305,
          27.081385,
          -0.05850409,
          -2.6134782,
          -0.05850409,
          -14.421184,
          2.7319505,
          -0.05850409,
          -0.05850409,
          16.055014,
          -0.05850409,
          16.848991,
          24.500452,
          -6.9203935,
          3.20401,
          -7.9503427,
          -0.05850409,
          -0.05850409,
          19.987928,
          -3.6291423,
          27.694641,
          -22.676857,
          -7.083698,
          29.512215,
          -3.4235837,
          24.552626,
          -0.05850409,
          17.44326,
          26.902214,
          16.68629,
          -21.61547,
          5.8869467,
          18.570976,
          -0.05850409,
          0.09415658,
          1.8713661,
          -0.05850409,
          8.083215,
          17.888937,
          -16.487553,
          8.631996,
          8.681211,
          -0.05850409,
          -0.05850409,
          -0.05850409,
          -0.05850409,
          -0.05850409,
          19.78419,
          0.09415658,
          10.9198475,
          2.3425,
          15.035309,
          -2.13289,
          -14.675304,
          24.074091,
          18.023052,
          -15.890554,
          -31.855585,
          10.366597,
          -9.48023,
          -20.197908,
          -0.05850409,
          7.9974732,
          0.09415658,
          -0.46510217,
          12.661757,
          -19.469097,
          0.09415658,
          -0.05850409,
          16.259783,
          -0.05850409,
          24.092234,
          22.252962,
          12.089837,
          -21.038681,
          -0.05850409,
          -7.2502036,
          0.09415658,
          14.708643,
          0.09415658,
          -20.81711,
          -11.669247,
          -0.67478746,
          22.344858,
          -21.55657,
          15.383367,
          -0.05850409,
          36.422016,
          -0.05850409,
          -10.919947,
          4.8643403,
          19.715132,
          -0.05850409,
          -14.948364,
          -0.05850409,
          -12.931562,
          0.09415658,
          -0.28016055,
          -19.866879,
          -0.05850409,
          -7.6907964,
          30.032309,
          16.918024,
          -26.101088,
          34.903942,
          0.69823164,
          -0.05850409,
          0.09415658,
          -0.05850409,
          -0.05850409,
          14.228457,
          -35.318172,
          -0.05850409,
          -0.05850409,
          20.378675,
          -9.658163,
          8.646394,
          -0.05850409,
          -14.965737,
          27.956743,
          -0.05850409,
          12.8330145,
          -7.5908914,
          -0.05850409,
          -11.662718,
          -20.056309,
          -14.633381,
          28.39768,
          -0.05850409,
          -20.99506,
          -7.6913185,
          -0.05850409,
          17.331482,
          -30.134571,
          0.65783894,
          -18.001322,
          -0.05850409,
          -1.6035905,
          -25.658413,
          -0.05850409,
          17.00906,
          -0.05850409,
          0.09415658,
          8.783478,
          -15.279799,
          -8.600803,
          -0.05850409,
          13.846749,
          21.344227,
          23.591595,
          17.799599,
          0.09415658,
          -33.07465,
          -15.431803,
          31.416561,
          -20.81791,
          -0.05850409,
          20.804377,
          0.09415658,
          -0.05850409,
          22.953966,
          -17.974113,
          36.581013,
          -12.572713,
          29.400148,
          12.777502,
          -0.05850409,
          -16.35935,
          28.94809,
          -0.05850409,
          0.09415658,
          -16.268143,
          -0.05850409,
          -34.24158,
          0.09415658,
          -0.05850409,
          -8.406908,
          17.711449,
          -5.1769915,
          0.09415658,
          -24.969097,
          -0.05850409,
          -0.05850409,
          -0.05850409,
          -29.683653,
          3.012259,
          -13.477363,
          13.741258,
          -5.093716,
          30.03235,
          -0.05850409,
          -0.05850409,
          -0.05850409,
          -0.05850409,
          -0.05850409,
          -0.05850409,
          -0.05850409,
          -0.05850409,
          13.783328,
          -27.147627,
          -0.05850409,
          21.41282,
          27.506994,
          -0.05850409,
          0.09415658,
          30.215755,
          29.806198,
          0.09415658,
          0.09415658,
          0.09415658,
          -0.05850409,
          0.09415658,
          0.09415658,
          -0.05850409,
          0.09415658,
          0.09415658,
          -0.05850409,
          0.09415658,
          -0.05850409,
          0.09415658,
          0.09415658,
          0.09415658,
          -0.05850409,
          -0.05850409,
          0.09415658,
          -0.05850409,
          -0.05850409,
          -0.05850409,
          -0.05850409,
          0.09415658,
          0.09415658,
          0.09415658,
          -20.187084,
          -0.05850409,
          -0.05850409,
          0.09415658,
          -0.05850409,
          -0.05850409,
          37.31633,
          -0.05850409,
          37.222416,
          14.350159,
          -0.05850409,
          0.09415658,
          0.09415658,
          -0.05850409,
          0.09415658,
          0.09415658,
          -0.05850409,
          -0.05850409,
          -0.05850409,
          -0.05850409,
          -0.05850409,
          0.09415658,
          12.77755,
          -0.05850409,
          -0.05850409,
          -10.493043,
          0.09415658,
          0.09415658,
          -0.05850409,
          -0.05850409,
          0.09415658,
          -0.05850409,
          -0.05850409,
          -0.05850409,
          -0.05850409,
          24.396301,
          -0.05850409,
          -0.05850409,
          0.09415658,
          -0.05850409,
          -34.30103,
          -0.05850409,
          36.594925,
          -0.05850409,
          37.585163,
          34.603596,
          -0.05850409,
          -0.05850409,
          -0.05850409,
          -0.05850409,
          18.360344,
          -0.05850409,
          -0.05850409,
          0.09415658,
          -0.05850409,
          -0.05850409,
          -0.05850409,
          0.09415658,
          13.84684,
          0.09415658,
          0.09415658,
          -0.05850409,
          -27.152393,
          -0.05850409,
          -29.026052,
          10.985889,
          0.09415658,
          -0.05850409,
          0.09415658,
          0.09415658,
          -0.05850409,
          9.9702,
          -0.05850409,
          -0.05850409,
          -0.05850409,
          22.61796,
          2.7411332,
          -0.05850409,
          -0.05850409,
          -0.05850409,
          0.09415658,
          0.09415658,
          37.378757,
          -0.05850409,
          0.09415658,
          -0.05850409,
          0.09415658,
          -0.05850409,
          0.09415658,
          -0.05850409,
          31.096308,
          0.09415658,
          -0.05850409,
          -0.05850409,
          0.09415658,
          5.6121655,
          14.355748,
          -0.05850409,
          4.600875,
          0.09415658,
          8.6337385,
          0.09415658,
          28.975704,
          0.09415658,
          1.0755278,
          -24.480017,
          34.904106,
          -0.05850409,
          16.407978,
          13.774969,
          -0.05850409,
          -0.05850409,
          -0.05850409,
          -0.05850409,
          -0.05850409,
          -0.05850409,
          -0.05850409,
          -0.05850409,
          -0.05850409,
          23.330202,
          0.09415658,
          -0.05850409,
          0.09415658,
          0.09415658,
          0.09415658,
          0.09415658,
          -0.05850409,
          -0.05850409,
          -0.05850409,
          0.09415658,
          -0.05850409,
          -0.05850409,
          -0.05850409,
          -0.05850409,
          21.995594,
          -0.05850409,
          -0.05850409,
          -0.05850409,
          -0.05850409,
          14.67853,
          -0.05850409,
          -28.934439,
          20.34103,
          0.09415658,
          17.45142,
          18.662214,
          14.126451,
          -0.05850409,
          30.920973,
          -0.05850409,
          13.846753,
          -0.05850409,
          -0.05850409,
          14.105684,
          0.09415658,
          0.09415658,
          26.200716,
          41.309925,
          -0.05850409,
          0.09415658,
          0.09415658,
          -0.05850409,
          -0.05850409,
          0.09415658,
          -0.05850409,
          0.09415658,
          -0.05850409,
          -0.05850409,
          0.09415658,
          0.09415658,
          -0.05850409,
          36.815826,
          -0.05850409,
          -0.05850409,
          -0.05850409,
          -0.05850409,
          -0.05850409,
          -0.05850409,
          -0.05850409,
          -0.05850409,
          25.13113,
          -0.05850409,
          -0.05850409,
          -0.05850409,
          -0.05850409,
          0.09415658,
          29.751703,
          5.069442,
          -0.05850409,
          0.09415658,
          -0.05850409,
          -0.05850409,
          -0.05850409,
          -0.05850409,
          0.09415658,
          -0.05850409,
          0.09415658,
          -0.05850409,
          -0.05850409,
          18.661959,
          -0.05850409,
          -0.05850409,
          8.633474,
          -0.05850409,
          -0.05850409,
          -0.05850409,
          -0.05850409,
          -0.05850409,
          -0.05850409,
          -0.05850409,
          -0.05850409,
          0.09415658,
          16.66373,
          -0.05850409,
          -0.05850409,
          21.65883,
          30.92104,
          0.09415658,
          0.09415658,
          0.09415658,
          0.09415658,
          0.09415658,
          0.09415658,
          -0.05850409,
          0.09415658,
          -0.05850409,
          -0.05850409,
          -0.05850409,
          -0.05850409,
          0.09415658,
          0.09415658,
          0.09415658,
          -0.05850409,
          -0.05850409,
          -0.05850409,
          -0.05850409,
          0.09415658,
          0.09415658,
          0.09415658,
          -0.05850409,
          0.09415658,
          4.446394,
          0.09415658,
          37.54723,
          0.09415658,
          30.92104,
          -0.05850409,
          -0.05850409,
          0.09415658,
          47.11753,
          -0.05850409,
          -0.05850409,
          0.09415658,
          -0.05850409,
          36.816383,
          0.09415658,
          -0.05850409,
          0.09415658,
          0.09415658,
          36.771824,
          0.09415658,
          0.09415658,
          0.09415658,
          0.09415658,
          0.09415658,
          0.09415658,
          -0.05850409,
          -0.05850409,
          -0.05850409,
          0.09415658,
          -0.05850409,
          -0.05850409,
          0.09415658,
          16.398102,
          -0.05850409,
          33.29386,
          -0.05850409,
          0.09415658,
          0.09415658,
          30.92104,
          0.09415658,
          0.09415658,
          -0.05850409,
          0.09415658,
          10.340252,
          0.09415658,
          0.09415658,
          -0.05850409,
          15.749037,
          -0.05850409,
          -0.05850409,
          0.09415658,
          0.09415658,
          0.09415658,
          0.09415658,
          0.09415658,
          22.877188,
          -0.05850409,
          23.473171,
          -0.05850409,
          0.09415658,
          0.09415658,
          0.09415658,
          0.09415658,
          0.09415658,
          0.09415658,
          0.09415658,
          0.09415658,
          -0.05850409
         ],
         "xaxis": "x",
         "y": [
          -39.114357,
          0.7675871,
          34.499966,
          34.499966,
          75.46859,
          33.645855,
          -40.25771,
          33.64911,
          -12.528306,
          -39.48749,
          -33.92229,
          75.46859,
          34.352833,
          33.744328,
          -32.8199,
          -31.881166,
          34.657856,
          -38.19225,
          -28.644922,
          -29.148003,
          74.79034,
          33.88397,
          -36.98129,
          33.744328,
          -37.600002,
          -45.243702,
          -8.4909525,
          74.79034,
          34.347107,
          -43.743317,
          34.347107,
          2.7003472,
          -48.300438,
          -45.45463,
          27.97396,
          33.706753,
          34.347107,
          35.07932,
          33.87028,
          -30.16471,
          -34.550053,
          35.94777,
          -32.217365,
          -31.956375,
          33.674023,
          -30.872305,
          33.958363,
          33.85688,
          33.85688,
          -26.032742,
          -41.090595,
          -8.108562,
          -31.388216,
          -21.388931,
          33.87718,
          -43.24799,
          33.647945,
          -22.990868,
          -16.952827,
          74.79034,
          -39.48759,
          33.651775,
          33.643364,
          33.65585,
          74.79034,
          -34.435394,
          34.68123,
          33.74181,
          -51.479618,
          34.05927,
          74.79034,
          33.725727,
          33.641235,
          34.10077,
          33.763016,
          -42.08317,
          33.650814,
          -2.9978137,
          33.719803,
          -26.817398,
          74.79034,
          -22.543015,
          35.62042,
          33.827225,
          75.46859,
          35.163364,
          34.17034,
          -39.105774,
          -48.811596,
          -31.61011,
          34.552807,
          74.79034,
          35.47196,
          75.46859,
          -42.812458,
          -1.644213,
          -14.113561,
          74.79034,
          -4.510417,
          35.62042,
          -52.19997,
          -24.960669,
          -32.4162,
          -50.03246,
          -7.3767056,
          -51.518654,
          -26.816685,
          35.619827,
          75.46859,
          -20.274807,
          75.46859,
          -30.50087,
          36.494583,
          36.494583,
          75.46859,
          -29.740473,
          36.81693,
          -33.048824,
          -29.193634,
          -31.913563,
          -41.577236,
          -37.023705,
          -51.25758,
          36.81693,
          -16.649149,
          36.81693,
          -20.24139,
          -6.51641,
          36.81693,
          36.81693,
          -11.452122,
          36.81693,
          -50.966347,
          -56.00878,
          -30.412893,
          74.79034,
          -5.202145,
          36.81693,
          -38.95512,
          -33.859795,
          -35.183197,
          36.81693,
          36.81693,
          36.81693,
          -9.279514,
          -37.19743,
          -40.353985,
          36.81693,
          -51.153114,
          -12.934632,
          74.79034,
          -1.598309,
          -2.8875024,
          -31.43595,
          36.81693,
          36.81693,
          36.81693,
          36.81693,
          36.81693,
          -25.344978,
          36.81693,
          -31.175251,
          -38.310883,
          -38.803417,
          -22.478973,
          74.79034,
          36.81693,
          36.81693,
          -32.160015,
          36.81693,
          -37.78661,
          36.81693,
          36.81693,
          -34.088596,
          74.79034,
          -14.463712,
          74.79034,
          75.46859,
          36.81693,
          36.81693,
          74.79034,
          74.79034,
          -22.935886,
          74.79034,
          2.6805174,
          -35.69894,
          36.81693,
          74.79034,
          -41.521313,
          36.81693,
          74.79034,
          74.79034,
          -10.176067,
          36.81693,
          36.81693,
          36.81693,
          36.81693,
          -40.277985,
          36.81693,
          -39.114697,
          36.81693,
          -41.075253,
          36.81693,
          36.81693,
          36.81693,
          -39.43177,
          -13.104625,
          36.81693,
          -40.402107,
          36.81693,
          -31.09383,
          36.81693,
          36.81693,
          74.79034,
          36.81693,
          36.81693,
          74.79034,
          36.81693,
          36.81693,
          -30.014822,
          -31.550095,
          36.81693,
          -50.58024,
          -46.773834,
          -31.065868,
          36.81693,
          -8.772605,
          36.81693,
          -38.335346,
          -10.888413,
          74.79034,
          36.81693,
          -30.66153,
          -37.78991,
          -1.9709358,
          -13.438891,
          -16.952827,
          36.81693,
          36.81693,
          74.79034,
          74.79034,
          -39.75439,
          -37.109905,
          36.81693,
          74.79034,
          36.81693,
          -26.92057,
          36.81693,
          74.79034,
          36.81693,
          74.79034,
          -20.716301,
          36.81693,
          36.81693,
          -29.087599,
          36.81693,
          -14.130071,
          -33.923397,
          74.79034,
          -36.659317,
          -34.634727,
          36.81693,
          74.79034,
          74.79034,
          -40.44408,
          -40.95993,
          36.81693,
          36.81693,
          -40.93815,
          -37.244217,
          -11.256602,
          36.81693,
          36.81693,
          -37.236744,
          -33.121727,
          -4.171991,
          -8.46976,
          -15.965997,
          -10.925863,
          36.81693,
          -8.230801,
          -10.589411,
          -29.034864,
          -10.456556,
          -5.928798,
          36.81693,
          36.81693,
          36.81693,
          36.81693,
          36.81693,
          -32.889736,
          -4.3955765,
          36.81693,
          36.81693,
          -37.083572,
          74.79034,
          -7.1657023,
          -11.213002,
          -9.098629,
          36.81693,
          -13.202488,
          -12.733634,
          36.81693,
          -29.679161,
          36.81693,
          74.79034,
          74.79034,
          36.81693,
          -4.3371167,
          -16.511124,
          -10.28876,
          -1.219892,
          -43.292984,
          -6.3784842,
          -31.916183,
          36.81693,
          -5.8514886,
          -10.785542,
          -12.092197,
          -11.033022,
          -41.13712,
          36.81693,
          -37.727783,
          -39.903088,
          36.81693,
          36.81693,
          74.79034,
          36.81693,
          36.81693,
          -33.26003,
          -27.450693,
          36.81693,
          -16.623417,
          -37.06406,
          36.81693,
          36.81693,
          -31.664112,
          -33.012188,
          -19.837654,
          -36.769455,
          36.81693,
          -34.875893,
          -1.9707255,
          36.81693,
          -43.69977,
          -6.61298,
          36.81693,
          -8.334712,
          -22.929163,
          -1.629961,
          36.81693,
          1.4562271,
          74.79034,
          -18.747578,
          -52.26328,
          -39.961426,
          -0.95816684,
          -15.25387,
          -4.609378,
          36.81693,
          -49.189285,
          36.81693,
          74.79034,
          -21.790585,
          36.81693,
          36.81693,
          36.81693,
          -34.91274,
          36.81693,
          36.81693,
          -26.680206,
          -11.126424,
          36.81693,
          -11.284892,
          36.81693,
          -48.10822,
          36.81693,
          2.8315454,
          36.81693,
          36.81693,
          -4.277805,
          -31.120989,
          -48.9729,
          36.81693,
          36.81693,
          -38.564285,
          36.81693,
          -17.468082,
          36.81693,
          -41.23896,
          -1.2532119,
          36.81693,
          -9.1129675,
          -17.34596,
          36.81693,
          36.81693,
          74.79034,
          -36.933346,
          -39.865852,
          36.81693,
          -19.83798,
          74.79034,
          36.81693,
          36.81693,
          -19.519115,
          -5.099161,
          36.81693,
          -7.142665,
          36.81693,
          -20.105207,
          -23.844353,
          -13.497082,
          -33.64794,
          36.81693,
          36.81693,
          -1.2532119,
          -29.855291,
          -37.24457,
          36.81693,
          -34.273067,
          -31.197147,
          36.81693,
          36.81693,
          -42.05046,
          -24.914589,
          -29.39172,
          74.79034,
          -27.774677,
          -45.778183,
          36.81693,
          36.81693,
          -4.681608,
          -0.8542697,
          -31.875711,
          36.81693,
          36.81693,
          36.81693,
          1.816279,
          -21.389143,
          -13.814219,
          36.81693,
          -19.930218,
          36.81693,
          -4.563512,
          -37.7498,
          36.81693,
          -56.00926,
          36.81693,
          -31.888391,
          -5.470476,
          36.81693,
          -18.185106,
          36.81693,
          -46.189095,
          36.81693,
          36.81693,
          -35.465237,
          36.81693,
          -32.21309,
          -29.233196,
          -41.243694,
          -39.805088,
          -9.3703985,
          74.79034,
          36.81693,
          -16.697557,
          -31.756454,
          36.81693,
          -39.08435,
          -44.33938,
          -36.822334,
          -31.494316,
          36.81693,
          -31.929201,
          36.81693,
          -38.955173,
          -24.141209,
          -4.9022055,
          -29.455952,
          -8.680713,
          -35.919838,
          -33.82825,
          36.81693,
          -18.907852,
          -9.822988,
          -40.89259,
          -37.65852,
          36.81693,
          -36.74487,
          36.81693,
          -37.69205,
          -34.479874,
          36.81693,
          36.81693,
          36.81693,
          36.81693,
          36.81693,
          36.81693,
          36.81693,
          -9.31846,
          -4.8137655,
          -29.88073,
          1.4541432,
          -38.83025,
          -19.594189,
          36.81693,
          -11.04441,
          -28.781075,
          -10.710419,
          -7.4789515,
          -28.548964,
          -29.55846,
          -11.933768,
          -13.860839,
          77.94953,
          -30.465097,
          -4.2234707,
          -5.856997,
          36.81693,
          -34.46392,
          36.81693,
          -49.016956,
          -49.021343,
          36.81693,
          -33.219727,
          -14.216834,
          -17.963345,
          0.53709924,
          -3.4640746,
          36.81693,
          -16.433989,
          -32.622456,
          36.81693,
          -7.814804,
          -25.922441,
          -14.39541,
          36.81693,
          -30.232384,
          -47.7351,
          -10.385141,
          -21.961508,
          -18.596424,
          36.81693,
          -34.492725,
          -12.17546,
          36.81693,
          36.81693,
          36.81693,
          -37.26752,
          -39.34957,
          -11.12642,
          -15.27905,
          36.81693,
          -26.605783,
          -21.160416,
          -7.963836,
          36.81693,
          -44.94778,
          -37.656975,
          -29.759367,
          -25.789822,
          -36.454594,
          36.81693,
          36.81693,
          -11.118913,
          36.81693,
          36.81693,
          -32.312424,
          -19.20672,
          77.94953,
          4.142633,
          36.81693,
          -27.009232,
          36.81693,
          36.81693,
          -29.840929,
          -10.168928,
          -25.025537,
          36.81693,
          -23.165369,
          36.81693,
          -38.364777,
          -11.73505,
          -6.094203,
          36.81693,
          -6.5460258,
          77.94953,
          36.81693,
          -0.95816684,
          -39.335163,
          36.81693,
          36.81693,
          -46.37179,
          -43.669468,
          -29.338015,
          -29.204395,
          36.81693,
          -35.151203,
          -51.881832,
          -13.609824,
          -48.607662,
          36.81693,
          -9.29924,
          -11.872909,
          -6.5414577,
          -25.187845,
          -31.057926,
          77.94953,
          -6.432947,
          -28.531622,
          36.81693,
          -25.39944,
          36.81693,
          36.81693,
          36.81693,
          -10.178014,
          -9.786206,
          -42.852085,
          -38.955833,
          36.81693,
          36.81693,
          -34.356846,
          -2.7549899,
          -43.05199,
          -2.8579156,
          2.7019575,
          36.81693,
          36.81693,
          36.81693,
          -35.337135,
          -12.067421,
          -11.12642,
          -29.777267,
          -10.302728,
          36.81693,
          -13.951371,
          36.81693,
          -14.05619,
          -15.225708,
          36.81693,
          36.81693,
          -13.486823,
          -17.049913,
          36.81693,
          -46.773254,
          -25.040009,
          -46.65717,
          36.81693,
          77.94953,
          77.94953,
          36.81693,
          36.81693,
          36.81693,
          36.81693,
          36.81693,
          -20.530764,
          36.81693,
          36.81693,
          -11.636057,
          -50.789692,
          36.81693,
          -44.400776,
          -17.323172,
          -34.955093,
          -32.07315,
          36.81693,
          77.94953,
          36.81693,
          36.81693,
          -11.12649,
          -28.706846,
          -45.799694,
          -35.503536,
          36.81693,
          0.17268178,
          -3.3345246,
          36.81693,
          -21.898697,
          -15.46678,
          -19.322832,
          -10.97707,
          -4.4216027,
          -7.2827773,
          36.81693,
          -35.608242,
          -12.375364,
          -33.77294,
          -35.0305,
          -39.43234,
          -4.4216027,
          36.81693,
          -15.382994,
          -48.028065,
          -33.20337,
          -53.02058,
          1.195948,
          36.81693,
          -31.893894,
          77.94953,
          36.81693,
          -8.048033,
          36.81693,
          -4.959753,
          -44.49025,
          36.81693,
          -40.542995,
          36.81693,
          36.81693,
          77.94953,
          36.81693,
          -24.85255,
          36.81693,
          77.94953,
          36.81693,
          -42.77327,
          -35.65228,
          36.81693,
          77.94953,
          77.94953,
          -5.119241,
          36.81693,
          36.81693,
          -38.469696,
          -33.44128,
          -12.951332,
          -34.11096,
          1.2139605,
          36.81693,
          -15.885676,
          -26.411343,
          36.81693,
          -34.277523,
          -29.352602,
          -33.651752,
          36.81693,
          36.81693,
          -34.706806,
          36.81693,
          -5.6402187,
          -4.171991,
          -23.29503,
          -15.24242,
          77.94953,
          -46.883263,
          -8.345634,
          -8.664995,
          36.81693,
          36.81693,
          -37.050606,
          -14.993761,
          -30.01707,
          -35.127975,
          36.81693,
          36.81693,
          -23.472034,
          36.81693,
          36.81693,
          4.0182686,
          -7.5169854,
          36.81693,
          -31.528976,
          -31.060762,
          -38.341843,
          36.81693,
          -11.676749,
          -12.246216,
          -42.042343,
          -50.966587,
          36.81693,
          77.94953,
          36.81693,
          -10.920144,
          -20.000404,
          -32.79482,
          36.81693,
          36.81693,
          -15.689742,
          36.81693,
          -10.956649,
          36.81693,
          36.81693,
          36.81693,
          36.81693,
          -15.282797,
          -22.73313,
          -20.716019,
          -10.37141,
          36.81693,
          -33.20988,
          -18.832415,
          -40.516254,
          -2.912722,
          1.213182,
          36.81693,
          -12.174526,
          36.81693,
          -28.100428,
          -43.40302,
          36.81693,
          36.81693,
          36.81693,
          -14.35982,
          -10.080134,
          -29.18436,
          -9.403292,
          77.94953,
          -15.058747,
          36.81693,
          -22.391417,
          3.0202012,
          36.81693,
          2.7493339,
          36.81693,
          -20.94927,
          36.81693,
          77.94953,
          -38.64616,
          -1.9821271,
          -39.48769,
          3.366456,
          1.8845084,
          -14.238357,
          36.81693,
          36.81693,
          -27.899752,
          -8.473752,
          -3.499854,
          3.4084527,
          36.81693,
          36.81693,
          -26.471119,
          -0.21994135,
          36.81693,
          -39.48769,
          -52.094444,
          36.81693,
          -51.989105,
          -39.428192,
          -24.450302,
          -19.837753,
          -17.098742,
          36.81693,
          36.81693,
          -23.50025,
          -4.632088,
          -21.267767,
          36.81693,
          -24.856411,
          -34.068367,
          -16.94222,
          77.94953,
          36.81693,
          -38.874096,
          -31.453821,
          -22.700546,
          -47.765007,
          36.81693,
          -51.89432,
          0.7678669,
          -26.765839,
          -16.938345,
          36.81693,
          -43.873096,
          36.81693,
          -17.416073,
          36.81693,
          -8.595378,
          36.81693,
          36.81693,
          36.81693,
          36.81693,
          36.81693,
          36.81693,
          -14.861366,
          36.81693,
          -43.743164,
          -25.680834,
          -13.087124,
          -33.2215,
          -28.189205,
          -20.19618,
          -46.773254,
          -20.970291,
          36.81693,
          36.81693,
          -16.019142,
          36.81693,
          36.81693,
          36.81693,
          36.81693,
          -17.57686,
          -21.158554,
          -21.641096,
          -10.843261,
          36.81693,
          -50.790054,
          -9.251871,
          36.81693,
          -33.254025,
          36.81693,
          -18.901512,
          -3.3971283,
          -8.536726,
          -14.6531105,
          -4.2775884,
          -10.902723,
          -24.400288,
          0.76774436,
          -29.479788,
          36.81693,
          36.81693,
          -47.753124,
          -7.1723547,
          2.7989929,
          -14.432522,
          77.94953,
          -8.489464,
          -4.5238833,
          -4.6909657,
          -30.81833,
          36.81693,
          36.81693,
          -19.399529,
          36.81693,
          -38.386063,
          -41.660915,
          -12.427123,
          -4.734218,
          -27.789259,
          36.81693,
          -26.44947,
          -10.711017,
          -35.887478,
          -22.268978,
          36.81693,
          36.81693,
          -12.166348,
          0.26744246,
          -5.213039,
          -21.763432,
          36.81693,
          -30.39335,
          -13.770025,
          -22.382586,
          -27.612438,
          -11.992904,
          36.81693,
          -19.387781,
          36.81693,
          36.81693,
          -28.32587,
          -7.2424684,
          -8.519071,
          36.81693,
          -11.227747,
          36.81693,
          -47.22767,
          -24.003067,
          36.81693,
          36.81693,
          -32.16487,
          -41.54886,
          36.81693,
          -3.5911818,
          -25.97862,
          36.81693,
          -50.007015,
          -50.96635,
          -19.5962,
          36.81693,
          -48.72305,
          36.81693,
          -41.15409,
          -15.968945,
          -30.85353,
          -34.47618,
          36.81693,
          -14.0967245,
          36.81693,
          36.81693,
          36.81693,
          36.81693,
          36.81693,
          -8.315564,
          -13.87985,
          36.81693,
          -34.29811,
          -17.755968,
          -7.718697,
          -11.182411,
          -15.05638,
          -30.321012,
          -40.71216,
          -54.757214,
          -35.428104,
          36.81693,
          36.81693,
          -23.641235,
          -11.227679,
          -32.123974,
          -38.114594,
          -38.23333,
          77.94953,
          -41.69136,
          36.81693,
          -37.17645,
          -34.442043,
          2.3582997,
          -13.190588,
          -12.481519,
          -25.34055,
          -54.805912,
          -34.51424,
          -51.130615,
          -35.049656,
          -8.108352,
          36.81693,
          36.81693,
          36.81693,
          -4.563512,
          -59.225933,
          -28.629234,
          -4.4462957,
          -25.687555,
          36.81693,
          36.81693,
          36.81693,
          36.81693,
          -12.824089,
          -15.943489,
          -44.2594,
          -38.206146,
          -20.615345,
          36.81693,
          36.81693,
          -36.63406,
          -36.56351,
          -42.145058,
          -14.392003,
          -15.544604,
          -29.525362,
          -6.941526,
          77.94953,
          -15.343546,
          36.81693,
          2.7385142,
          36.81693,
          -37.71067,
          36.81693,
          36.81693,
          -26.253302,
          -12.154005,
          36.81693,
          36.81693,
          -28.40963,
          36.81693,
          -29.736818,
          -17.878263,
          -11.056932,
          -10.192208,
          -38.23333,
          36.81693,
          36.81693,
          -50.78871,
          -42.861305,
          -9.251343,
          -12.961087,
          -14.161189,
          77.94953,
          -35.33359,
          -11.396866,
          36.81693,
          36.81693,
          -20.130482,
          -6.749189,
          36.81693,
          -4.8217216,
          -5.939057,
          -16.43462,
          -18.518274,
          77.94953,
          36.81693,
          -34.476063,
          -21.414581,
          -16.009785,
          -10.881223,
          -27.740469,
          36.81693,
          36.81693,
          36.81693,
          -2.053935,
          -19.998796,
          36.81693,
          -39.056915,
          -29.714447,
          -5.259393,
          77.94953,
          -30.436327,
          36.81693,
          -39.458218,
          -7.432064,
          77.94953,
          -33.186043,
          -32.53809,
          36.81693,
          36.81693,
          -46.170334,
          36.81693,
          -23.004362,
          -16.575912,
          -35.33837,
          -40.10933,
          36.81693,
          -16.592812,
          -31.974804,
          36.81693,
          -13.784006,
          -43.256817,
          36.81693,
          -12.975866,
          36.81693,
          -17.301474,
          -6.428396,
          -59.203335,
          -15.358325,
          -24.179338,
          -16.652863,
          -38.575157,
          -15.414089,
          -30.690714,
          -12.300112,
          -31.484055,
          36.81693,
          -13.356205,
          36.81693,
          -14.603747,
          -19.905924,
          -33.692474,
          -32.57097,
          -24.045986,
          36.81693,
          36.81693,
          -45.327084,
          -43.633232,
          -28.136337,
          -28.526743,
          -18.892859,
          -9.112018,
          -16.322414,
          36.81693,
          -38.95535,
          -45.36887,
          -2.8108168,
          -16.483597,
          -29.739788,
          -32.749344,
          -36.273266,
          36.81693,
          -44.689102,
          -12.820471,
          77.94953,
          36.81693,
          -32.467342,
          -29.870981,
          36.81693,
          36.81693,
          36.81693,
          -59.2496,
          -15.12905,
          -6.1594086,
          -4.5809445,
          36.81693,
          36.81693,
          -9.619334,
          -29.351894,
          36.81693,
          77.94953,
          36.81693,
          -35.32368,
          -4.579582,
          -39.032158,
          -32.11393,
          36.81693,
          -40.684673,
          -15.018438,
          36.81693,
          36.81693,
          36.81693,
          -5.103911,
          -8.382732,
          36.81693,
          -7.5109906,
          -14.332064,
          77.94953,
          36.81693,
          -47.329594,
          -32.075657,
          -18.932562,
          -19.213764,
          36.81693,
          -19.07739,
          -34.902706,
          36.81693,
          36.81693,
          -15.25387,
          -13.545358,
          -24.378899,
          -50.128323,
          -45.777195,
          36.81693,
          -31.462563,
          36.81693,
          36.81693,
          -24.74215,
          36.81693,
          36.81693,
          36.81693,
          -36.349705,
          36.81693,
          -43.965755,
          36.81693,
          -30.60086,
          -13.007383,
          36.81693,
          3.366456,
          0.8852333,
          -36.86899,
          -32.238968,
          36.81693,
          -12.542832,
          36.81693,
          -30.267199,
          -36.3209,
          -43.243103,
          -12.681029,
          -45.870697,
          -25.460693,
          0.6103397,
          -38.23704,
          -35.47104,
          36.81693,
          -29.735943,
          -20.889357,
          36.81693,
          36.81693,
          -6.466452,
          -47.368393,
          36.81693,
          -1.1712273,
          0.36479566,
          -27.507225,
          -26.985489,
          -15.309141,
          -49.887012,
          -47.9355,
          -28.31537,
          36.81693,
          -10.130721,
          -45.401936,
          -31.548779,
          -10.881219,
          36.81693,
          36.81693,
          -34.838177,
          -51.55252,
          3.0269926,
          -7.9478407,
          -40.641514,
          36.81693,
          77.94953,
          36.81693,
          -41.678818,
          36.81693,
          -5.270688,
          -26.774313,
          -39.605694,
          -37.417,
          -20.655134,
          -17.37235,
          -11.365377,
          -6.516551,
          -10.954702,
          -4.055563,
          36.81693,
          -29.878653,
          -13.384349,
          36.81693,
          -4.5466175,
          -19.224028,
          36.81693,
          -12.868055,
          36.81693,
          -21.630339,
          -54.89364,
          36.81693,
          36.81693,
          -11.32345,
          36.81693,
          -4.061401,
          -14.861224,
          -38.366024,
          -59.710987,
          -23.840374,
          36.81693,
          36.81693,
          -14.86134,
          -22.020153,
          -18.518274,
          -12.507482,
          -32.197712,
          -19.84766,
          -55.420597,
          -45.24457,
          36.81693,
          -7.2424684,
          -25.370533,
          -23.30475,
          -55.398384,
          -25.320742,
          -38.592472,
          36.81693,
          77.94953,
          -10.118477,
          36.81693,
          -10.58963,
          -8.402569,
          -7.6053987,
          -50.79018,
          -1.559414,
          36.81693,
          36.81693,
          36.81693,
          36.81693,
          36.81693,
          -7.141874,
          77.94953,
          -46.84307,
          -38.97656,
          -44.416286,
          -36.20716,
          -13.026659,
          -4.992531,
          -34.72553,
          -3.0362165,
          -36.95709,
          -13.356389,
          -48.812714,
          -9.923093,
          36.81693,
          -38.910767,
          77.94953,
          -31.096031,
          -16.076202,
          -7.7536154,
          77.94953,
          36.81693,
          -41.785168,
          36.81693,
          -10.743973,
          -13.6441145,
          0.2640376,
          -25.325922,
          36.81693,
          -28.678679,
          77.94953,
          -15.9657755,
          77.94953,
          -12.063543,
          -2.6887548,
          -5.3858776,
          -21.649195,
          -5.956084,
          -27.427467,
          36.81693,
          -22.35927,
          36.81693,
          -37.24457,
          -19.640388,
          -25.942167,
          36.81693,
          -31.356514,
          36.81693,
          -13.721131,
          77.94953,
          -17.916397,
          -6.1625614,
          36.81693,
          -36.014782,
          -10.410159,
          -1.9960508,
          -15.761998,
          -0.79084903,
          -29.288126,
          36.81693,
          77.94953,
          36.81693,
          36.81693,
          -46.3103,
          -37.87655,
          36.81693,
          36.81693,
          -6.428396,
          -2.3720171,
          -38.15184,
          36.81693,
          -30.184278,
          -33.7751,
          36.81693,
          -56.83604,
          -40.60051,
          36.81693,
          -56.848747,
          -14.914036,
          -47.86975,
          -29.777342,
          36.81693,
          -14.018837,
          -14.03189,
          36.81693,
          -37.54156,
          -31.3284,
          -14.175226,
          -37.22461,
          36.81693,
          -41.683907,
          -39.744965,
          36.81693,
          -17.882755,
          36.81693,
          77.94953,
          -22.72739,
          -6.156791,
          -14.72143,
          36.81693,
          -46.773254,
          -8.635969,
          2.8237379,
          -5.002285,
          77.94953,
          -32.202873,
          -17.661024,
          -43.440098,
          -6.235682,
          36.81693,
          -11.253792,
          77.94953,
          36.81693,
          -38.445683,
          -16.306425,
          -30.232567,
          -20.27407,
          -10.26195,
          -56.00926,
          36.81693,
          -15.077074,
          -19.264585,
          36.81693,
          77.94953,
          -14.289948,
          36.81693,
          -10.771925,
          77.94953,
          36.81693,
          -14.644438,
          -13.957117,
          -28.480894,
          77.94953,
          -35.424885,
          36.81693,
          36.81693,
          36.81693,
          -13.134164,
          -9.376672,
          -15.315109,
          -32.978455,
          -7.863266,
          -10.409881,
          36.81693,
          36.81693,
          36.81693,
          36.81693,
          36.81693,
          36.81693,
          36.81693,
          36.81693,
          -45.52007,
          -8.01546,
          36.81693,
          -27.156519,
          -35.955334,
          36.81693,
          77.94953,
          -41.52304,
          -40.692364,
          77.94953,
          77.94953,
          77.94953,
          36.81693,
          77.94953,
          77.94953,
          36.81693,
          77.94953,
          77.94953,
          36.81693,
          77.94953,
          36.81693,
          77.94953,
          77.94953,
          77.94953,
          36.81693,
          36.81693,
          77.94953,
          36.81693,
          36.81693,
          36.81693,
          36.81693,
          77.94953,
          77.94953,
          77.94953,
          4.1869755,
          36.81693,
          36.81693,
          77.94953,
          36.81693,
          36.81693,
          -30.189186,
          36.81693,
          -20.015398,
          -7.2425,
          36.81693,
          77.94953,
          77.94953,
          36.81693,
          77.94953,
          77.94953,
          36.81693,
          36.81693,
          36.81693,
          36.81693,
          36.81693,
          77.94953,
          -56.009132,
          36.81693,
          36.81693,
          -1.9707166,
          77.94953,
          77.94953,
          36.81693,
          36.81693,
          77.94953,
          36.81693,
          36.81693,
          36.81693,
          36.81693,
          3.4167829,
          36.81693,
          36.81693,
          77.94953,
          36.81693,
          -10.86064,
          36.81693,
          -30.375294,
          36.81693,
          -30.500038,
          -32.714607,
          36.81693,
          36.81693,
          36.81693,
          36.81693,
          -37.388912,
          36.81693,
          36.81693,
          77.94953,
          36.81693,
          36.81693,
          36.81693,
          77.94953,
          -46.773746,
          77.94953,
          77.94953,
          36.81693,
          -7.989255,
          36.81693,
          -33.214638,
          -46.935867,
          77.94953,
          36.81693,
          77.94953,
          77.94953,
          36.81693,
          -8.797726,
          36.81693,
          36.81693,
          36.81693,
          -21.389143,
          -43.743465,
          36.81693,
          36.81693,
          36.81693,
          77.94953,
          77.94953,
          -31.778357,
          36.81693,
          77.94953,
          36.81693,
          77.94953,
          36.81693,
          77.94953,
          36.81693,
          -13.590187,
          77.94953,
          36.81693,
          36.81693,
          77.94953,
          -4.955492,
          -27.720215,
          36.81693,
          -28.970524,
          77.94953,
          -50.7892,
          77.94953,
          -39.000137,
          77.94953,
          -14.823342,
          -24.55666,
          -0.7907137,
          36.81693,
          -6.2170687,
          -51.132095,
          36.81693,
          36.81693,
          36.81693,
          36.81693,
          36.81693,
          36.81693,
          36.81693,
          36.81693,
          36.81693,
          -19.995712,
          77.94953,
          36.81693,
          77.94953,
          77.94953,
          77.94953,
          77.94953,
          36.81693,
          36.81693,
          36.81693,
          77.94953,
          36.81693,
          36.81693,
          36.81693,
          36.81693,
          -47.56105,
          36.81693,
          36.81693,
          36.81693,
          36.81693,
          -15.94663,
          36.81693,
          -33.59368,
          -16.855856,
          77.94953,
          -13.921532,
          -4.7341104,
          -10.181439,
          36.81693,
          -39.487633,
          36.81693,
          -46.774002,
          36.81693,
          36.81693,
          -10.189881,
          77.94953,
          77.94953,
          -25.811598,
          -29.163359,
          36.81693,
          77.94953,
          77.94953,
          36.81693,
          36.81693,
          77.94953,
          36.81693,
          77.94953,
          36.81693,
          36.81693,
          77.94953,
          77.94953,
          36.81693,
          -37.727802,
          36.81693,
          36.81693,
          36.81693,
          36.81693,
          36.81693,
          36.81693,
          36.81693,
          36.81693,
          -39.32626,
          36.81693,
          36.81693,
          36.81693,
          36.81693,
          77.94953,
          -23.513508,
          -30.30674,
          36.81693,
          77.94953,
          36.81693,
          36.81693,
          36.81693,
          36.81693,
          77.94953,
          36.81693,
          77.94953,
          36.81693,
          36.81693,
          -4.733886,
          36.81693,
          36.81693,
          -17.054722,
          36.81693,
          36.81693,
          36.81693,
          36.81693,
          36.81693,
          36.81693,
          36.81693,
          36.81693,
          77.94953,
          -11.128951,
          36.81693,
          36.81693,
          -12.63241,
          -39.48949,
          77.94953,
          77.94953,
          77.94953,
          77.94953,
          77.94953,
          77.94953,
          36.81693,
          77.94953,
          36.81693,
          36.81693,
          36.81693,
          36.81693,
          77.94953,
          77.94953,
          77.94953,
          36.81693,
          36.81693,
          36.81693,
          36.81693,
          77.94953,
          77.94953,
          77.94953,
          36.81693,
          77.94953,
          -39.33367,
          77.94953,
          -31.572096,
          77.94953,
          -39.48949,
          36.81693,
          36.81693,
          77.94953,
          -26.236956,
          36.81693,
          36.81693,
          77.94953,
          36.81693,
          -37.72777,
          77.94953,
          36.81693,
          77.94953,
          77.94953,
          -34.942852,
          77.94953,
          77.94953,
          77.94953,
          77.94953,
          77.94953,
          77.94953,
          36.81693,
          36.81693,
          36.81693,
          77.94953,
          36.81693,
          36.81693,
          77.94953,
          -41.629066,
          36.81693,
          -37.72279,
          36.81693,
          77.94953,
          77.94953,
          -39.48949,
          77.94953,
          77.94953,
          36.81693,
          77.94953,
          -26.235601,
          77.94953,
          77.94953,
          36.81693,
          -45.15939,
          36.81693,
          36.81693,
          77.94953,
          77.94953,
          77.94953,
          77.94953,
          77.94953,
          -21.300043,
          36.81693,
          -33.981342,
          36.81693,
          77.94953,
          77.94953,
          77.94953,
          77.94953,
          77.94953,
          77.94953,
          77.94953,
          77.94953,
          36.81693
         ],
         "yaxis": "y"
        },
        {
         "customdata": [
          [
           1929,
           ""
          ],
          [
           1929,
           "british empire cowardice soldier"
          ],
          [
           1929,
           ""
          ],
          [
           1929,
           "charlie chan"
          ],
          [
           1929,
           "based on novel or book british empire british raj khyber pass"
          ],
          [
           1929,
           "falcon agriculture algeria"
          ],
          [
           1929,
           ""
          ],
          [
           1929,
           ""
          ],
          [
           1929,
           ""
          ],
          [
           1929,
           ""
          ],
          [
           1929,
           ""
          ],
          [
           1929,
           "not_found"
          ],
          [
           1929,
           "rescue romantic rivalry aviator expulsion aircraft carrier u.s. naval academy midshipmen"
          ],
          [
           1929,
           ""
          ],
          [
           1929,
           "future moon space travel silent film"
          ],
          [
           1929,
           "alaska nome alaska klondike gold rush"
          ],
          [
           1929,
           ""
          ],
          [
           1929,
           ""
          ],
          [
           1929,
           "mask paris, france based on novel or book nun chase loyalty game of dice sequel flashback sword fight tavern priest musketeer mother superior sewer swashbuckler women fight heir firing squad convent (nunnery) carriage catholic priest iron mask identical twin cardinal usurper 17th century"
          ],
          [
           1929,
           ""
          ],
          [
           1929,
           "expedition zeppelin exploration antarctica"
          ],
          [
           1929,
           "based on novel or book silent film"
          ],
          [
           1929,
           "tennessee"
          ],
          [
           1929,
           "submarine inventor jules verne despot equality uprising prequel scientist class distinction captain nemo underwater city evil ruler sea creature humanoids mysterious lands volcanic island hidden island base underwater facility underwater rescue part-talkie silent"
          ],
          [
           1929,
           "silent film duplicity assassination plan loaded dice compulsive gambler good king wicked king"
          ],
          [
           1929,
           "not_found"
          ],
          [
           1929,
           "navajo prejudice silent film two strip technicolor american indian"
          ],
          [
           1929,
           ""
          ],
          [
           1929,
           "not_found"
          ],
          [
           1929,
           ""
          ],
          [
           1929,
           "schoolmarm"
          ],
          [
           1930,
           "u.s. navy antarctica south pole polar exploration"
          ],
          [
           1929,
           "lost film"
          ],
          [
           1930,
           "prison england emir"
          ],
          [
           1930,
           "mississippi river pre-code river crossing wagon train frontier justice pioneers buffalo herd 19th century far west vengeance oregon trail western expansion crossing frontiers"
          ],
          [
           1930,
           "mexico outlaw bandit pre-code rustlers senorita bad guy"
          ],
          [
           1930,
           "montana railroad pre-code landslide"
          ],
          [
           1930,
           "lost film"
          ],
          [
           1930,
           ""
          ],
          [
           1930,
           "pre-code"
          ],
          [
           1930,
           "china based on play or musical"
          ],
          [
           1930,
           "hawaii salesman pre-code shoe salesman honolulu, hawaii"
          ],
          [
           1930,
           "revenge pre-code held hostage"
          ],
          [
           1930,
           "gunfight pre-code pearl wharf"
          ],
          [
           1930,
           "dancer castle beggar thief slave pre-code lost film"
          ],
          [
           1930,
           "divorce americana"
          ],
          [
           1930,
           ""
          ],
          [
           1930,
           ""
          ],
          [
           1930,
           "mutiny whale harpoon black and white storm pre-code"
          ],
          [
           1930,
           ""
          ],
          [
           1930,
           "jeweler"
          ],
          [
           1930,
           "pre-code"
          ],
          [
           1930,
           "rescue kidnapping gangster jewel thief"
          ],
          [
           1930,
           "poison hypnotism revenge murderer fu manchu"
          ],
          [
           1930,
           "pre-code"
          ],
          [
           1930,
           "south seas"
          ],
          [
           1930,
           ""
          ],
          [
           1930,
           "london, england lodger old woman soldier on leave"
          ],
          [
           1930,
           "parent child relationship carnival pre-code"
          ],
          [
           1930,
           "mechanic country club polo"
          ],
          [
           1930,
           "canada based on play or musical royal canadian mounted police (mountie)"
          ],
          [
           1930,
           ""
          ],
          [
           1930,
           "based on novel or book pre-code desperado"
          ],
          [
           1930,
           "foreign legion morocco singing ucla"
          ],
          [
           1931,
           "bootlegger piracy stockbroker pre-code rum running"
          ],
          [
           1931,
           "airship disaster pre-code dirigible"
          ],
          [
           1931,
           "crocodile prince jungle alcoholic missing husband"
          ],
          [
           1931,
           "berlin, germany based on novel or book railway car"
          ],
          [
           1931,
           "new york city"
          ],
          [
           1931,
           "pre-code tropical island bed hopping"
          ],
          [
           1931,
           ""
          ],
          [
           1931,
           "family relationships"
          ],
          [
           1930,
           ""
          ],
          [
           1931,
           "exotic island love of one's life escape sacrifice south seas civilization tahiti romance black and white shark nature pre-code polynesia bora bora gay director"
          ],
          [
           1931,
           "secret identity movie serial"
          ],
          [
           1931,
           "newfoundland and labrador seal (animal) seal hunting"
          ],
          [
           1930,
           ""
          ],
          [
           1931,
           "pre-code"
          ],
          [
           1932,
           "rescue pilot pre-code blizzard crash landing"
          ],
          [
           1932,
           "movie serial"
          ],
          [
           1932,
           ""
          ],
          [
           1932,
           "exotic island volcano love pre-code"
          ],
          [
           1932,
           "entertainer lumberjack pre-code show boat"
          ],
          [
           1932,
           "rescue airplane traitor atlantic ocean pilot dockyard infiltration downfall"
          ],
          [
           1932,
           "compulsive gambling"
          ],
          [
           1932,
           "love desert sheikh"
          ],
          [
           1931,
           "u.s. navy rivalry pre-code"
          ],
          [
           1932,
           "alaska pre-code"
          ],
          [
           1932,
           "mask daughter treasure sword killing detective expedition investigation grave victim genghis khan murder torture investigator maniac disguise art theft evil world domination fu manchu"
          ],
          [
           1932,
           "wales based on novel or book family secrets social satire old dark house madness pre-code isolated house stormy night creepy house mute servant social prejudice"
          ],
          [
           1932,
           "photographer thief oil pre-code speakeasy"
          ],
          [
           1931,
           "jungle pre-code colonial era"
          ],
          [
           1933,
           ""
          ],
          [
           1932,
           "spy manchuria bandit pre-code"
          ],
          [
           1932,
           "train"
          ],
          [
           1932,
           "africa gorilla expedition pre-code jungle girl"
          ],
          [
           1932,
           "prostitute rape china shanghai, china rebel ex-lover insurgence chinese civil war black and white beijing, china pre-code based on short story"
          ],
          [
           1932,
           "beauty contest millionaire"
          ],
          [
           1932,
           "diamond detective abandoned house murder old dark house forced landing"
          ],
          [
           1932,
           "german shepherd"
          ],
          [
           1932,
           "ranch deputy"
          ],
          [
           1932,
           "romance showgirl follies"
          ],
          [
           1932,
           "child abuse feral child poverty orphan foster child pre-code juvenile crime child delinquents"
          ],
          [
           1933,
           "kidnapping pyramid engagement thief guide pre-code arab"
          ],
          [
           1932,
           "wild animal jungle malaya animal trap"
          ],
          [
           1933,
           ""
          ],
          [
           1933,
           "not_found"
          ],
          [
           1933,
           ""
          ],
          [
           1933,
           "fire photographer reporter pre-code flood catastrophe newsreel cameraman female reporter"
          ],
          [
           1933,
           ""
          ],
          [
           1933,
           "captain africa pre-code chimpanzee shipwrecked accused of murder"
          ],
          [
           1933,
           "new york city ship exotic island island unsociability screenplay movie business great depression dinosaur black and white pre-code sea voyage damsel in distress empire state building giant ape animal horror great ape king kong"
          ],
          [
           1933,
           ""
          ],
          [
           1934,
           "senior citizen"
          ],
          [
           1933,
           "cavalry officer"
          ],
          [
           1933,
           "cross country homespun"
          ],
          [
           1933,
           "africa superstition jungle damsel in distress witch doctor ivory"
          ],
          [
           1934,
           "pre-code"
          ],
          [
           1933,
           ""
          ],
          [
           1932,
           "self-defense business ucla"
          ],
          [
           1933,
           "island prisoner yacht"
          ],
          [
           1933,
           "death penalty governor circus self-defense flashback rape victim lucid dreaming district attorney pre-code dark past told in flashback dream logic dreamlife political scandal innocent woman murder case innocent person executed noble sacrifice death row inmate"
          ],
          [
           1933,
           "mutiny island stowaway earthquake sequel singer bear dinosaur black and white gentle giant giant ape rescue from fire sea serpent king kong"
          ],
          [
           1933,
           "murder pre-code hidden room"
          ],
          [
           1933,
           "rescue treasure tarzan jungle movie serial"
          ],
          [
           1932,
           "butler wealth maid"
          ],
          [
           1933,
           ""
          ],
          [
           1933,
           ""
          ],
          [
           1933,
           "rape amputation freight train homelessness male friendship great depression youth gang poverty riding the rail troubled teen pre-code school dance police raid rape revenge jalopy hobo shantytown freighthopping garbage dump dwellers"
          ],
          [
           1934,
           "third world coconut sword fight feminist foot chase tropical island fake documentary guatemala sailing ship sea voyage native village ancient temple river dulce women fighting"
          ],
          [
           1933,
           "detective murder"
          ],
          [
           1934,
           "taxi scam horse racing sweepstakes"
          ],
          [
           1934,
           ""
          ],
          [
           1934,
           "based on novel or book pre-code perry mason"
          ],
          [
           1934,
           "charlie chan"
          ],
          [
           1934,
           ""
          ],
          [
           1934,
           ""
          ],
          [
           1934,
           "kidnapping detective bus road trip showgirl"
          ],
          [
           1934,
           ""
          ],
          [
           1934,
           "hotel room banker widow fistfight wager singing horse racing rainstorm courtship christmas horse trader racist stereotype honest brother sister relationship rural deacon period piece small town life 1890s"
          ],
          [
           1934,
           "monk convent (nunnery)"
          ],
          [
           1934,
           "ship waterfall jungle shoe pre-code"
          ],
          [
           1934,
           "new york city class differences sailor"
          ],
          [
           1934,
           "con man romance stranded chorus girl"
          ],
          [
           1934,
           "groom botched robbery lovelorn"
          ],
          [
           1934,
           ""
          ],
          [
           1934,
           "reporter"
          ],
          [
           1934,
           "alabama pre-code shrimp"
          ],
          [
           1934,
           ""
          ],
          [
           1934,
           "murder"
          ],
          [
           1934,
           "prayer motherly love little girl orphan bookie mother figure bedtime story father figure betting gambling racket abandoned child collateral blood donor race horse bookies"
          ],
          [
           1933,
           "ucla"
          ],
          [
           1934,
           "spy"
          ],
          [
           1934,
           ""
          ],
          [
           1934,
           ""
          ],
          [
           1934,
           "brooklyn, new york city accountant"
          ],
          [
           1934,
           "delinquent"
          ],
          [
           1934,
           "treasure map movie serial"
          ],
          [
           1934,
           "don juan"
          ],
          [
           1934,
           "cult movie serial magician"
          ],
          [
           1934,
           "new york city immigrant taxi chorus girl"
          ],
          [
           1934,
           "husband wife relationship double life secret identity french revolution guillotine dandy aristocrat 18th century troubled marriage scarlet pimpernel reign of terror fop 1790s"
          ],
          [
           1934,
           "loch ness monster loch ness"
          ],
          [
           1934,
           "puma deer wildlife nature wildlife conservation"
          ],
          [
           1934,
           ""
          ],
          [
           1934,
           "sailboat island based on novel or book pirate gang treasure hunt treasure map sunken treasure pirate 18th century pirate ship"
          ],
          [
           1934,
           "tow truck missing person"
          ],
          [
           1934,
           ""
          ],
          [
           1934,
           "failing business"
          ],
          [
           1934,
           ""
          ],
          [
           1934,
           "jungle"
          ],
          [
           1932,
           "not_found"
          ],
          [
           1931,
           ""
          ],
          [
           1930,
           ""
          ],
          [
           1932,
           "airplane reporter"
          ],
          [
           1931,
           ""
          ],
          [
           1931,
           ""
          ],
          [
           1930,
           "pre-code"
          ],
          [
           1934,
           ""
          ],
          [
           1933,
           "headhunter"
          ],
          [
           1930,
           ""
          ],
          [
           1932,
           ""
          ],
          [
           1934,
           "amateur detective railroad train robbery framed for murder woman in peril murder by gunshot robbery gang railroad yard"
          ],
          [
           1933,
           "windmill idealism idealist don quixote books fighting the system"
          ],
          [
           1934,
           ""
          ],
          [
           1929,
           "not_found"
          ],
          [
           1929,
           "not_found"
          ],
          [
           1929,
           "not_found"
          ],
          [
           1929,
           "not_found"
          ],
          [
           1931,
           "alps mountains slovenia"
          ],
          [
           1929,
           "not_found"
          ],
          [
           1934,
           "expedition silk road route de la soie"
          ],
          [
           1931,
           ""
          ]
         ],
         "hovertemplate": "<b>%{hovertext}</b><br><br>primary_genre=Adventure<br>startYear=%{customdata[0]}<br>keywords=%{customdata[1]}<extra></extra>",
         "hovertext": [
          "The Bellamy Trial",
          "The Four Feathers",
          "Behind Closed Doors",
          "Behind That Curtain",
          "The Black Watch",
          "Le Bled",
          "Le capitaine Fracasse",
          "Captain Lash",
          "Come and Get It!",
          "The Delightful Rogue",
          "The Desert Rider",
          "The Fire Detective",
          "The Flying Fleet",
          "The Flying Fool",
          "Woman in the Moon",
          "Frozen Justice",
          "High Seas",
          "His Captive Woman",
          "The Iron Mask",
          "Laughing at Death",
          "The Lost Zeppelin",
          "Monte Cristo",
          "Morgan's Last Raid",
          "The Mysterious Island",
          "A Throw of Dice",
          "The Red Sword",
          "Redskin",
          "The Rescue",
          "Sea Fury",
          "The Studio Murder Mystery",
          "The Virginian",
          "With Byrd at the South Pole",
          "Young Nowheres",
          "Beau Ideal",
          "The Big Trail",
          "Captain Thunder",
          "Danger Lights",
          "A Daughter of the Congo",
          "Derelict",
          "A Devil with Women",
          "East Is West",
          "Feet First",
          "The Green Goddess",
          "Hell Harbor",
          "Kismet",
          "Lightnin'",
          "The Love Trader",
          "Men of the North",
          "Moby Dick",
          "Murder Will Out",
          "Prince of Diamonds",
          "Raffles",
          "Remote Control",
          "The Return of Dr. Fu Manchu",
          "Rough Romance",
          "The Sea God",
          "The Sea Wolf",
          "Seven Days Leave",
          "Sinners' Holiday",
          "The Social Lion",
          "The Storm",
          "Tom Sawyer",
          "Under a Texas Moon",
          "Women Everywhere",
          "Corsair",
          "Dirigible",
          "East of Borneo",
          "Emil and the Detectives",
          "Gold Dust Gertie",
          "Pagan Lady",
          "The Sky Raiders",
          "Sooky",
          "Storm Over Mont Blanc",
          "Tabu: A Story of the South Seas",
          "The Vanishing Legion",
          "The Viking",
          "Windjammer",
          "The Yellow Ticket",
          "Air Mail",
          "The Airmail Mystery",
          "The Blue Fleet",
          "Bird of Paradise",
          "Carnival Boat",
          "F.P.1 Doesn't Answer",
          "The Gambling Sex",
          "Glos pustyni",
          "Hell Divers",
          "Klondike",
          "The Mask of Fu Manchu",
          "The Old Dark House",
          "Panama Flo",
          "Prestige",
          "Shadow of Pancho Villa",
          "Roar of the Dragon",
          "Rome Express",
          "The Savage Girl",
          "Shanghai Express",
          "She Wanted a Millionaire",
          "Tangled Destinies",
          "Trailing the Killer",
          "Two-Fisted Law",
          "Vanity Street",
          "Young America",
          "The Barbarian",
          "Bring 'Em Back Alive",
          "Clancy of the Mounted",
          "Don Quixote",
          "F. P. 1 Doesn't Answer",
          "Headline Shooter",
          "Her Splendid Folly",
          "Jungle Bride",
          "King Kong",
          "Kiss of Araby",
          "Love Birds",
          "The Man from Monterey",
          "Mr. Skitch",
          "Nagana",
          "Picture Brides",
          "S.O.S. Iceberg",
          "Self Defense",
          "Ship of Wanted Men",
          "The Sin of Nora Moran",
          "Son of Kong",
          "The Sphinx",
          "Tarzan the Fearless",
          "They Just Had to Get Married",
          "The Tiger of Yautepec",
          "Ein Unsichtbarer geht durch die Stadt",
          "Wild Boys of the Road",
          "Adventure Girl",
          "Before Midnight",
          "Call It Luck",
          "The Camels Are Coming",
          "The Case of the Howling Dog",
          "Charlie Chan's Courage",
          "Cheaters",
          "Heart of a Bandit",
          "Cross Country Cruise",
          "La cruz y la espada",
          "David Harum",
          "The Phantom of the Convent",
          "Four Frightened People",
          "Let's Talk It Over",
          "Good Dame",
          "Here Comes the Groom",
          "Workers, Let's Go",
          "I'll Tell the World",
          "Lazy River",
          "Let's Be Ritzy",
          "Lightning Strikes Twice",
          "Little Miss Marker",
          "Lone Cowboy",
          "Madame Spy",
          "Monte Carlo Nights",
          "Mystery Liner",
          "The Party's Over",
          "Peck's Bad Boy",
          "Pirate Treasure",
          "The Private Life of Don Juan",
          "The Return of Chandu",
          "Romance in Manhattan",
          "The Scarlet Pimpernel",
          "The Secret of the Loch",
          "Sequoia",
          "Sixteen Fathoms Deep",
          "Treasure Island",
          "Wake Up and Dream",
          "Lorna Doone",
          "Mills of the Gods",
          "Beyond Bengal",
          "Inyaah (Jungle Goddess)",
          "El caballero de la noche",
          "The Lyons Mail",
          "Monsieur Le Fox",
          "Rouletabille aviateur",
          "A Private Scandal",
          "Rango",
          "Africa Speaks!",
          "North Pole, Ahoy!",
          "Savage Gold",
          "Rama, the Cannibal Girl",
          "Those of the Viking",
          "Twisted Rails",
          "Don Quichotte",
          "The Hero of Nacozari",
          "The Port of Tears",
          "Down Channel",
          "The Kingdom of Twilight",
          "When Knights Were Bold",
          "In the Realms of Goldhorn",
          "The Courier of Angola",
          "The Yellow Cruise",
          "Explorers of the World"
         ],
         "legendgroup": "Adventure",
         "marker": {
          "color": "#00cc96",
          "line": {
           "color": "DarkSlateGrey",
           "width": 0.5
          },
          "opacity": 0.9,
          "size": 6,
          "symbol": "circle"
         },
         "mode": "markers",
         "name": "Adventure",
         "showlegend": true,
         "type": "scattergl",
         "x": [
          -2.0346203,
          18.168612,
          -2.0346203,
          12.429628,
          12.444005,
          16.887089,
          -2.6242728,
          2.9607174,
          -0.712606,
          0.4311137,
          1.4594545,
          0.053143766,
          17.951183,
          -2.659707,
          31.821814,
          25.01971,
          -2.956831,
          2.3190947,
          -2.5697603,
          -0.05850409,
          21.022749,
          30.110256,
          20.352531,
          14.195449,
          29.850145,
          0.053143766,
          32.36135,
          -0.05850409,
          0.053143766,
          -0.05850409,
          7.2224846,
          20.979315,
          36.839348,
          4.5469074,
          21.076857,
          17.366365,
          -29.429169,
          36.994488,
          -0.05850409,
          -27.038189,
          7.9268184,
          -29.760408,
          -14.161676,
          -16.91649,
          39.346687,
          -21.51507,
          -0.05850409,
          -0.05850409,
          -20.440065,
          -0.05850409,
          -2.3583522,
          -26.244509,
          -3.5243256,
          -1.3710272,
          -25.800714,
          13.447967,
          -0.05850409,
          18.605333,
          -24.177736,
          28.160116,
          24.566265,
          -0.05850409,
          -14.022863,
          -21.177801,
          -18.389118,
          -22.68124,
          23.99129,
          16.576662,
          -2.3648055,
          -24.076706,
          -0.05850409,
          -16.222628,
          -0.05850409,
          12.323425,
          36.42201,
          23.576492,
          -0.05850409,
          -26.532848,
          -22.840378,
          36.10608,
          -0.05850409,
          -24.483025,
          -18.484463,
          17.959595,
          -4.7723613,
          25.376059,
          -19.734165,
          -30.795033,
          -1.1818714,
          18.983986,
          -24.739151,
          -20.67827,
          -0.05850409,
          -18.040562,
          30.032244,
          26.732069,
          0.10623351,
          -12.817867,
          24.369776,
          34.193966,
          16.505249,
          -10.506534,
          -15.125262,
          -15.809616,
          27.459911,
          -0.05850409,
          0.09415658,
          -0.05850409,
          5.0665507,
          -0.05850409,
          -6.652977,
          13.122148,
          -0.05850409,
          10.624198,
          23.386274,
          29.401415,
          26.209396,
          -27.94807,
          -0.05850409,
          1.8098623,
          11.765326,
          -5.8619046,
          13.263275,
          -12.728081,
          33.486633,
          4.4620576,
          -0.05850409,
          -0.05850409,
          -13.491419,
          10.990288,
          3.182914,
          25.230808,
          -0.05850409,
          -13.6642685,
          12.429628,
          -0.05850409,
          -0.05850409,
          2.6331494,
          -0.05850409,
          -14.1461935,
          -4.836982,
          -21.47141,
          16.729357,
          -3.471194,
          -4.4569798,
          -0.05850409,
          5.681944,
          -24.844236,
          -0.05850409,
          0.8970909,
          23.387686,
          8.553657,
          8.542728,
          -0.05850409,
          -0.05850409,
          -2.6462004,
          4.002296,
          35.895893,
          16.985312,
          33.95303,
          -7.7174077,
          -3.0143523,
          12.105112,
          19.90528,
          -0.05850409,
          14.207959,
          11.681166,
          -0.05850409,
          43.20229,
          -0.05850409,
          27.694641,
          0.09415658,
          -0.05850409,
          -0.05850409,
          22.084951,
          -0.05850409,
          -0.05850409,
          -29.004322,
          -0.05850409,
          26.90814,
          -0.05850409,
          -0.05850409,
          3.428705,
          15.843331,
          -0.05850409,
          0.09415658,
          0.09415658,
          0.09415658,
          0.09415658,
          19.968029,
          0.09415658,
          28.4327,
          -0.05850409
         ],
         "xaxis": "x",
         "y": [
          34.347107,
          -34.921978,
          34.347107,
          -21.678118,
          -46.80942,
          -1.9698292,
          34.99487,
          36.11952,
          33.70544,
          33.681328,
          34.048115,
          74.79034,
          -29.85824,
          35.049595,
          -39.86675,
          2.3237472,
          35.619827,
          34.777054,
          -34.199654,
          36.81693,
          -30.47843,
          -40.398537,
          -15.544857,
          -28.869091,
          -35.58788,
          74.79034,
          -39.041893,
          36.81693,
          74.79034,
          36.81693,
          -0.8678998,
          -30.49349,
          -32.11642,
          -13.050706,
          -10.314764,
          -13.342182,
          -43.017723,
          -30.692465,
          36.81693,
          -34.699253,
          -50.01569,
          -36.57307,
          -22.57973,
          -34.805687,
          -23.49241,
          -5.817915,
          36.81693,
          36.81693,
          -41.119087,
          36.81693,
          -23.360315,
          -31.276863,
          -21.827612,
          -27.114796,
          -31.652023,
          -31.118853,
          36.81693,
          -34.53442,
          -17.077412,
          -9.213349,
          -14.918784,
          36.81693,
          -34.20846,
          2.8148816,
          -27.788574,
          -40.800667,
          -18.874065,
          -46.7177,
          -41.15409,
          -42.86998,
          36.81693,
          -14.189577,
          36.81693,
          -33.022633,
          -22.359573,
          -14.01248,
          36.81693,
          -31.910278,
          -39.54474,
          -19.838486,
          36.81693,
          -42.536865,
          -43.967186,
          -30.06954,
          -4.0222893,
          -9.481739,
          -39.37566,
          -41.81138,
          -26.980978,
          -44.247612,
          -26.827871,
          -32.182495,
          36.81693,
          -33.33694,
          -10.410088,
          -19.544258,
          -28.731478,
          -18.42033,
          -31.481955,
          -1.2532119,
          -8.162298,
          -2.669645,
          -17.297323,
          -24.174498,
          -18.21139,
          36.81693,
          77.94953,
          36.81693,
          -20.114899,
          36.81693,
          -27.389992,
          -34.220943,
          36.81693,
          -37.381283,
          -7.293089,
          -15.439571,
          -18.83697,
          -31.381468,
          36.81693,
          -3.5793095,
          -30.634998,
          -13.564634,
          -34.296196,
          -23.437975,
          -19.293402,
          -35.097813,
          36.81693,
          36.81693,
          -15.170342,
          -34.533463,
          -16.628008,
          -5.517068,
          36.81693,
          -34.300537,
          -21.678118,
          36.81693,
          36.81693,
          -10.256448,
          36.81693,
          -12.160083,
          2.6967065,
          -32.555416,
          -25.785542,
          -55.472107,
          -19.481176,
          36.81693,
          -20.715456,
          -36.518623,
          36.81693,
          -14.849586,
          -44.893917,
          -1.219892,
          -16.914124,
          36.81693,
          36.81693,
          -40.752422,
          -5.396467,
          -18.84744,
          -14.846949,
          -21.326815,
          -42.6451,
          -36.65917,
          -27.593216,
          -3.097972,
          36.81693,
          -32.063515,
          -6.5673823,
          36.81693,
          -29.166622,
          36.81693,
          -18.518274,
          77.94953,
          36.81693,
          36.81693,
          -27.400381,
          36.81693,
          36.81693,
          -32.995274,
          36.81693,
          -17.2395,
          36.81693,
          36.81693,
          -16.37851,
          -43.697422,
          36.81693,
          77.94953,
          77.94953,
          77.94953,
          77.94953,
          -40.996655,
          77.94953,
          -12.92389,
          36.81693
         ],
         "yaxis": "y"
        },
        {
         "customdata": [
          [
           1929,
           "not_found"
          ],
          [
           1929,
           "princess scotland yard mummy reincarnation movie serial limehouse"
          ],
          [
           1930,
           "island dancer yacht millionaire storm at sea lost film"
          ],
          [
           1929,
           "gangster"
          ],
          [
           1929,
           "not_found"
          ],
          [
           1929,
           "not_found"
          ],
          [
           1929,
           ""
          ],
          [
           1929,
           ""
          ],
          [
           1929,
           "not_found"
          ],
          [
           1929,
           "prohibition era chinatown gang leader"
          ],
          [
           1929,
           ""
          ],
          [
           1929,
           ""
          ],
          [
           1929,
           "based on play or musical early sound film operetta"
          ],
          [
           1929,
           "murder suspected party"
          ],
          [
           1929,
           "texas ranch deception drifter held at gunpoint library of congress damsel in distress henchmen"
          ],
          [
           1929,
           "movie serial"
          ],
          [
           1929,
           ""
          ],
          [
           1929,
           "pilot"
          ],
          [
           1929,
           "lost film"
          ],
          [
           1929,
           "german shepherd dog hero"
          ],
          [
           1929,
           "colonel playboy steeplechase"
          ],
          [
           1929,
           ""
          ],
          [
           1929,
           "not_found"
          ],
          [
           1929,
           "gorilla movie serial"
          ],
          [
           1929,
           ""
          ],
          [
           1929,
           ""
          ],
          [
           1929,
           "romance"
          ],
          [
           1929,
           "based on novel or book based on play or musical wager"
          ],
          [
           1929,
           "vagabond riding the rail"
          ],
          [
           1929,
           "partially lost film"
          ],
          [
           1929,
           ""
          ],
          [
           1929,
           "not_found"
          ],
          [
           1929,
           "movie serial"
          ],
          [
           1929,
           "lost film"
          ],
          [
           1929,
           "world war i"
          ],
          [
           1929,
           "thanksgiving pre-code racketeer"
          ],
          [
           1929,
           "vaudeville troupe frozen north"
          ],
          [
           1929,
           ""
          ],
          [
           1929,
           "tarzan movie serial"
          ],
          [
           1929,
           "train silent film flood lost film train engineer"
          ],
          [
           1929,
           ""
          ],
          [
           1929,
           ""
          ],
          [
           1929,
           "not_found"
          ],
          [
           1929,
           "rescue mountain stranded snow mountain climbing"
          ],
          [
           1929,
           "revenge"
          ],
          [
           1930,
           ""
          ],
          [
           1930,
           "gangster police officer frame up lost film heavyweight champion"
          ],
          [
           1930,
           "sports romance race car driver"
          ],
          [
           1930,
           ""
          ],
          [
           1930,
           "world war i fighter pilot pilot aerial combat royal flying corps (rfc) suicide mission pre-code brothers"
          ],
          [
           1930,
           "gangster nightclub revenge pre-code police inspector racketeer"
          ],
          [
           1929,
           ""
          ],
          [
           1930,
           "prohibition era deceit jazz age racketeer"
          ],
          [
           1930,
           "movie serial"
          ],
          [
           1930,
           "native american farmer heard"
          ],
          [
           1930,
           "based on novel or book"
          ],
          [
           1931,
           "robbery based on novel or book gangster crime boss rise and fall murder organized crime pre-code teetotaler"
          ],
          [
           1930,
           "robbery based on play or musical pre-code engaged couple"
          ],
          [
           1930,
           "world war i"
          ],
          [
           1930,
           "german shepherd dog hero"
          ],
          [
           1930,
           "coast guard lighthouse romance"
          ],
          [
           1930,
           "navy submarine shanghai, china pre-code"
          ],
          [
           1929,
           ""
          ],
          [
           1930,
           ""
          ],
          [
           1930,
           ""
          ],
          [
           1930,
           "american civil war"
          ],
          [
           1930,
           "island south seas pre-code white woman tonga"
          ],
          [
           1930,
           ""
          ],
          [
           1930,
           "casablanca, morocco pre-code french foreign legion"
          ],
          [
           1930,
           "pre-code"
          ],
          [
           1930,
           "island monster escaped convict paganism diver"
          ],
          [
           1930,
           "great depression"
          ],
          [
           1930,
           "gangster nightclub pre-code"
          ],
          [
           1930,
           "mutiny pre-code rich snob"
          ],
          [
           1929,
           ""
          ],
          [
           1930,
           "pre-code operetta"
          ],
          [
           1930,
           "gold mining alaska pre-code"
          ],
          [
           1930,
           "bootlegger machine gun"
          ],
          [
           1930,
           ""
          ],
          [
           1930,
           ""
          ],
          [
           1930,
           "undercover gangster mobster policeman library of congress"
          ],
          [
           1930,
           "u.s. cavalry partially lost film"
          ],
          [
           1930,
           "sailor pre-code"
          ],
          [
           1930,
           ""
          ],
          [
           1930,
           "romance outlaw school teacher hideout"
          ],
          [
           1930,
           "africa poison quarrel trading post home office"
          ],
          [
           1930,
           "con man spoof"
          ],
          [
           1930,
           "underground trapped"
          ],
          [
           1930,
           "mexico revolution aviator"
          ],
          [
           1931,
           "airplane aerial combat daredevil machine gun aviator flying ace poverty row barnstorming"
          ],
          [
           1931,
           ""
          ],
          [
           1931,
           "boxer reporter"
          ],
          [
           1931,
           "not_found"
          ],
          [
           1931,
           "not_found"
          ],
          [
           1931,
           "police gang big city"
          ],
          [
           1931,
           "love triangle boat"
          ],
          [
           1931,
           "not_found"
          ],
          [
           1931,
           "not_found"
          ],
          [
           1931,
           ""
          ],
          [
           1931,
           ""
          ],
          [
           1931,
           "not_found"
          ],
          [
           1931,
           "not_found"
          ],
          [
           1931,
           "pre-code"
          ],
          [
           1931,
           ""
          ],
          [
           1931,
           "jewelry loyalty thief pre-code criminal rehabilitation"
          ],
          [
           1931,
           "movie serial"
          ],
          [
           1931,
           "nurse world war i"
          ],
          [
           1931,
           "secret love shyness nerd college"
          ],
          [
           1931,
           ""
          ],
          [
           1932,
           ""
          ],
          [
           1931,
           ""
          ],
          [
           1931,
           ""
          ],
          [
           1931,
           "treasure prison escape pirate"
          ],
          [
           1931,
           "submarine naval officer inheritance sea captain docks"
          ],
          [
           1931,
           ""
          ],
          [
           1931,
           "sea captain"
          ],
          [
           1931,
           "boxing slumlord"
          ],
          [
           1931,
           "mystery pilot"
          ],
          [
           1931,
           "slum"
          ],
          [
           1930,
           "circus movie serial"
          ],
          [
           1931,
           "magic séance"
          ],
          [
           1931,
           "africa missionary safari death pre-code trader"
          ],
          [
           1932,
           "dancer detective scandal reporter lost film"
          ],
          [
           1932,
           "not_found"
          ],
          [
           1932,
           "egypt magic torture scientist death ray madman yogi hypnotic powers based on radio drama mad lab"
          ],
          [
           1932,
           "sibling relationship car race sports sibling rivalry race car driver pre-code boyfriend girlfriend relationship"
          ],
          [
           1932,
           ""
          ],
          [
           1932,
           "daughter crew revenge sea captain"
          ],
          [
           1932,
           "new york city manager pre-code repair shop"
          ],
          [
           1931,
           "pre-code"
          ],
          [
           1932,
           "poison victim killer"
          ],
          [
           1932,
           ""
          ],
          [
           1932,
           "jealousy yacht shipwreck"
          ],
          [
           1932,
           "rescue hoodlum hard boiled"
          ],
          [
           1932,
           "prison self sacrifice southern usa chain gang pre-code prison brutality"
          ],
          [
           1932,
           "railroad movie serial"
          ],
          [
           1932,
           "train accident railroad movie serial"
          ],
          [
           1932,
           "newspaper radio program gossip heiress broadway showgirl pre-code"
          ],
          [
           1932,
           "serial"
          ],
          [
           1932,
           "prison"
          ],
          [
           1932,
           "jack the ripper"
          ],
          [
           1932,
           "movie serial"
          ],
          [
           1932,
           "romantic rivalry torch singer"
          ],
          [
           1932,
           "crocodile fistfight stranded hunting remote island pre-code based on short story sole survivor south sea island god complex reef attacked by a dog mute villain nobleman human prey big game hunter shipwreck survivors"
          ],
          [
           1932,
           "deserted island pre-code"
          ],
          [
           1932,
           "gangster"
          ],
          [
           1932,
           "ship mutiny poison sea voyage"
          ],
          [
           1932,
           "dog german shepherd dog hero"
          ],
          [
           1932,
           "football (soccer)"
          ],
          [
           1932,
           "ranch"
          ],
          [
           1932,
           "chicago, illinois sibling relationship based on novel or book police prohibition era alcohol gangster gang war beer ambition film noir murder mobster black and white pre-code"
          ],
          [
           1932,
           "fortune teller"
          ],
          [
           1932,
           "airplane france world war i desertion atlantic ocean stowaway pilot american u.s. soldier pre-code awol"
          ],
          [
           1932,
           "playboy"
          ],
          [
           1932,
           ""
          ],
          [
           1932,
           "based on novel or book africa expedition hippopotamus tarzan jungle pre-code chimpanzee ape man stampede elephant stampede"
          ],
          [
           1932,
           "deception betrayal"
          ],
          [
           1932,
           "shanghai, china war correspondent"
          ],
          [
           1932,
           "jewel theft lost film masquerade party"
          ],
          [
           1932,
           "based on play or musical remake black and white pre-code"
          ],
          [
           1932,
           ""
          ],
          [
           1933,
           "gold prostitute diving submarine photographer stowaway treasure map murder betrayal sunken treasure scientist diver oceanic expedition socialite pre-code waterfront lifeboat underwater photography giant octopus diving bell sunken submarine sea creature german adventure u-boat"
          ],
          [
           1933,
           "circus animal act"
          ],
          [
           1933,
           "pre-code"
          ],
          [
           1933,
           "infidelity scavenger hunt love affair pre-code woman director aviatrix melodramatic"
          ],
          [
           1933,
           ""
          ],
          [
           1933,
           "prohibition era pre-code college professor"
          ],
          [
           1934,
           "guerrilla warfare mexican revolution"
          ],
          [
           1933,
           "crusader inventor political party mayor murder lawyer coroner pre-code frame up newspaper reporter raised middle finger political corruption graft crooked judge devoted girlfriend political machine crooked district attorney"
          ],
          [
           1933,
           ""
          ],
          [
           1933,
           "earthquake flooding flood disaster movie"
          ],
          [
           1933,
           ""
          ],
          [
           1933,
           "suicide england world war i raf (royal air force) observer fighter pilot pilot cover-up beautiful woman aviation aerial combat war hero pre-code casualty of war"
          ],
          [
           1933,
           "gangster investigation murder extortion hospital pre-code insurance company"
          ],
          [
           1932,
           "prostitution pre-code oil well"
          ],
          [
           1932,
           "pilot dog german shepherd"
          ],
          [
           1933,
           "pilot pre-code"
          ],
          [
           1933,
           "hotel racing pre-code"
          ],
          [
           1933,
           ""
          ],
          [
           1933,
           "professor jewel tomb egyptologist anubis"
          ],
          [
           1933,
           "car race fear death driver"
          ],
          [
           1933,
           "slapstick comedy pre-code"
          ],
          [
           1933,
           ""
          ],
          [
           1933,
           "murder killer public stenographer night bus"
          ],
          [
           1933,
           "mutiny on the bounty"
          ],
          [
           1933,
           "german shepherd dog hero"
          ],
          [
           1933,
           "murder prizefight wrongful conviction"
          ],
          [
           1933,
           "lion safari jungle traveling circus pre-code wild man schoolteacher"
          ],
          [
           1933,
           "gunrunner"
          ],
          [
           1933,
           "stunt stuntman"
          ],
          [
           1933,
           "prison kidnapping"
          ],
          [
           1933,
           "kidnapping shootout mountain lion"
          ],
          [
           1932,
           "racing lost film"
          ],
          [
           1933,
           "marriage"
          ],
          [
           1933,
           "navy romance"
          ],
          [
           1933,
           "con man pre-code clairvoyant"
          ],
          [
           1933,
           ""
          ],
          [
           1933,
           "friendship chauffeur smuggling (contraband) gangster bodyguard great depression mistress poverty pre-code hard times parachute jumping airplane pilot couriers"
          ],
          [
           1933,
           "movie serial"
          ],
          [
           1933,
           ""
          ],
          [
           1933,
           "judge gangster"
          ],
          [
           1933,
           "film in film b movie pre-code"
          ],
          [
           1933,
           "pilot"
          ],
          [
           1933,
           "silver mine"
          ],
          [
           1933,
           "state trooper"
          ],
          [
           1933,
           "indian uprising"
          ],
          [
           1933,
           "movie serial"
          ],
          [
           1933,
           "stuntman"
          ],
          [
           1933,
           "governor kansas, usa pardon"
          ],
          [
           1932,
           ""
          ],
          [
           1933,
           "oil pre-code"
          ],
          [
           1933,
           "secret identity wax museum movie serial"
          ],
          [
           1932,
           "ranch horse thief"
          ],
          [
           1933,
           "german shepherd movie serial rin tin tin dog hero"
          ],
          [
           1933,
           "love triangle oil"
          ],
          [
           1933,
           "airplane newsreel cameraman"
          ],
          [
           1934,
           "movie serial stunt driver"
          ],
          [
           1934,
           "arabian nights"
          ],
          [
           1934,
           "prison escape napoleon bonaparte revenge dungeon"
          ],
          [
           1934,
           "immigrant"
          ],
          [
           1934,
           ""
          ],
          [
           1933,
           ""
          ],
          [
           1934,
           ""
          ],
          [
           1934,
           ""
          ],
          [
           1934,
           ""
          ],
          [
           1934,
           "hotel police gangster irish-american pre-code wisecrack humor repairman telephone operator lineman buddies stolen bonds switchboard operator telephone service telephone switchboard operator phone wire phoney spiritualist customer service telephone repairmen"
          ],
          [
           1934,
           "stolen money police dog investment firm dog hero"
          ],
          [
           1934,
           "german shepherd movie serial rin tin tin dog hero"
          ],
          [
           1934,
           "movie serial"
          ],
          [
           1934,
           "sniper middle east ambush world war i british army desert oasis patrol desert pre-code mesopotamia"
          ],
          [
           1934,
           ""
          ],
          [
           1934,
           "cross dressing"
          ],
          [
           1934,
           ""
          ],
          [
           1934,
           "native american pre-code"
          ],
          [
           1934,
           "mother scam millionaire"
          ],
          [
           1934,
           ""
          ],
          [
           1934,
           ""
          ],
          [
           1933,
           "movie serial"
          ],
          [
           1933,
           ""
          ],
          [
           1934,
           "outlaw murder posse damsel in distress"
          ],
          [
           1934,
           "bulldog drummond"
          ],
          [
           1933,
           "train railroad"
          ],
          [
           1934,
           "women's prison"
          ],
          [
           1933,
           ""
          ],
          [
           1934,
           "damsel in distress small airport"
          ],
          [
           1934,
           "spur niece cowboy saddle western hero frontier justice native american tribe"
          ],
          [
           1934,
           "pilot movie serial"
          ],
          [
           1934,
           "elephant africa crocodile greed expedition lion rhinoceros deception tarzan wildlife jungle sacred ground pre-code chimpanzee ape man ivory"
          ],
          [
           1934,
           "jewelry ex husband murder private investigator secretary police detective divorced woman ex-con high society jeweler missing money society party current husband known criminal"
          ],
          [
           1934,
           "invention mad scientist robot movie serial"
          ],
          [
           1934,
           ""
          ],
          [
           1934,
           "pre-code"
          ],
          [
           1934,
           ""
          ],
          [
           1934,
           ""
          ],
          [
           1934,
           "u.s. marine"
          ],
          [
           1933,
           "exotic island exploitation clit licking"
          ],
          [
           1929,
           "robbery horse father tramp thief murder vagabond orphan war hero military school bugle stable boy army bugler part-talkie"
          ],
          [
           1931,
           "not_found"
          ],
          [
           1931,
           ""
          ],
          [
           1932,
           "not_found"
          ],
          [
           1933,
           ""
          ],
          [
           1933,
           ""
          ],
          [
           1932,
           "prison new york city jealousy dancer prisoner police slang manager entertainer cigarette nightclub boxer romantic rivalry great depression prison warden liquor cigar smoking crook suitor b movie morality convict ex-con injury frame up master of ceremonies prizefight referee confession of crime sweetheart poverty row"
          ],
          [
           1932,
           ""
          ],
          [
           1929,
           "not_found"
          ],
          [
           1930,
           "virgin gorilla exploitation jungle pre-code"
          ],
          [
           1933,
           "b movie"
          ],
          [
           1933,
           ""
          ],
          [
           1932,
           ""
          ],
          [
           1933,
           "not_found"
          ],
          [
           1931,
           "lost film"
          ],
          [
           1934,
           "oil wildcatter"
          ],
          [
           1932,
           ""
          ],
          [
           1934,
           "german shepherd dog hero"
          ],
          [
           1929,
           "not_found"
          ],
          [
           1929,
           ""
          ],
          [
           1932,
           ""
          ],
          [
           1931,
           "expedition historical fiction pre-code white woman"
          ],
          [
           1930,
           ""
          ],
          [
           1929,
           "not_found"
          ],
          [
           1931,
           "not_found"
          ],
          [
           1931,
           ""
          ]
         ],
         "hovertemplate": "<b>%{hovertext}</b><br><br>primary_genre=Action<br>startYear=%{customdata[0]}<br>keywords=%{customdata[1]}<extra></extra>",
         "hovertext": [
          "Silent Sentinel",
          "The Ace of Scotland Yard",
          "After the Fog",
          "Alibi",
          "Bachelor's Club",
          "Back from Shanghai",
          "Barnum Was Right",
          "The Big Diamond Robbery",
          "The Black Book",
          "Chinatown Nights",
          "Come Across",
          "Dark Streets",
          "The Desert Song",
          "The Donovan Affair",
          "The Drifter",
          "The Fatal Warning",
          "Flight",
          "The Flying Marine",
          "From Headquarters",
          "Frozen River",
          "His First Command",
          "The Isle of Lost Ships",
          "The Kid's Clever",
          "The King of the Kongo",
          "Lost Patrol",
          "Love in the Desert",
          "The Man I Love",
          "Nothing But the Truth",
          "Oh, Yeah?",
          "One Stolen Night",
          "Outlawed",
          "The Pirate of Panama",
          "Queen of the Northwoods",
          "Shanghai Rose",
          "She Goes to War",
          "Side Street",
          "The Sin Sister",
          "The Sky Skidder",
          "Tarzan the Tiger",
          "Thunder",
          "Thundering Thompson",
          "Two Sisters",
          "Untamed Justice",
          "The White Hell of Pitz Palu",
          "Woman Trap",
          "Are You There?",
          "The Big Fight",
          "Burning Up",
          "Call of the West",
          "The Dawn Patrol",
          "Framed",
          "General Crack",
          "Good Intentions",
          "The Jade Box",
          "The Santa Fe Trail",
          "The Light of Western Stars",
          "Little Caesar",
          "The Pay-Off",
          "A Man from Wyoming",
          "The Man Hunter",
          "Men on Call",
          "Men Without Women",
          "The Mighty",
          "The Mounted Stranger",
          "On the Level",
          "Only the Brave",
          "Paradise Island",
          "Pardon My Gun",
          "Renegades",
          "Scarlet Pages",
          "The Sea Bat",
          "See America Thirst",
          "She Couldn't Say No",
          "The Ship from Shanghai",
          "The Sky Hawk",
          "Song of the West",
          "The Spoilers",
          "The Squealer",
          "Terry of the 'Times'",
          "The Third Alarm",
          "Those Who Dance",
          "Troopers Three",
          "True to the Navy",
          "Under Suspicion",
          "The Utah Kid",
          "Vengeance",
          "Way Out West",
          "The Way of All Men",
          "Wings of Adventure",
          "Air Eagles",
          "Air Police",
          "Anybody's Blonde",
          "Dancing Dynamite",
          "Danger Island",
          "Defenders of the Law",
          "Fifty Fathoms Deep",
          "Finger Prints",
          "First Aid",
          "Flying Lariats",
          "Gun Smoke",
          "Hell-Bent for Frisco",
          "Heroes of the Flames",
          "A Holy Terror",
          "In Line of Duty",
          "Kick In",
          "King of the Wild",
          "The Last Parade",
          "Local Boy Makes Good",
          "Lover Come Back",
          "Trapped in a Submarine",
          "Mr. Lemon of Orange",
          "Reckless Living",
          "Sea Devils",
          "The Sea Ghost",
          "The Seas Beneath",
          "Ships of Hate",
          "Sidewalks of New York",
          "The Sky Spider",
          "Soul of the Slums",
          "Spell of the Circus",
          "The Spider",
          "Trader Horn",
          "The Arm of the Law",
          "Cannonball Express",
          "Chandu the Magician",
          "The Crowd Roars",
          "Detective Lloyd",
          "Devil on Deck",
          "The Devil Is Driving",
          "Dragnet Patrol",
          "The Face at the Window",
          "Flames",
          "Gorilla Ship",
          "Guilty or Not Guilty",
          "Hell's Highway",
          "Heroes of the West",
          "The Hurricane Express",
          "Is My Face Red?",
          "Jungle Mystery",
          "The Last Mile",
          "The Phantom Fiend",
          "The Lost Special",
          "Man Against Woman",
          "The Most Dangerous Game",
          "Mr. Robinson Crusoe",
          "No Living Witness",
          "Out of Singapore",
          "The Pride of the Legion",
          "Rackety Rax",
          "Ride Him, Cowboy",
          "Scarface",
          "Sinister Hands",
          "Sky Devils",
          "Speed Madness",
          "Steady Company",
          "Tarzan the Ape Man",
          "This Sporting Age",
          "War Correspondent",
          "The Western Limited",
          "Wild Girl",
          "The Wyoming Whirlwind",
          "Below the Sea",
          "The Big Cage",
          "The Big Chance",
          "Christopher Strong",
          "The Circus Queen Murder",
          "College Humor",
          "Godfather Mendoza",
          "Corruption",
          "Dangerous Crossroads",
          "Deluge",
          "Drum Taps",
          "The Eagle and the Hawk",
          "Emergency Call",
          "Flaming Gold",
          "The Flaming Signal",
          "Flying Devils",
          "From Hell to Heaven",
          "A Certain Mr. Gran",
          "The Ghoul",
          "High Gear",
          "Hot Pepper",
          "Hotel Variety",
          "The Important Witness",
          "In the Wake of the Bounty",
          "Jaws of Justice",
          "King for a Night",
          "King of the Jungle",
          "Laughing at Life",
          "Lucky Devils",
          "The Mad Game",
          "Man of the Forest",
          "Speed Demon",
          "Master of Men",
          "Midshipman Jack",
          "The Mind Reader",
          "The Mysterious Rider",
          "Parachute Jumper",
          "The Phantom of the Air",
          "Racetrack",
          "Riot Squad",
          "Scarlet River",
          "Skyway",
          "Somewhere in Sonora",
          "State Trooper",
          "The Telegraph Trail",
          "The Three Musketeers",
          "The Thrill Hunter",
          "Treason",
          "Three Musketeers",
          "West of Singapore",
          "The Whispering Shadow",
          "Wild Horse Mesa",
          "The Wolf Dog",
          "The Woman I Stole",
          "Above the Clouds",
          "Burn 'Em Up Barnes",
          "Chu Chin Chow",
          "The Count of Monte Cristo",
          "Crimson Romance",
          "The Devil Tiger",
          "The Fiddlin' Buckaroo",
          "Fifteen Wives",
          "Girl in Danger",
          "Happy Landing",
          "I've Got Your Number",
          "Inside Information",
          "Law of the Wild",
          "The Lost Jungle",
          "The Lost Patrol",
          "Lost in the Stratosphere",
          "The Lucky Texan",
          "A Man Wants to Get to Germany",
          "Massacre",
          "Million Dollar Ransom",
          "No More Women",
          "One Is Guilty",
          "Perils of Pauline",
          "District Attorney",
          "Randy Rides Alone",
          "The Return of Bulldog Drummond",
          "The Return of Casey Jones",
          "School for Girls",
          "Shadows of Sing Sing",
          "Speed Wings",
          "The Star Packer",
          "Tailspin Tommy",
          "Tarzan and His Mate",
          "Ticket to a Crime",
          "The Vanishing Shadow",
          "Voice in the Night",
          "West of the Divide",
          "When a Man Sees Red",
          "Wild Cargo",
          "The Marines Are Coming",
          "Samarang",
          "Square Shoulders",
          "Revolt in the Desert",
          "Sporting Chance",
          "Bachelor Mother",
          "Fighting Playboy",
          "Police Call",
          "They Never Come Back",
          "Hand to Hand",
          "The One Man Dog",
          "Ingagi",
          "Soldiers of the Storm",
          "King of the Wild Horses",
          "Get That Girl",
          "Trails of Adventure",
          "The Secret Menace",
          "The Oil Raider",
          "Trapped in Tia Juana",
          "When Lightning Strikes",
          "The Sheriff's Lash",
          "The Vagabond Cub",
          "Professional Killer",
          "The Blonde Captive",
          "Las campanas de Capistrano",
          "Below the Border",
          "Ubangi",
          "Nu-Ma-Pu - Cannibalism"
         ],
         "legendgroup": "Action",
         "marker": {
          "color": "#ab63fa",
          "line": {
           "color": "DarkSlateGrey",
           "width": 0.5
          },
          "opacity": 0.9,
          "size": 6,
          "symbol": "circle"
         },
         "mode": "markers",
         "name": "Action",
         "showlegend": true,
         "type": "scattergl",
         "x": [
          2.049142,
          39.179882,
          32.61564,
          8.083285,
          2.049142,
          2.049142,
          1.1308614,
          1.7923787,
          0.053143766,
          7.419396,
          2.6607618,
          -2.3698747,
          0.61528164,
          0.6249417,
          15.9484215,
          35.95271,
          2.8219595,
          20.566204,
          35.929104,
          34.903942,
          2.041619,
          -0.05850409,
          0.053143766,
          34.17685,
          -0.05850409,
          -0.05850409,
          -10.493088,
          10.568042,
          30.878857,
          40.412746,
          -0.05850409,
          0.053143766,
          35.884132,
          35.12753,
          18.004848,
          -32.925896,
          -4.8856997,
          -0.05850409,
          33.65628,
          40.56228,
          -0.05850409,
          -0.05850409,
          0.053143766,
          26.743586,
          -1.1176736,
          -0.05850409,
          8.76624,
          26.96173,
          -0.05850409,
          19.607231,
          -14.085884,
          -0.05850409,
          -9.982276,
          35.844334,
          21.45669,
          13.846749,
          -9.125049,
          -17.604103,
          18.004221,
          34.903942,
          14.708639,
          -20.436785,
          -0.05850409,
          -0.05850409,
          -0.05850409,
          14.614681,
          -23.79221,
          -0.05850409,
          -21.123873,
          -27.164064,
          13.939548,
          -7.14536,
          -14.827504,
          -15.835387,
          -0.05850409,
          0.15672325,
          -30.826246,
          -17.96676,
          -0.05850409,
          -0.05850409,
          7.1852107,
          41.108368,
          -19.117413,
          -0.05850409,
          7.8340135,
          -7.0208397,
          16.756086,
          31.157854,
          17.69253,
          21.312628,
          -0.05850409,
          6.088036,
          0.09415658,
          0.053143766,
          8.155078,
          -16.222416,
          0.053143766,
          0.09415658,
          -0.05850409,
          -0.05850409,
          0.09415658,
          0.09415658,
          -26.106081,
          -0.05850409,
          -4.5671525,
          36.22636,
          17.087938,
          6.152679,
          -0.05850409,
          -0.05850409,
          -0.05850409,
          -0.05850409,
          14.598565,
          15.184492,
          -0.05850409,
          15.225114,
          14.91333,
          20.337597,
          14.92511,
          34.473007,
          13.045524,
          -6.934259,
          34.606495,
          0.09415658,
          11.542312,
          -14.40781,
          -0.05850409,
          15.152318,
          -27.721802,
          -27.207119,
          2.0331676,
          -0.05850409,
          11.149181,
          6.47934,
          -10.895543,
          34.773502,
          34.705643,
          -7.1522655,
          37.164036,
          4.50978,
          29.86162,
          36.10999,
          -13.34344,
          12.651202,
          -24.266924,
          8.082543,
          14.669346,
          34.93621,
          10.909493,
          16.993786,
          -8.154595,
          16.628899,
          18.818579,
          1.8750782,
          -0.05850409,
          26.030693,
          -5.593796,
          0.12336013,
          -4.060347,
          -6.9553084,
          -0.05850409,
          13.575906,
          22.705404,
          -28.005482,
          -12.910745,
          -0.05850409,
          -10.824584,
          17.705011,
          -5.932721,
          -0.05850409,
          40.480537,
          -0.05850409,
          19.493107,
          -14.732984,
          -21.8775,
          34.45506,
          -22.857088,
          -25.049757,
          -0.05850409,
          -1.2408968,
          27.008741,
          -14.884404,
          -0.05850409,
          0.025434982,
          1.213289,
          34.904106,
          -3.7954762,
          23.83902,
          11.674539,
          22.191542,
          3.3017893,
          3.7698395,
          37.921696,
          -22.697208,
          14.830208,
          -31.499065,
          -0.05850409,
          -6.2047887,
          36.197044,
          -0.05850409,
          8.113765,
          42.121273,
          20.566113,
          23.809286,
          10.538083,
          1.221562,
          36.11981,
          22.180643,
          10.48067,
          -0.05850409,
          -25.153828,
          36.576813,
          18.340553,
          35.99474,
          -16.442425,
          22.370642,
          22.453798,
          25.38001,
          3.5438428,
          12.360814,
          -0.05850409,
          -0.05850409,
          -0.05850409,
          -0.05850409,
          -0.05850409,
          -13.849583,
          35.429165,
          35.99474,
          36.15349,
          -17.47683,
          -0.05850409,
          29.533333,
          -0.05850409,
          -31.874065,
          -12.87012,
          -0.05850409,
          -0.05850409,
          36.213135,
          -0.05850409,
          5.9034853,
          30.17725,
          30.324093,
          -6.708993,
          -0.05850409,
          4.383973,
          20.68015,
          35.71499,
          25.993282,
          -11.942439,
          37.18041,
          -0.05850409,
          -28.592344,
          -0.05850409,
          -0.05850409,
          16.692558,
          11.376203,
          23.053432,
          0.09415658,
          -0.05850409,
          0.09415658,
          -0.05850409,
          -0.05850409,
          -6.394792,
          -0.05850409,
          0.09415658,
          -20.847918,
          32.037373,
          -0.05850409,
          -0.05850409,
          0.09415658,
          37.664223,
          2.6190069,
          -0.05850409,
          34.904106,
          0.09415658,
          -0.05850409,
          -0.05850409,
          -9.551049,
          -0.05850409,
          0.09415658,
          0.09415658,
          -0.05850409
         ],
         "xaxis": "x",
         "y": [
          75.46859,
          -23.098915,
          -33.006985,
          -10.5900545,
          75.46859,
          75.46859,
          33.88397,
          34.267918,
          74.79034,
          -8.768994,
          35.289055,
          34.667152,
          -57.47578,
          -15.946011,
          -8.717342,
          -20.189436,
          35.64169,
          -26.717632,
          -32.118595,
          -0.79084903,
          -31.966587,
          36.81693,
          74.79034,
          -19.574127,
          36.81693,
          36.81693,
          -1.9709358,
          -49.55721,
          -11.055713,
          -33.92218,
          36.81693,
          74.79034,
          -20.144192,
          -31.07413,
          -38.955296,
          -25.505442,
          -49.385063,
          36.81693,
          -19.34539,
          -31.299152,
          36.81693,
          36.81693,
          74.79034,
          -6.6357074,
          -10.760254,
          36.81693,
          -11.545438,
          -4.1923046,
          36.81693,
          -33.29243,
          -26.53106,
          36.81693,
          -30.237207,
          -19.987148,
          -11.962279,
          -46.773254,
          -24.108912,
          -13.212146,
          -38.956017,
          -0.79084903,
          -25.67424,
          -39.03333,
          36.81693,
          36.81693,
          36.81693,
          -39.127056,
          -43.277626,
          36.81693,
          2.883039,
          -32.993248,
          -33.6859,
          -32.179287,
          -28.229124,
          -29.40413,
          36.81693,
          -58.139915,
          -41.753605,
          -27.413757,
          36.81693,
          36.81693,
          -13.116091,
          -33.18151,
          -41.190792,
          36.81693,
          -6.451881,
          -26.584946,
          -23.680527,
          -13.828611,
          -14.8796835,
          -26.527308,
          36.81693,
          -20.614424,
          77.94953,
          74.79034,
          -9.169287,
          -2.8589573,
          74.79034,
          77.94953,
          36.81693,
          36.81693,
          77.94953,
          77.94953,
          -33.748505,
          36.81693,
          -22.038467,
          -20.023666,
          -39.532352,
          -0.16476345,
          36.81693,
          36.81693,
          36.81693,
          36.81693,
          -33.06142,
          -29.512756,
          36.81693,
          -29.71459,
          2.395972,
          -26.518457,
          2.7539272,
          -20.624699,
          -19.137531,
          -27.099474,
          -57.493683,
          77.94953,
          -23.75522,
          -4.763798,
          36.81693,
          -29.997986,
          -39.24181,
          -32.57799,
          -15.579281,
          36.81693,
          -30.282097,
          -9.636661,
          -26.144861,
          -16.971155,
          -16.845419,
          -45.533367,
          -19.445492,
          -12.832455,
          -20.190334,
          -19.839817,
          -0.81762534,
          -34.08678,
          -42.592194,
          -10.589247,
          -31.290115,
          -0.76222456,
          1.0157309,
          -6.516551,
          -23.846294,
          -21.10735,
          -31.48595,
          -32.01817,
          36.81693,
          -19.326082,
          -11.300825,
          -28.583757,
          -23.014013,
          -51.349728,
          36.81693,
          -28.673916,
          -21.252192,
          -33.77444,
          -9.441032,
          36.81693,
          -30.45834,
          -14.112264,
          -8.736917,
          36.81693,
          -31.118639,
          36.81693,
          -33.36762,
          -25.886932,
          -25.362024,
          -1.2576635,
          -38.641323,
          -38.277946,
          36.81693,
          -23.946676,
          -4.192027,
          -40.224102,
          36.81693,
          -16.34406,
          -11.721631,
          -0.7907137,
          -12.393828,
          -20.496614,
          -11.447732,
          -25.26291,
          -9.839892,
          -9.743925,
          -28.761265,
          -7.4321365,
          -26.058681,
          -33.762833,
          36.81693,
          -24.85892,
          -20.118004,
          36.81693,
          -11.53159,
          -37.801174,
          -26.717777,
          3.4830375,
          -13.371845,
          -13.087021,
          -20.186674,
          -25.260391,
          -12.585155,
          36.81693,
          -26.837118,
          -22.51167,
          -6.6665382,
          -1.6477258,
          -2.6225672,
          -27.408268,
          -25.124851,
          -9.591426,
          -12.528824,
          -15.738005,
          36.81693,
          36.81693,
          36.81693,
          36.81693,
          36.81693,
          -26.47663,
          0.39314827,
          -1.6477258,
          -20.163418,
          -36.665462,
          36.81693,
          -15.884384,
          36.81693,
          -37.0068,
          -18.35236,
          36.81693,
          36.81693,
          -20.089495,
          36.81693,
          -7.8388796,
          -0.6456401,
          -11.125933,
          -16.938484,
          36.81693,
          -7.6515675,
          -10.51925,
          -21.174677,
          -19.17334,
          -12.719026,
          -20.718807,
          36.81693,
          -33.65546,
          36.81693,
          36.81693,
          -28.326445,
          -33.27169,
          -44.48683,
          77.94953,
          36.81693,
          77.94953,
          36.81693,
          36.81693,
          -19.165249,
          36.81693,
          77.94953,
          -32.269135,
          -27.352867,
          36.81693,
          36.81693,
          77.94953,
          -31.203697,
          0.6555466,
          36.81693,
          -0.7907137,
          77.94953,
          36.81693,
          36.81693,
          -36.99109,
          36.81693,
          77.94953,
          77.94953,
          36.81693
         ],
         "yaxis": "y"
        },
        {
         "customdata": [
          [
           1930,
           "propaganda soviet propaganda"
          ],
          [
           1929,
           "soviet union odessa, ukraine black and white montage silent film cameraman moscow, russia 1920s kyiv (kiev), ukraine city symphony soviet realism semi-fiction docufiction kharkiv (kharkov), ukraine critical"
          ],
          [
           1929,
           ""
          ],
          [
           1929,
           ""
          ],
          [
           1929,
           ""
          ],
          [
           1930,
           "communist propaganda industrialization planned economy komsomol ukrainian avantgarde"
          ],
          [
           1931,
           ""
          ],
          [
           1931,
           "woman director"
          ],
          [
           1934,
           "not_found"
          ],
          [
           1932,
           "indigenous arctic polar circle region alaska alaska native"
          ],
          [
           1932,
           "soviet union joseph stalin communism"
          ],
          [
           1933,
           "india pre-code lost film"
          ],
          [
           1933,
           ""
          ],
          [
           1933,
           "not_found"
          ],
          [
           1933,
           "not_found"
          ],
          [
           1934,
           "island fisherman ireland shark hardship shark fishers"
          ],
          [
           1934,
           ""
          ],
          [
           1932,
           "france nudist camp germany nudism naturism"
          ],
          [
           1929,
           "not_found"
          ],
          [
           1933,
           ""
          ],
          [
           1934,
           "not_found"
          ],
          [
           1930,
           "australia hawaii congo safari uganda pygmy kenya samoa solomon islands east africa khartoum, sudan cannibalism new hebrides tanganyika"
          ],
          [
           1932,
           ""
          ],
          [
           1933,
           "not_found"
          ],
          [
           1934,
           "not_found"
          ],
          [
           1931,
           ""
          ],
          [
           1930,
           "hospital docudrama educational unwanted pregnancy abortion partially lost film abortion clinic unplanned pregnancy illegal abortionist caesarian section"
          ],
          [
           1932,
           ""
          ],
          [
           1933,
           "not_found"
          ],
          [
           1934,
           "not_found"
          ],
          [
           1933,
           "world war i real life"
          ],
          [
           1931,
           ""
          ],
          [
           1930,
           "evolution"
          ],
          [
           1929,
           "not_found"
          ],
          [
           1933,
           "nazi nuremberg, germany woman director nsdap (nazi party) nazi propaganda political rally rediscovered film"
          ],
          [
           1931,
           "movie business"
          ],
          [
           1934,
           "atatürk"
          ],
          [
           1934,
           "not_found"
          ],
          [
           1930,
           "flight antarctica polar antarctic exploration"
          ],
          [
           1932,
           "amazon rainforest jungle headhunter"
          ],
          [
           1934,
           ""
          ],
          [
           1933,
           "not_found"
          ],
          [
           1934,
           ""
          ],
          [
           1932,
           "not_found"
          ],
          [
           1931,
           ""
          ],
          [
           1929,
           "silent film documentary"
          ],
          [
           1933,
           "not_found"
          ],
          [
           1934,
           ""
          ],
          [
           1930,
           ""
          ],
          [
           1929,
           "not_found"
          ],
          [
           1929,
           "west virginia travelogue"
          ],
          [
           1929,
           "not_found"
          ],
          [
           1931,
           ""
          ],
          [
           1933,
           "not_found"
          ],
          [
           1930,
           "not_found"
          ],
          [
           1930,
           "not_found"
          ],
          [
           1930,
           "not_found"
          ],
          [
           1929,
           "not_found"
          ],
          [
           1934,
           "not_found"
          ],
          [
           1931,
           "not_found"
          ],
          [
           1929,
           ""
          ],
          [
           1932,
           ""
          ],
          [
           1931,
           "avant-garde"
          ],
          [
           1934,
           "uniform berlin, germany london, england paris, france world war i pilot us army turkey royalty soldier machine gun stock footage newsreel trench warfare"
          ],
          [
           1929,
           "not_found"
          ],
          [
           1930,
           ""
          ],
          [
           1929,
           "not_found"
          ],
          [
           1933,
           ""
          ],
          [
           1934,
           "not_found"
          ],
          [
           1934,
           ""
          ],
          [
           1931,
           "black and white mountain expedition himalaya"
          ],
          [
           1932,
           "pre-code"
          ],
          [
           1932,
           "not_found"
          ],
          [
           1932,
           "not_found"
          ],
          [
           1933,
           "not_found"
          ],
          [
           1933,
           "not_found"
          ],
          [
           1932,
           "not_found"
          ],
          [
           1934,
           "not_found"
          ],
          [
           1929,
           ""
          ],
          [
           1929,
           "not_found"
          ],
          [
           1931,
           ""
          ],
          [
           1932,
           "not_found"
          ],
          [
           1930,
           ""
          ],
          [
           1931,
           "travelogue"
          ],
          [
           1933,
           "not_found"
          ],
          [
           1929,
           "not_found"
          ],
          [
           1931,
           "not_found"
          ],
          [
           1932,
           ""
          ],
          [
           1933,
           "not_found"
          ],
          [
           1932,
           "not_found"
          ],
          [
           1932,
           ""
          ],
          [
           1934,
           "not_found"
          ],
          [
           1932,
           "not_found"
          ],
          [
           1934,
           "not_found"
          ],
          [
           1932,
           ""
          ],
          [
           1931,
           ""
          ]
         ],
         "hovertemplate": "<b>%{hovertext}</b><br><br>primary_genre=Documentary<br>startYear=%{customdata[0]}<br>keywords=%{customdata[1]}<extra></extra>",
         "hovertext": [
          "Salt for Svanetia",
          "Man with a Movie Camera",
          "The Devil's Pit",
          "Drifters",
          "See Norway",
          "Enthusiasm",
          "Around the World with Douglas Fairbanks",
          "The Forgotten Frontier",
          "The Voice of Israel",
          "Igloo",
          "Song of Heroes",
          "India Speaks",
          "Matto Grosso",
          "Secrets of Hollywood",
          "Through the Centuries",
          "Man of Aran",
          "Three Songs About Lenin",
          "This Naked Age",
          "The Last Eagle",
          "Century of Progress",
          "Kidnapping Gorillas",
          "Across the World with Mr. and Mrs. Martin Johnson",
          "Congorilla",
          "Halome Ami",
          "Wings Over Africa",
          "Wonders of the Congo",
          "Women's Misery - Women's Happiness",
          "Finland Calling",
          "This Is America",
          "Chelyuskin, Heroes of the Arctic",
          "Forgotten Men",
          "Monsters of the Deep",
          "The Mystery of Life",
          "Fox Grandeur News",
          "Victory of the Faith",
          "The House That Shadows Built",
          "Ankara - Heart of Turkey",
          "Strange As It Seems #38",
          "The Bottom of the World",
          "The Amazon Head Hunters",
          "Here Is Paradise",
          "Oasis",
          "Hitler's Reign of Terror",
          "South Sea Adventures",
          "The Lugosi Files",
          "In Spring",
          "The Shepherd of the Seven Hills",
          "The Underground Printer",
          "Walter Futter's Curiosities",
          "Hunting Tigers in India",
          "West Virginia, the State Beautiful",
          "The Red Olympiad",
          "Gow",
          "Back to the Sun",
          "The Break Up",
          "In the South Seas with Mr. and Mrs. Pinchot",
          "Lost Gods",
          "Captain Salisbury's Ra-Mu",
          "Wings Over Ethiopia",
          "See America First",
          "Tembi",
          "Untamed Africa",
          "Portrait of a Young Man in Three Movements",
          "The First World War",
          "Jango!",
          "Wild Men of the Kalahari",
          "Footwork",
          "Eat 'Em Alive",
          "Sweden, Land of the Vikings",
          "Dealers in Death",
          "Throne of the Gods",
          "Virgins of Bali",
          "Dangers of the Arctic",
          "Devil's Playground",
          "A Jungle Gigolo",
          "Russia Today",
          "With Williamson Beneath the Sea",
          "The Death Parade",
          "With Car and Camera Around the World",
          "The Lost Empire",
          "Weltstadt in Flegeljahren - Ein Bericht über Chicago",
          "The Pasadena Community Playhouse",
          "Stampede",
          "Land of the Maharajahs",
          "Cougar",
          "Across the Atlantic via Zeppelin with Lady Drummond Hay",
          "Nomadie",
          "Isle of Paradise",
          "The Story of Hell on Earth",
          "The Big Drive",
          "The Komsomol - Sponsor of Electrification",
          "The Metro by Night",
          "The Jungle Killer",
          "Forward America",
          "Over the Seven Seas",
          "An Unprecedented Campaign"
         ],
         "legendgroup": "Documentary",
         "marker": {
          "color": "#FFA15A",
          "line": {
           "color": "DarkSlateGrey",
           "width": 0.5
          },
          "opacity": 0.9,
          "size": 6,
          "symbol": "circle"
         },
         "mode": "markers",
         "name": "Documentary",
         "showlegend": true,
         "type": "scattergl",
         "x": [
          24.680433,
          28.361334,
          -1.2541022,
          2.3750253,
          -0.05850409,
          24.371752,
          -0.05850409,
          12.777502,
          0.09415658,
          22.161364,
          23.144007,
          41.842773,
          -0.05850409,
          0.09415658,
          0.09415658,
          11.789109,
          -0.05850409,
          4.582635,
          0.09415658,
          -0.05850409,
          0.09415658,
          25.498394,
          -0.05850409,
          0.09415658,
          0.09415658,
          -0.05850409,
          -10.699642,
          -0.05850409,
          0.09415658,
          0.09415658,
          17.887114,
          -0.05850409,
          27.059666,
          0.09415658,
          25.47454,
          30.102537,
          20.383368,
          0.09415658,
          21.004316,
          27.032495,
          -0.05850409,
          0.09415658,
          -0.05850409,
          0.09415658,
          -0.05850409,
          30.48329,
          0.09415658,
          -0.05850409,
          -0.05850409,
          0.09415658,
          27.510849,
          0.09415658,
          -0.05850409,
          0.09415658,
          0.09415658,
          0.09415658,
          0.09415658,
          0.09415658,
          0.09415658,
          0.09415658,
          -0.05850409,
          -0.05850409,
          16.888142,
          18.33571,
          0.09415658,
          -0.05850409,
          0.09415658,
          -0.05850409,
          0.09415658,
          -0.05850409,
          25.537563,
          -28.69906,
          0.09415658,
          0.09415658,
          0.09415658,
          0.09415658,
          0.09415658,
          0.09415658,
          -0.05850409,
          0.09415658,
          -0.05850409,
          0.09415658,
          -0.05850409,
          27.58032,
          0.09415658,
          0.09415658,
          0.09415658,
          -0.05850409,
          0.09415658,
          0.09415658,
          -0.05850409,
          0.09415658,
          0.09415658,
          0.09415658,
          -0.05850409,
          -6.8930454
         ],
         "xaxis": "x",
         "y": [
          -38.771408,
          -38.95937,
          33.875397,
          34.84375,
          36.81693,
          -38.68033,
          36.81693,
          -56.00926,
          77.94953,
          -14.020306,
          -38.518234,
          -36.939236,
          36.81693,
          77.94953,
          77.94953,
          -32.10144,
          36.81693,
          -28.971233,
          77.94953,
          36.81693,
          77.94953,
          -18.250359,
          36.81693,
          77.94953,
          77.94953,
          36.81693,
          -16.943413,
          36.81693,
          77.94953,
          77.94953,
          -38.898174,
          36.81693,
          -25.16139,
          77.94953,
          -39.638885,
          -30.232384,
          -17.429474,
          77.94953,
          -30.481163,
          -17.580927,
          36.81693,
          77.94953,
          36.81693,
          77.94953,
          36.81693,
          -39.14759,
          77.94953,
          36.81693,
          36.81693,
          77.94953,
          -13.338571,
          77.94953,
          36.81693,
          77.94953,
          77.94953,
          77.94953,
          77.94953,
          77.94953,
          77.94953,
          77.94953,
          36.81693,
          36.81693,
          -18.225403,
          -36.218456,
          77.94953,
          36.81693,
          77.94953,
          36.81693,
          77.94953,
          36.81693,
          -16.798838,
          -33.99153,
          77.94953,
          77.94953,
          77.94953,
          77.94953,
          77.94953,
          77.94953,
          36.81693,
          77.94953,
          36.81693,
          77.94953,
          36.81693,
          -13.339787,
          77.94953,
          77.94953,
          77.94953,
          36.81693,
          77.94953,
          77.94953,
          36.81693,
          77.94953,
          77.94953,
          77.94953,
          36.81693,
          21.52555
         ],
         "yaxis": "y"
        },
        {
         "customdata": [
          [
           1929,
           ""
          ],
          [
           1929,
           "not_found"
          ],
          [
           1929,
           "lost film"
          ],
          [
           1929,
           ""
          ],
          [
           1929,
           "pre-code"
          ],
          [
           1929,
           "lost film fragment"
          ],
          [
           1929,
           "musical"
          ],
          [
           1929,
           "dancing diva musical stage show singer stranded break-up vaudeville audience chorus girl broadway star"
          ],
          [
           1929,
           "not_found"
          ],
          [
           1929,
           "janitor"
          ],
          [
           1929,
           ""
          ],
          [
           1929,
           "not_found"
          ],
          [
           1929,
           ""
          ],
          [
           1929,
           "based on short story"
          ],
          [
           1929,
           ""
          ],
          [
           1929,
           ""
          ],
          [
           1929,
           "sailor u.s. marine"
          ],
          [
           1929,
           "based on play or musical slapstick comedy black and white jewel thief pre-code real estate"
          ],
          [
           1929,
           ""
          ],
          [
           1929,
           ""
          ],
          [
           1929,
           ""
          ],
          [
           1929,
           ""
          ],
          [
           1929,
           "black and white silent film unemployment college graduate partially lost film"
          ],
          [
           1929,
           "pre-code"
          ],
          [
           1929,
           "library of congress"
          ],
          [
           1929,
           "romance pre-code boxing"
          ],
          [
           1929,
           "wedding divorce will"
          ],
          [
           1929,
           "lost film synchronized sound effects"
          ],
          [
           1929,
           "lost film"
          ],
          [
           1929,
           "businessman secretary"
          ],
          [
           1929,
           ""
          ],
          [
           1929,
           ""
          ],
          [
           1929,
           ""
          ],
          [
           1930,
           "love triangle doctor train"
          ],
          [
           1929,
           ""
          ],
          [
           1929,
           "guard woolworths"
          ],
          [
           1929,
           "stage show romance"
          ],
          [
           1929,
           "car accident pre-code vaudeville ziegfeld follies"
          ],
          [
           1929,
           "musical lost film"
          ],
          [
           1929,
           ""
          ],
          [
           1929,
           ""
          ],
          [
           1929,
           ""
          ],
          [
           1929,
           "dancing musical revue hollywood singing skit all star variety show"
          ],
          [
           1929,
           "college fraternity"
          ],
          [
           1929,
           "paris, france"
          ],
          [
           1929,
           "based on play or musical lost film"
          ],
          [
           1929,
           "jewel thief satanic cult"
          ],
          [
           1929,
           ""
          ],
          [
           1929,
           "marriage middle class class distinction"
          ],
          [
           1929,
           ""
          ],
          [
           1929,
           "not_found"
          ],
          [
           1929,
           "two strip technicolor"
          ],
          [
           1929,
           "jazz musical"
          ],
          [
           1930,
           ""
          ],
          [
           1929,
           "marriage proposal robbery thief nobility pearl"
          ],
          [
           1929,
           "jockey showgirl sweetheart thoroughbred"
          ],
          [
           1929,
           ""
          ],
          [
           1929,
           "queen marriage prince pre-code"
          ],
          [
           1929,
           ""
          ],
          [
           1929,
           ""
          ],
          [
           1929,
           ""
          ],
          [
           1929,
           "pre-code silent"
          ],
          [
           1929,
           ""
          ],
          [
           1929,
           ""
          ],
          [
           1929,
           ""
          ],
          [
           1929,
           ""
          ],
          [
           1930,
           "friendship berlin, germany beach countryside love triangle flirt lifestyle paddleboat sunday bath picnic forest sexual promiscuity conflict summer relationship extramarital affair silent film pick up girl in swimwear chance meeting public pool 1920s day off sexual encounter romantic triangle girlfriends swim best friends weimar republic street scene romantic jealousy"
          ],
          [
           1930,
           ""
          ],
          [
           1929,
           "caravan"
          ],
          [
           1929,
           ""
          ],
          [
           1929,
           "sailor swedish american"
          ],
          [
           1929,
           ""
          ],
          [
           1929,
           "not_found"
          ],
          [
           1929,
           ""
          ],
          [
           1929,
           ""
          ],
          [
           1929,
           "scandal wedding silent film pre-code flapper rich girl modernism out of wedlock child wife leaves husband"
          ],
          [
           1929,
           ""
          ],
          [
           1929,
           "dancer producer showgirl"
          ],
          [
           1929,
           "musical"
          ],
          [
           1929,
           "nightclub lost film"
          ],
          [
           1929,
           "texas ranger musical bandit mexican border"
          ],
          [
           1930,
           "musical pre-code troupe"
          ],
          [
           1929,
           "pre-code sailors"
          ],
          [
           1929,
           ""
          ],
          [
           1929,
           "gossip it girl jazz baby"
          ],
          [
           1929,
           "marriage"
          ],
          [
           1929,
           "snowstorm writer corrupt politician deserted house"
          ],
          [
           1929,
           "not_found"
          ],
          [
           1929,
           "guillotine revue dog german shepherd"
          ],
          [
           1929,
           ""
          ],
          [
           1929,
           "love triangle romantic rivalry best friend college student usc college roommate college american football manipulative woman romantic rival college athlete"
          ],
          [
           1929,
           "lost film part-talkie"
          ],
          [
           1929,
           "lost film"
          ],
          [
           1929,
           ""
          ],
          [
           1929,
           ""
          ],
          [
           1929,
           "boat married couple marriage rivalry backstage slapstick comedy contract class differences silent film buster keaton spite theater drama hilarious comedy ridiculous humor funny about actors love and marriage actor drama"
          ],
          [
           1929,
           ""
          ],
          [
           1929,
           ""
          ],
          [
           1929,
           ""
          ],
          [
           1929,
           "new york city musical"
          ],
          [
           1929,
           "gangster silent film showgirl"
          ],
          [
           1929,
           ""
          ],
          [
           1929,
           ""
          ],
          [
           1929,
           "letter musical reputation flapper"
          ],
          [
           1929,
           "paris, france family relationships mechanic american abroad showgirl pre-code american express suit of armor nightclub singer nobility art model oil field nouveau riche living in sin social climbing fortune hunter culture shock humorist society party homespun unsophisticated people"
          ],
          [
           1929,
           ""
          ],
          [
           1929,
           ""
          ],
          [
           1929,
           "london, england world war i scotland yard shell shock"
          ],
          [
           1929,
           "wall street high society american football player"
          ],
          [
           1929,
           "partially lost film"
          ],
          [
           1929,
           ""
          ],
          [
           1929,
           "mistaken identity long island, new york pre-code"
          ],
          [
           1929,
           "marriage parenthood"
          ],
          [
           1929,
           "nansensu"
          ],
          [
           1929,
           ""
          ],
          [
           1929,
           "pre-code"
          ],
          [
           1929,
           "new york city roadhouse reputation generation gap flapper salesgirl dance contest flirtation 1920s shopgirl father son relationship mother daughter relationship romantic pursuit comedy exuberant the younger generation fast times"
          ],
          [
           1929,
           ""
          ],
          [
           1929,
           "song"
          ],
          [
           1929,
           "anthropology pre-code woman director"
          ],
          [
           1929,
           "college musical lost film"
          ],
          [
           1930,
           ""
          ],
          [
           1930,
           "society horse race romcom slapstick comedy overweight woman stranded aristocrat pre-code british high society bumbling courtship steeplechase impoverished family race horse fat joke romantic pursuit cook near-sighted"
          ],
          [
           1930,
           "musical based on play or musical whodunit black and white pre-code"
          ],
          [
           1930,
           "dog"
          ],
          [
           1930,
           "pawnbroker policeman prizefighter"
          ],
          [
           1930,
           ""
          ],
          [
           1930,
           "horse racial stereotype"
          ],
          [
           1930,
           "fox vault fire"
          ],
          [
           1930,
           "daughter tour guide pre-code"
          ],
          [
           1930,
           "pre-code"
          ],
          [
           1930,
           "based on play or musical"
          ],
          [
           1930,
           "musical reporter broadway pre-code"
          ],
          [
           1931,
           ""
          ],
          [
           1930,
           ""
          ],
          [
           1930,
           "pre-code"
          ],
          [
           1930,
           ""
          ],
          [
           1930,
           ""
          ],
          [
           1930,
           "cross dressing pre-code"
          ],
          [
           1930,
           "taxi haunted house pre-code deed blackface painted face big band amos 'n andy"
          ],
          [
           1930,
           "composer singer heiress pre-code blackface trial marriage"
          ],
          [
           1930,
           "pre-code"
          ],
          [
           1930,
           ""
          ],
          [
           1930,
           ""
          ],
          [
           1929,
           ""
          ],
          [
           1930,
           "based on play or musical pre-code drug ring narcotics"
          ],
          [
           1930,
           "tennis country club"
          ],
          [
           1930,
           "fortune teller gypsy musical pre-code"
          ],
          [
           1930,
           "sailors"
          ],
          [
           1930,
           "dancer twins courtship"
          ],
          [
           1930,
           "medicine show"
          ],
          [
           1930,
           "london, england broken engagement auction wager heiress private detective pre-code terrier engaged pet adoption grand duke spendthrift black sheep"
          ],
          [
           1930,
           ""
          ],
          [
           1930,
           "marital mixup"
          ],
          [
           1930,
           "circus musical pre-code"
          ],
          [
           1930,
           "pre-code"
          ],
          [
           1930,
           ""
          ],
          [
           1930,
           "clerk gas station bankrupt musical marriage contract travel best friend"
          ],
          [
           1930,
           "based on play or musical lost film early sound film"
          ],
          [
           1930,
           "tap dancing black and white vaudeville shakespeare in modern dress blackface skit variety show xylophone player russian song part in color music hall song romantic song"
          ],
          [
           1930,
           ""
          ],
          [
           1930,
           "drug dealer gangster marriage florist saxophone pre-code"
          ],
          [
           1930,
           "new york city based on play or musical wealth pre-code"
          ],
          [
           1930,
           "marriage letter sister pre-code"
          ],
          [
           1930,
           "golf musical based on play or musical romance peeping tom pre-code courtship country club eccentric millionaire musical comedy romantic pursuit girl shy"
          ],
          [
           1930,
           "restaurant waiter"
          ],
          [
           1930,
           "slapstick comedy"
          ],
          [
           1930,
           "therapist married couple"
          ],
          [
           1930,
           "musical unrequited love train pre-code"
          ],
          [
           1930,
           ""
          ],
          [
           1930,
           "american football bank secretary pre-code"
          ],
          [
           1930,
           "stunt flying"
          ],
          [
           1930,
           "artist model bohemian"
          ],
          [
           1930,
           "rain fistfight jungle religion pre-code"
          ],
          [
           1930,
           "american football coach college tutor pre-code astronomy"
          ],
          [
           1930,
           "minstrel lost film"
          ],
          [
           1930,
           ""
          ],
          [
           1930,
           ""
          ],
          [
           1930,
           "old man jewel heist"
          ],
          [
           1930,
           "world war i musical soldier pre-code"
          ],
          [
           1929,
           "new york city showboat minstrel show"
          ],
          [
           1930,
           "mother father based on play or musical ucla"
          ],
          [
           1930,
           "widow girlfriend rich man"
          ],
          [
           1930,
           ""
          ],
          [
           1930,
           "southern france"
          ],
          [
           1930,
           ""
          ],
          [
           1930,
           ""
          ],
          [
           1929,
           "navy musical lost film two strip technicolor"
          ],
          [
           1930,
           "training camp mistaken identity pre-code heavyweight boxer"
          ],
          [
           1930,
           "new year's eve businessman wealth working class black and white attraction family conflict pre-code courtship high society engagement party class distinction drunkenness making money sisters relationship sisters love same man"
          ],
          [
           1930,
           "musical mansion brother sister relationship"
          ],
          [
           1930,
           "hotel mother gang advertising insurance"
          ],
          [
           1930,
           ""
          ],
          [
           1931,
           ""
          ],
          [
           1930,
           "black and white"
          ],
          [
           1930,
           "future pre-code speculative"
          ],
          [
           1930,
           ""
          ],
          [
           1930,
           ""
          ],
          [
           1930,
           ""
          ],
          [
           1930,
           "kidnapping architect mobster pre-code high society"
          ],
          [
           1930,
           ""
          ],
          [
           1930,
           ""
          ],
          [
           1930,
           "family disapproval radio news"
          ],
          [
           1930,
           "not_found"
          ],
          [
           1930,
           ""
          ],
          [
           1930,
           "millionaire pre-code ziegfeld follies"
          ],
          [
           1930,
           "musical romance pre-code"
          ],
          [
           1930,
           ""
          ],
          [
           1930,
           "marriage divorce pre-code snobbery"
          ],
          [
           1930,
           "singer pre-code"
          ],
          [
           1930,
           ""
          ],
          [
           1930,
           "pre-code gold digger"
          ],
          [
           1930,
           "baby ex-wife"
          ],
          [
           1930,
           "prohibition era scandal inheritance pre-code"
          ],
          [
           1929,
           ""
          ],
          [
           1930,
           "golf"
          ],
          [
           1930,
           "wager tailor pre-code atmosphere"
          ],
          [
           1930,
           "infidelity lightning marriage crisis married couple masked ball zeppelin parachute sexual freedom disaster art of seduction screwball comedy pre-code jumping from height catastrophe masquerade other woman unfaithful husband electrical storm concealed identity musical comedy absurd"
          ],
          [
           1930,
           "musical pre-code minstrel black face"
          ],
          [
           1930,
           "pre-code"
          ],
          [
           1930,
           "amnesia paris, france hairdresser polygamy doctor pre-code"
          ],
          [
           1930,
           "sports american football revenge pep rally"
          ],
          [
           1930,
           "medicine show shopkeeper"
          ],
          [
           1930,
           "philadelphia, pennsylvania"
          ],
          [
           1930,
           "boarding house pre-code waterfront truant officer"
          ],
          [
           1930,
           "based on novel or book hairdresser monte carlo musical black and white class differences pre-code"
          ],
          [
           1930,
           ""
          ],
          [
           1930,
           "based on play or musical atlantic city pre-code"
          ],
          [
           1930,
           "lost in the fox film vault fire"
          ],
          [
           1930,
           "love triangle pre-code dinner party"
          ],
          [
           1930,
           "gangster"
          ],
          [
           1930,
           ""
          ],
          [
           1930,
           ""
          ],
          [
           1930,
           "lost film"
          ],
          [
           1930,
           ""
          ],
          [
           1930,
           "love triangle pre-code"
          ],
          [
           1930,
           "robbery detective con man stolen money hypochondriac crook attraction bank robbery comedy routine pre-code landlady meet cute bellboy rich snob kleptomaniac simpleton former athlete comedy cheerful pantry boy social error"
          ],
          [
           1930,
           "pre-code woman director"
          ],
          [
           1930,
           ""
          ],
          [
           1930,
           ""
          ],
          [
           1932,
           "master thief"
          ],
          [
           1930,
           "paris, france nightclub based on play or musical inheritance waiter"
          ],
          [
           1930,
           "robbery gangster pre-code soda jerk stenographer"
          ],
          [
           1930,
           ""
          ],
          [
           1930,
           "princess switzerland"
          ],
          [
           1930,
           "musical pre-code"
          ],
          [
           1930,
           ""
          ],
          [
           1930,
           "strike circus"
          ],
          [
           1930,
           ""
          ],
          [
           1930,
           "ocean liner wall street cocktail socialite pre-code love potion"
          ],
          [
           1930,
           "paris, france based on play or musical detroit, michigan"
          ],
          [
           1930,
           "new york city marriage hollywood pre-code breach of promise stage actress"
          ],
          [
           1930,
           "servant wealth writer"
          ],
          [
           1930,
           "pre-code"
          ],
          [
           1930,
           "musical ocean liner based on play or musical"
          ],
          [
           1930,
           "sailor pie fight"
          ],
          [
           1930,
           ""
          ],
          [
           1930,
           "pre-code"
          ],
          [
           1930,
           ""
          ],
          [
           1930,
           "prohibition era"
          ],
          [
           1930,
           "pre-code"
          ],
          [
           1930,
           "france paris, france marriage of convenience secretary lawyer divorce extramarital affair pre-code courtship shipboard sham marriage"
          ],
          [
           1930,
           ""
          ],
          [
           1929,
           ""
          ],
          [
           1930,
           "blackmail fake identity based on play or musical french riviera jewel thief pre-code"
          ],
          [
           1929,
           ""
          ],
          [
           1930,
           "london, england based on play or musical"
          ],
          [
           1930,
           ""
          ],
          [
           1930,
           "paris, france pickpocket musical street singer busking sheet music"
          ],
          [
           1930,
           "musical sister elopement"
          ],
          [
           1930,
           "lost film"
          ],
          [
           1930,
           "american football college musical drinking drunk pre-code"
          ],
          [
           1930,
           "musical criminal"
          ],
          [
           1930,
           "paris, france based on play or musical divorce aristocrat diamond necklace"
          ],
          [
           1930,
           "department store marine millionaire window dresser"
          ],
          [
           1930,
           "lost film"
          ],
          [
           1929,
           ""
          ],
          [
           1930,
           ""
          ],
          [
           1931,
           ""
          ],
          [
           1930,
           "pre-code wedding rehearsal flower pot"
          ],
          [
           1930,
           ""
          ],
          [
           1930,
           "prison escape pre-code"
          ],
          [
           1929,
           ""
          ],
          [
           1930,
           ""
          ],
          [
           1930,
           "paris, france playboy lawyer inheritance pre-code"
          ],
          [
           1930,
           "sheriff nurse pre-code stove"
          ],
          [
           1930,
           "bachelor pre-code"
          ],
          [
           1929,
           "plumber elopement"
          ],
          [
           1930,
           "socialite pre-code sports writer"
          ],
          [
           1930,
           "beach villa orgy child murder bishop surrealism sculpture outlaw love black and white celebration silent film scorpion draw bridge"
          ],
          [
           1930,
           ""
          ],
          [
           1931,
           ""
          ],
          [
           1931,
           "pre-code"
          ],
          [
           1931,
           ""
          ],
          [
           1931,
           "pre-code stenographer"
          ],
          [
           1931,
           "italian family relationships lawyer pre-code aviator"
          ],
          [
           1931,
           ""
          ],
          [
           1932,
           "banker paris, france flirt transformation great depression womanizer baron secretary pre-code temptation stenographer night out dictation efficiency"
          ],
          [
           1931,
           "hotel secretary pre-code"
          ],
          [
           1931,
           "secretary pre-code forbidden hollywood"
          ],
          [
           1931,
           ""
          ],
          [
           1931,
           "hotel pawnbroker partnership heist con artist love double cross bellhop   pre-code jewel theft embezzlement racketeer chiseler rip-off artist con artist woman con artists"
          ],
          [
           1931,
           ""
          ],
          [
           1931,
           "navy casino gambling"
          ],
          [
           1931,
           "novelist chorus girl"
          ],
          [
           1931,
           ""
          ],
          [
           1931,
           "man child pre-code debauchery tall tale idle rich"
          ],
          [
           1931,
           ""
          ],
          [
           1932,
           "based on novel or book cruise ship"
          ],
          [
           1931,
           "black and white"
          ],
          [
           1931,
           "gangster"
          ],
          [
           1931,
           "pre-code drug store"
          ],
          [
           1931,
           ""
          ],
          [
           1931,
           "blindness and impaired vision eye operation operation love of one's life suicide attempt flower shop flower girl tramp love black and white millionaire silent film blind girl boxing feel good comforting"
          ],
          [
           1931,
           "based on novel or book england camelot connecticut king arthur fish out of water pre-code medieval 9th century 6th century"
          ],
          [
           1931,
           "oil wedding king pre-code"
          ],
          [
           1931,
           "based on novel or book based on play or musical romance"
          ],
          [
           1931,
           "paris, france maid bee pre-code"
          ],
          [
           1931,
           "immigration pre-code"
          ],
          [
           1931,
           "romantic rivalry disguise"
          ],
          [
           1931,
           "sailing revenge human relationship pre-code misogyny"
          ],
          [
           1931,
           "prostitute corruption musical victorian england social satire criminal underworld stage play beggar clan brechtian theatre"
          ],
          [
           1931,
           "hotel sheriff whip horseback riding train bank robbery frame up impersonation action comedy western comedy actors acting troupe child actor ham actors"
          ],
          [
           1931,
           ""
          ],
          [
           1932,
           "new york city inventor"
          ],
          [
           1931,
           "carnival orphan hucksters"
          ],
          [
           1931,
           "based on play or musical remake"
          ],
          [
           1931,
           ""
          ],
          [
           1931,
           ""
          ],
          [
           1931,
           ""
          ],
          [
           1931,
           "detective womanizer wager wedding waiter pre-code"
          ],
          [
           1931,
           "opera spoof"
          ],
          [
           1931,
           "based on novel or book europe vacation"
          ],
          [
           1931,
           "aviator"
          ],
          [
           1931,
           "newspaper escaped convict reporter screwball comedy newspaper editor pre-code editor press room rolltop desk"
          ],
          [
           1931,
           "kidnapping romance"
          ],
          [
           1931,
           ""
          ],
          [
           1931,
           "lothario"
          ],
          [
           1931,
           "romance pre-code gold digger escort girl illicit affair"
          ],
          [
           1931,
           "socialite pre-code college student"
          ],
          [
           1931,
           "doctor catfight heiress pre-code philanderer"
          ],
          [
           1932,
           "hero pr man"
          ],
          [
           1931,
           "prostitute sailor pre-code address book harlot"
          ],
          [
           1931,
           "jealousy pre-code gold digger impersonation"
          ],
          [
           1930,
           "gorilla based on play or musical"
          ],
          [
           1931,
           "pre-code"
          ],
          [
           1931,
           ""
          ],
          [
           1931,
           "cabaret bartender engagement"
          ],
          [
           1931,
           ""
          ],
          [
           1931,
           "king gambler"
          ],
          [
           1931,
           "pre-code class conflict construction worker society woman"
          ],
          [
           1931,
           "based on novel or book sequel"
          ],
          [
           1931,
           "pre-code bribery"
          ],
          [
           1931,
           "ransom priest pre-code"
          ],
          [
           1931,
           ""
          ],
          [
           1931,
           "musical new year's day sister novelist pre-code"
          ],
          [
           1931,
           "pre-code"
          ],
          [
           1931,
           "pregnancy based on play or musical family"
          ],
          [
           1931,
           "new york city based on play or musical lyricist"
          ],
          [
           1931,
           ""
          ],
          [
           1932,
           ""
          ],
          [
           1931,
           "musical"
          ],
          [
           1931,
           ""
          ],
          [
           1931,
           ""
          ],
          [
           1931,
           "parent child relationship pre-code get rich quick"
          ],
          [
           1931,
           "lost film"
          ],
          [
           1931,
           ""
          ],
          [
           1931,
           "romantic rivalry pre-code wink"
          ],
          [
           1931,
           "mother-in-law mistaken identity body double pre-code early sound film"
          ],
          [
           1932,
           ""
          ],
          [
           1931,
           ""
          ],
          [
           1931,
           ""
          ],
          [
           1931,
           "jewel theft criminal gang female impersonator"
          ],
          [
           1931,
           ""
          ],
          [
           1931,
           "romance pre-code depression era kept woman"
          ],
          [
           1931,
           ""
          ],
          [
           1931,
           "infidelity show business theatrical producer pre-code costume designer"
          ],
          [
           1931,
           "on the run partially lost film"
          ],
          [
           1931,
           "pregnancy"
          ],
          [
           1931,
           "love"
          ],
          [
           1931,
           ""
          ],
          [
           1931,
           ""
          ],
          [
           1931,
           "remake"
          ],
          [
           1931,
           "musical based on play or musical black and white wild goose chase betrayal by friend winning lottery"
          ],
          [
           1931,
           "garage pre-code"
          ],
          [
           1931,
           "princess impostor street life"
          ],
          [
           1931,
           ""
          ],
          [
           1931,
           "ship stowaway black and white pre-code"
          ],
          [
           1931,
           ""
          ],
          [
           1931,
           "submarine fight world war i decoy sailor"
          ],
          [
           1930,
           "heiress socialite pre-code gold digger coquettishness spoiled rich kid"
          ],
          [
           1931,
           "factory small town pickpocket car thief money"
          ],
          [
           1931,
           ""
          ],
          [
           1931,
           "bootlegger chauffeur nurse roommates child in peril hospital alcoholic pre-code trainee malnutrition starvation concern"
          ],
          [
           1931,
           "gambling pre-code"
          ],
          [
           1931,
           ""
          ],
          [
           1932,
           ""
          ],
          [
           1931,
           "pre-code"
          ],
          [
           1932,
           "bachelor"
          ],
          [
           1931,
           "smuggling (contraband) prohibition era plantation riot prison escape spoof bootlegging black and white prison riot machine gun fire hose blackface damsel in distress solitary cell mate rescue from fire dentist office picking cotton saved from a fire sharing a bed fall from height prison yard blowing raspberry whining"
          ],
          [
           1931,
           "seduction sister"
          ],
          [
           1931,
           ""
          ],
          [
           1931,
           "bigamy slapstick comedy divorce pre-code"
          ],
          [
           1931,
           "family relationships rivalry school dog childhood"
          ],
          [
           1931,
           "paris, france nightclub"
          ],
          [
           1931,
           "love triangle unrequited love pre-code"
          ],
          [
           1931,
           "gangster political corruption women's suffrage"
          ],
          [
           1931,
           "black and white"
          ],
          [
           1931,
           "hotel honeymoon remarriage wedding pre-code ex-husband ex-wife relationship bickering meant for each other marital fight ex spouses terrace"
          ],
          [
           1931,
           "secretary"
          ],
          [
           1931,
           "love triangle pregnancy beauty salon pre-code weight loss hicks"
          ],
          [
           1931,
           ""
          ],
          [
           1931,
           "revolution satire royal family pre-code public domain"
          ],
          [
           1931,
           ""
          ],
          [
           1931,
           ""
          ],
          [
           1931,
           ""
          ],
          [
           1931,
           "u.s. naval academy"
          ],
          [
           1931,
           "sibling relationship fight circus musical pea shooter"
          ],
          [
           1931,
           ""
          ],
          [
           1931,
           "wrestling pre-code"
          ],
          [
           1931,
           "based on play or musical pre-code"
          ],
          [
           1931,
           "dog boy and dog dogcatcher shantytown boys child protagonist"
          ],
          [
           1931,
           "infidelity marriage crisis bachelor baron extramarital affair pre-code gold digger ruse devoted wife sea voyage business partner house guest other woman loyal wife awkward situation charming hostess"
          ],
          [
           1930,
           "poker world war i soldier pre-code cheating at cards troublemaker"
          ],
          [
           1931,
           "gambling puritan horse racing"
          ],
          [
           1931,
           "vacation pre-code husbands"
          ],
          [
           1931,
           "pre-code poor woman"
          ],
          [
           1931,
           "remake secretary"
          ],
          [
           1931,
           "jockey horse racing"
          ],
          [
           1931,
           ""
          ],
          [
           1931,
           "biarritz"
          ],
          [
           1931,
           "daughter mother nightclub revelation mistress pre-code courtship mother daughter reunion kept woman drunkard mother daughter relationship"
          ],
          [
           1931,
           "gangster pre-code"
          ],
          [
           1931,
           "protest silent film insurance bonus"
          ],
          [
           1931,
           "pre-code opera singer"
          ],
          [
           1930,
           ""
          ],
          [
           1931,
           "young couple building a house"
          ],
          [
           1931,
           "ocean liner pre-code"
          ],
          [
           1931,
           "salesman pre-code"
          ],
          [
           1931,
           ""
          ],
          [
           1931,
           "not_found"
          ],
          [
           1931,
           "pre-code"
          ],
          [
           1932,
           "movie business musical romance starlet"
          ],
          [
           1931,
           "written advice from the grave"
          ],
          [
           1931,
           ""
          ],
          [
           1931,
           "chase foster parents maine rural area foster child pre-code elopement social outcast child custody spinster barn dance social gathering unwed mother farmhand adoptive parent out of wedlock child"
          ],
          [
           1931,
           "race snow skiing"
          ],
          [
           1931,
           ""
          ],
          [
           1931,
           "soldier pre-code"
          ],
          [
           1931,
           "based on play or musical"
          ],
          [
           1931,
           ""
          ],
          [
           1932,
           "not_found"
          ],
          [
           1931,
           "factory automation escaped convict social satire assembly line"
          ],
          [
           1932,
           ""
          ],
          [
           1932,
           ""
          ],
          [
           1932,
           "kidnapping thief"
          ],
          [
           1930,
           ""
          ],
          [
           1932,
           "new york city butler pre-code publisher"
          ],
          [
           1932,
           ""
          ],
          [
           1932,
           "based on play or musical millionaire gold digger"
          ],
          [
           1932,
           ""
          ],
          [
           1932,
           "musical romcom pre-code radio broadcast musical revue"
          ],
          [
           1932,
           "new york city pre-code"
          ],
          [
           1932,
           ""
          ],
          [
           1932,
           ""
          ],
          [
           1932,
           "newspaper confession attempted murder press freedom singer pre-code dictaphone pressure from the press tabloid journalism"
          ],
          [
           1932,
           "romantic rivalry tramp"
          ],
          [
           1932,
           "jealousy yacht great depression best friend cripple showgirl pre-code scuffle follies sugar daddy kept woman romantic rival father daughter relationship"
          ],
          [
           1932,
           "paris, france suicide attempt bourgeoisie tramp seine mistress house guest clochard adulterous wife adulterous husband"
          ],
          [
           1932,
           "pre-code gold digger marrying money"
          ],
          [
           1932,
           "judge police officer"
          ],
          [
           1933,
           ""
          ],
          [
           1932,
           "army officer opera diva"
          ],
          [
           1932,
           "composer diner hollywood"
          ],
          [
           1932,
           "hairdresser"
          ],
          [
           1932,
           ""
          ],
          [
           1932,
           "secret society haunted house murder"
          ],
          [
           1932,
           "singing pre-code dance band"
          ],
          [
           1932,
           ""
          ],
          [
           1932,
           ""
          ],
          [
           1932,
           "governor pre-code progressive party"
          ],
          [
           1932,
           "pre-code"
          ],
          [
           1932,
           "new york city experiment full moon morgue mad scientist reporter series of murders pre-code scalpel"
          ],
          [
           1932,
           "not_found"
          ],
          [
           1932,
           "great depression"
          ],
          [
           1932,
           ""
          ],
          [
           1932,
           "gigolo impoverished"
          ],
          [
           1932,
           "orphan"
          ],
          [
           1932,
           "husband wife relationship sexual obsession platonic love moral conflict love pregnant woman selfishness older husband ego in love tragicomedy maternal love pregnant without husband"
          ],
          [
           1932,
           "jockey"
          ],
          [
           1932,
           "inventor baseball invention romance baseball player firefighter"
          ],
          [
           1932,
           "marriage pre-code"
          ],
          [
           1932,
           "politician elevator operator elevator"
          ],
          [
           1932,
           ""
          ],
          [
           1932,
           ""
          ],
          [
           1932,
           "pre-code kid sister"
          ],
          [
           1932,
           "broadway nightclub singer"
          ],
          [
           1932,
           "cabaret dancer"
          ],
          [
           1932,
           "pre-code"
          ],
          [
           1932,
           "broadway pre-code publicity man sideshow performers scammer dancing girls"
          ],
          [
           1932,
           "gangster"
          ],
          [
           1932,
           "new york city nightclub"
          ],
          [
           1931,
           ""
          ],
          [
           1932,
           "inventor pre-code business competition"
          ],
          [
           1931,
           ""
          ],
          [
           1932,
           ""
          ],
          [
           1932,
           "prison sports american football pre-code"
          ],
          [
           1932,
           "sports widow professor american football college musical black and white pre-code exuberant"
          ],
          [
           1932,
           ""
          ],
          [
           1932,
           ""
          ],
          [
           1932,
           "tycoon pre-code road hog condemned man"
          ],
          [
           1932,
           "husband wife relationship marriage secretary doctor pre-code intern illicit affair kept woman"
          ],
          [
           1932,
           ""
          ],
          [
           1932,
           "baroness vienna, austria jewel heist pre-code jewel robbery adulterous affair funny cigarettes marijuana high"
          ],
          [
           1932,
           "matador (bullfighter) pre-code"
          ],
          [
           1932,
           "not_found"
          ],
          [
           1932,
           "judge widow trial persuasion jury murder inheritance maid reenactment society matron stutterer rich husband trial witness"
          ],
          [
           1932,
           "suicide shyness aunt niece relationship scandal socialite pre-code"
          ],
          [
           1933,
           ""
          ],
          [
           1930,
           ""
          ],
          [
           1932,
           ""
          ],
          [
           1932,
           "orphanage orphan"
          ],
          [
           1930,
           "musical"
          ],
          [
           1932,
           "cover-up mobster atlantic city pre-code newspaper reporter practical joke"
          ],
          [
           1932,
           "princess paris, france musical based on play or musical tailor pre-code wild horse rich vs poor beautiful princess poor rich girl poor pretending to be rich"
          ],
          [
           1932,
           ""
          ],
          [
           1932,
           "pre-code"
          ],
          [
           1932,
           "movie business fired from the job grocery store"
          ],
          [
           1932,
           "playboy secretary pre-code"
          ],
          [
           1932,
           "robbery waitress gangster father-in-law parody family relationships shootout wedding party wedding dog police detective pier policeman rescue from drowning bank vault pre-code courtship manhattan, new york city hiding in attic sisters bad joke paralytic former moll rowdy drunk"
          ],
          [
           1932,
           "ex-lover alcoholism playwright mistress heiress gossip columnist pre-code open marriage woman director stage actress adulterous affair unconventional arrangement alcoholic husband adulterous husband modern woman"
          ],
          [
           1932,
           ""
          ],
          [
           1932,
           ""
          ],
          [
           1932,
           "spy olympic games los angeles, california pre-code"
          ],
          [
           1932,
           "based on play or musical pre-code"
          ],
          [
           1932,
           "police nurse butler insurance fraud locker room hospital private detective"
          ],
          [
           1932,
           "hollywood screen test"
          ],
          [
           1932,
           ""
          ],
          [
           1931,
           "mother daughter relationship"
          ],
          [
           1932,
           "prohibition era pre-code sexually aggressive woman"
          ],
          [
           1932,
           "gambling prohibition era blackmail pre-code"
          ],
          [
           1932,
           "prison library gambling boredom cop on the run mistress cardsharp pre-code duplicity moral reformation cheat professional gambler small town life newlyweds"
          ],
          [
           1930,
           ""
          ],
          [
           1932,
           ""
          ],
          [
           1932,
           "pre-code"
          ],
          [
           1932,
           "adultery musical based on play or musical unfaithfulness black and white divorce pre-code"
          ],
          [
           1932,
           "ship pre-code sea voyage dark secret shipboard romance"
          ],
          [
           1932,
           "banker world war i boot camp post world war i black and white orphan wedding food truck bank loan"
          ],
          [
           1932,
           ""
          ],
          [
           1932,
           "plumber duel"
          ],
          [
           1932,
           "aquarium amateur detective penguin murder pre-code murder investigation"
          ],
          [
           1932,
           ""
          ],
          [
           1932,
           "usa president mistaken identity medicine show election political campaign pre-code impersonation presidential candidate double political satire romantic entanglements satirical political conventions"
          ],
          [
           1932,
           "mother-in-law great depression securities, stocks and bonds  family bank run"
          ],
          [
           1932,
           "farm marriage fistfight farm life north dakota singer mail order bride pre-code shivaree seed nightclub singer unhappy marriage indecent proposal farming couple runaway woman"
          ],
          [
           1931,
           "family pre-code generation gap modern youth"
          ],
          [
           1932,
           "infidelity prostitute love triangle tiger monsoon plantation based on play or musical indochina gunshot wound jungle gunshot pre-code riverboat dust storm malaria gun shooting french colonialism tropics romantic triangle rainy setting rubber plantation alpha male"
          ],
          [
           1932,
           "chauffeur based on novel or book red hair manipulation mistress divorce pre-code gold digger coal scheming home wrecker social climbing romantic entrapment redhead"
          ],
          [
           1932,
           "marriage proposal unrequited love writer divorce divorcee extramarital affair novelist pre-code ex-husband ex-wife relationship home wrecker flirtation other woman"
          ],
          [
           1931,
           "inheritance black and white"
          ],
          [
           1931,
           ""
          ],
          [
           1932,
           ""
          ],
          [
           1932,
           ""
          ],
          [
           1931,
           ""
          ],
          [
           1932,
           "kidnapping arranged marriage castle incognito disguise napoleonic wars inn military horse chase costume drama song french spy french invaders territorial governor love vs duty"
          ],
          [
           1932,
           ""
          ],
          [
           1932,
           "pre-code"
          ],
          [
           1932,
           ""
          ],
          [
           1932,
           "inheritance showgirl pre-code broadway show"
          ],
          [
           1932,
           ""
          ],
          [
           1932,
           ""
          ],
          [
           1932,
           "military spoof military life"
          ],
          [
           1931,
           ""
          ],
          [
           1932,
           "sibling relationship snob twin brother"
          ],
          [
           1932,
           ""
          ],
          [
           1932,
           ""
          ],
          [
           1932,
           "pianist pre-code high society"
          ],
          [
           1932,
           ""
          ],
          [
           1929,
           ""
          ],
          [
           1932,
           "cowboy broadway"
          ],
          [
           1932,
           "runaway bride mistaken identity"
          ],
          [
           1932,
           "olympic games extramarital affair pre-code"
          ],
          [
           1931,
           "infidelity wealth model pre-code"
          ],
          [
           1931,
           ""
          ],
          [
           1933,
           ""
          ],
          [
           1932,
           "jealousy robbery venice, italy widow approach based on play or musical secretary black and white extramarital affair pre-code emotions"
          ],
          [
           1932,
           ""
          ],
          [
           1932,
           "japan suburb silent film childhood neighborhood kid gang"
          ],
          [
           1932,
           "based on novel or book anthology remake"
          ],
          [
           1932,
           "pre-code train station"
          ],
          [
           1932,
           ""
          ],
          [
           1932,
           "based on novel or book inventor upper class motorcycle housemaid motorcyle race"
          ],
          [
           1932,
           "wedding gender roles pre-code working wife"
          ],
          [
           1932,
           ""
          ],
          [
           1932,
           "undercover based on play or musical murder pre-code"
          ],
          [
           1933,
           ""
          ],
          [
           1932,
           "inventor clerk champion swimmer race mix-up bathing suit"
          ],
          [
           1933,
           "princess musical"
          ],
          [
           1933,
           "newspaper"
          ],
          [
           1932,
           ""
          ],
          [
           1933,
           "self sacrifice great depression"
          ],
          [
           1934,
           ""
          ],
          [
           1933,
           "not_found"
          ],
          [
           1933,
           "arizona broadway carnival worker"
          ],
          [
           1934,
           ""
          ],
          [
           1933,
           "prison mistress drinking pre-code barge cotton"
          ],
          [
           1933,
           "baby"
          ],
          [
           1933,
           "deception femme fatale argument"
          ],
          [
           1933,
           "newspaper publicity paparazzi celebrity hollywood screwball comedy pre-code movie star press agent tabloid reporter publicity stunt old hollywood blonde bombshell publicity agent"
          ],
          [
           1933,
           "saloon pre-code knockout bookmaker fall from grace"
          ],
          [
           1933,
           "missing person pre-code"
          ],
          [
           1933,
           ""
          ],
          [
           1933,
           ""
          ],
          [
           1933,
           ""
          ],
          [
           1933,
           ""
          ],
          [
           1933,
           "fired from the job radio show"
          ],
          [
           1933,
           "art dealer lost film"
          ],
          [
           1933,
           "reporter pre-code telegraph"
          ],
          [
           1933,
           "sequel"
          ],
          [
           1933,
           "pre-code lost film"
          ],
          [
           1933,
           ""
          ],
          [
           1933,
           "infidelity lawyer pre-code perjury"
          ],
          [
           1933,
           "pre-code inn"
          ],
          [
           1933,
           "dancing marriage proposal dancer based on novel or book striptease musical tap dancing great depression stage show theater director revue beautiful woman jail singing black and white choreographer pre-code merry go round burlesque manhattan, new york city police raid rehearsal space broadway show uptown rich man night court determination dance practice financial backer manipulated woman dancing girls dance rehearsal"
          ],
          [
           1933,
           "yacht"
          ],
          [
           1933,
           ""
          ],
          [
           1932,
           "pre-code"
          ],
          [
           1933,
           "paris, france love triangle american polyamory pre-code"
          ],
          [
           1933,
           "italy innkeeper arranged marriage musical wine outlaw pre-code firing squad based on opera carabinieri disguises hysterical drunks"
          ],
          [
           1933,
           "peace conference pre-code french maid"
          ],
          [
           1933,
           "small town widow doctor pre-code"
          ],
          [
           1933,
           "plumber racetrack"
          ],
          [
           1933,
           "entrapment businessman marriage crisis bachelor butler deception playboy love debt pre-code dinner party other woman spendthrift irresponsible sister postmaster general love nest romantic rival orchids fashion showroom wedding gown fashions"
          ],
          [
           1933,
           ""
          ],
          [
           1933,
           ""
          ],
          [
           1933,
           "ambassador dictator widow spy siege musical lemonade cigar smoking slapstick comedy black and white pre-code dowager fictitious country geofiction absurd witty"
          ],
          [
           1933,
           "not_found"
          ],
          [
           1933,
           "gambling baseball chicago cubs"
          ],
          [
           1933,
           "not_found"
          ],
          [
           1933,
           ""
          ],
          [
           1933,
           "infidelity marriage proposal marriage fashion designer free spirit extramarital affair pre-code working woman female empowerment marriage equality unfaithful husband"
          ],
          [
           1933,
           "kidnapping abusive father farm girl"
          ],
          [
           1933,
           "factory free love career woman engineer pre-code female executive working woman shooting gallery"
          ],
          [
           1933,
           "dancing airplane love triangle rio de janeiro fiancé pilot orchestra musical tap dancing beautiful woman singing black and white band singer showgirl pre-code biplane bandleader dance band forced landing romantic triangle"
          ],
          [
           1933,
           "musical producer pre-code"
          ],
          [
           1933,
           "philadelphia, pennsylvania musical stage show director dog broadway pre-code fainting chorus girl eviction financial crisis"
          ],
          [
           1933,
           "adultery superstition blackmail"
          ],
          [
           1933,
           ""
          ],
          [
           1933,
           "camera photograph"
          ],
          [
           1933,
           "wedding night murder disappearance reward pre-code hotel bill"
          ],
          [
           1933,
           "pre-code"
          ],
          [
           1933,
           ""
          ],
          [
           1933,
           ""
          ],
          [
           1933,
           ""
          ],
          [
           1933,
           "not_found"
          ],
          [
           1933,
           "mistaken identity musical great depression songwriter pre-code hard times chorus girl broadway musical hidden identity show girls"
          ],
          [
           1933,
           "confession blackmail beauty contest jail hollywood"
          ],
          [
           1933,
           "musical pre-code"
          ],
          [
           1933,
           "radio sister secretary lawyer train old flame pre-code best selling author unfaithful wife suspicious husband"
          ],
          [
           1933,
           "satire"
          ],
          [
           1933,
           ""
          ],
          [
           1933,
           "suicide attempt mayor poverty pre-code"
          ],
          [
           1933,
           "pre-code public relations man"
          ],
          [
           1933,
           "pre-code chorus girl havana, cuba forbidden hollywood"
          ],
          [
           1933,
           "boss gangster"
          ],
          [
           1932,
           "screwball comedy"
          ],
          [
           1933,
           ""
          ],
          [
           1933,
           "banker suspicion pre-code landlady"
          ],
          [
           1933,
           ""
          ],
          [
           1933,
           "boat ferry boat butcher"
          ],
          [
           1933,
           "college drinking juvenile delinquency"
          ],
          [
           1933,
           "london, england mistaken identity"
          ],
          [
           1933,
           "office gold digger"
          ],
          [
           1932,
           ""
          ],
          [
           1933,
           "cigarette stowaway stock footage port ocean voyage"
          ],
          [
           1933,
           ""
          ],
          [
           1933,
           ""
          ],
          [
           1933,
           ""
          ],
          [
           1933,
           ""
          ],
          [
           1933,
           "romcom pre-code"
          ],
          [
           1934,
           ""
          ],
          [
           1933,
           "hotel quarantine inventor cabaret auction chinese province pre-code hotel manager luxury hotel big band crooner vaudeville act variety show vaudevillian hotel guest cabaret singer tech investor new technology ensemble cast republic of china autogyro"
          ],
          [
           1933,
           "pre-code moma"
          ],
          [
           1933,
           "romance dramedy"
          ],
          [
           1933,
           ""
          ],
          [
           1933,
           ""
          ],
          [
           1933,
           ""
          ],
          [
           1933,
           ""
          ],
          [
           1933,
           "private detective"
          ],
          [
           1933,
           "ship resignation royalty train fictitious country tiara"
          ],
          [
           1933,
           ""
          ],
          [
           1933,
           ""
          ],
          [
           1933,
           "pre-code gold digger"
          ],
          [
           1933,
           "card game police gambling gangster blackmail show business irish-american hustler criminal past on the run gunfight train pre-code con game dressing room movie star criminal gang hollywood star secret past usher yodeler rise to fame jewel robbery old hollywood motion picture studio jewel thieves robbery gang irreverent con artist woman con artists gang of robbers monkeys"
          ],
          [
           1933,
           "judge parent child relationship superstition transformation letter count deception makeover old lady pre-code nightclub singer pool shark racketeer engaged couple mother daughter reunion panhandle social reception elaborate ruse apple vendor"
          ],
          [
           1933,
           "racketeer"
          ],
          [
           1933,
           "romance"
          ],
          [
           1933,
           ""
          ],
          [
           1933,
           ""
          ],
          [
           1933,
           "bootlegger prohibition era gangster bootlegging mansion class differences millionaire socialite pre-code real estate agent swindle business deal"
          ],
          [
           1933,
           "not_found"
          ],
          [
           1933,
           ""
          ],
          [
           1933,
           ""
          ],
          [
           1933,
           ""
          ],
          [
           1933,
           "broadway political corruption press agent cult of celebrity"
          ],
          [
           1933,
           "marriage drinking"
          ],
          [
           1933,
           ""
          ],
          [
           1934,
           ""
          ],
          [
           1933,
           "baron pre-code singing in the shower girls' school"
          ],
          [
           1933,
           "cruise millionaire pre-code"
          ],
          [
           1933,
           ""
          ],
          [
           1933,
           ""
          ],
          [
           1934,
           "police telegram tycoon railroad pre-code runaway train child kidnapping father daughter reunion train wreck telephone switchboard operator"
          ],
          [
           1933,
           "wealthy pre-code glamour ucla"
          ],
          [
           1933,
           ""
          ],
          [
           1933,
           ""
          ],
          [
           1933,
           ""
          ],
          [
           1933,
           ""
          ],
          [
           1933,
           "betrayal pre-code x-ray"
          ],
          [
           1933,
           "not_found"
          ],
          [
           1933,
           "prison unrequited love dentist pre-code betrayal by friend mismatched couple thuggish boss"
          ],
          [
           1933,
           "gigolo sister royalty wedding heiress pre-code kept woman kept man"
          ],
          [
           1933,
           "kidnapping mama's boy damsel in distress"
          ],
          [
           1933,
           "marriage proposal ireland"
          ],
          [
           1933,
           "infidelity pre-code young couple"
          ],
          [
           1933,
           "cruise marriage vacation pre-code"
          ],
          [
           1933,
           "world war i soldier"
          ],
          [
           1933,
           "pre-code prizefight boxing"
          ],
          [
           1933,
           "kentucky singer pre-code"
          ],
          [
           1933,
           "paris, france bastille day"
          ],
          [
           1933,
           "taxi driver roommates tenement pre-code telephone marketing"
          ],
          [
           1932,
           "adoption trial balloon playwright pre-code theatrical manager child custody stage actress rough play moppet trial witness"
          ],
          [
           1933,
           "pre-code eddie cantor"
          ],
          [
           1933,
           "romance sailor boxing"
          ],
          [
           1933,
           "jealousy pre-code dance contest shore leave"
          ],
          [
           1933,
           ""
          ],
          [
           1933,
           "reporter bank robbery"
          ],
          [
           1933,
           "singer pre-code nightclub owner"
          ],
          [
           1933,
           "pre-code house guest romantic pursuit sisters love same man emotional turmoil"
          ],
          [
           1933,
           "songwriter pre-code"
          ],
          [
           1933,
           ""
          ],
          [
           1933,
           ""
          ],
          [
           1933,
           "not_found"
          ],
          [
           1933,
           "new york city africa filmmaking pre-code explorer vaudeville amazon women jungle girl walking on a ledge"
          ],
          [
           1932,
           "musical"
          ],
          [
           1933,
           ""
          ],
          [
           1933,
           "braggart"
          ],
          [
           1933,
           "husband wife relationship deceived wife deception pre-code next door neighbor domineering wife convention subterfuge best friends farcical ridiculous"
          ],
          [
           1933,
           ""
          ],
          [
           1933,
           "naivety iowa rural area contest love affair pre-code state fair"
          ],
          [
           1933,
           "farm based on novel or book rural area pre-code"
          ],
          [
           1933,
           "love sorority fraternity"
          ],
          [
           1933,
           ""
          ],
          [
           1933,
           "factory worker hunger great depression sexual harassment doctor novelist screwball comedy unemployment pre-code bankruptcy lifeguard stock market bar exam idle rich party girl shoemaking flirtatious woman family life law clerk dilettante"
          ],
          [
           1933,
           ""
          ],
          [
           1933,
           "mansion airplane passenger"
          ],
          [
           1933,
           "new york city sequel pre-code gold digger vaudevillian"
          ],
          [
           1933,
           "paris, france satire school teacher pre-code"
          ],
          [
           1933,
           ""
          ],
          [
           1933,
           "tango argentina"
          ],
          [
           1933,
           "tugboat sea captain"
          ],
          [
           1933,
           "pre-code"
          ],
          [
           1933,
           ""
          ],
          [
           1933,
           ""
          ],
          [
           1933,
           ""
          ],
          [
           1933,
           ""
          ],
          [
           1933,
           "amazon rainforest greek pre-code female dominated society matriarchy"
          ],
          [
           1933,
           "circus romance love"
          ],
          [
           1932,
           "london, england bride matchmaking wedding marquis"
          ],
          [
           1933,
           ""
          ],
          [
           1933,
           "widow writer pre-code publisher"
          ],
          [
           1933,
           "gangster poison attempted murder pre-code elopement mystery writer revenge killing ingenuity criminal plot amused lovers in danger"
          ],
          [
           1933,
           "undercover trustee pre-code rich kids shoemaking fishing trip business rivalry wastrel"
          ],
          [
           1930,
           ""
          ],
          [
           1933,
           ""
          ],
          [
           1934,
           "musical"
          ],
          [
           1934,
           "bicycle bike"
          ],
          [
           1934,
           "italy pre-code 16th century"
          ],
          [
           1934,
           "rescue farm falsely accused foster parents love growing up teenage girl school orphan foster child stubbornness boyfriend girlfriend relationship teasing life lessons talkative brother sister relationship no-nonsense old grudge"
          ],
          [
           1934,
           "husband wife relationship paris, france"
          ],
          [
           1934,
           "holiday fairy tale musical based on play or musical boogeyman mortgage forced marriage wooden soldier fairy tale characters"
          ],
          [
           1934,
           "criminal ex-con bowing"
          ],
          [
           1934,
           "greed marriage pre-code"
          ],
          [
           1934,
           "new orleans, louisiana pre-code 19th century"
          ],
          [
           1934,
           ""
          ],
          [
           1934,
           "not_found"
          ],
          [
           1934,
           "uncle based on play or musical control freak crank self made man"
          ],
          [
           1934,
           "yacht wager work obsession"
          ],
          [
           1934,
           "movie business con man success musical romance hollywood pre-code"
          ],
          [
           1934,
           "uncle maid godfather aviator"
          ],
          [
           1934,
           "gambling horse family business  colonel heiress"
          ],
          [
           1934,
           "bulldog drummond"
          ],
          [
           1934,
           "yacht marriage vacation insurance explorer"
          ],
          [
           1934,
           "captain drinking"
          ],
          [
           1934,
           "south carolina florence, italy pre-code columns carolinas"
          ],
          [
           1934,
           "composer musical singer pre-code"
          ],
          [
           1934,
           "politician"
          ],
          [
           1934,
           ""
          ],
          [
           1934,
           "circus clown"
          ],
          [
           1934,
           "new york city wealthy"
          ],
          [
           1934,
           "city park pool hustler"
          ],
          [
           1934,
           "dancer society king nephew by marriage"
          ],
          [
           1934,
           "sports musical"
          ],
          [
           1934,
           ""
          ],
          [
           1934,
           ""
          ],
          [
           1934,
           "musical broadway pre-code"
          ],
          [
           1934,
           ""
          ],
          [
           1934,
           "not_found"
          ],
          [
           1934,
           "screwball comedy south sea island shipwrecked"
          ],
          [
           1934,
           "love triangle swimming pool murder disappearance mansion police detective drunk private detective socialite high society philo vance legendary monster family vault"
          ],
          [
           1934,
           "hotel daughter detective private detective justice of the peace"
          ],
          [
           1934,
           ""
          ],
          [
           1934,
           ""
          ],
          [
           1934,
           ""
          ],
          [
           1934,
           ""
          ],
          [
           1934,
           "blackmail mistaken identity music hall bad father musical theater protective mother"
          ],
          [
           1934,
           "musical con artist fashion pre-code"
          ],
          [
           1934,
           ""
          ],
          [
           1934,
           ""
          ],
          [
           1934,
           ""
          ],
          [
           1934,
           "friendship dynamite south america"
          ],
          [
           1934,
           ""
          ],
          [
           1934,
           "new york city cabin wedding elopement"
          ],
          [
           1934,
           ""
          ],
          [
           1934,
           "gambling hypocrisy political corruption magazine editor college buddies"
          ],
          [
           1934,
           "not_found"
          ],
          [
           1934,
           ""
          ],
          [
           1934,
           "new york city gangster bus pre-code chorus girl"
          ],
          [
           1934,
           "border post"
          ],
          [
           1934,
           "greek death gold digger"
          ],
          [
           1934,
           "dancing london, england entertainer nightclub mistaken identity musical aunt brighton, england misunderstanding singing divorce song and dance"
          ],
          [
           1934,
           "dancing musical singing pre-code"
          ],
          [
           1934,
           "ghost"
          ],
          [
           1934,
           ""
          ],
          [
           1934,
           "yacht millionaire pre-code gold digger dressing room chorus girl changing room dancing girls want to get married"
          ],
          [
           1934,
           "college"
          ],
          [
           1933,
           "pre-code gold digger alimony"
          ],
          [
           1934,
           "jealousy backstage"
          ],
          [
           1934,
           "police sports convict"
          ],
          [
           1934,
           ""
          ],
          [
           1934,
           "new year's eve dating crooner window washer pretending to be poor"
          ],
          [
           1934,
           "based on comic teenager"
          ],
          [
           1934,
           "u.s. navy"
          ],
          [
           1934,
           "yacht musical waiter class distinction snobbery eccentric millionaire get rich quick scheme luxury yacht secret benefactor wishes imposture amused exiles royal etiquette"
          ],
          [
           1934,
           "gangster cover-up newspaper man pre-code newspaper office funeral parlor drunkenness"
          ],
          [
           1934,
           "slapstick comedy pre-code"
          ],
          [
           1934,
           "detective"
          ],
          [
           1934,
           "musical hollywood pre-code"
          ],
          [
           1934,
           "vaudeville"
          ],
          [
           1934,
           "auction auctioneer"
          ],
          [
           1934,
           ""
          ],
          [
           1934,
           "politician american football team"
          ],
          [
           1934,
           "housekeeper pancakes pre-code passing for white"
          ],
          [
           1933,
           ""
          ],
          [
           1934,
           "newspaper miami, florida marriage reporter black and white screwball comedy socialite pre-code based on short story screwball hitchhiking road movie rich girl frantic brat trains lighthearted witty romantic cliché"
          ],
          [
           1934,
           "husband wife relationship grocer inheritance grocery store henpecked husband molasses domineering wife nagging wife orange grove noise"
          ],
          [
           1933,
           ""
          ],
          [
           1934,
           "competition pre-code assumed identity racketeer sham marriage unethical business chiseler"
          ],
          [
           1934,
           "judge nephew veteran"
          ],
          [
           1934,
           "gangster kansas city train manicurist engagement ring manicure girl scouts"
          ],
          [
           1934,
           ""
          ],
          [
           1934,
           "kentucky feud"
          ],
          [
           1934,
           "egypt inheritance rich kid"
          ],
          [
           1934,
           "musical waiter theatrical troupe"
          ],
          [
           1934,
           "mediterranean secretary"
          ],
          [
           1934,
           "surreal surrealism romance early cinema music early polish cinema"
          ],
          [
           1934,
           ""
          ],
          [
           1934,
           "businessman switchboard operator"
          ],
          [
           1934,
           "lawyer exotic dancer"
          ],
          [
           1934,
           ""
          ],
          [
           1933,
           ""
          ],
          [
           1934,
           "prison tragedy racetrack confidence artist"
          ],
          [
           1934,
           ""
          ],
          [
           1934,
           "thug hoodlum building on fire"
          ],
          [
           1934,
           "radio"
          ],
          [
           1934,
           ""
          ],
          [
           1934,
           ""
          ],
          [
           1934,
           ""
          ],
          [
           1934,
           "marie antoinette historical figure french court"
          ],
          [
           1934,
           "pre-code"
          ],
          [
           1934,
           "gift shop"
          ],
          [
           1934,
           "satire"
          ],
          [
           1934,
           "ball vienna, austria"
          ],
          [
           1934,
           "paris, france car thief 1930s"
          ],
          [
           1934,
           "small town"
          ],
          [
           1934,
           ""
          ],
          [
           1934,
           "heiress"
          ],
          [
           1934,
           "widow musical pre-code"
          ],
          [
           1934,
           "hotel nightclub"
          ],
          [
           1934,
           "doomed love lost love gambling racket"
          ],
          [
           1934,
           ""
          ],
          [
           1934,
           ""
          ],
          [
           1934,
           "marriage musical singer pre-code moulin rouge"
          ],
          [
           1934,
           "thanksgiving"
          ],
          [
           1934,
           "murder pre-code schoolteacher"
          ],
          [
           1934,
           "musical primadonna quarreling couple"
          ],
          [
           1934,
           ""
          ],
          [
           1933,
           "pre-code"
          ],
          [
           1934,
           "diamond jewel thief pre-code"
          ],
          [
           1934,
           ""
          ],
          [
           1934,
           "kidnapping"
          ],
          [
           1934,
           "hotel detective rivalry romance foot chase jewel heist jewel thief pre-code impersonation fashion show society woman disguises walking on a ledge police pursuit brisk daring escape"
          ],
          [
           1934,
           "boarding house pre-code vaudevillian"
          ],
          [
           1934,
           "europe singer pursuit jewel robbery"
          ],
          [
           1934,
           "opera milan musical vienna, austria opera singer the metropolitan opera"
          ],
          [
           1933,
           ""
          ],
          [
           1934,
           ""
          ],
          [
           1934,
           ""
          ],
          [
           1934,
           "pre-code manhattan, new york city boxing joe palooka character"
          ],
          [
           1934,
           ""
          ],
          [
           1934,
           "boxer contract birth pre-code"
          ],
          [
           1934,
           ""
          ],
          [
           1934,
           ""
          ],
          [
           1934,
           "freak accident phoney mystic roadside inn"
          ],
          [
           1934,
           "bureaucracy soviet union"
          ],
          [
           1934,
           ""
          ],
          [
           1934,
           ""
          ],
          [
           1934,
           "based on play or musical romance historical event american revolution revolutionary war"
          ],
          [
           1934,
           "dancer radio network"
          ],
          [
           1934,
           "class prejudice"
          ],
          [
           1934,
           "artist playboy"
          ],
          [
           1934,
           "secretary heiress"
          ],
          [
           1934,
           ""
          ],
          [
           1934,
           ""
          ],
          [
           1934,
           "olympic games magazine beefcake pre-code"
          ],
          [
           1934,
           ""
          ],
          [
           1934,
           "singer pre-code"
          ],
          [
           1934,
           "romance sailor"
          ],
          [
           1934,
           "pre-code"
          ],
          [
           1934,
           "infidelity lion tamer"
          ],
          [
           1934,
           ""
          ],
          [
           1934,
           "carnival musical based on play or musical"
          ],
          [
           1934,
           "marriage con"
          ],
          [
           1933,
           ""
          ],
          [
           1934,
           ""
          ],
          [
           1934,
           "ransom blackmail show business pre-code safecracker musical revue"
          ],
          [
           1934,
           "pre-code embezzlement cross country trip"
          ],
          [
           1934,
           ""
          ],
          [
           1934,
           "dress screwball comedy pre-code divorced couple face slap dress model man slaps a woman provocative dress"
          ],
          [
           1934,
           "playboy pre-code chorus girl high society"
          ],
          [
           1934,
           "fake identity business idea street urchin rich daughter street kid boy meets girl business rivalry living on the streets crooked businessman petrol station getting rich false identity unemployed salesman"
          ],
          [
           1934,
           ""
          ],
          [
           1934,
           "underdog pre-code"
          ],
          [
           1934,
           ""
          ],
          [
           1934,
           "melbourne, australia pianist valet stagecoach pre-code"
          ],
          [
           1934,
           ""
          ],
          [
           1934,
           "new york city secretary pre-code"
          ],
          [
           1934,
           "wisdom"
          ],
          [
           1934,
           ""
          ],
          [
           1934,
           ""
          ],
          [
           1934,
           "pre-code"
          ],
          [
           1934,
           "fake psychic"
          ],
          [
           1934,
           ""
          ],
          [
           1934,
           "husband wife relationship police detective mistress dinner black and white wedding dog police detective screwball comedy private detective missing person pre-code terrier thin man x-ray christmas detective couple"
          ],
          [
           1934,
           "princess look-alike loan pre-code impersonation"
          ],
          [
           1934,
           "ocean liner"
          ],
          [
           1934,
           ""
          ],
          [
           1934,
           ""
          ],
          [
           1934,
           "stage theater play disguise rehearsal pre-code protégé ham hysterics"
          ],
          [
           1934,
           "radio musical singer fired from the job waiter pre-code"
          ],
          [
           1934,
           ""
          ],
          [
           1934,
           "not_found"
          ],
          [
           1934,
           "gambling"
          ],
          [
           1934,
           "mistaken identity love"
          ],
          [
           1934,
           ""
          ],
          [
           1934,
           "sailor screwball comedy pre-code"
          ],
          [
           1934,
           "grandmother elopement sudden wealth"
          ],
          [
           1934,
           "sibling relationship wife election campaign marriage crisis scotland arranged marriage ambition based on play or musical countess agreement member of parliament other woman loyal wife political aspiration engagement contract young scholar woman behind the man mismatched couple financial backer protective brothers"
          ],
          [
           1934,
           "not_found"
          ],
          [
           1934,
           ""
          ],
          [
           1934,
           "adultery infidelity servant bachelor butler marriage based on play or musical unrequited love pre-code elopement idle rich runaway lovers test of love"
          ],
          [
           1934,
           ""
          ],
          [
           1934,
           "nevada showgirl prospector"
          ],
          [
           1934,
           "movie star prizefight"
          ],
          [
           1934,
           "inventor invention pre-code"
          ],
          [
           1934,
           "b movie"
          ],
          [
           1934,
           "banker businessman clerk brother office secretary mistress art of seduction unemployment employer employee relationship philanderer flirtatious woman plain woman"
          ],
          [
           1934,
           ""
          ],
          [
           1934,
           ""
          ],
          [
           1934,
           "not_found"
          ],
          [
           1934,
           "london, england farce"
          ],
          [
           1934,
           "romance"
          ],
          [
           1933,
           ""
          ],
          [
           1934,
           ""
          ],
          [
           1934,
           ""
          ],
          [
           1933,
           ""
          ],
          [
           1934,
           ""
          ],
          [
           1931,
           ""
          ],
          [
           1934,
           ""
          ],
          [
           1932,
           ""
          ],
          [
           1931,
           ""
          ],
          [
           1934,
           ""
          ],
          [
           1932,
           ""
          ],
          [
           1931,
           ""
          ],
          [
           1934,
           "christmas"
          ],
          [
           1930,
           ""
          ],
          [
           1932,
           ""
          ],
          [
           1930,
           ""
          ],
          [
           1931,
           ""
          ],
          [
           1931,
           ""
          ],
          [
           1931,
           "not_found"
          ],
          [
           1932,
           ""
          ],
          [
           1931,
           ""
          ],
          [
           1931,
           ""
          ],
          [
           1931,
           ""
          ],
          [
           1931,
           ""
          ],
          [
           1932,
           ""
          ],
          [
           1932,
           ""
          ],
          [
           1933,
           ""
          ],
          [
           1932,
           ""
          ],
          [
           1933,
           ""
          ],
          [
           1932,
           "black and white"
          ],
          [
           1932,
           ""
          ],
          [
           1930,
           "not_found"
          ],
          [
           1932,
           ""
          ],
          [
           1931,
           ""
          ],
          [
           1931,
           ""
          ],
          [
           1933,
           ""
          ],
          [
           1931,
           ""
          ],
          [
           1931,
           ""
          ],
          [
           1932,
           ""
          ],
          [
           1931,
           ""
          ],
          [
           1931,
           "lost film"
          ],
          [
           1929,
           "not_found"
          ],
          [
           1930,
           ""
          ],
          [
           1933,
           "not_found"
          ],
          [
           1933,
           ""
          ],
          [
           1930,
           ""
          ],
          [
           1930,
           ""
          ],
          [
           1933,
           "marcel pagnol"
          ],
          [
           1933,
           ""
          ],
          [
           1934,
           "not_found"
          ],
          [
           1929,
           "barge bar singer bar dancer"
          ],
          [
           1931,
           ""
          ],
          [
           1931,
           "not_found"
          ],
          [
           1933,
           ""
          ],
          [
           1931,
           "not_found"
          ],
          [
           1930,
           ""
          ],
          [
           1930,
           ""
          ],
          [
           1933,
           ""
          ],
          [
           1934,
           ""
          ],
          [
           1933,
           ""
          ],
          [
           1933,
           "based on play or musical"
          ],
          [
           1934,
           ""
          ],
          [
           1934,
           "cross dressing black and white"
          ],
          [
           1932,
           ""
          ],
          [
           1933,
           ""
          ],
          [
           1930,
           ""
          ],
          [
           1933,
           ""
          ],
          [
           1932,
           ""
          ],
          [
           1933,
           ""
          ],
          [
           1931,
           ""
          ],
          [
           1932,
           ""
          ],
          [
           1933,
           ""
          ],
          [
           1933,
           ""
          ],
          [
           1932,
           "judge minister playboy night court"
          ],
          [
           1930,
           ""
          ],
          [
           1932,
           ""
          ],
          [
           1931,
           "musical"
          ],
          [
           1934,
           ""
          ],
          [
           1930,
           ""
          ],
          [
           1932,
           ""
          ],
          [
           1934,
           "not_found"
          ],
          [
           1931,
           ""
          ],
          [
           1931,
           ""
          ],
          [
           1933,
           ""
          ],
          [
           1934,
           ""
          ],
          [
           1931,
           "based on novel or book world war i"
          ],
          [
           1932,
           ""
          ],
          [
           1933,
           "based on play or musical class differences"
          ],
          [
           1933,
           ""
          ],
          [
           1933,
           "not_found"
          ],
          [
           1933,
           ""
          ],
          [
           1932,
           ""
          ],
          [
           1934,
           ""
          ],
          [
           1933,
           ""
          ],
          [
           1934,
           ""
          ],
          [
           1933,
           "based on short story"
          ],
          [
           1931,
           "based on play or musical"
          ],
          [
           1933,
           "based on play or musical"
          ],
          [
           1933,
           "based on play or musical 19th century"
          ],
          [
           1934,
           ""
          ],
          [
           1934,
           ""
          ],
          [
           1934,
           ""
          ],
          [
           1934,
           ""
          ],
          [
           1934,
           ""
          ],
          [
           1933,
           ""
          ],
          [
           1932,
           ""
          ],
          [
           1933,
           "alcohol marriage"
          ],
          [
           1931,
           ""
          ],
          [
           1934,
           ""
          ],
          [
           1932,
           ""
          ],
          [
           1934,
           ""
          ],
          [
           1931,
           ""
          ],
          [
           1932,
           ""
          ],
          [
           1931,
           "lost film"
          ],
          [
           1931,
           ""
          ],
          [
           1934,
           ""
          ],
          [
           1932,
           ""
          ],
          [
           1934,
           "based on play or musical woman director"
          ],
          [
           1930,
           ""
          ],
          [
           1930,
           ""
          ],
          [
           1931,
           ""
          ],
          [
           1931,
           "not_found"
          ],
          [
           1931,
           ""
          ],
          [
           1933,
           ""
          ],
          [
           1931,
           ""
          ],
          [
           1933,
           ""
          ],
          [
           1933,
           "not_found"
          ],
          [
           1932,
           ""
          ],
          [
           1931,
           "based on play or musical"
          ],
          [
           1932,
           ""
          ],
          [
           1933,
           ""
          ],
          [
           1934,
           "based on novel or book"
          ],
          [
           1930,
           ""
          ],
          [
           1932,
           ""
          ],
          [
           1932,
           ""
          ],
          [
           1932,
           "short film"
          ],
          [
           1934,
           ""
          ],
          [
           1933,
           "not_found"
          ],
          [
           1933,
           ""
          ],
          [
           1930,
           ""
          ],
          [
           1929,
           "not_found"
          ],
          [
           1931,
           ""
          ],
          [
           1931,
           "not_found"
          ],
          [
           1932,
           ""
          ],
          [
           1930,
           ""
          ],
          [
           1932,
           ""
          ],
          [
           1932,
           ""
          ],
          [
           1930,
           ""
          ],
          [
           1930,
           "not_found"
          ],
          [
           1930,
           ""
          ],
          [
           1930,
           ""
          ],
          [
           1930,
           ""
          ],
          [
           1933,
           "not_found"
          ],
          [
           1929,
           ""
          ],
          [
           1930,
           "matinee idol"
          ],
          [
           1930,
           "not_found"
          ],
          [
           1930,
           ""
          ],
          [
           1930,
           "black and white"
          ],
          [
           1931,
           "not_found"
          ],
          [
           1933,
           "based on opera"
          ],
          [
           1930,
           ""
          ],
          [
           1933,
           "old dark house"
          ],
          [
           1932,
           ""
          ],
          [
           1934,
           ""
          ],
          [
           1933,
           ""
          ],
          [
           1930,
           ""
          ],
          [
           1932,
           "not_found"
          ],
          [
           1930,
           "athens, greece operetta"
          ],
          [
           1933,
           ""
          ],
          [
           1932,
           "not_found"
          ],
          [
           1930,
           ""
          ],
          [
           1930,
           ""
          ],
          [
           1934,
           "not_found"
          ],
          [
           1934,
           ""
          ],
          [
           1934,
           "not_found"
          ],
          [
           1933,
           "not_found"
          ],
          [
           1934,
           ""
          ],
          [
           1932,
           ""
          ],
          [
           1929,
           "silent film"
          ],
          [
           1933,
           ""
          ],
          [
           1934,
           ""
          ],
          [
           1934,
           ""
          ],
          [
           1934,
           ""
          ],
          [
           1933,
           ""
          ],
          [
           1932,
           ""
          ],
          [
           1934,
           "not_found"
          ],
          [
           1932,
           ""
          ],
          [
           1931,
           ""
          ],
          [
           1931,
           ""
          ],
          [
           1931,
           ""
          ],
          [
           1931,
           ""
          ],
          [
           1931,
           ""
          ],
          [
           1931,
           ""
          ],
          [
           1933,
           "not_found"
          ],
          [
           1929,
           ""
          ],
          [
           1929,
           "not_found"
          ],
          [
           1931,
           ""
          ],
          [
           1934,
           "based on play or musical"
          ],
          [
           1930,
           ""
          ],
          [
           1932,
           "not_found"
          ],
          [
           1930,
           "not_found"
          ],
          [
           1931,
           ""
          ],
          [
           1929,
           "not_found"
          ],
          [
           1929,
           "not_found"
          ],
          [
           1929,
           "not_found"
          ],
          [
           1933,
           ""
          ],
          [
           1930,
           "not_found"
          ],
          [
           1930,
           "not_found"
          ],
          [
           1932,
           ""
          ],
          [
           1933,
           "not_found"
          ],
          [
           1933,
           "nudist camp poison ivy"
          ],
          [
           1929,
           ""
          ],
          [
           1930,
           "not_found"
          ],
          [
           1932,
           "not_found"
          ],
          [
           1929,
           ""
          ],
          [
           1930,
           "presumed lost"
          ]
         ],
         "hovertemplate": "<b>%{hovertext}</b><br><br>primary_genre=Comedy<br>startYear=%{customdata[0]}<br>keywords=%{customdata[1]}<extra></extra>",
         "hovertext": [
          "All at Sea",
          "Auntie's Antics",
          "The Aviator",
          "The Awful Truth",
          "Big News",
          "Broadway Fever",
          "The Broadway Hoofer",
          "Broadway Scandals",
          "Bye, Bye, Buddy",
          "Campus Knights",
          "The Carnation Kid",
          "Chasing Through Europe",
          "China Bound",
          "An Hour with Chekhov",
          "Clear the Decks",
          "Close Harmony",
          "The Cock-Eyed World",
          "The Cocoanuts",
          "The Cohens and Kellys in Atlantic City",
          "The College Coquette",
          "College Love",
          "Courtin' Wildcats",
          "I Graduated, But...",
          "Dance Hall",
          "Divorce Made Easy",
          "The Duke Steps Out",
          "Dynamite",
          "The Exalted Flapper",
          "The Fall of Eve",
          "Fancy Baggage",
          "Fashions in Love",
          "Fast Company",
          "Fox Movietone Follies of 1929",
          "Nights of Love",
          "The Ghost Talks",
          "The Girl from Woolworth's",
          "The Girl in the Show",
          "Glorifying the American Girl",
          "Gold Diggers of Broadway",
          "Hard to Get",
          "His Lucky Day",
          "Hold Your Man",
          "The Hollywood Revue of 1929",
          "Hot Stuff",
          "Hot for Paris",
          "The Hottentot",
          "Seven Footprints to Satan",
          "Howdy Broadway",
          "The Idle Rich",
          "Is Everybody Happy?",
          "It Can Be Done",
          "It's a Great Life",
          "Jazz Heaven",
          "The Kibitzer",
          "The Last of Mrs. Cheyney",
          "Little Johnny Jones",
          "The Love Doctor",
          "The Love Parade",
          "The Love Trap",
          "Lucky Boy",
          "Lucky in Love",
          "Making the Grade",
          "The Man and the Moment",
          "A Man's Man",
          "Marquis Preferred",
          "Melody of the Heart",
          "People on Sunday",
          "Midnight Daddies",
          "Mister Antonio",
          "Modern Love",
          "Navy Blues",
          "Nix on Dames",
          "Noisy Neighbors",
          "On with the Show!",
          "One Hysterical Night",
          "Our Modern Maidens",
          "Paris' Girls",
          "Pointed Heels",
          "The Rainbow Man",
          "Red Hot Rhythm",
          "Rio Rita",
          "Chasing Rainbows",
          "Sailor's Holiday",
          "The Sap",
          "The Saturday Night Kid",
          "Saturday's Children",
          "Seven Keys to Baldpate",
          "The Shannons of Broadway",
          "Show of Shows",
          "A Single Man",
          "So This Is College",
          "Sonny Boy",
          "The Sophomore",
          "South Sea Rose",
          "The Spirit of Youth",
          "Spite Marriage",
          "Stolen Kisses",
          "Strong Boy",
          "Sunny Side Up",
          "Syncopation",
          "Synthetic Sin",
          "Treasure Mountain",
          "The Taming of the Shrew",
          "Tanned Legs",
          "They Had to See Paris",
          "This Is Heaven",
          "This Thing Called Love",
          "Three Live Ghosts",
          "The Time, the Place and the Girl",
          "Twin Beds",
          "Two Weeks Off",
          "The Vagabond Lover",
          "The Very Idea",
          "Days of Youth",
          "Week-End Wives",
          "Welcome Danger",
          "Why Be Good?",
          "Why Bring That Up?",
          "Why Leave Home?",
          "The Wild Party",
          "Words and Music",
          "Farewell",
          "Along Came Youth",
          "Animal Crackers",
          "Anybody's War",
          "Around the Corner",
          "Be Yourself!",
          "Big Boy",
          "The Big Party",
          "The Big Pond",
          "Borrowed Wives",
          "The Boudoir Diplomat",
          "Bright Lights",
          "Too Young to Marry",
          "Murder for Sale",
          "Captain Applejack",
          "Caught Short",
          "Everyone Has Their Chance",
          "Charley's Aunt",
          "Check and Double Check",
          "Children of Pleasure",
          "Clancy in Wall Street",
          "The Cohens and the Kellys in Africa",
          "The Cohens and the Kellys in Scotland",
          "The Compulsory Husband",
          "Conspiracy",
          "Crazy That Way",
          "The Cuckoos",
          "Dames Ahoy",
          "Dancing Sweeties",
          "Dangerous Nan McGrew",
          "The Devil to Pay!",
          "Fair People",
          "Divorce Among Friends",
          "Dixiana",
          "Doughboys",
          "Drei Tage Mittelarrest",
          "Three from the Filling Station",
          "Dumbbells in Ermine",
          "Elstree Calling",
          "Embarrassing Moments",
          "The Fall Guy",
          "Fast and Loose",
          "The Flirting Widow",
          "Follow Thru",
          "Follow the Leader",
          "For the Love o' Lil",
          "Free Love",
          "Free and Easy",
          "For Her Sake",
          "The Girl Said No",
          "Going Wild",
          "Her Golden Calf",
          "Golden Dawn",
          "Good News",
          "The Grand Parade",
          "La grande mare",
          "Die große Sehnsucht",
          "Grumpy",
          "Half Shot at Sunrise",
          "Happy Days",
          "Harmony at Home",
          "He Knew Women",
          "Heads Up",
          "Her Wedding Night",
          "The Darling of Vienna",
          "Tonight-Eventually",
          "Hit the Deck",
          "Hold Everything",
          "Holiday",
          "Honey",
          "Hook, Line and Sinker",
          "Hot Curves",
          "Her Majesty Love",
          "Juno and the Paycock",
          "Just Imagine",
          "Das Kabinett des Dr. Larifari",
          "Introduction to Marriage",
          "Gretel and Liesel",
          "Ladies Love Brutes",
          "Ladies Must Play",
          "Ladies in Love",
          "The Lady of Scandal",
          "The Last Dance",
          "The Last Hour",
          "Laughter",
          "Leathernecking",
          "Leave It to Lester",
          "Let Us Be Gay",
          "Let's Go Native",
          "Let's Go Places",
          "The Life of the Party",
          "Little Accident",
          "Loose Ankles",
          "Love at First Sight",
          "Love in the Rough",
          "Lovin' the Ladies",
          "Madam Satan",
          "Mammy",
          "The Man from Blankley's",
          "The Matrimonial Bed",
          "Maybe It's Love",
          "The Medicine Man",
          "Men Are Like That",
          "Min and Bill",
          "Monte Carlo",
          "Night Work",
          "No, No, Nanette",
          "Not Damaged",
          "Not So Dumb",
          "Officer O'Brien",
          "Oh, Sailor Behave!",
          "Young Lady",
          "Once a Gentleman",
          "One Embarrassing Night",
          "One Romantic Night",
          "Only Saps Work",
          "Paramount on Parade",
          "May I Come In",
          "Personality",
          "Peter Voss Who Stole Millions",
          "Playboy of Paris",
          "Playing Around",
          "Holiday of St. Jorgen",
          "The Princess and the Plumber",
          "Queen High",
          "One Heavenly Night",
          "Rain or Shine",
          "I Flunked, But...",
          "Reaching for the Moon",
          "Recaptured Love",
          "The Royal Family of Broadway",
          "A Royal Romance",
          "Safety in Numbers",
          "The Sap from Syracuse",
          "Sea Legs",
          "Second Honeymoon",
          "The Second Floor Mystery",
          "She Got What She Wanted",
          "She's My Weakness",
          "Show Girl in Hollywood",
          "Sin Takes a Holiday",
          "Skandal um Eva",
          "Skinner Steps Out",
          "Slightly Scarlet",
          "So Long Letty",
          "So This Is London",
          "Soup to Nuts",
          "Under the Roofs of Paris",
          "Spring Is Here",
          "Strictly Modern",
          "Sunny Skies",
          "Sweet Mama",
          "Sweethearts and Wives",
          "Sweethearts on Parade",
          "Take the Heir",
          "The Talk of Hollywood",
          "The Temporary Widow",
          "Third Time Lucky",
          "Those Three French Girls",
          "Top Speed",
          "Up the River",
          "Wedding Rings",
          "What a Man",
          "What a Widow!",
          "Whoopee!",
          "Wide Open",
          "Wise Girls",
          "Young Man of Manhattan",
          "L'Age d'Or",
          "L'énigmatique Monsieur Parkes",
          "El alma de la fiesta",
          "Ambassador Bill",
          "Poor as a Church Mouse",
          "Bachelor Apartment",
          "The Bachelor Father",
          "Le bal",
          "Beauty and the Boss",
          "Behind Office Doors",
          "Big Business Girl",
          "The Big Shot",
          "Blonde Crazy",
          "Storm in a Water Glass",
          "Bombs Over Monte Carlo",
          "The Brat",
          "The Upright Sinner",
          "Broadminded",
          "Brokiga blad",
          "Business and Pleasure",
          "Los calaveras",
          "Caught Cheating",
          "Caught Plastered",
          "The Chance of a Night Time",
          "City Lights",
          "A Connecticut Yankee",
          "Cracked Nuts",
          "Daddy Long Legs",
          "Just a Gigolo",
          "Delicious",
          "Devotion",
          "Don't Bet on Women",
          "The Threepenny Opera",
          "Dude Ranch",
          "East Lynne on the Western Front",
          "The Heart of New York",
          "Everything's Rosie",
          "Ex-Bad Boy",
          "The Wrong Husband",
          "The Wrong Millionaire",
          "Fanny Foley Herself",
          "50 Million Frenchmen",
          "Figaro and His Great Day",
          "Finn and Hattie",
          "Flying High",
          "The Front Page",
          "The Gang Buster",
          "The Ghost Train",
          "The Girl Habit",
          "Girls About Town",
          "Girls Demand Excitement",
          "God's Gift to Women",
          "It's Tough to Be Famous",
          "Goldie",
          "Good Sport",
          "The Gorilla",
          "The Guardsman",
          "The Captain from Köpenick",
          "Her Majesty, Love",
          "High Stakes",
          "Honeymoon Lane",
          "The Hot Heiress",
          "Huckleberry Finn",
          "Hush Money",
          "I Like Your Nerve",
          "Her Grace Commands",
          "Indiscreet",
          "It Pays to Advertise",
          "It's a Wise Child",
          "June Moon",
          "Keine Feier ohne Meyer",
          "The Greatest Man in the World",
          "Congress Dances",
          "Kärlek måste vi ha",
          "The Lady and the Beard",
          "Laugh and Get Rich",
          "Liebe auf Befehl",
          "Liebeskommando",
          "The Smiling Lieutenant",
          "Lonely Wives",
          "Love in High Gear",
          "Die lustigen Weiber von Wien",
          "The Neighbor's Wife and Mine",
          "Maid to Order",
          "Man braucht kein Geld",
          "The Man in Possession",
          "A Man of Mayfair",
          "Manhattan Parade",
          "The Man in Search of His Murderer",
          "Many a Slip",
          "Marius",
          "Meet the Wife",
          "My Wife, the Adventuress",
          "Merely Mary Ann",
          "Le Million",
          "The Millionaire",
          "Misbehaving Ladies",
          "Monerías",
          "Monkey Business",
          "Moritz macht sein Glück",
          "Suicide Fleet",
          "The Naughty Flirt",
          "New Adventures of Get-Rich-Quick Wallingford",
          "Newly Rich",
          "Night Nurse",
          "No Limit",
          "Baby's Laxative",
          "Magic Night",
          "Palmy Days",
          "The Unexpected Father",
          "Pardon Us",
          "Parlor, Bedroom and Bath",
          "Party Husband",
          "Peach O'Reno",
          "Penrod and Sam",
          "Le petit café",
          "Platinum Blonde",
          "Politics",
          "Politiquerías",
          "Private Lives",
          "Die Privatsekretärin",
          "Reducing",
          "Ronny",
          "The Royal Bed",
          "The Runaround",
          "Röda dagen",
          "The Battle of Bademuende",
          "Shipmates",
          "Side Show",
          "The Single Sin",
          "Sit Tight",
          "6 Cylinder Love",
          "Skippy",
          "Smart Woman",
          "A Soldier's Plaything",
          "The Sport of Kings",
          "Stepping Out",
          "Strictly Dishonorable",
          "The Office Girl",
          "Sweepstakes",
          "A Tailor Made Man",
          "Their Mad Moment",
          "This Modern Age",
          "The Tip-Off",
          "Tokyo Chorus",
          "Tonight or Never",
          "Tons of Money",
          "Too Many Cooks",
          "Transatlantic",
          "Traveling Husbands",
          "Trådlöst och kärleksfullt",
          "Der ungetreue Eckehart",
          "Up Pops the Devil",
          "The Company's in Love",
          "Virtuous Husband",
          "True Jacob",
          "Way Back Home",
          "White Ecstasy",
          "Wir schalten um auf Hollywood",
          "Women of All Nations",
          "Young as You Feel",
          "His Wife's Lover",
          "¿Cuándo te suicidas?",
          "À Nous la Liberté",
          "Married by the Stork",
          "Slalom",
          "It's in the Bag",
          "Almost a Honeymoon",
          "The Animal Kingdom",
          "Baby",
          "Bachelor's Affairs",
          "Be Mine Tonight",
          "The Big Broadcast",
          "Big City Blues",
          "The Man Who Won",
          "The Black King",
          "Blessed Event",
          "A Blonde Dream",
          "Blondie of the Follies",
          "Boudu Saved from Drowning",
          "-But the Flesh Is Weak",
          "Careless Lady",
          "Chotard and Company",
          "Cock of the Air",
          "The Cohens and Kellys in Hollywood",
          "Coiffeur pour dames",
          "La couturière de Lunéville",
          "The Crooked Circle",
          "Crooner",
          "Csókolj meg, édes!",
          "Dance Team",
          "The Dark Horse",
          "Disorderly Conduct",
          "Doctor X",
          "Don't Be a Dummy",
          "Down to Earth",
          "Things Are Getting Better Already",
          "Evenings for Sale",
          "The Expert",
          "Fanny",
          "Fast Companions",
          "Fireman, Save My Child!",
          "The First Year",
          "A Fool's Advice",
          "Five from the Jazzband",
          "Fun in the Barracks",
          "Girl Crazy",
          "The Girl from Calgary",
          "Girl of the Rio",
          "The Greeks Had a Word for Them",
          "The Half-Naked Truth",
          "Handle with Care",
          "Hat Check Girl",
          "Der Herr Bürovorsteher",
          "High Pressure",
          "Ausflug ins Leben",
          "His Royal Highness",
          "Hold 'Em Jail",
          "Horse Feathers",
          "Hypnotized",
          "I Do Not Want to Know Who You Are",
          "If I Had a Million",
          "The Impatient Maiden",
          "Why Saps Leave Home",
          "Jewel Robbery",
          "The Kid from Spain",
          "Kid's Last Stand",
          "Ladies of the Jury",
          "Lady with a Past",
          "Let Me Explain, Dear",
          "Love Comes But Once",
          "A Song, a Kiss, a Girl",
          "Little Orphan Annie",
          "Love Among the Millionaires",
          "Love Is a Racket",
          "Love Me Tonight",
          "Lucky Ladies",
          "Madame Racketeer",
          "Make Me a Star",
          "Man Wanted",
          "Me and My Gal",
          "Merrily We Go to Hell",
          "The Midnight Patrol",
          "Midshipmaid Gob",
          "Million Dollar Legs",
          "The Misleading Lady",
          "Miss Pinkerton",
          "Movie Crazy",
          "The Naked Truth",
          "Nice Women",
          "Night After Night",
          "Night World",
          "No Man of Her Own",
          "Not So Quiet on the Western Front",
          "Once Bitten",
          "Once in a Lifetime",
          "One Hour with You",
          "One Way Passage",
          "Pack Up Your Troubles",
          "How to Catch Men",
          "The Passionate Plumber",
          "Penguin Pool Murder",
          "Your Money or Your Life",
          "The Phantom President",
          "Prosperity",
          "The Purchase Price",
          "This Reckless Age",
          "Red Dust",
          "Red-Headed Woman",
          "The Rich Are Always with Us",
          "East of Shanghai",
          "Rien que la vérité",
          "He",
          "A Girl of the Street",
          "Der Schrecken der Garnison",
          "Der schwarze Husar",
          "Where Now Are the Dreams of Youth?",
          "Reserved for Ladies",
          "Liebe ist Liebe",
          "Speak Easily",
          "The Gala Performance",
          "Stepping Sisters",
          "Der Stolz der 3. Kompanie",
          "Der Storch streikt",
          "Strangers in Love",
          "Strangers of the Evening",
          "Spoiling the Game",
          "A Successful Calamity",
          "The Southsiders",
          "Taxi for Two",
          "The Tenderfoot",
          "There Goes the Bride",
          "This Is the Night",
          "Three Wise Girls",
          "Tonight's the Night: Pass It On",
          "I Sing for You Alone",
          "Trouble in Paradise",
          "Wives Beware",
          "I Was Born, But...",
          "The Living Dead",
          "Union Depot",
          "The Bartered Bride",
          "Servant's Entrance",
          "Week-End Marriage",
          "When Love Sets the Fashion",
          "The Wiser Sex",
          "Yes, Mr. Brown",
          "You Said a Mouthful",
          "Adorable",
          "Advice to the Forlorn",
          "After the Ball",
          "Aggie Appleby, Maker of Men",
          "Water in the Ground",
          "Together in the Dark",
          "Arizona to Broadway",
          "Along Came Sally",
          "Bed of Roses",
          "A Bedtime Story",
          "Best of Enemies",
          "Bombshell",
          "The Bowery",
          "Bureau of Missing Persons",
          "By Candlelight",
          "Call Me Mame",
          "For Love or Money",
          "The Charming Deceiver",
          "The Chief",
          "Christopher Bean",
          "Clear All Wires!",
          "The Cohens and Kellys in Trouble",
          "Convention City",
          "Counsel's Opinion",
          "Counsellor at Law",
          "A Cuckoo in the Nest",
          "Dancing Lady",
          "Dangerously Yours",
          "High and Low",
          "The Death Kiss",
          "Design for Living",
          "The Devil's Brother",
          "Diplomaniacs",
          "Doctor Bull",
          "Don't Bet on Love",
          "Double Harness",
          "Knock, ou le triomphe de la médecine",
          "Three Bluejackets and a Blonde",
          "Duck Soup",
          "Easy Millions",
          "Elmer, the Great",
          "El último varon sobre la Tierra",
          "Es gibt nur eine Liebe",
          "Ex-Lady",
          "Face in the Sky",
          "Female",
          "Flying Down to Rio",
          "Footlight Parade",
          "42nd Street",
          "Friday the Thirteenth",
          "Get That Venus",
          "The Ghost Camera",
          "Girl Missing",
          "Girl Without a Room",
          "The Girl from Maxim's",
          "The Girl in 419",
          "Bon Voyage",
          "Going Straight",
          "Gold Diggers of 1933",
          "Goldie Gets Along",
          "The Good Companions",
          "Goodbye Again",
          "Grand Slam",
          "Gruß und Kuß - Veronika",
          "Hallelujah I'm a Bum",
          "Hard to Handle",
          "Havana Widows",
          "He Couldn't Take It",
          "He Learned About Women",
          "O' Schwarzwald, O' Heimat",
          "Hello, Sister!",
          "Her Bodyguard",
          "Her First Mate",
          "The Girl from Georgia",
          "His Double Life",
          "His Private Secretary",
          "Holzapfel weiß alles",
          "Horse Play",
          "I Adore You",
          "I Lived with You",
          "I Loved You Wednesday",
          "I kongens klær",
          "I'm No Angel",
          "Incognito",
          "International House",
          "It's Great to Be Alive",
          "Jimmy and Sally",
          "Jofroi",
          "Just My Luck",
          "Kazdemu wolno kochac",
          "Keine Angst vor Liebe",
          "The Keyhole",
          "The King's Vacation",
          "Die kleine Schwindlerin",
          "Laughing Heirs",
          "Ladies Must Love",
          "Lady Killer",
          "Lady for a Day",
          "A Lady's Profession",
          "Love Must Be Understood",
          "Ein Lied geht um die Welt",
          "The Little Damozel",
          "The Little Giant",
          "Live and Laugh",
          "Love Is Dangerous",
          "Saturday Nights",
          "Madame Wants No Children",
          "Made on Broadway",
          "Mama Loves Papa",
          "The Man from Toronto",
          "Meet My Sister",
          "Meet the Baron",
          "Melody Cruise",
          "My Uncle from America",
          "Mr. Broadway",
          "Murder in the Private Car",
          "My Weakness",
          "Die Nacht der großen Liebe",
          "Night of the Garter",
          "No dejes la puerta abierta",
          "No Funny Business",
          "The Nuisance",
          "Olsen's Big Moment",
          "One Sunday Afternoon",
          "Our Betters",
          "Out All Night",
          "Paddy the Next Best Thing",
          "Perfect Understanding",
          "Pleasure Cruise",
          "Private Jones",
          "The Prizefighter and the Lady",
          "Professional Sweetheart",
          "July 14",
          "Rafter Romance",
          "Rockabye",
          "Roman Scandals",
          "Sailor Be Good",
          "Sailor's Luck",
          "Cairo Season",
          "The Shadow Laughs",
          "She Done Him Wrong",
          "Should Ladies Behave",
          "Sitting Pretty",
          "Romance in Budapest",
          "Sleeping Car",
          "Smithy",
          "So This Is Africa",
          "A Girl You Don't Forget",
          "The Woman in Command",
          "Son of a Sailor",
          "Sons of the Desert",
          "The Town Stands on Its Head",
          "State Fair",
          "The Stranger's Return",
          "The Sweetheart of Sigma Chi",
          "Take a Chance",
          "Three Cornered Moon",
          "Tillie and Gus",
          "Tomorrow at Seven",
          "Too Much Harmony",
          "Topaze",
          "The Dream of the Rhine",
          "The Three Amateurs",
          "Tugboat Annie",
          "Turn Back the Clock",
          "And the Puszta Gleams",
          "Under the Tonto Rim",
          "Victor and Victoria",
          "Waltz War",
          "The Warrior's Husband",
          "The Way to Love",
          "Wedding Rehearsal",
          "What-No Beer?",
          "When Ladies Meet",
          "Whistling in the Dark",
          "The Working Man",
          "Tattoo on the Rhine",
          "Two Good Comrades",
          "365 Nights in Hollywood",
          "6 Day Bike Rider",
          "The Affairs of Cellini",
          "Anne of Green Gables",
          "As Husbands Go",
          "March of the Wooden Soldiers",
          "Baby, Take a Bow",
          "Bachelor Bait",
          "Belle of the Nineties",
          "An Evening Visit",
          "Big Business",
          "Big Hearted Herbert",
          "Blind Date",
          "Bottoms Up",
          "Bright Eyes",
          "Broadway Bill",
          "Bulldog Drummond Strikes Back",
          "By Your Leave",
          "The Captain Hates the Sea",
          "Carolina",
          "The Cat and the Fiddle",
          "The Cat's-Paw",
          "Cheating Cheaters",
          "The Circus Clown",
          "City Limits",
          "City Park",
          "Cockeyed Cavaliers",
          "College Rhythm",
          "The Countess of Monte Cristo",
          "La crise est finie",
          "Dames",
          "Death at a Broadcast",
          "Dos más uno dos",
          "Down to Their Last Yacht",
          "The Dragon Murder Case",
          "Easy to Love",
          "Once a Great Lady",
          "Elmer and Elsie",
          "Emmy",
          "L'eredità dello zio",
          "Evergreen",
          "Fashions of 1934",
          "Vacationing from Oneself",
          "The Grand Duke's Finances",
          "Flickorna från Gamla sta'n",
          "Flirting with Danger",
          "The Fugitive from Chicago",
          "Forsaking All Others",
          "Eine Frau, die weiß, was sie will",
          "Friends of Mr. Sweeney",
          "Las fronteras del amor",
          "Fräulein Frau",
          "Fugitive Lovers",
          "Fugitive Road",
          "The Gay Bride",
          "The Gay Divorcee",
          "George White's Scandals",
          "The Ghost Walks",
          "Gift of Gab",
          "The Girl from Missouri",
          "Girl O' My Dreams",
          "Good-bye Love",
          "The Great Flirtation",
          "Gridiron Flash",
          "Handy Andy",
          "Happiness Ahead",
          "Harold Teen",
          "Here Comes the Navy",
          "Here Is My Heart",
          "Hi, Nellie",
          "Hips, Hips, Hooray!",
          "Hold That Girl",
          "Hollywood Party",
          "L'hôtel du libre échange",
          "I Sell Anything",
          "I Spy",
          "I'll Fix It",
          "Imitation of Life",
          "In the Money",
          "It Happened One Night",
          "It's a Gift",
          "Miss Iza",
          "Jimmy the Gent",
          "Judge Priest",
          "Kansas City Princess",
          "Karl Fredrik Reigns",
          "Kentucky Kernels",
          "Kid Millions",
          "King Kelly of the U.S.A.",
          "Kiss and Make-Up",
          "Kocha, lubi, szanuje",
          "The Women Around Larsson",
          "Ladies Should Listen",
          "Lady by Choice",
          "The Last Gentleman",
          "Leave It to Smith",
          "The Lemon Drop Kid",
          "Long Lost Father",
          "Looking for Trouble",
          "The Loudspeaker",
          "Love Past Thirty",
          "The Girl Thief",
          "Love, Life & Laughter",
          "Madame Du Barry",
          "Manhattan Love Song",
          "Many Happy Returns",
          "Marionettes",
          "Masquerade in Vienna",
          "Bad Seed",
          "The Meanest Gal in Town",
          "Melody in Spring",
          "The Merry Frinks",
          "The Merry Widow",
          "Merry Wives of Reno",
          "Midnight Alibi",
          "Million Dollar Baby",
          "Money Means Nothing",
          "Moulin Rouge",
          "Mrs. Wiggs of the Cabbage Patch",
          "Murder on the Blackboard",
          "Music in the Air",
          "A Song for You",
          "Myrt and Marge",
          "The Mystery of Mr. X",
          "A Night in Venice",
          "No Ransom",
          "The Notorious Sophie Lang",
          "The Old Fashioned Way",
          "One Exciting Adventure",
          "One Night of Love",
          "Cheer Up!",
          "The Outcast",
          "Over the Garden Wall",
          "Palooka",
          "Hard Luck Mary",
          "The Personality Kid",
          "Peter",
          "A Political Party",
          "The Poor Rich",
          "The Czar Wants to Sleep",
          "Alexandra",
          "Private Scandal",
          "The Pursuit of Happiness",
          "Radio Parade of 1935",
          "Ready for Love",
          "Redhead",
          "The Richest Girl in the World",
          "Le roi des Champs-Élysées",
          "Romance in the Rain",
          "Search for Beauty",
          "One Week of Happiness",
          "Servants' Entrance",
          "She Learned About Sailors",
          "She Loves Me Not",
          "She Made Her Bed",
          "She Was a Lady",
          "Shoot the Works",
          "The Show-Off",
          "The Silver Spoon",
          "Sing As We Go!",
          "Sing and Like It",
          "Six of a Kind",
          "Sluby ulanskie",
          "Smarty",
          "Social Register",
          "Something Always Happens",
          "Springtime for Henry",
          "Stand Up and Cheer!",
          "En stilla flirt",
          "Stingaree",
          "Stolen Sweets",
          "Strictly Dynamite",
          "A Successful Failure",
          "The Song to Her",
          "Full Speed",
          "That's Gratitude",
          "Their Big Moment",
          "Scandals of Paris",
          "The Thin Man",
          "Thirty Day Princess",
          "Three on a Honeymoon",
          "A Ticket in Tatts",
          "Transatlantic Merry-Go-Round",
          "Twentieth Century",
          "Twenty Million Sweethearts",
          "Two Heads on a Pillow",
          "Uncertain Lady",
          "A Very Honorable Guy",
          "Moscow Laughs",
          "A Waltz for You",
          "We're Not Dressing",
          "We're Rich Again",
          "What Every Woman Knows",
          "What Happened to Harkness?",
          "What a Mother-in-Law!",
          "Where Sinners Meet",
          "Wild Boy",
          "Wild Gold",
          "A Woman's Man",
          "You're Telling Me!",
          "Young and Beautiful",
          "The Church Mouse",
          "Enter Madame!",
          "The Girl in the Crowd",
          "Josser on the Farm",
          "Lady in Danger",
          "One Hour Late",
          "The Page of the Hotel Dalmasse",
          "Strange Wives",
          "Gay Love",
          "Ist mein Mann nicht fabelhaft?",
          "Trouble Ahead",
          "The Soaring Maiden",
          "The New Relative",
          "On Our Selection",
          "Victoria and Her Hussar",
          "The Two Seals",
          "Odds 777",
          "Strictly Business",
          "Noedebo Vicarage",
          "Oh Those Glorious Old Student Days",
          "Powder and Petrol",
          "Susanne macht Ordnung",
          "L'aviateur",
          "Der Herr Finanzdirektor",
          "Hurra - ein Junge!",
          "Tante Gusti kommandiert",
          "Eight Days of Happiness",
          "Mein Leopold",
          "Opera Ball",
          "Le père célibataire",
          "Quick",
          "The Champion Shot",
          "Mein Liebster ist ein Jägersmann",
          "Two Hearts Beat as One",
          "Diggers in Blighty",
          "Les carottiers",
          "Shout It from the House Tops",
          "A Pair o' Dice",
          "Une petite femme dans le train",
          "¿Conoces a tu mujer?",
          "Don Juan diplomático",
          "Die Herren vom Maxim",
          "Der Tanzhusar",
          "The Unknown Guest",
          "Le bluffeur",
          "La fruta amarga",
          "Hay que casar al príncipe",
          "The Heroic Lover",
          "Locuras de amor",
          "Love on Skis",
          "Follow the Lady",
          "Der falsche Feldmarschall",
          "No Exit",
          "Le gendre de Monsieur Poirier",
          "She Was Only a Village Maiden",
          "Sometimes Good",
          "Une femme a passé",
          "Casanova wider Willen",
          "Televiziune",
          "L'abbé Constantin",
          "Mi último amor",
          "The King of the Gate Crashers",
          "Beauty Cult",
          "Stolen Wednesday",
          "Le bonheur",
          "Goodbye Beautiful Days",
          "Jsem devce s certem v tele",
          "Co mój maz robi w nocy",
          "Is Lucyna a Girl?",
          "Il est charmant",
          "His Excellency, the Shop Assistant",
          "Le masque d'Hollywood",
          "Radio Parade",
          "L'athlète incomplet",
          "The Blarney Kiss",
          "Buster se marie",
          "Le plombier amoureux",
          "Mind the Paint",
          "Weaker Sex",
          "Slightly Married",
          "The Jumping Jack",
          "Companion Wanted",
          "...und das ist die Hauptsache!?",
          "Une nuit de folies",
          "French Leave",
          "A Star Disappears",
          "Swinging the Lead",
          "Almost a Divorce",
          "American Love",
          "Ask Beccles",
          "The Fortunate Fool",
          "The Last Bohemian",
          "His Wife's Mother",
          "Lord of the Manor",
          "The Love Nest",
          "The Love Wager",
          "Life Is a Dog",
          "Night and Day",
          "My Old Duchess",
          "The Pride of the Force",
          "Rolling in Money",
          "The Twelve Chairs",
          "Business in Distress",
          "Adjutant to His Highness",
          "The Inspector General",
          "La garnison amoureuse",
          "The Heroic Captain Korkorán",
          "J'ai une idée",
          "Le cavalier Lafleur",
          "Ces messieurs de la Santé",
          "Le coq du régiment",
          "Coeurs joyeux",
          "In Old Alsace",
          "Su última noche",
          "Les bleus de la marine",
          "Bric à Brac et compagnie",
          "Le train de huit heures quarante-sept",
          "Rive gauche",
          "With Assurance",
          "Magie moderne",
          "Quand te tues-tu?",
          "Si j'étais le patron",
          "Un chien qui rapporte",
          "La banque Nemo",
          "Échec au roi",
          "The Sweetness of Loving",
          "Swiat bez granic",
          "Televisione",
          "Un homme en habit",
          "L'amour guide",
          "I'll Be Alone After Midnight",
          "Mirages de Paris",
          "Dancing",
          "Le bidon d'or",
          "My Cousin from Warsaw",
          "L'âne de Buridan",
          "Miquette et sa mère",
          "Tartarin de Tarascon",
          "Chérie",
          "My Heart Hesitates",
          "Aces of the Turf",
          "The Bad Companions",
          "Prince de minuit",
          "Yes, Madam",
          "Una viuda romántica",
          "Amor audaz",
          "Freed 'em and Weep",
          "Jede Frau hat etwas",
          "El príncipe gondolero",
          "Tell Me Tonight",
          "De frente, marchen",
          "The Levy Department Stores",
          "Tu seras Duchesse",
          "Chercheuses d'or",
          "Un hombre de suerte",
          "El príncipe del dólar",
          "Así es la vida",
          "Garde la bombe",
          "Primavera en otoño",
          "Joy Ride",
          "Estrellados",
          "Feu mon oncle",
          "Le joueur de golf",
          "Noche de duendes",
          "Los presidiarios",
          "Flower of Hawaii",
          "The Road to Paradise",
          "Kísértetek vonata",
          "A Safe Proposition",
          "Tricks of Life",
          "Roman einer Nacht",
          "Laubenkolonie",
          "Prince of the Tramps",
          "Apaches of Athens",
          "Miss Lawyer",
          "Farewell to Poverty",
          "Kiss Me, Maritsa",
          "The Clown of Life",
          "In the Waves of Bosphorus",
          "Carnival of Love",
          "Everything for the Woman",
          "Lost Money",
          "On a trouvé une femme nue",
          "Prince Seppl",
          "My Grandmother",
          "The Private Secretary Gets Married",
          "Jede Frau hat ein Geheimnis",
          "Maiden vs. Monk",
          "The Double Fiance",
          "The Innocent Country Girl",
          "The Cheeky Devil",
          "The Four Musketeers",
          "Wrong Number, Miss",
          "Manoeuver Time Is Fine",
          "Wochenend im Paradies",
          "Das Nachtigall Mädel",
          "Ich geh' aus und Du bleibst da",
          "Purpur und Waschblau",
          "The Witty Sorcerer",
          "The Merry Monarch",
          "House of Horror",
          "Ringing the Changes",
          "Niebezpieczny raj",
          "A Woman Who Knows What She Wants",
          "Soyons gais",
          "Chaplin, Why Do You Cry?",
          "Appearance of the Boy Genji",
          "Boule de gomme",
          "Bob Nelson",
          "Craig Campbell",
          "Emil Boreo",
          "A Quiet flirt",
          "Cupido Chauffeur",
          "Entre platos y notas",
          "Harlem Revue",
          "My Hat",
          "Nearly Naked",
          "The Self-Seeker",
          "The Little Rascals: Superstars of Our Gang",
          "The Little Rascals: Classic and Hidden Episodes",
          "Nick's Knickers",
          "Shadows of Broadway"
         ],
         "legendgroup": "Comedy",
         "marker": {
          "color": "#19d3f3",
          "line": {
           "color": "DarkSlateGrey",
           "width": 0.5
          },
          "opacity": 0.9,
          "size": 6,
          "symbol": "circle"
         },
         "mode": "markers",
         "name": "Comedy",
         "showlegend": true,
         "type": "scattergl",
         "x": [
          0.7222936,
          2.049142,
          35.11481,
          0.7222936,
          -25.23042,
          41.97089,
          1.1640952,
          -1.0129468,
          0.053143766,
          9.406359,
          1.0954361,
          0.053143766,
          0.15073638,
          13.774654,
          -2.3691516,
          -0.33576125,
          15.936178,
          -6.147705,
          2.3275447,
          -2.5493498,
          0.38724247,
          -1.6888756,
          33.53007,
          -25.358154,
          7.08971,
          -28.858318,
          -21.463829,
          37.946507,
          36.13517,
          6.370442,
          0.3646477,
          1.4747419,
          1.6528945,
          -16.545612,
          2.5672774,
          18.648058,
          -10.719211,
          -19.32183,
          36.872585,
          -1.6446769,
          -3.1522791,
          -2.956831,
          -0.8745053,
          6.435386,
          0.013640612,
          36.81626,
          -2.8757248,
          -3.1522791,
          -23.478725,
          -3.1522791,
          0.053143766,
          37.4606,
          0.43829447,
          -0.05850409,
          -4.015979,
          24.778069,
          -0.05850409,
          -25.766045,
          -0.05850409,
          -0.05850409,
          -0.05850409,
          -26.65719,
          -0.05850409,
          -0.05850409,
          -0.05850409,
          -0.05850409,
          -15.52494,
          -0.05850409,
          28.417364,
          -0.05850409,
          15.672984,
          -0.05850409,
          0.053143766,
          -0.05850409,
          -0.05850409,
          32.546387,
          -0.05850409,
          5.4309254,
          1.16213,
          33.80612,
          17.549438,
          -8.376052,
          -19.53302,
          -0.05850409,
          0.6898663,
          -22.697048,
          -5.2592874,
          0.053143766,
          34.059696,
          -0.05850409,
          -13.584582,
          38.785244,
          36.296837,
          -0.05850409,
          -0.05850409,
          -16.86789,
          -0.05850409,
          -0.05850409,
          -0.05850409,
          -1.8208439,
          29.70676,
          -0.05850409,
          -0.05850409,
          -2.8278782,
          -1.5081669,
          -0.05850409,
          -0.05850409,
          16.912666,
          9.916737,
          40.412807,
          -0.05850409,
          -25.866817,
          -23.003113,
          15.191258,
          -0.05850409,
          -27.070337,
          -3.0137243,
          -0.05850409,
          30.459175,
          -10.008582,
          36.822025,
          -0.05850409,
          -13.74416,
          -6.692195,
          33.697845,
          11.644254,
          -0.05850409,
          23.76756,
          39.148727,
          -24.47316,
          -26.500446,
          8.632082,
          -7.8998113,
          -0.05850409,
          -0.05850409,
          -27.221584,
          -0.05850409,
          -0.05850409,
          -29.558928,
          -15.002043,
          -10.419259,
          -26.802744,
          -0.05850409,
          -0.05850409,
          -0.05850409,
          -9.617823,
          7.4254336,
          -10.3399725,
          15.245206,
          5.862239,
          7.9082747,
          35.642437,
          -0.05850409,
          -22.615192,
          -8.162694,
          -26.630249,
          -0.05850409,
          -17.774689,
          36.73284,
          -1.166856,
          -0.05850409,
          -10.512967,
          -2.8506503,
          -25.121244,
          -2.4450383,
          8.131924,
          -14.396984,
          -21.679071,
          -9.926963,
          -0.05850409,
          -34.85166,
          21.925482,
          4.7322764,
          -20.90597,
          -34.163315,
          36.859516,
          -0.05850409,
          -0.05850409,
          -2.1240911,
          -17.173143,
          -4.094509,
          6.517518,
          -12.575407,
          -0.05850409,
          0.36979562,
          -0.05850409,
          -0.05850409,
          37.240417,
          -28.939777,
          -14.218289,
          3.2196875,
          -15.000653,
          -0.05850409,
          -0.05850409,
          38.01084,
          -28.887123,
          -0.05850409,
          -0.05850409,
          -0.05850409,
          -15.415006,
          -0.05850409,
          -0.05850409,
          2.8497357,
          0.053143766,
          -0.05850409,
          -19.338806,
          -9.519993,
          -0.05850409,
          -23.468243,
          -11.917331,
          -0.05850409,
          -21.125893,
          -21.493238,
          -10.912995,
          -0.05850409,
          12.118937,
          -28.996407,
          -16.465403,
          -4.65352,
          -27.23403,
          -21.6839,
          10.462828,
          7.9606757,
          10.07193,
          -30.14067,
          -6.847029,
          -0.05850409,
          -8.120749,
          39.110016,
          -28.69431,
          8.081962,
          -0.05850409,
          -0.05850409,
          36.996883,
          -0.05850409,
          -28.644512,
          -0.19352077,
          -10.920062,
          -0.05850409,
          -0.05850409,
          -2.376508,
          -0.364658,
          -14.543682,
          -0.05850409,
          1.5294069,
          -9.48023,
          -0.05850409,
          22.917686,
          -0.05850409,
          -13.506287,
          -0.1996511,
          -9.239531,
          4.482995,
          -26.730892,
          3.4339414,
          15.044775,
          -0.05850409,
          -26.063913,
          -0.05850409,
          -10.215874,
          -27.271408,
          -2.8977091,
          -0.05850409,
          -0.05850409,
          -6.4247694,
          -0.05850409,
          7.6270576,
          -0.05850409,
          -0.30891576,
          3.1012201,
          36.402344,
          -12.344105,
          2.0609698,
          -1.3416327,
          8.4289465,
          36.754578,
          -0.05850409,
          -0.05850409,
          -0.05850409,
          -26.658047,
          -0.05850409,
          -11.544751,
          -0.05850409,
          -0.05850409,
          -3.1034017,
          -25.022568,
          -31.39749,
          20.162712,
          -31.404652,
          34.800602,
          -0.05850409,
          -0.05850409,
          -25.62725,
          -0.05850409,
          -35.214237,
          -24.836027,
          -0.05850409,
          -1.6895491,
          -25.101664,
          -10.636236,
          -0.05850409,
          -2.339059,
          -0.05850409,
          -4.345759,
          -3.4497852,
          -0.05850409,
          -17.096958,
          -0.05850409,
          15.020751,
          38.01084,
          8.082649,
          -28.399004,
          -0.05850409,
          28.594988,
          -12.479998,
          -25.228636,
          10.188007,
          -22.155098,
          -29.656904,
          -13.372155,
          -13.183643,
          7.150797,
          22.180363,
          -0.05850409,
          -2.8169558,
          24.478603,
          9.731821,
          -0.05850409,
          -0.05850409,
          -0.05850409,
          -19.34382,
          3.3149025,
          15.605082,
          -0.6772416,
          -9.557155,
          -11.45856,
          -0.05850409,
          9.789302,
          -15.424316,
          -31.341673,
          4.1440015,
          6.833395,
          -17.698238,
          -20.721563,
          9.238019,
          -27.179758,
          -0.05850409,
          3.7641249,
          -0.05850409,
          -4.9094,
          -10.741638,
          14.273693,
          -32.138687,
          -14.612062,
          -0.05850409,
          -9.329061,
          -26.604593,
          7.313462,
          -1.9605265,
          -0.05850409,
          -0.05850409,
          1.1718566,
          -0.05850409,
          -0.05850409,
          -23.955416,
          35.324184,
          -0.05850409,
          -28.815083,
          38.025097,
          -0.05850409,
          -0.05850409,
          -0.05850409,
          -3.1317043,
          -0.05850409,
          -9.687376,
          -0.05850409,
          -11.741131,
          40.881847,
          -30.49329,
          -10.023293,
          -0.05850409,
          -0.05850409,
          34.433083,
          -1.7542562,
          -46.85057,
          4.9623036,
          -0.05850409,
          -21.154161,
          -0.05850409,
          14.283309,
          -20.326532,
          1.3221314,
          -0.05850409,
          -6.79605,
          -17.601398,
          -0.05850409,
          -0.05850409,
          -27.30143,
          6.7778535,
          -6.27676,
          -11.040809,
          -0.05850409,
          -22.013914,
          33.684708,
          -0.26440343,
          -28.59843,
          -4.080222,
          38.010815,
          -20.707996,
          6.373196,
          -29.72012,
          -0.05850409,
          -20.903887,
          -0.05850409,
          -0.05850409,
          -0.05850409,
          17.310026,
          3.3416173,
          -0.05850409,
          -29.316101,
          -8.703386,
          33.746986,
          -18.1591,
          -17.89438,
          25.125408,
          -24.995766,
          -11.148539,
          6.359278,
          24.652992,
          -0.05850409,
          14.05367,
          -18.502954,
          -15.243576,
          32.17394,
          -11.656041,
          -0.05850409,
          -26.503618,
          -22.421257,
          -29.686274,
          -0.05850409,
          0.09415658,
          -26.59042,
          -0.7884379,
          12.754508,
          -0.05850409,
          -15.235227,
          26.71469,
          -0.05850409,
          -17.340221,
          8.633113,
          -0.05850409,
          0.09415658,
          -8.058266,
          -0.05850409,
          -0.05850409,
          2.6492908,
          -0.05850409,
          -27.067305,
          -0.05850409,
          8.364473,
          -0.05850409,
          -8.669015,
          -27.070246,
          -0.05850409,
          -0.05850409,
          -10.06084,
          -13.273071,
          -15.518978,
          -2.2568996,
          -21.272524,
          9.16835,
          -0.05850409,
          2.5814497,
          1.0330248,
          6.645504,
          -0.05850409,
          1.9492605,
          -11.625688,
          -0.05850409,
          -0.05850409,
          -35.729256,
          -26.533047,
          -11.347325,
          0.09415658,
          -7.145313,
          -0.05850409,
          11.16737,
          24.552626,
          -17.649033,
          24.71242,
          -4.28767,
          -24.464993,
          7.6130238,
          -0.05850409,
          -0.05850409,
          -23.973671,
          1.9315004,
          4.493086,
          -27.61238,
          -6.777988,
          8.083462,
          6.7680144,
          -0.05850409,
          -28.13172,
          -0.05850409,
          -0.05850409,
          -35.08072,
          -4.388422,
          -0.05850409,
          -0.05850409,
          -15.751673,
          -19.012308,
          -0.05850409,
          -3.037684,
          -33.07463,
          0.09415658,
          -4.1258235,
          -8.68415,
          -0.05850409,
          -0.05850409,
          -0.05850409,
          24.183609,
          1.1628526,
          -9.807783,
          0.030581463,
          -0.05850409,
          -26.813948,
          30.293646,
          -10.391624,
          -7.2916203,
          -18.856535,
          -0.05850409,
          -0.05850409,
          -36.108494,
          -8.700897,
          5.223173,
          28.377548,
          -0.05850409,
          -18.458302,
          -10.720544,
          -17.233871,
          -16.77135,
          -0.05850409,
          -0.05850409,
          -27.446518,
          -2.3145432,
          -20.48254,
          17.858992,
          -0.05850409,
          20.158556,
          3.7183113,
          -0.05850409,
          -6.5310802,
          -8.114236,
          -24.092352,
          -23.994886,
          -14.251201,
          -8.873552,
          -18.931284,
          38.677345,
          -0.05850409,
          -0.05850409,
          -0.05850409,
          -0.05850409,
          -3.9237993,
          -0.05850409,
          -27.728941,
          -0.05850409,
          -7.0030475,
          -0.05850409,
          -0.05850409,
          16.843784,
          -0.05850409,
          -14.563691,
          -0.05850409,
          -0.05850409,
          -10.384137,
          -0.05850409,
          -0.05850409,
          20.805538,
          -3.9518929,
          -36.151897,
          -21.689514,
          -0.05850409,
          -0.05850409,
          -16.278946,
          -6.8930454,
          30.86286,
          14.549006,
          -27.798233,
          -0.05850409,
          13.209863,
          -24.791044,
          -0.05850409,
          -8.125778,
          -0.05850409,
          35.600044,
          4.832686,
          5.5851245,
          -0.05850409,
          -7.2530985,
          -0.05850409,
          0.09415658,
          5.230715,
          -0.05850409,
          -9.817234,
          -0.61967844,
          -12.489456,
          -5.8954024,
          -14.864969,
          -27.371536,
          -0.05850409,
          -0.05850409,
          -0.05850409,
          -0.05850409,
          2.7838986,
          40.066998,
          -22.629858,
          42.242886,
          41.858368,
          -0.05850409,
          -20.876593,
          -30.392738,
          -2.1878188,
          11.339107,
          -0.05850409,
          -28.009733,
          -28.488478,
          -16.2999,
          -22.187016,
          -25.842155,
          20.210506,
          -13.805435,
          -0.05850409,
          -0.05850409,
          -6.3449473,
          0.09415658,
          -4.238991,
          0.09415658,
          -0.05850409,
          -18.566416,
          3.4499671,
          -11.206468,
          -2.1571312,
          -9.255459,
          -7.6382637,
          -10.046337,
          -0.05850409,
          22.927954,
          -17.914925,
          -27.76077,
          -0.05850409,
          -0.05850409,
          -0.05850409,
          0.09415658,
          -8.039463,
          -7.614952,
          -9.480709,
          -18.430708,
          -1.1696757,
          -0.05850409,
          -23.9965,
          -26.508059,
          -8.923317,
          8.378408,
          -13.820368,
          -0.05850409,
          -20.348595,
          -0.05850409,
          11.657239,
          4.0705705,
          -4.0304904,
          -20.740196,
          -0.05850409,
          12.748828,
          -0.05850409,
          -0.05850409,
          -0.05850409,
          -0.05850409,
          -21.835138,
          -0.05850409,
          2.7611182,
          -24.688635,
          -10.770041,
          -0.05850409,
          -0.05850409,
          -0.05850409,
          -0.05850409,
          5.967829,
          30.66202,
          -0.05850409,
          -0.05850409,
          -21.125788,
          -6.154442,
          -10.8612795,
          13.9007635,
          -10.493086,
          -0.05850409,
          -0.05850409,
          -17.047567,
          0.09415658,
          -0.05850409,
          -0.05850409,
          -0.05850409,
          -5.714142,
          -23.344955,
          -0.05850409,
          -0.05850409,
          -12.1970215,
          -21.27995,
          -0.05850409,
          -0.05850409,
          -19.422537,
          -9.073136,
          -0.05850409,
          -0.05850409,
          -0.05850409,
          -0.05850409,
          -21.113419,
          0.09415658,
          -10.227693,
          -26.029366,
          4.016365,
          -23.68717,
          -21.208189,
          -25.011642,
          17.80786,
          -29.208235,
          -12.316929,
          0.010499991,
          -16.043718,
          -5.7609887,
          -14.866335,
          14.859316,
          -17.836304,
          -0.05850409,
          0.30285415,
          -11.781666,
          -15.421668,
          -11.3885565,
          -0.05850409,
          -0.05850409,
          0.09415658,
          -8.796433,
          1.1543413,
          -0.05850409,
          -38.034695,
          -18.288935,
          -0.05850409,
          -30.263899,
          -14.808823,
          6.2985954,
          -0.05850409,
          -13.165286,
          -0.05850409,
          21.2002,
          -21.277441,
          -21.83518,
          -0.05850409,
          17.026318,
          14.910916,
          -28.24561,
          -0.05850409,
          -0.05850409,
          -0.05850409,
          -0.05850409,
          -9.563995,
          -11.683884,
          -27.673525,
          -0.05850409,
          -26.290316,
          -9.247926,
          -14.867683,
          -0.05850409,
          -0.05850409,
          1.1592746,
          23.166595,
          -32.610836,
          -14.790384,
          -2.7798398,
          5.6944866,
          -1.528609,
          -23.457502,
          -32.030914,
          -0.05850409,
          0.09415658,
          7.594657,
          10.688081,
          -8.904956,
          4.039608,
          4.903662,
          30.177382,
          10.429316,
          15.966576,
          -32.6257,
          -11.791354,
          11.255349,
          -0.05850409,
          22.158457,
          -2.492031,
          0.38766915,
          6.011604,
          0.7574163,
          -0.05850409,
          -0.05850409,
          -7.974119,
          -0.05850409,
          0.09415658,
          13.507857,
          0.74899244,
          5.6985464,
          -0.05850409,
          -0.05850409,
          -0.05850409,
          -0.05850409,
          -5.315473,
          -10.270276,
          -0.05850409,
          -0.05850409,
          -0.05850409,
          32.17899,
          -0.05850409,
          -27.738853,
          -0.05850409,
          -4.992874,
          0.09415658,
          -0.05850409,
          -7.952477,
          18.810163,
          -20.36319,
          5.9566836,
          -11.18577,
          29.92781,
          -0.05850409,
          -7.792686,
          7.046112,
          -21.488056,
          -13.7301655,
          8.815675,
          -0.05850409,
          -14.4323435,
          12.498701,
          17.038935,
          10.190371,
          -9.319954,
          -14.884404,
          6.118223,
          -8.76249,
          -5.2940617,
          9.286257,
          -0.05850409,
          10.016935,
          -30.036295,
          -0.05850409,
          -13.399537,
          -17.776,
          -0.05850409,
          -22.415615,
          3.228602,
          -1.0392096,
          -0.05850409,
          16.197094,
          -12.6619,
          1.0219929,
          6.352574,
          36.701565,
          -0.05850409,
          7.5363183,
          6.030462,
          -0.05850409,
          -0.05850409,
          -5.4947386,
          -0.05850409,
          6.694489,
          2.881258,
          -0.05850409,
          -0.05850409,
          -0.05850409,
          -0.97129345,
          -28.677572,
          8.474182,
          -1.1696757,
          3.1208045,
          -0.36008137,
          9.000785,
          -0.05850409,
          4.746177,
          -9.090391,
          6.3460317,
          -5.5924993,
          -0.05850409,
          -0.05850409,
          -10.491672,
          5.99395,
          -12.531401,
          -0.5712001,
          -0.05850409,
          -28.427286,
          -4.599989,
          -0.05850409,
          3.136185,
          -3.779921,
          -30.118952,
          -3.3710287,
          2.7786062,
          -0.05850409,
          -0.05850409,
          -0.05850409,
          -29.708254,
          -0.05850409,
          -29.421503,
          -0.05850409,
          -0.05850409,
          5.5373125,
          23.296001,
          -0.05850409,
          -0.05850409,
          14.548635,
          5.2137547,
          0.503271,
          1.9106393,
          5.0119286,
          -0.05850409,
          -0.05850409,
          -36.113747,
          -0.05850409,
          -11.917156,
          15.0631,
          -28.857473,
          23.393276,
          -0.05850409,
          5.557006,
          -22.702036,
          -0.05850409,
          -0.05850409,
          -7.034617,
          -35.19949,
          -0.05850409,
          -14.487829,
          -9.075758,
          -14.665565,
          -0.05850409,
          -26.21122,
          -0.05850409,
          -13.878877,
          -0.05850409,
          -26.909424,
          3.4502826,
          -0.05850409,
          -0.05850409,
          -28.936815,
          16.233292,
          -0.05850409,
          -18.86215,
          -21.070225,
          13.1933365,
          -0.05850409,
          -0.05850409,
          -7.391945,
          -13.076684,
          -0.05850409,
          0.09415658,
          -4.534528,
          -3.967834,
          -0.05850409,
          -18.4939,
          -12.576466,
          -14.334016,
          0.09415658,
          -0.05850409,
          -16.929792,
          -0.05850409,
          5.62129,
          29.445942,
          -28.16404,
          32.03699,
          -13.811852,
          -0.05850409,
          -0.05850409,
          0.09415658,
          1.5341146,
          -10.493154,
          -0.05850409,
          -0.05850409,
          -0.05850409,
          -0.05850409,
          -0.05850409,
          -0.05850409,
          -0.05850409,
          -0.05850409,
          -0.05850409,
          -0.05850409,
          -0.05850409,
          -0.05850409,
          5.9898105,
          -0.05850409,
          -0.05850409,
          -0.05850409,
          -0.05850409,
          -0.05850409,
          0.09415658,
          -0.05850409,
          -0.05850409,
          -0.05850409,
          -0.05850409,
          -0.05850409,
          -0.05850409,
          -0.05850409,
          -0.05850409,
          -0.05850409,
          -0.05850409,
          38.010883,
          -0.05850409,
          0.09415658,
          -0.05850409,
          -0.05850409,
          -0.05850409,
          -0.05850409,
          -0.05850409,
          -0.05850409,
          -0.05850409,
          -0.05850409,
          37.10933,
          0.09415658,
          -0.05850409,
          0.09415658,
          -0.05850409,
          -0.05850409,
          -0.05850409,
          13.862769,
          -0.05850409,
          0.09415658,
          4.4270205,
          -0.05850409,
          0.09415658,
          -0.05850409,
          0.09415658,
          -0.05850409,
          -0.05850409,
          -0.05850409,
          -0.05850409,
          -0.05850409,
          8.632359,
          -0.05850409,
          29.634464,
          -0.05850409,
          -0.05850409,
          -0.05850409,
          -0.05850409,
          -0.05850409,
          -0.05850409,
          -0.05850409,
          -0.05850409,
          -0.05850409,
          -0.05850409,
          -7.285536,
          -0.05850409,
          -0.05850409,
          1.180731,
          -0.05850409,
          -0.05850409,
          -0.05850409,
          0.09415658,
          -0.05850409,
          -0.05850409,
          -0.05850409,
          -0.05850409,
          16.398102,
          -0.05850409,
          7.705532,
          -0.05850409,
          0.09415658,
          -0.05850409,
          -0.05850409,
          -0.05850409,
          -0.05850409,
          -0.05850409,
          13.774852,
          8.6333885,
          8.633117,
          8.732679,
          -0.05850409,
          -0.05850409,
          -0.05850409,
          -0.05850409,
          -0.05850409,
          -0.05850409,
          -0.05850409,
          -23.341084,
          -0.05850409,
          -0.05850409,
          -0.05850409,
          -0.05850409,
          -0.05850409,
          -0.05850409,
          37.325985,
          -0.05850409,
          -0.05850409,
          -0.05850409,
          12.1458845,
          -0.05850409,
          -0.05850409,
          -0.05850409,
          0.09415658,
          -0.05850409,
          -0.05850409,
          -0.05850409,
          -0.05850409,
          0.09415658,
          -0.05850409,
          8.6337385,
          -0.05850409,
          -0.05850409,
          13.846753,
          -0.05850409,
          -0.05850409,
          -0.05850409,
          30.6084,
          -0.05850409,
          0.09415658,
          -0.05850409,
          -0.05850409,
          0.09415658,
          -0.05850409,
          0.09415658,
          -0.05850409,
          -0.05850409,
          -0.05850409,
          -0.05850409,
          -0.05850409,
          0.09415658,
          -0.05850409,
          -0.05850409,
          -0.05850409,
          0.09415658,
          -0.05850409,
          3.2295184,
          0.09415658,
          -0.05850409,
          38.011032,
          0.09415658,
          3.334738,
          -0.05850409,
          24.90582,
          -0.05850409,
          -0.05850409,
          -0.05850409,
          -0.05850409,
          0.09415658,
          1.0038954,
          -0.05850409,
          0.09415658,
          -0.05850409,
          -0.05850409,
          0.09415658,
          -0.05850409,
          0.09415658,
          0.09415658,
          -0.05850409,
          -0.05850409,
          30.92114,
          -0.05850409,
          -0.05850409,
          -0.05850409,
          -0.05850409,
          -0.05850409,
          -0.05850409,
          0.09415658,
          -0.05850409,
          -0.05850409,
          -0.05850409,
          -0.05850409,
          -0.05850409,
          -0.05850409,
          -0.05850409,
          0.09415658,
          -0.05850409,
          0.09415658,
          -0.05850409,
          8.633117,
          -0.05850409,
          0.09415658,
          0.09415658,
          -0.05850409,
          0.09415658,
          0.09415658,
          0.09415658,
          -0.05850409,
          0.09415658,
          0.09415658,
          -0.05850409,
          0.09415658,
          4.689858,
          -0.05850409,
          0.09415658,
          0.09415658,
          -0.05850409,
          41.309925
         ],
         "xaxis": "x",
         "y": [
          33.744328,
          75.46859,
          -31.216934,
          33.744328,
          -33.27309,
          -34.42946,
          -49.814606,
          -45.835484,
          74.79034,
          -36.928722,
          33.87028,
          74.79034,
          33.6477,
          -51.132206,
          34.666096,
          33.651485,
          -28.027647,
          -21.726925,
          34.786556,
          34.887608,
          33.6749,
          34.097504,
          -37.5589,
          -33.55257,
          -13.734388,
          -21.771585,
          -6.77599,
          -39.416733,
          -32.198307,
          -32.170364,
          33.67075,
          34.05778,
          34.17034,
          -2.8627605,
          35.1251,
          -2.9054122,
          -2.7531695,
          -48.85389,
          -35.69894,
          34.071507,
          36.494583,
          35.619827,
          -46.03362,
          -0.20985693,
          -36.589718,
          -37.7278,
          -22.419123,
          36.494583,
          -8.23213,
          36.494583,
          74.79034,
          -13.442014,
          -52.46873,
          36.81693,
          -20.728886,
          -3.6227942,
          36.81693,
          -13.23413,
          36.81693,
          36.81693,
          36.81693,
          -35.973007,
          36.81693,
          36.81693,
          36.81693,
          36.81693,
          -3.1586611,
          36.81693,
          -10.666445,
          36.81693,
          -27.481972,
          36.81693,
          74.79034,
          36.81693,
          36.81693,
          -41.866386,
          36.81693,
          -41.430714,
          -49.815403,
          -31.014965,
          -13.097916,
          -48.998627,
          -41.233997,
          36.81693,
          -53.01083,
          -7.43202,
          -7.8765464,
          74.79034,
          -0.7457679,
          36.81693,
          -1.2884884,
          -29.751324,
          -31.288635,
          36.81693,
          36.81693,
          -8.849601,
          36.81693,
          36.81693,
          36.81693,
          -42.87089,
          -39.90071,
          36.81693,
          36.81693,
          -48.434772,
          -35.385918,
          36.81693,
          36.81693,
          -35.80095,
          1.3845276,
          -33.922077,
          36.81693,
          -41.266293,
          -7.858631,
          -16.486015,
          36.81693,
          -31.125906,
          -43.977024,
          36.81693,
          -24.045986,
          -37.286293,
          -35.77928,
          36.81693,
          -40.0356,
          -51.37277,
          -1.5240333,
          -12.846233,
          36.81693,
          -3.9938097,
          -26.471157,
          -29.340836,
          -33.09159,
          -50.79041,
          -47.39815,
          36.81693,
          36.81693,
          -34.668644,
          36.81693,
          36.81693,
          -28.694483,
          -44.696915,
          -45.440804,
          -31.163122,
          36.81693,
          36.81693,
          36.81693,
          -52.31173,
          -27.015032,
          -48.952263,
          -27.929663,
          -43.101227,
          -36.777393,
          0.90986013,
          36.81693,
          -7.485612,
          -48.870758,
          -32.553852,
          36.81693,
          -12.661096,
          -38.327606,
          -51.079327,
          36.81693,
          -44.117046,
          -43.339165,
          -13.471157,
          -49.261456,
          -32.57207,
          -40.219803,
          -8.112965,
          -48.353283,
          36.81693,
          -29.45293,
          -25.624737,
          -37.035206,
          -32.017593,
          -29.737108,
          -27.779177,
          36.81693,
          36.81693,
          -23.543774,
          -37.73507,
          -51.126137,
          -52.321,
          -16.55815,
          36.81693,
          -36.4076,
          36.81693,
          36.81693,
          -35.828453,
          -23.885405,
          -11.573801,
          -47.354,
          -25.350672,
          36.81693,
          36.81693,
          -11.126449,
          -35.467194,
          36.81693,
          36.81693,
          36.81693,
          -24.235521,
          36.81693,
          36.81693,
          -19.661165,
          74.79034,
          36.81693,
          -48.824726,
          -47.983433,
          36.81693,
          -14.17475,
          -46.447536,
          36.81693,
          -19.097042,
          -9.239284,
          -30.362823,
          36.81693,
          0.6661095,
          -30.121206,
          -9.156633,
          -51.283962,
          -31.768225,
          -35.057423,
          1.6036705,
          -36.623283,
          -26.323603,
          -39.17514,
          -51.260887,
          36.81693,
          -50.551132,
          -26.605783,
          -17.914747,
          -10.589327,
          36.81693,
          36.81693,
          -29.84531,
          36.81693,
          -17.766146,
          -8.464202,
          -37.243843,
          36.81693,
          36.81693,
          -21.029606,
          -38.095657,
          -27.274351,
          36.81693,
          -36.008377,
          -48.812714,
          36.81693,
          -22.121078,
          36.81693,
          -31.404078,
          -39.455322,
          -45.62937,
          -35.06708,
          -33.84887,
          -49.890415,
          -26.980312,
          36.81693,
          -31.47459,
          36.81693,
          -30.371977,
          -33.937885,
          -36.793625,
          36.81693,
          36.81693,
          -22.171337,
          36.81693,
          -48.11757,
          36.81693,
          -39.01688,
          -47.488716,
          -30.708492,
          -43.147747,
          -50.83366,
          -37.71675,
          -35.29154,
          -32.03387,
          36.81693,
          36.81693,
          36.81693,
          -15.268217,
          36.81693,
          -26.33041,
          36.81693,
          36.81693,
          -35.49279,
          -22.645567,
          -29.549797,
          0.58510166,
          -27.753218,
          -42.94137,
          36.81693,
          36.81693,
          -32.970943,
          36.81693,
          -37.78991,
          -19.009007,
          36.81693,
          -35.063286,
          -38.298725,
          -39.798203,
          36.81693,
          -23.34188,
          36.81693,
          -3.6933806,
          -55.440945,
          36.81693,
          -30.21107,
          36.81693,
          -46.574585,
          -11.126449,
          -10.588507,
          -37.214127,
          36.81693,
          -42.382195,
          -56.453983,
          -26.77117,
          -49.64622,
          -35.178543,
          -30.641626,
          -1.142523,
          -8.000547,
          -47.93181,
          -7.6794534,
          36.81693,
          -41.128002,
          -44.92317,
          -50.66157,
          36.81693,
          36.81693,
          36.81693,
          -23.49355,
          -54.968,
          -46.779423,
          2.3580701,
          -20.954418,
          -2.8108265,
          36.81693,
          -9.299348,
          -9.483269,
          -27.867119,
          -31.629745,
          -22.812862,
          -41.003574,
          -19.819569,
          -51.886833,
          -32.42959,
          36.81693,
          -41.86291,
          36.81693,
          -2.9218655,
          -36.722385,
          -47.43202,
          -20.775776,
          -22.983006,
          36.81693,
          -47.694374,
          -34.621094,
          -51.547474,
          -42.94706,
          36.81693,
          36.81693,
          -49.84324,
          36.81693,
          36.81693,
          -17.239462,
          -30.1995,
          36.81693,
          -21.249922,
          -40.63077,
          36.81693,
          36.81693,
          36.81693,
          -22.125088,
          36.81693,
          -33.101097,
          36.81693,
          -9.274036,
          -33.56511,
          -13.723051,
          -1.0608851,
          36.81693,
          36.81693,
          -25.922441,
          -51.23951,
          -52.5296,
          -50.04192,
          36.81693,
          -41.395023,
          36.81693,
          -28.58037,
          -19.247807,
          -9.465135,
          36.81693,
          -38.272327,
          -21.320131,
          36.81693,
          36.81693,
          -33.44794,
          -1.2074599,
          -25.047964,
          -5.3167715,
          36.81693,
          -11.076871,
          1.6280261,
          -37.733376,
          -17.698055,
          -8.070217,
          -11.126418,
          -10.680331,
          -32.231598,
          -15.923955,
          36.81693,
          -36.54842,
          36.81693,
          36.81693,
          36.81693,
          -28.664364,
          -47.334377,
          36.81693,
          -25.325954,
          -50.9667,
          1.5510422,
          -9.623507,
          -35.754974,
          -4.6005793,
          -14.923318,
          -36.079292,
          -32.303154,
          -4.174664,
          36.81693,
          -14.668587,
          -14.431011,
          -27.74206,
          -40.10709,
          -46.414165,
          36.81693,
          -10.612985,
          -41.435623,
          -36.349064,
          36.81693,
          77.94953,
          -31.215658,
          -48.174026,
          -42.983704,
          36.81693,
          -16.590477,
          -5.55282,
          36.81693,
          -37.691723,
          -50.788822,
          36.81693,
          77.94953,
          -25.589394,
          36.81693,
          36.81693,
          -9.85962,
          36.81693,
          -38.82101,
          36.81693,
          -52.60658,
          36.81693,
          -49.174953,
          -39.57305,
          36.81693,
          36.81693,
          -20.061485,
          -1.1499907,
          -10.6731205,
          -36.28833,
          -18.624918,
          -13.399663,
          36.81693,
          -54.760387,
          -46.84115,
          -34.77029,
          36.81693,
          -22.1862,
          -48.27847,
          36.81693,
          36.81693,
          -34.16456,
          -33.933777,
          -21.64264,
          77.94953,
          -32.179127,
          36.81693,
          -9.2515545,
          -45.24457,
          -9.689469,
          -3.9402397,
          -39.46279,
          -13.638872,
          -30.85756,
          36.81693,
          36.81693,
          -29.303207,
          -43.737057,
          -42.14601,
          -32.81789,
          -46.031437,
          -10.589222,
          -27.123394,
          36.81693,
          -27.788761,
          36.81693,
          36.81693,
          -29.213598,
          -52.980545,
          36.81693,
          36.81693,
          -28.526896,
          -10.93781,
          36.81693,
          -23.44322,
          -32.20287,
          77.94953,
          -13.251745,
          -14.576886,
          36.81693,
          36.81693,
          36.81693,
          -45.34696,
          -49.82572,
          -21.337934,
          -40.629154,
          36.81693,
          -32.39465,
          -29.971865,
          -39.82759,
          -18.463167,
          -10.765001,
          36.81693,
          36.81693,
          -26.979815,
          -50.966507,
          -18.527792,
          -29.804142,
          36.81693,
          -14.534811,
          -30.93118,
          -20.96133,
          -20.603022,
          36.81693,
          36.81693,
          -33.690605,
          -50.63119,
          -42.322395,
          -39.8763,
          36.81693,
          0.5566142,
          -17.208979,
          36.81693,
          -9.432635,
          -32.176525,
          -10.835936,
          -29.214785,
          -9.057173,
          -10.590977,
          -9.772404,
          -11.758595,
          36.81693,
          36.81693,
          36.81693,
          36.81693,
          -34.532124,
          36.81693,
          -32.237755,
          36.81693,
          -46.11985,
          36.81693,
          36.81693,
          -24.077726,
          36.81693,
          -4.947352,
          36.81693,
          36.81693,
          -49.55756,
          36.81693,
          36.81693,
          -6.936989,
          -15.066843,
          -26.85659,
          -13.97804,
          36.81693,
          36.81693,
          -12.344203,
          21.52555,
          -42.521706,
          -48.324905,
          -43.18092,
          36.81693,
          -47.902702,
          -12.864637,
          36.81693,
          -52.26225,
          36.81693,
          -10.326278,
          -50.084606,
          -22.478973,
          36.81693,
          -32.08789,
          36.81693,
          77.94953,
          -47.744904,
          36.81693,
          -27.56487,
          18.640442,
          -8.3991785,
          -6.5626497,
          -48.001534,
          -29.710201,
          36.81693,
          36.81693,
          36.81693,
          36.81693,
          -19.234766,
          -34.71017,
          -30.781044,
          -25.811846,
          -37.063324,
          36.81693,
          -13.879585,
          -32.863586,
          -45.41613,
          -30.30236,
          36.81693,
          -33.39643,
          -18.331257,
          -12.44395,
          -34.92747,
          -21.447517,
          0.52519876,
          -11.020128,
          36.81693,
          36.81693,
          -36.100624,
          77.94953,
          -3.5920916,
          77.94953,
          36.81693,
          -9.977499,
          -8.346436,
          -38.14504,
          -45.706493,
          -48.62386,
          -47.021645,
          -11.859528,
          36.81693,
          -27.598886,
          -23.364965,
          -34.558365,
          36.81693,
          36.81693,
          36.81693,
          77.94953,
          -44.57419,
          -16.81459,
          -48.811394,
          -11.51931,
          -1.3186784,
          36.81693,
          -24.616425,
          -37.50463,
          -42.466064,
          -10.531978,
          -40.39487,
          36.81693,
          -22.203968,
          36.81693,
          -30.966728,
          -5.221927,
          -15.655414,
          -18.859068,
          36.81693,
          -29.968082,
          36.81693,
          36.81693,
          36.81693,
          36.81693,
          -55.670544,
          36.81693,
          -41.63409,
          -30.391302,
          -1.6412225,
          36.81693,
          36.81693,
          36.81693,
          36.81693,
          -17.525394,
          -9.825343,
          36.81693,
          36.81693,
          -19.097374,
          -19.591387,
          -14.175711,
          -14.388531,
          -1.9708154,
          36.81693,
          36.81693,
          -27.051422,
          77.94953,
          36.81693,
          36.81693,
          36.81693,
          -6.6909356,
          -6.1980233,
          36.81693,
          36.81693,
          -47.51932,
          -43.312378,
          36.81693,
          36.81693,
          -13.232407,
          -34.49335,
          36.81693,
          36.81693,
          36.81693,
          36.81693,
          -27.5194,
          77.94953,
          -25.204006,
          -12.856398,
          -8.071704,
          -7.243511,
          -13.634172,
          -14.973949,
          -37.812817,
          -24.41109,
          -46.334194,
          -36.924004,
          -44.652245,
          -47.290897,
          -49.873524,
          -26.682058,
          -45.009815,
          36.81693,
          -8.455241,
          -45.843273,
          -6.0923986,
          -46.92401,
          36.81693,
          36.81693,
          77.94953,
          -38.797287,
          -49.809216,
          36.81693,
          -36.244884,
          -11.083782,
          36.81693,
          -19.489464,
          -34.73839,
          -0.14614433,
          36.81693,
          -13.626535,
          36.81693,
          -27.476376,
          -19.718296,
          -36.016926,
          36.81693,
          -17.86079,
          -29.712837,
          -34.25829,
          36.81693,
          36.81693,
          36.81693,
          36.81693,
          -37.451145,
          -4.064529,
          -14.521631,
          36.81693,
          -17.18859,
          -23.995382,
          -19.524136,
          36.81693,
          36.81693,
          -49.920536,
          -2.6669748,
          -39.00228,
          -16.449493,
          -36.760986,
          -50.293232,
          -5.690554,
          -13.398199,
          -37.30064,
          36.81693,
          77.94953,
          -52.64092,
          -30.521742,
          -46.553352,
          -31.240816,
          -31.65328,
          -0.6456021,
          -29.93077,
          -29.68532,
          -39.001064,
          -46.68854,
          -15.188253,
          36.81693,
          -21.379444,
          -41.040676,
          -20.90662,
          -43.189888,
          -50.84593,
          36.81693,
          36.81693,
          -47.5671,
          36.81693,
          77.94953,
          -32.236656,
          -20.419909,
          -17.713482,
          36.81693,
          36.81693,
          36.81693,
          36.81693,
          -46.966755,
          -47.556503,
          36.81693,
          36.81693,
          36.81693,
          -33.356304,
          36.81693,
          -14.8027725,
          36.81693,
          -5.1426015,
          77.94953,
          36.81693,
          -42.672222,
          -12.794976,
          -18.611326,
          -45.592045,
          -48.284977,
          -38.051453,
          36.81693,
          -40.687504,
          -0.5162647,
          -18.364725,
          0.4231757,
          -13.339114,
          36.81693,
          -11.578729,
          -51.190475,
          -28.408987,
          -30.870655,
          -21.39878,
          -40.224102,
          -17.412485,
          -47.484898,
          -49.31242,
          -31.644474,
          36.81693,
          1.3116143,
          -38.85306,
          36.81693,
          -13.727594,
          -11.052338,
          36.81693,
          -13.4753065,
          -24.429882,
          -21.532713,
          36.81693,
          1.1616583,
          -17.479084,
          -46.519012,
          -32.23252,
          -40.583626,
          36.81693,
          -31.022314,
          -41.925766,
          36.81693,
          36.81693,
          -17.708559,
          36.81693,
          -9.775623,
          -19.59229,
          36.81693,
          36.81693,
          36.81693,
          -36.33213,
          -31.84584,
          -34.871857,
          -1.3186784,
          -59.212032,
          -35.453026,
          -24.921608,
          36.81693,
          -31.541357,
          -48.3541,
          -26.855581,
          -3.7689407,
          36.81693,
          36.81693,
          -45.612175,
          3.7853498,
          -23.233456,
          -50.039776,
          36.81693,
          -33.115025,
          -22.364521,
          36.81693,
          -9.660511,
          -21.358482,
          -39.10427,
          -22.167973,
          -55.261547,
          36.81693,
          36.81693,
          36.81693,
          -23.354017,
          36.81693,
          -24.08544,
          36.81693,
          36.81693,
          -26.69904,
          -38.478012,
          36.81693,
          36.81693,
          -39.62782,
          -41.591854,
          -1.2988774,
          -32.185352,
          -31.705286,
          36.81693,
          36.81693,
          -26.975985,
          36.81693,
          -46.44726,
          -26.782528,
          -32.045403,
          -19.612143,
          36.81693,
          -48.437126,
          -7.208206,
          36.81693,
          36.81693,
          -22.390793,
          -21.934324,
          36.81693,
          -40.641212,
          -41.560295,
          -19.288189,
          36.81693,
          -29.320467,
          36.81693,
          -48.248543,
          36.81693,
          -39.42566,
          -2.057473,
          36.81693,
          36.81693,
          -32.60365,
          -21.035667,
          36.81693,
          -9.398971,
          -21.41645,
          -29.9362,
          36.81693,
          36.81693,
          -48.70841,
          -46.388348,
          36.81693,
          77.94953,
          -3.6557496,
          -15.1601305,
          36.81693,
          -41.231365,
          -16.919735,
          -6.1293254,
          77.94953,
          36.81693,
          -10.190847,
          36.81693,
          -39.84363,
          -26.852045,
          -27.90441,
          -27.35268,
          -10.481508,
          36.81693,
          36.81693,
          77.94953,
          -37.279118,
          -1.97074,
          36.81693,
          36.81693,
          36.81693,
          36.81693,
          36.81693,
          36.81693,
          36.81693,
          36.81693,
          36.81693,
          36.81693,
          36.81693,
          36.81693,
          3.794306,
          36.81693,
          36.81693,
          36.81693,
          36.81693,
          36.81693,
          77.94953,
          36.81693,
          36.81693,
          36.81693,
          36.81693,
          36.81693,
          36.81693,
          36.81693,
          36.81693,
          36.81693,
          36.81693,
          -11.126486,
          36.81693,
          77.94953,
          36.81693,
          36.81693,
          36.81693,
          36.81693,
          36.81693,
          36.81693,
          36.81693,
          36.81693,
          -30.959698,
          77.94953,
          36.81693,
          77.94953,
          36.81693,
          36.81693,
          36.81693,
          -22.817892,
          36.81693,
          77.94953,
          -42.3341,
          36.81693,
          77.94953,
          36.81693,
          77.94953,
          36.81693,
          36.81693,
          36.81693,
          36.81693,
          36.81693,
          -50.790188,
          36.81693,
          -15.924126,
          36.81693,
          36.81693,
          36.81693,
          36.81693,
          36.81693,
          36.81693,
          36.81693,
          36.81693,
          36.81693,
          36.81693,
          -11.991603,
          36.81693,
          36.81693,
          -49.989338,
          36.81693,
          36.81693,
          36.81693,
          77.94953,
          36.81693,
          36.81693,
          36.81693,
          36.81693,
          -41.629066,
          36.81693,
          -50.641273,
          36.81693,
          77.94953,
          36.81693,
          36.81693,
          36.81693,
          36.81693,
          36.81693,
          -51.132164,
          -50.789448,
          -50.78956,
          -48.976086,
          36.81693,
          36.81693,
          36.81693,
          36.81693,
          36.81693,
          36.81693,
          36.81693,
          -6.238547,
          36.81693,
          36.81693,
          36.81693,
          36.81693,
          36.81693,
          36.81693,
          -31.834745,
          36.81693,
          36.81693,
          36.81693,
          -55.416462,
          36.81693,
          36.81693,
          36.81693,
          77.94953,
          36.81693,
          36.81693,
          36.81693,
          36.81693,
          77.94953,
          36.81693,
          -50.7892,
          36.81693,
          36.81693,
          -46.774002,
          36.81693,
          36.81693,
          36.81693,
          -38.475105,
          36.81693,
          77.94953,
          36.81693,
          36.81693,
          77.94953,
          36.81693,
          77.94953,
          36.81693,
          36.81693,
          36.81693,
          36.81693,
          36.81693,
          77.94953,
          36.81693,
          36.81693,
          36.81693,
          77.94953,
          36.81693,
          -43.82948,
          77.94953,
          36.81693,
          -11.126469,
          77.94953,
          -54.949608,
          36.81693,
          -31.760134,
          36.81693,
          36.81693,
          36.81693,
          36.81693,
          77.94953,
          -58.061607,
          36.81693,
          77.94953,
          36.81693,
          36.81693,
          77.94953,
          36.81693,
          77.94953,
          77.94953,
          36.81693,
          36.81693,
          -39.48743,
          36.81693,
          36.81693,
          36.81693,
          36.81693,
          36.81693,
          36.81693,
          77.94953,
          36.81693,
          36.81693,
          36.81693,
          36.81693,
          36.81693,
          36.81693,
          36.81693,
          77.94953,
          36.81693,
          77.94953,
          36.81693,
          -50.78956,
          36.81693,
          77.94953,
          77.94953,
          36.81693,
          77.94953,
          77.94953,
          77.94953,
          36.81693,
          77.94953,
          77.94953,
          36.81693,
          77.94953,
          -29.155373,
          36.81693,
          77.94953,
          77.94953,
          36.81693,
          -29.163359
         ],
         "yaxis": "y"
        },
        {
         "customdata": [
          [
           1929,
           "not_found"
          ],
          [
           1929,
           "not_found"
          ],
          [
           1929,
           "not_found"
          ],
          [
           1929,
           "not_found"
          ],
          [
           1929,
           "south seas lost film"
          ],
          [
           1929,
           "not_found"
          ],
          [
           1929,
           ""
          ],
          [
           1929,
           "not_found"
          ],
          [
           1929,
           "not_found"
          ],
          [
           1929,
           ""
          ],
          [
           1929,
           "not_found"
          ],
          [
           1929,
           "not_found"
          ],
          [
           1929,
           "not_found"
          ],
          [
           1929,
           "not_found"
          ],
          [
           1929,
           "lost film"
          ],
          [
           1929,
           "not_found"
          ],
          [
           1929,
           "not_found"
          ],
          [
           1929,
           ""
          ],
          [
           1929,
           "not_found"
          ],
          [
           1929,
           ""
          ],
          [
           1930,
           "not_found"
          ],
          [
           1931,
           ""
          ],
          [
           1930,
           ""
          ],
          [
           1930,
           "not_found"
          ],
          [
           1931,
           ""
          ],
          [
           1930,
           ""
          ],
          [
           1930,
           "not_found"
          ],
          [
           1930,
           "not_found"
          ],
          [
           1930,
           "not_found"
          ],
          [
           1931,
           "not_found"
          ],
          [
           1931,
           ""
          ],
          [
           1931,
           "not_found"
          ],
          [
           1931,
           "not_found"
          ],
          [
           1932,
           "partially lost soundtrack"
          ],
          [
           1931,
           "not_found"
          ],
          [
           1932,
           ""
          ],
          [
           1931,
           ""
          ],
          [
           1931,
           ""
          ],
          [
           1931,
           "not_found"
          ],
          [
           1931,
           "not_found"
          ],
          [
           1931,
           "not_found"
          ],
          [
           1931,
           ""
          ],
          [
           1931,
           "not_found"
          ],
          [
           1931,
           "silent film"
          ],
          [
           1932,
           "not_found"
          ],
          [
           1932,
           ""
          ],
          [
           1932,
           "not_found"
          ],
          [
           1932,
           ""
          ],
          [
           1932,
           ""
          ],
          [
           1932,
           ""
          ],
          [
           1932,
           "not_found"
          ],
          [
           1932,
           "based on novel or book"
          ],
          [
           1933,
           ""
          ],
          [
           1932,
           ""
          ],
          [
           1932,
           ""
          ],
          [
           1932,
           "not_found"
          ],
          [
           1932,
           "not_found"
          ],
          [
           1932,
           "not_found"
          ],
          [
           1933,
           ""
          ],
          [
           1932,
           ""
          ],
          [
           1932,
           "not_found"
          ],
          [
           1931,
           "not_found"
          ],
          [
           1932,
           "not_found"
          ],
          [
           1932,
           "not_found"
          ],
          [
           1932,
           ""
          ],
          [
           1932,
           "not_found"
          ],
          [
           1932,
           "marriage"
          ],
          [
           1933,
           ""
          ],
          [
           1933,
           "not_found"
          ],
          [
           1933,
           "not_found"
          ],
          [
           1934,
           "not_found"
          ],
          [
           1933,
           ""
          ],
          [
           1933,
           ""
          ],
          [
           1933,
           "not_found"
          ],
          [
           1933,
           ""
          ],
          [
           1933,
           ""
          ],
          [
           1933,
           ""
          ],
          [
           1933,
           ""
          ],
          [
           1933,
           ""
          ],
          [
           1933,
           ""
          ],
          [
           1934,
           ""
          ],
          [
           1934,
           "not_found"
          ],
          [
           1933,
           ""
          ],
          [
           1933,
           "not_found"
          ],
          [
           1931,
           ""
          ],
          [
           1933,
           ""
          ],
          [
           1934,
           ""
          ],
          [
           1933,
           "not_found"
          ],
          [
           1933,
           ""
          ],
          [
           1933,
           "not_found"
          ],
          [
           1933,
           "not_found"
          ],
          [
           1934,
           ""
          ],
          [
           1934,
           ""
          ],
          [
           1934,
           "not_found"
          ],
          [
           1934,
           "not_found"
          ],
          [
           1934,
           ""
          ],
          [
           1934,
           ""
          ],
          [
           1932,
           ""
          ],
          [
           1934,
           "not_found"
          ],
          [
           1933,
           ""
          ],
          [
           1934,
           "not_found"
          ],
          [
           1934,
           "not_found"
          ],
          [
           1933,
           ""
          ],
          [
           1932,
           ""
          ],
          [
           1934,
           ""
          ],
          [
           1934,
           "not_found"
          ],
          [
           1934,
           ""
          ],
          [
           1934,
           "not_found"
          ],
          [
           1934,
           ""
          ],
          [
           1934,
           ""
          ],
          [
           1934,
           ""
          ],
          [
           1934,
           "not_found"
          ],
          [
           1934,
           "not_found"
          ],
          [
           1934,
           ""
          ],
          [
           1934,
           "not_found"
          ],
          [
           1934,
           ""
          ],
          [
           1934,
           ""
          ],
          [
           1934,
           "not_found"
          ],
          [
           1934,
           ""
          ],
          [
           1934,
           ""
          ],
          [
           1934,
           ""
          ],
          [
           1933,
           "not_found"
          ],
          [
           1930,
           "not_found"
          ],
          [
           1930,
           "not_found"
          ],
          [
           1930,
           "not_found"
          ],
          [
           1932,
           "not_found"
          ],
          [
           1931,
           "not_found"
          ],
          [
           1932,
           "not_found"
          ],
          [
           1932,
           ""
          ],
          [
           1934,
           ""
          ],
          [
           1933,
           ""
          ],
          [
           1931,
           "not_found"
          ],
          [
           1933,
           ""
          ],
          [
           1931,
           ""
          ],
          [
           1929,
           "lost film"
          ],
          [
           1931,
           "not_found"
          ],
          [
           1931,
           ""
          ],
          [
           1934,
           ""
          ],
          [
           1930,
           "not_found"
          ],
          [
           1933,
           ""
          ],
          [
           1931,
           "not_found"
          ],
          [
           1932,
           "not_found"
          ],
          [
           1929,
           ""
          ],
          [
           1934,
           ""
          ],
          [
           1933,
           "not_found"
          ],
          [
           1931,
           ""
          ],
          [
           1934,
           ""
          ],
          [
           1934,
           ""
          ],
          [
           1934,
           ""
          ],
          [
           1931,
           ""
          ],
          [
           1934,
           "not_found"
          ],
          [
           1934,
           "not_found"
          ],
          [
           1934,
           ""
          ],
          [
           1931,
           ""
          ],
          [
           1930,
           ""
          ],
          [
           1933,
           "biography great depression president"
          ],
          [
           1932,
           ""
          ],
          [
           1929,
           "sequel lost film"
          ],
          [
           1929,
           "based on novel or book espionage"
          ],
          [
           1934,
           "not_found"
          ],
          [
           1933,
           "not_found"
          ],
          [
           1929,
           ""
          ],
          [
           1931,
           ""
          ],
          [
           1930,
           ""
          ],
          [
           1929,
           ""
          ],
          [
           1932,
           ""
          ],
          [
           1931,
           ""
          ],
          [
           1933,
           ""
          ],
          [
           1934,
           "not_found"
          ],
          [
           1933,
           ""
          ],
          [
           1931,
           "not_found"
          ],
          [
           1930,
           ""
          ],
          [
           1931,
           "lost film"
          ],
          [
           1931,
           "not_found"
          ],
          [
           1931,
           ""
          ],
          [
           1931,
           "not_found"
          ],
          [
           1931,
           "lost film"
          ],
          [
           1930,
           "not_found"
          ],
          [
           1930,
           ""
          ],
          [
           1932,
           ""
          ],
          [
           1931,
           "not_found"
          ],
          [
           1929,
           "not_found"
          ],
          [
           1933,
           "based on play or musical"
          ],
          [
           1933,
           ""
          ],
          [
           1932,
           "not_found"
          ],
          [
           1934,
           ""
          ],
          [
           1933,
           ""
          ],
          [
           1931,
           "not_found"
          ],
          [
           1929,
           "not_found"
          ],
          [
           1934,
           "not_found"
          ],
          [
           1934,
           ""
          ],
          [
           1932,
           "not_found"
          ],
          [
           1932,
           "not_found"
          ],
          [
           1934,
           ""
          ],
          [
           1929,
           "not_found"
          ],
          [
           1932,
           "dancer"
          ],
          [
           1934,
           ""
          ],
          [
           1930,
           ""
          ],
          [
           1929,
           "not_found"
          ],
          [
           1934,
           ""
          ],
          [
           1930,
           "not_found"
          ],
          [
           1931,
           "not_found"
          ],
          [
           1932,
           "not_found"
          ],
          [
           1934,
           ""
          ],
          [
           1932,
           "not_found"
          ],
          [
           1933,
           ""
          ],
          [
           1934,
           ""
          ],
          [
           1934,
           ""
          ],
          [
           1934,
           ""
          ],
          [
           1934,
           ""
          ],
          [
           1934,
           ""
          ],
          [
           1934,
           ""
          ],
          [
           1933,
           ""
          ],
          [
           1933,
           ""
          ],
          [
           1933,
           ""
          ],
          [
           1933,
           ""
          ],
          [
           1933,
           ""
          ],
          [
           1932,
           ""
          ],
          [
           1933,
           ""
          ],
          [
           1931,
           ""
          ],
          [
           1932,
           ""
          ],
          [
           1932,
           ""
          ],
          [
           1931,
           ""
          ],
          [
           1931,
           ""
          ],
          [
           1930,
           ""
          ],
          [
           1934,
           ""
          ],
          [
           1933,
           "not_found"
          ],
          [
           1934,
           ""
          ],
          [
           1929,
           "not_found"
          ],
          [
           1932,
           ""
          ],
          [
           1934,
           "not_found"
          ],
          [
           1932,
           ""
          ],
          [
           1934,
           "not_found"
          ],
          [
           1931,
           "not_found"
          ],
          [
           1933,
           "not_found"
          ],
          [
           1931,
           "not_found"
          ],
          [
           1932,
           "not_found"
          ],
          [
           1934,
           "not_found"
          ],
          [
           1930,
           ""
          ],
          [
           1932,
           "not_found"
          ],
          [
           1930,
           "not_found"
          ],
          [
           1930,
           "not_found"
          ],
          [
           1929,
           ""
          ],
          [
           1933,
           ""
          ],
          [
           1930,
           "not_found"
          ],
          [
           1933,
           "not_found"
          ],
          [
           1933,
           "not_found"
          ]
         ],
         "hovertemplate": "<b>%{hovertext}</b><br><br>primary_genre=Unknown<br>startYear=%{customdata[0]}<br>keywords=%{customdata[1]}<extra></extra>",
         "hovertext": [
          "Alpine Tale",
          "Black Hills",
          "Broken Hearted",
          "The Clean-Up",
          "The Devil's Apple Tree",
          "Golden Bridle",
          "Triumph of Love",
          "King of the Mountain",
          "Knee High",
          "Masquerade",
          "A Modern Sappho",
          "Motoring Thru Spain",
          "My Favorite Wife",
          "One Gun Ginsburg",
          "One Splendid Hour",
          "The Pleasant Sin",
          "Sculptor's Dream",
          "His Best Friend",
          "Synthetic Wife",
          "Why Cry at Parting?",
          "Song of the Day",
          "Before the Jury",
          "Doktorns hemlighet",
          "Duckling Duty",
          "Den farliga leken",
          "Suburban Districts",
          "The Master Sweeper",
          "Pineapples",
          "To the Last Man",
          "Bag o' Tricks",
          "Cham",
          "A Dama Que Ri",
          "His People",
          "The Land of Oz, a Sequel to the 'Wizard of Oz'",
          "Lo mejor es reir",
          "The Isle of Lies",
          "The Company's Mother",
          "Neck and Neck",
          "The New Yorker",
          "Shulamith",
          "Sleepy Head",
          "Su noche de bodas",
          "The Tiger's Son",
          "Zapomnite ikh litsa",
          "50-50",
          "Annemarie, the Bride of the Company",
          "Deported",
          "Number Three Cavalryman",
          "For Once I'd Like to Have No Troubles",
          "Mrs. Lehmann's Daughters",
          "Free to Talk",
          "Hunted Men",
          "The Big Bluff",
          "Countess Mariza",
          "Viennese Waltz",
          "Josef in Micraim",
          "Long Loop Laramie",
          "Mad Masquerade",
          "Mater dolorosa",
          "When Hearts Meet",
          "Plainsclothes Man",
          "La pura verdad",
          "The Road North",
          "Second Fiddle",
          "Teilnehmer antwortet nicht",
          "That's My Baby",
          "Wayward",
          "Abel with the Mouth Organ",
          "The Constant Wife",
          "Death Watch",
          "Two Women and One Don Juan",
          "Gretl Wins First Prize",
          "The Country Schoolmaster",
          "I'll Stick to You",
          "Inge and the Millions",
          "A Prince's Young Love",
          "Child, I'm Happy on Your Coming",
          "The Song of Happiness",
          "Love, Honor and Oh, Baby!",
          "The Lake Calls",
          "Mother and Child",
          "Hatred",
          "My Little One",
          "Rare Auto and Travel Thrills",
          "The Fate of Renate Langen",
          "The Castle in the South",
          "A Prisoner Has Escaped",
          "Somewhere in Arizona",
          "Susana Has a Secret",
          "Soldier and Girl",
          "A Quarter Hour of City Statistics",
          "Love and Alarum",
          "The Mountain Pass of Love and Hate",
          "Búzavirág",
          "He Who Disappeared",
          "Spring Fairy Tale",
          "Prince Woronzeff",
          "The Lucky Top Hat",
          "Granaderos del amor",
          "Home on the Rhine",
          "Hell in Heaven",
          "The Jinpu Group",
          "Koliyivshchyna",
          "Liebe in Uniform",
          "Love and the First Railroad",
          "Life Is Worth Living",
          "Decoy",
          "Molly and Me",
          "Ein Mädel wirbelt durch die Welt",
          "Parade of the Reservists",
          "The Matchmaker",
          "The Passion Play",
          "Sailor Made Widow",
          "Bashful Felix",
          "Song at Eventide",
          "Playing with Fire",
          "Man's Way with Women",
          "Tin Pants",
          "Zwischen zwei Herzen",
          "Hen Pecked Husbands",
          "Stupid Mama",
          "Conquerors of the Night",
          "Eternal Fools",
          "Joseph and His Brethren",
          "My Jewish Mother",
          "The Sacrifice of Isaac",
          "Shulamis",
          "Marido y mujer",
          "How Shall I Tell My Husband?",
          "Gypsy Blood",
          "A Woman Like You",
          "El comediante",
          "Simone est comme ça",
          "Boudoir diplomatique",
          "Hardboiled",
          "La dama atrevida",
          "En cada puerto un amor",
          "Old Comrades",
          "The Leather Pushers",
          "Les Amoureux",
          "El proceso de Mary Dugan",
          "The Weekend",
          "Beheading Place",
          "The Girl Friend of a Big Man",
          "Trouble",
          "The Love Race",
          "Lost in the Legion",
          "Prosperity Crooks",
          "The House on the Dune",
          "A Brother's Revenge",
          "Strange As It Seems #36",
          "Strange As It Seems #37",
          "Brook",
          "Cheri-Bibi",
          "Sevilla de mis amores",
          "The Fighting President",
          "Pas de femmes",
          "The Honeymoon",
          "Adventures Inc.",
          "Cafe Universal",
          "Love Passes By",
          "Sowing the Wind",
          "Mardi Gras",
          "The Waltz King",
          "Slashing Swords",
          "An Auto and No Money",
          "Échec et mat",
          "Three Imperial Light Infantrymen",
          "His Majesty's Adjutant",
          "The Regiment's Daughter",
          "Un caballero de frac",
          "El Dios del mar",
          "La fiesta del diablo",
          "Gente alegre",
          "Ich heirate meinen Mann",
          "La incorregible",
          "Salga de la cocina",
          "Perché no?",
          "Az orvos titka",
          "Dreamers of Glory",
          "El Tenorio del harem",
          "Goddess of Luck",
          "Song of the Lark",
          "Mannequins",
          "An Old City Speaks",
          "It's Great to Be in Love",
          "Die vom Niederrhein",
          "Goodbye Kingship",
          "Hello, Bill",
          "House of Dreams",
          "Sultana",
          "Flame of Love",
          "Lure of Gold",
          "Invitation to the Dance",
          "Century Daredevil",
          "Der tolle Bomberg",
          "Die Stimme der Liebe",
          "Cinema Girl",
          "The Symbolesque",
          "I Sing Myself Into Thy Heart",
          "Tonka of the Gallows",
          "Imperial Valley",
          "The Sacred Ganges",
          "The Tannhof Women",
          "A Soldier's Love Is True Indeed",
          "The Master Detective",
          "With You through Thick and Thin",
          "At the Blond Katherine's",
          "Enjoy Yourselves",
          "My Wife the Champion Shot",
          "Die vier Musketiere",
          "If I Were King",
          "Zwei im Sonnenschein",
          "A Trip to the Country",
          "The Sandwich Girl",
          "Money Governs the World",
          "Wenn am Sonntagabend die Dorfmusik spielt",
          "Marion, That's Not Nice",
          "A Thousand for One Night",
          "Madame Bluebeard",
          "Death Over Shanghai",
          "At Your Orders, Sergeant",
          "Duty Is Duty",
          "Wenn die Soldaten...",
          "Der Korvettenkapitän",
          "Army Life - Cheerful Life",
          "Sita Swayamvar",
          "George and Georgette",
          "Some Night",
          "The Man Who Doesn't Know to Say No",
          "The Streets of London",
          "Can't You Just Leave Me Out?",
          "Dixie Love",
          "Hell's Alley",
          "King for a Day",
          "Romantic Lovers",
          "Shanghai",
          "Phantom of the Hills",
          "Love and Champagne",
          "Sentimental Kiss",
          "The Rise and Fall of the Shinsengumi Part 2",
          "The Rise and Fall of the Shinsengumi Part 1",
          "Samurai Town Story Part II",
          "Phantom of Kenwood",
          "Rebirth of the Capital",
          "Kikugorô koshi kohen",
          "The Tattooed Gambler"
         ],
         "legendgroup": "Unknown",
         "marker": {
          "color": "#FF6692",
          "line": {
           "color": "DarkSlateGrey",
           "width": 0.5
          },
          "opacity": 0.9,
          "size": 6,
          "symbol": "circle"
         },
         "mode": "markers",
         "name": "Unknown",
         "showlegend": true,
         "type": "scattergl",
         "x": [
          2.049142,
          2.049142,
          0.053143766,
          2.049142,
          32.587704,
          2.049142,
          1.8485172,
          0.053143766,
          0.053143766,
          -0.05850409,
          0.053143766,
          0.053143766,
          0.053143766,
          0.053143766,
          35.11095,
          0.7321287,
          0.053143766,
          -0.05850409,
          0.053143766,
          -0.05850409,
          0.053143766,
          -0.05850409,
          -0.05850409,
          0.053143766,
          -0.05850409,
          -0.05850409,
          0.053143766,
          0.053143766,
          0.09415658,
          0.053143766,
          -0.05850409,
          0.053143766,
          0.09415658,
          37.833763,
          0.09415658,
          -0.05850409,
          -0.05850409,
          -0.05850409,
          0.09415658,
          0.09415658,
          0.09415658,
          -0.05850409,
          0.09415658,
          30.921467,
          0.09415658,
          -0.05850409,
          0.09415658,
          -0.05850409,
          -0.05850409,
          -0.05850409,
          0.09415658,
          13.846717,
          -0.05850409,
          -0.05850409,
          -0.05850409,
          0.09415658,
          0.09415658,
          0.09415658,
          -0.05850409,
          -0.05850409,
          0.09415658,
          0.09415658,
          0.09415658,
          0.09415658,
          -0.05850409,
          0.09415658,
          -22.697418,
          -0.05850409,
          0.09415658,
          0.09415658,
          0.09415658,
          -0.05850409,
          -0.05850409,
          0.09415658,
          -0.05850409,
          -0.05850409,
          -0.05850409,
          -0.05850409,
          -0.05850409,
          -0.05850409,
          -0.05850409,
          0.09415658,
          -0.05850409,
          0.09415658,
          -0.05850409,
          -0.05850409,
          -0.05850409,
          0.09415658,
          -0.05850409,
          0.09415658,
          0.09415658,
          -0.05850409,
          -0.05850409,
          0.09415658,
          0.09415658,
          -0.05850409,
          -0.05850409,
          -0.05850409,
          0.09415658,
          -0.05850409,
          0.09415658,
          0.09415658,
          -0.05850409,
          -0.05850409,
          -0.05850409,
          0.09415658,
          -0.05850409,
          0.09415658,
          -0.05850409,
          -0.05850409,
          -0.05850409,
          0.09415658,
          0.09415658,
          -0.05850409,
          0.09415658,
          -0.05850409,
          -0.05850409,
          0.09415658,
          -0.05850409,
          -0.05850409,
          -0.05850409,
          0.09415658,
          0.09415658,
          0.09415658,
          0.09415658,
          0.09415658,
          0.09415658,
          0.09415658,
          -0.05850409,
          -0.05850409,
          -0.05850409,
          0.09415658,
          -0.05850409,
          -0.05850409,
          37.5979,
          0.09415658,
          -0.05850409,
          -0.05850409,
          0.09415658,
          -0.05850409,
          0.09415658,
          0.09415658,
          -0.05850409,
          -0.05850409,
          0.09415658,
          -0.05850409,
          -0.05850409,
          -0.05850409,
          -0.05850409,
          -0.05850409,
          0.09415658,
          0.09415658,
          -0.05850409,
          -0.05850409,
          -0.05850409,
          -7.1332216,
          -0.05850409,
          42.398636,
          13.826772,
          0.09415658,
          0.09415658,
          -0.05850409,
          -0.05850409,
          -0.05850409,
          -0.05850409,
          -0.05850409,
          -0.05850409,
          -0.05850409,
          0.09415658,
          -0.05850409,
          0.09415658,
          -0.05850409,
          37.66092,
          0.09415658,
          -0.05850409,
          0.09415658,
          37.67004,
          0.09415658,
          -0.05850409,
          -0.05850409,
          0.09415658,
          0.09415658,
          8.633117,
          -0.05850409,
          0.09415658,
          -0.05850409,
          -0.05850409,
          0.09415658,
          0.09415658,
          0.09415658,
          -0.05850409,
          0.09415658,
          0.09415658,
          -0.05850409,
          0.09415658,
          5.679161,
          -0.05850409,
          -0.05850409,
          0.09415658,
          -0.05850409,
          0.09415658,
          0.09415658,
          0.09415658,
          -0.05850409,
          0.09415658,
          -0.05850409,
          -0.05850409,
          -0.05850409,
          -0.05850409,
          -0.05850409,
          -0.05850409,
          -0.05850409,
          -0.05850409,
          -0.05850409,
          -0.05850409,
          -0.05850409,
          -0.05850409,
          -0.05850409,
          -0.05850409,
          -0.05850409,
          -0.05850409,
          -0.05850409,
          -0.05850409,
          -0.05850409,
          -0.05850409,
          -0.05850409,
          0.09415658,
          -0.05850409,
          0.09415658,
          -0.05850409,
          0.09415658,
          -0.05850409,
          0.09415658,
          0.09415658,
          0.09415658,
          0.09415658,
          0.09415658,
          0.09415658,
          -0.05850409,
          0.09415658,
          0.09415658,
          0.09415658,
          -0.05850409,
          -0.05850409,
          0.09415658,
          0.09415658,
          0.09415658
         ],
         "xaxis": "x",
         "y": [
          75.46859,
          75.46859,
          74.79034,
          75.46859,
          -33.17337,
          75.46859,
          34.3136,
          74.79034,
          74.79034,
          36.81693,
          74.79034,
          74.79034,
          74.79034,
          74.79034,
          -30.71373,
          72.16862,
          74.79034,
          36.81693,
          74.79034,
          36.81693,
          74.79034,
          36.81693,
          36.81693,
          74.79034,
          36.81693,
          36.81693,
          74.79034,
          74.79034,
          77.94953,
          74.79034,
          36.81693,
          74.79034,
          77.94953,
          -35.409245,
          77.94953,
          36.81693,
          36.81693,
          36.81693,
          77.94953,
          77.94953,
          77.94953,
          36.81693,
          77.94953,
          -39.487427,
          77.94953,
          36.81693,
          77.94953,
          36.81693,
          36.81693,
          36.81693,
          77.94953,
          -46.77292,
          36.81693,
          36.81693,
          36.81693,
          77.94953,
          77.94953,
          77.94953,
          36.81693,
          36.81693,
          77.94953,
          77.94953,
          77.94953,
          77.94953,
          36.81693,
          77.94953,
          -7.431739,
          36.81693,
          77.94953,
          77.94953,
          77.94953,
          36.81693,
          36.81693,
          77.94953,
          36.81693,
          36.81693,
          36.81693,
          36.81693,
          36.81693,
          36.81693,
          36.81693,
          77.94953,
          36.81693,
          77.94953,
          36.81693,
          36.81693,
          36.81693,
          77.94953,
          36.81693,
          77.94953,
          77.94953,
          36.81693,
          36.81693,
          77.94953,
          77.94953,
          36.81693,
          36.81693,
          36.81693,
          77.94953,
          36.81693,
          77.94953,
          77.94953,
          36.81693,
          36.81693,
          36.81693,
          77.94953,
          36.81693,
          77.94953,
          36.81693,
          36.81693,
          36.81693,
          77.94953,
          77.94953,
          36.81693,
          77.94953,
          36.81693,
          36.81693,
          77.94953,
          36.81693,
          36.81693,
          36.81693,
          77.94953,
          77.94953,
          77.94953,
          77.94953,
          77.94953,
          77.94953,
          77.94953,
          36.81693,
          36.81693,
          36.81693,
          77.94953,
          36.81693,
          36.81693,
          -30.570866,
          77.94953,
          36.81693,
          36.81693,
          77.94953,
          36.81693,
          77.94953,
          77.94953,
          36.81693,
          36.81693,
          77.94953,
          36.81693,
          36.81693,
          36.81693,
          36.81693,
          36.81693,
          77.94953,
          77.94953,
          36.81693,
          36.81693,
          36.81693,
          -32.299328,
          36.81693,
          -25.731739,
          -45.312332,
          77.94953,
          77.94953,
          36.81693,
          36.81693,
          36.81693,
          36.81693,
          36.81693,
          36.81693,
          36.81693,
          77.94953,
          36.81693,
          77.94953,
          36.81693,
          -31.16702,
          77.94953,
          36.81693,
          77.94953,
          -30.93451,
          77.94953,
          36.81693,
          36.81693,
          77.94953,
          77.94953,
          -50.78956,
          36.81693,
          77.94953,
          36.81693,
          36.81693,
          77.94953,
          77.94953,
          77.94953,
          36.81693,
          77.94953,
          77.94953,
          36.81693,
          77.94953,
          -41.986137,
          36.81693,
          36.81693,
          77.94953,
          36.81693,
          77.94953,
          77.94953,
          77.94953,
          36.81693,
          77.94953,
          36.81693,
          36.81693,
          36.81693,
          36.81693,
          36.81693,
          36.81693,
          36.81693,
          36.81693,
          36.81693,
          36.81693,
          36.81693,
          36.81693,
          36.81693,
          36.81693,
          36.81693,
          36.81693,
          36.81693,
          36.81693,
          36.81693,
          36.81693,
          36.81693,
          77.94953,
          36.81693,
          77.94953,
          36.81693,
          77.94953,
          36.81693,
          77.94953,
          77.94953,
          77.94953,
          77.94953,
          77.94953,
          77.94953,
          36.81693,
          77.94953,
          77.94953,
          77.94953,
          36.81693,
          36.81693,
          77.94953,
          77.94953,
          77.94953
         ],
         "yaxis": "y"
        },
        {
         "customdata": [
          [
           1929,
           ""
          ],
          [
           1929,
           "séance supernatural power"
          ],
          [
           1929,
           ""
          ],
          [
           1929,
           ""
          ],
          [
           1929,
           "detective"
          ],
          [
           1929,
           ""
          ],
          [
           1929,
           "not_found"
          ],
          [
           1929,
           "gorilla maya temple"
          ],
          [
           1929,
           "yacht murder"
          ],
          [
           1929,
           ""
          ],
          [
           1929,
           ""
          ],
          [
           1930,
           "based on play or musical revenge policeman"
          ],
          [
           1931,
           "murder reporter"
          ],
          [
           1930,
           "lost film"
          ],
          [
           1930,
           "newspaper reporter nightclub singer framed for murder criminal lawyer"
          ],
          [
           1930,
           "jealousy sports mountain fake death mountain climbing snow skiing"
          ],
          [
           1931,
           ""
          ],
          [
           1931,
           "detective hawaii murder hong kong murder investigation honolulu, hawaii charlie chan"
          ],
          [
           1931,
           "train"
          ],
          [
           1931,
           "subway"
          ],
          [
           1932,
           "american football doping murder racketeering"
          ],
          [
           1932,
           "robbery slang prohibition era san francisco, california widow deception prison escape revenge murder fugitive b movie train stabbing criminal police detective interrogation held at gunpoint pre-code stock footage racial stereotype runaway train telephone box damsel in distress spinster stolen jewelry 1930s"
          ],
          [
           1932,
           "charlie chan"
          ],
          [
           1932,
           "movie studio"
          ],
          [
           1932,
           "lost film"
          ],
          [
           1932,
           ""
          ],
          [
           1932,
           ""
          ],
          [
           1932,
           ""
          ],
          [
           1932,
           "flashback suburb unreliable flashback secret marriage murder trial suburban angst"
          ],
          [
           1932,
           "railroad"
          ],
          [
           1932,
           "adultery lost film"
          ],
          [
           1932,
           ""
          ],
          [
           1932,
           "trial murder pre-code"
          ],
          [
           1932,
           ""
          ],
          [
           1933,
           "london, england pre-code international intrigue"
          ],
          [
           1933,
           "lost film charlie chan"
          ],
          [
           1933,
           "murder modeling"
          ],
          [
           1933,
           ""
          ],
          [
           1933,
           "detective on the run stolen jewelry"
          ],
          [
           1933,
           "secret identity terrorist attack biplane movie serial"
          ],
          [
           1933,
           "magic"
          ],
          [
           1933,
           "backstage murder whodunit"
          ],
          [
           1934,
           "gigolo murder private detective"
          ],
          [
           1934,
           "suicide robbery séance"
          ],
          [
           1934,
           ""
          ],
          [
           1934,
           ""
          ],
          [
           1934,
           "killer ape"
          ],
          [
           1934,
           "carnival murder"
          ],
          [
           1933,
           "falsely accused college murder pre-code newspaper reporter"
          ],
          [
           1934,
           "newspaper political corruption"
          ],
          [
           1934,
           ""
          ],
          [
           1934,
           ""
          ],
          [
           1934,
           "radio station detective murder"
          ],
          [
           1934,
           "not_found"
          ],
          [
           1934,
           "priest"
          ],
          [
           1933,
           "old dark house the shadow"
          ],
          [
           1929,
           "lost film"
          ],
          [
           1931,
           ""
          ],
          [
           1931,
           ""
          ],
          [
           1931,
           ""
          ],
          [
           1933,
           ""
          ],
          [
           1929,
           "not_found"
          ]
         ],
         "hovertemplate": "<b>%{hovertext}</b><br><br>primary_genre=Mystery<br>startYear=%{customdata[0]}<br>keywords=%{customdata[1]}<extra></extra>",
         "hovertext": [
          "The Charlatan",
          "Darkened Rooms",
          "The Dummy",
          "The Hate Ship",
          "The Peacock Fan",
          "The Return of Sherlock Holmes",
          "Slim Fingers",
          "Stark Mad",
          "Strange Cargo",
          "Trent's Last Case",
          "Unmasked",
          "The Perfect Alibi",
          "A Dangerous Affair",
          "In the Next Room",
          "Murder on the Roof",
          "The Son of the White Mountain",
          "The Deceiver",
          "Charlie Chan Carries On",
          "The Mystery Train",
          "Subway Express",
          "70,000 Witnesses",
          "By Whose Hand?",
          "Charlie Chan's Chance",
          "Discarded Lovers",
          "File 113",
          "Guilty as Hell",
          "The Last Man",
          "The Midnight Warning",
          "The Night of June 13",
          "The Phantom Express",
          "A Scarlet Week-End",
          "The Shadow of the Eagle",
          "The Silent Witness",
          "The Woman in Room 13",
          "Blind Adventure",
          "Charlie Chan's Greatest Case",
          "Disgraced",
          "Hold the Press",
          "Man Hunt",
          "The Mystery Squadron",
          "Trick for Trick",
          "Curtain at Eight",
          "Dancing Man",
          "Dangerous Corner",
          "Dangerous Ground",
          "Green Eyes",
          "The House of Mystery",
          "The Murder in the Museum",
          "Murder on the Campus",
          "Name the Woman",
          "Passing Shadows",
          "Return of the Terror",
          "Take the Stand",
          "When Strangers Meet",
          "Father Brown, Detective",
          "The Shadow",
          "The House of Secrets",
          "Inquest",
          "The Old Man",
          "The Wickham Mystery",
          "Shot in the Dark",
          "Power Over Men"
         ],
         "legendgroup": "Mystery",
         "marker": {
          "color": "#B6E880",
          "line": {
           "color": "DarkSlateGrey",
           "width": 0.5
          },
          "opacity": 0.9,
          "size": 6,
          "symbol": "circle"
         },
         "mode": "markers",
         "name": "Mystery",
         "showlegend": true,
         "type": "scattergl",
         "x": [
          -0.2744678,
          12.79124,
          -1.6578817,
          -3.1522791,
          6.1184025,
          -0.05850409,
          0.053143766,
          27.21219,
          11.28393,
          -0.05850409,
          -0.05850409,
          10.777178,
          2.2847972,
          36.860954,
          2.014893,
          26.870369,
          -0.05850409,
          10.734563,
          30.031996,
          30.254072,
          10.212364,
          -6.2159276,
          12.429628,
          29.844883,
          36.168255,
          -0.05850409,
          -0.05850409,
          -0.05850409,
          -5.1903744,
          30.316498,
          34.637367,
          -0.05850409,
          -12.350983,
          -0.05850409,
          -19.319815,
          12.533515,
          0.1641259,
          -0.05850409,
          -3.7146814,
          36.153664,
          14.904828,
          1.4831015,
          4.446036,
          12.049028,
          -0.05850409,
          -0.05850409,
          26.112783,
          -1.6765834,
          -10.929397,
          -5.125449,
          -0.05850409,
          -0.05850409,
          2.612093,
          0.09415658,
          13.685369,
          24.943687,
          36.706608,
          -0.05850409,
          -0.05850409,
          -0.05850409,
          -0.05850409,
          0.09415658
         ],
         "xaxis": "x",
         "y": [
          33.64665,
          -19.112906,
          34.078327,
          36.494583,
          -17.412369,
          36.81693,
          74.79034,
          -19.631643,
          -30.326094,
          36.81693,
          36.81693,
          -51.33637,
          -16.819118,
          -31.318916,
          -17.414465,
          -5.975671,
          36.81693,
          -21.08162,
          -10.409877,
          -11.705267,
          1.9826095,
          -19.303577,
          -21.678118,
          -30.314053,
          -30.326925,
          36.81693,
          36.81693,
          36.81693,
          -13.720693,
          -11.350987,
          -34.222347,
          36.81693,
          -23.658415,
          36.81693,
          -36.54688,
          -21.773764,
          -15.372518,
          36.81693,
          -21.548828,
          -22.528154,
          -20.175241,
          -16.317358,
          -17.071688,
          -18.839123,
          36.81693,
          36.81693,
          -20.474953,
          -16.550007,
          -20.401241,
          -7.872424,
          36.81693,
          36.81693,
          -18.16727,
          77.94953,
          -19.14904,
          -31.784187,
          -31.139006,
          36.81693,
          36.81693,
          36.81693,
          36.81693,
          77.94953
         ],
         "yaxis": "y"
        },
        {
         "customdata": [
          [
           1929,
           "spy biography based on play or musical british prime minister 19th century suez canal"
          ],
          [
           1929,
           ""
          ],
          [
           1929,
           ""
          ],
          [
           1930,
           "assassination illinois biography debate courtship american civil war emancipation abolitionist abraham lincoln proclamation ford's theatre"
          ],
          [
           1930,
           "biography"
          ],
          [
           1930,
           "pre-code"
          ],
          [
           1930,
           "musical biography"
          ],
          [
           1930,
           "not_found"
          ],
          [
           1931,
           "biography president pre-code 18th century founding fathers"
          ],
          [
           1932,
           ""
          ],
          [
           1932,
           "mind control corruption influence faith poison manipulation czar / tsar / tzar royal family downfall royal court pre-code hypnotism russian history imperial russia hemophilia murder plot cleric romanov dinasty"
          ],
          [
           1932,
           "colorado biography pre-code braggart"
          ],
          [
           1933,
           "assassination"
          ],
          [
           1933,
           "biography based on true story tudor king pre-code henry viii 16th century british monarchy"
          ],
          [
           1933,
           "ambassador peace queen sweden forbidden love duty biography mobster female protagonist royal court pre-code inn 17th century"
          ],
          [
           1934,
           "musical black and white"
          ],
          [
           1934,
           "london, england abusive father poet biography based on play or musical family relationships church free will overbearing father pre-code self confidence father daughter conflict overprotective father domineering father literary figure loss of legs father daughter relationship hopelessly in love cruel father"
          ],
          [
           1934,
           "princess coup d'etat biography palace intrigue catherine the great"
          ],
          [
           1934,
           "epic egypt roman empire cleopatra ancient rome pre-code ancient egypt alexandria egypt 1st century bc"
          ],
          [
           1934,
           "pre-code financial empire"
          ],
          [
           1934,
           "composer"
          ],
          [
           1934,
           "biography historical figure"
          ],
          [
           1934,
           "biography pre-code pancho villa"
          ],
          [
           1933,
           "suicide drug abuse heroin drug addiction opium exploitation biography flashback pre-code"
          ],
          [
           1933,
           ""
          ],
          [
           1929,
           "france based on novel or book queen lost film stolen jewelry"
          ],
          [
           1931,
           ""
          ],
          [
           1932,
           ""
          ]
         ],
         "hovertemplate": "<b>%{hovertext}</b><br><br>primary_genre=Biography<br>startYear=%{customdata[0]}<br>keywords=%{customdata[1]}<extra></extra>",
         "hovertext": [
          "Disraeli",
          "Die Königsloge",
          "La vie miraculeuse de Thérèse Martin",
          "Abraham Lincoln",
          "The Dreyfus Case",
          "A Lady's Morals",
          "The Loves of Robert Burns",
          "A Modern Jean Val Jean; or, A Frame Up",
          "Alexander Hamilton",
          "House of Death",
          "Rasputin and the Empress",
          "Silver Dollar",
          "The Man Who Dared",
          "The Private Life of Henry VIII",
          "Queen Christina",
          "Strauss' Great Waltz",
          "The Barretts of Wimpole Street",
          "The Rise of Catherine the Great",
          "Cleopatra",
          "The House of Rothschild",
          "Love Time",
          "The Mighty Barnum",
          "Viva Villa!",
          "Narcotic",
          "Mussolini Speaks",
          "The Queen's Necklace",
          "Jenny Lind",
          "The Revenge of Pancho Villa"
         ],
         "legendgroup": "Biography",
         "marker": {
          "color": "#FF97FF",
          "line": {
           "color": "DarkSlateGrey",
           "width": 0.5
          },
          "opacity": 0.9,
          "size": 6,
          "symbol": "circle"
         },
         "mode": "markers",
         "name": "Biography",
         "showlegend": true,
         "type": "scattergl",
         "x": [
          8.938434,
          -0.05850409,
          -0.05850409,
          13.952381,
          10.705946,
          -25.98213,
          2.3050818,
          0.053143766,
          -36.108364,
          -0.05850409,
          -2.0238392,
          -37.96011,
          1.5219424,
          -11.914474,
          -3.8524888,
          -1.3184777,
          -2.4515488,
          -11.556655,
          -34.396835,
          -32.061058,
          2.3001993,
          10.710455,
          -14.587337,
          -12.2341175,
          -0.05850409,
          0.1472705,
          -0.05850409,
          -0.05850409
         ],
         "xaxis": "x",
         "y": [
          -47.843567,
          36.81693,
          36.81693,
          -39.53901,
          -41.239017,
          -32.155094,
          -49.770103,
          74.79034,
          -34.730145,
          36.81693,
          -27.83601,
          -36.21438,
          -14.383851,
          -56.727646,
          -32.80127,
          -51.2734,
          -31.1002,
          -56.901894,
          -41.62975,
          -31.676384,
          -51.521282,
          -41.251316,
          -33.465145,
          -29.06729,
          36.81693,
          -34.04498,
          36.81693,
          36.81693
         ],
         "yaxis": "y"
        },
        {
         "customdata": [
          [
           1929,
           ""
          ],
          [
           1929,
           "siberia"
          ],
          [
           1929,
           "indecision"
          ],
          [
           1930,
           ""
          ],
          [
           1930,
           ""
          ],
          [
           1931,
           ""
          ],
          [
           1931,
           "partially lost film"
          ],
          [
           1931,
           ""
          ],
          [
           1930,
           ""
          ],
          [
           1933,
           "not_found"
          ],
          [
           1934,
           "not_found"
          ],
          [
           1934,
           ""
          ],
          [
           1931,
           ""
          ],
          [
           1929,
           "black and white silent film"
          ],
          [
           1930,
           ""
          ],
          [
           1933,
           "not_found"
          ]
         ],
         "hovertemplate": "<b>%{hovertext}</b><br><br>primary_genre=Romance<br>startYear=%{customdata[0]}<br>keywords=%{customdata[1]}<extra></extra>",
         "hovertext": [
          "Geraldine",
          "Hearts in Exile",
          "Rich People",
          "The Bad One",
          "College Lovers",
          "Once a Sinner",
          "Annabelle's Affairs",
          "All That is Not Worth Love",
          "Life Is Beautiful",
          "Su último amor",
          "La buenaventura",
          "Les filles de la concierge",
          "Guilt",
          "The Romance of Seville",
          "When Love Hurts",
          "Flowers Fall and Catkins Fly"
         ],
         "legendgroup": "Romance",
         "marker": {
          "color": "#FECB52",
          "line": {
           "color": "DarkSlateGrey",
           "width": 0.5
          },
          "opacity": 0.9,
          "size": 6,
          "symbol": "circle"
         },
         "mode": "markers",
         "name": "Romance",
         "showlegend": true,
         "type": "scattergl",
         "x": [
          -2.7364655,
          20.418564,
          -13.713814,
          -0.05850409,
          -0.05850409,
          -0.05850409,
          40.412903,
          -0.05850409,
          -0.05850409,
          0.09415658,
          0.09415658,
          -0.05850409,
          -0.05850409,
          31.801573,
          -0.05850409,
          0.09415658
         ],
         "xaxis": "x",
         "y": [
          35.163292,
          -17.121983,
          0.83790386,
          36.81693,
          36.81693,
          36.81693,
          -33.92211,
          36.81693,
          36.81693,
          77.94953,
          77.94953,
          36.81693,
          36.81693,
          -39.115093,
          36.81693,
          77.94953
         ],
         "yaxis": "y"
        },
        {
         "customdata": [
          [
           1929,
           "paris, france musical"
          ],
          [
           1929,
           "partially lost film"
          ],
          [
           1929,
           ""
          ],
          [
           1929,
           "dancer waitress restaurant musical"
          ],
          [
           1929,
           ""
          ],
          [
           1930,
           "remake pre-code operetta"
          ],
          [
           1930,
           "musical romance"
          ],
          [
           1930,
           "musical pre-code operetta"
          ],
          [
           1930,
           "robbery radio pre-code squeaky voice"
          ],
          [
           1931,
           ""
          ],
          [
           1929,
           ""
          ],
          [
           1930,
           "lost film african american  musical"
          ],
          [
           1930,
           ""
          ],
          [
           1930,
           ""
          ],
          [
           1930,
           "musical"
          ],
          [
           1930,
           "musical"
          ],
          [
           1930,
           "musical pre-code mining camp"
          ],
          [
           1930,
           "unreleased"
          ],
          [
           1930,
           "musical"
          ],
          [
           1930,
           "house party"
          ],
          [
           1930,
           "musical"
          ],
          [
           1930,
           "opera"
          ],
          [
           1930,
           ""
          ],
          [
           1930,
           "pre-code partially lost film"
          ],
          [
           1930,
           ""
          ],
          [
           1930,
           "revolution loss of virginity pre-code"
          ],
          [
           1930,
           "dancer stowaway pre-code"
          ],
          [
           1930,
           "based on novel or book female protagonist pre-code"
          ],
          [
           1930,
           "musical"
          ],
          [
           1930,
           "new york city austria vienna, austria pre-code operetta"
          ],
          [
           1931,
           "musical lost film"
          ],
          [
           1931,
           "cuba pre-code illegitimate son"
          ],
          [
           1931,
           "musical pre-code"
          ],
          [
           1931,
           "military officer class differences modeling"
          ],
          [
           1931,
           "musical neighbor pre-code"
          ],
          [
           1931,
           "lost film"
          ],
          [
           1931,
           "musical"
          ],
          [
           1932,
           "musical operetta"
          ],
          [
           1932,
           ""
          ],
          [
           1932,
           "musical"
          ],
          [
           1933,
           ""
          ],
          [
           1930,
           "musical black and white"
          ],
          [
           1932,
           "operetta"
          ],
          [
           1933,
           ""
          ],
          [
           1933,
           "musical pre-code drunkenness"
          ],
          [
           1933,
           "musical revue"
          ],
          [
           1933,
           "partially lost film ucla"
          ],
          [
           1933,
           ""
          ],
          [
           1933,
           "prince"
          ],
          [
           1933,
           ""
          ],
          [
           1934,
           ""
          ],
          [
           1934,
           "not_found"
          ],
          [
           1934,
           ""
          ],
          [
           1934,
           "gypsy lieutenant"
          ],
          [
           1934,
           "musical"
          ],
          [
           1934,
           "army hawaii musical west point newspaper article stage play wedding announcement"
          ],
          [
           1934,
           ""
          ],
          [
           1933,
           ""
          ],
          [
           1933,
           ""
          ],
          [
           1934,
           "not_found"
          ],
          [
           1934,
           "nightclub singer telephone operator"
          ],
          [
           1931,
           ""
          ],
          [
           1934,
           ""
          ],
          [
           1934,
           ""
          ],
          [
           1934,
           ""
          ],
          [
           1934,
           ""
          ],
          [
           1934,
           ""
          ],
          [
           1934,
           "college musical tutor rowing"
          ],
          [
           1934,
           ""
          ],
          [
           1931,
           ""
          ],
          [
           1934,
           ""
          ],
          [
           1934,
           ""
          ],
          [
           1933,
           ""
          ],
          [
           1932,
           "not_found"
          ],
          [
           1930,
           "not_found"
          ],
          [
           1931,
           ""
          ],
          [
           1932,
           ""
          ],
          [
           1932,
           ""
          ],
          [
           1932,
           ""
          ],
          [
           1931,
           "not_found"
          ],
          [
           1930,
           ""
          ],
          [
           1934,
           ""
          ],
          [
           1934,
           ""
          ],
          [
           1932,
           ""
          ],
          [
           1932,
           ""
          ],
          [
           1930,
           ""
          ],
          [
           1931,
           ""
          ],
          [
           1930,
           "not_found"
          ],
          [
           1930,
           "not_found"
          ],
          [
           1930,
           "not_found"
          ],
          [
           1934,
           ""
          ]
         ],
         "hovertemplate": "<b>%{hovertext}</b><br><br>primary_genre=Musical<br>startYear=%{customdata[0]}<br>keywords=%{customdata[1]}<extra></extra>",
         "hovertext": [
          "Innocents of Paris",
          "Married in Hollywood",
          "Paris",
          "Sally",
          "Song of Love",
          "Bride of the Regiment",
          "Ein Burschenlied aus Heidelberg",
          "Call of the Flesh",
          "Cheer Up and Smile",
          "Farewell to Love",
          "The Co-Optimists",
          "Georgia Rose",
          "Latin Love",
          "Never Trust a Woman",
          "The Song Is Ended",
          "The Inn at the Rhine",
          "The Lottery Bride",
          "The March of Time",
          "A Girl from the Reeperbahn",
          "New Movietone Follies of 1930",
          "Nur Du",
          "Oh, for a Man!",
          "One Mad Kiss",
          "The Rogue Song",
          "Song of Soho",
          "The Song of the Flame",
          "Sunny",
          "Sweet Kitty Bellairs",
          "Sein Liebeslied",
          "Viennese Nights",
          "Children of Dreams",
          "The Cuban Love Song",
          "Kiki",
          "Kiss Me Again",
          "The Prodigal",
          "Swanee River",
          "Walzerparadies",
          "The Blue from the Sky",
          "She, or Nobody",
          "Once There Was a Waltz",
          "Melodía de arrabal",
          "Rendezvous",
          "Where Is This Lady?",
          "Dance, Girl, Dance",
          "Going Hollywood",
          "Hello, Everybody!",
          "My Lips Betray",
          "The Only Girl",
          "Prince of Arcadia",
          "Waltz Time",
          "April Blossoms",
          "Her Song of Love",
          "The Song of the Sun",
          "Caravan",
          "The Csardas Princess",
          "Flirtation Walk",
          "Give Her a Ring",
          "Kiss Me Goodbye",
          "Wedding at Lake Wolfgang",
          "The Bedroom Diplomat",
          "I Like It That Way",
          "Once I Loved a Girl in Vienna",
          "The Last Waltz",
          "Music Hall",
          "Márciusi mese",
          "Runaway Queen",
          "Say It with Flowers",
          "Student Tour",
          "Sweet Adeline",
          "The Beggar Student",
          "Geschichten aus dem Wienerwald",
          "Caravane",
          "Un soir de réveillon",
          "Cotton Club Steppers",
          "Modern Minstrels",
          "Le chanteur de Séville",
          "The Maid of the Mountains",
          "The New Hotel",
          "Say It with Music",
          "Liebeslied",
          "The Alluring Goal",
          "Idols of the Radio",
          "Annette in Paradise",
          "A Night in Paradise",
          "The Heath Is Green",
          "Das Rheinlandmädel",
          "Versuchen Sie meine Schwester",
          "Sei tu l'amore",
          "Great Day",
          "Paramount op parade",
          "Romantic and Crazy"
         ],
         "legendgroup": "Musical",
         "marker": {
          "color": "#636efa",
          "line": {
           "color": "DarkSlateGrey",
           "width": 0.5
          },
          "opacity": 0.9,
          "size": 6,
          "symbol": "circle"
         },
         "mode": "markers",
         "name": "Musical",
         "showlegend": true,
         "type": "scattergl",
         "x": [
          -0.2535728,
          40.41255,
          -0.05850409,
          0.96077985,
          -0.05850409,
          0.124074735,
          -0.43189928,
          0.12400121,
          -13.953383,
          -0.05850409,
          -0.05850409,
          36.64159,
          -0.05850409,
          -0.05850409,
          1.1628546,
          1.1477339,
          -9.607999,
          30.707575,
          1.1661711,
          8.324468,
          1.1693558,
          3.2084188,
          -0.05850409,
          41.81662,
          -0.05850409,
          -28.206503,
          -16.87931,
          -12.216334,
          1.1595609,
          1.3728228,
          36.872543,
          -21.158533,
          -9.480712,
          16.910334,
          -9.595215,
          35.36243,
          1.1645422,
          0.61924577,
          -0.05850409,
          1.1610627,
          -0.05850409,
          -1.3184443,
          0.6965513,
          -0.05850409,
          -12.384578,
          0.91555685,
          39.700527,
          -0.05850409,
          18.833647,
          -0.05850409,
          -0.05850409,
          0.09415658,
          -0.05850409,
          12.694752,
          1.1672564,
          0.88975394,
          -0.05850409,
          -0.05850409,
          -0.05850409,
          0.09415658,
          1.8134867,
          -0.05850409,
          -0.05850409,
          -0.05850409,
          -0.05850409,
          -0.05850409,
          -0.05850409,
          -1.8865688,
          -0.05850409,
          -0.05850409,
          -0.05850409,
          -0.05850409,
          -0.05850409,
          0.09415658,
          0.09415658,
          -0.05850409,
          -0.05850409,
          -0.05850409,
          -0.05850409,
          0.09415658,
          -0.05850409,
          -0.05850409,
          -0.05850409,
          -0.05850409,
          -0.05850409,
          -0.05850409,
          -0.05850409,
          0.09415658,
          0.09415658,
          0.09415658,
          -0.05850409
         ],
         "xaxis": "x",
         "y": [
          -39.436745,
          -33.922276,
          36.81693,
          -46.543636,
          36.81693,
          -58.151535,
          -48.827923,
          -58.04144,
          -46.088985,
          36.81693,
          36.81693,
          -35.966,
          36.81693,
          36.81693,
          -49.9731,
          -49.874615,
          -49.84128,
          -24.224747,
          -49.916878,
          -25.994678,
          -49.83195,
          -54.96062,
          36.81693,
          -36.88255,
          36.81693,
          -12.480418,
          -45.476265,
          -34.815514,
          -49.975204,
          -58.497272,
          -35.69854,
          -44.43812,
          -48.812054,
          -25.460302,
          -49.285267,
          -30.147358,
          -49.830776,
          -57.649197,
          36.81693,
          -49.91604,
          36.81693,
          -51.274048,
          -57.807213,
          36.81693,
          -43.05994,
          -48.46866,
          -34.10035,
          36.81693,
          -19.602236,
          36.81693,
          36.81693,
          77.94953,
          36.81693,
          -16.128344,
          -49.972828,
          -47.979145,
          36.81693,
          36.81693,
          36.81693,
          77.94953,
          -43.565727,
          36.81693,
          36.81693,
          36.81693,
          36.81693,
          36.81693,
          36.81693,
          -47.767456,
          36.81693,
          36.81693,
          36.81693,
          36.81693,
          36.81693,
          77.94953,
          77.94953,
          36.81693,
          36.81693,
          36.81693,
          36.81693,
          77.94953,
          36.81693,
          36.81693,
          36.81693,
          36.81693,
          36.81693,
          36.81693,
          36.81693,
          77.94953,
          77.94953,
          77.94953,
          36.81693
         ],
         "yaxis": "y"
        }
       ],
       "layout": {
        "annotations": [
         {
          "font": {
           "color": "white",
           "size": 14
          },
          "showarrow": false,
          "text": "<b>Drama & Romance Cluster</b>",
          "x": -25,
          "y": -25
         },
         {
          "font": {
           "color": "white",
           "size": 14
          },
          "showarrow": false,
          "text": "<b>Comedy & Musical<br>Neighborhood</b>",
          "x": 35,
          "y": -15
         },
         {
          "font": {
           "color": "white",
           "size": 14
          },
          "showarrow": false,
          "text": "<b>Crime & Mystery<br>Territory</b>",
          "x": -5,
          "y": 40
         }
        ],
        "legend": {
         "title": {
          "text": "Primary Genre"
         },
         "tracegroupgap": 0
        },
        "template": {
         "data": {
          "bar": [
           {
            "error_x": {
             "color": "#f2f5fa"
            },
            "error_y": {
             "color": "#f2f5fa"
            },
            "marker": {
             "line": {
              "color": "rgb(17,17,17)",
              "width": 0.5
             },
             "pattern": {
              "fillmode": "overlay",
              "size": 10,
              "solidity": 0.2
             }
            },
            "type": "bar"
           }
          ],
          "barpolar": [
           {
            "marker": {
             "line": {
              "color": "rgb(17,17,17)",
              "width": 0.5
             },
             "pattern": {
              "fillmode": "overlay",
              "size": 10,
              "solidity": 0.2
             }
            },
            "type": "barpolar"
           }
          ],
          "carpet": [
           {
            "aaxis": {
             "endlinecolor": "#A2B1C6",
             "gridcolor": "#506784",
             "linecolor": "#506784",
             "minorgridcolor": "#506784",
             "startlinecolor": "#A2B1C6"
            },
            "baxis": {
             "endlinecolor": "#A2B1C6",
             "gridcolor": "#506784",
             "linecolor": "#506784",
             "minorgridcolor": "#506784",
             "startlinecolor": "#A2B1C6"
            },
            "type": "carpet"
           }
          ],
          "choropleth": [
           {
            "colorbar": {
             "outlinewidth": 0,
             "ticks": ""
            },
            "type": "choropleth"
           }
          ],
          "contour": [
           {
            "colorbar": {
             "outlinewidth": 0,
             "ticks": ""
            },
            "colorscale": [
             [
              0,
              "#0d0887"
             ],
             [
              0.1111111111111111,
              "#46039f"
             ],
             [
              0.2222222222222222,
              "#7201a8"
             ],
             [
              0.3333333333333333,
              "#9c179e"
             ],
             [
              0.4444444444444444,
              "#bd3786"
             ],
             [
              0.5555555555555556,
              "#d8576b"
             ],
             [
              0.6666666666666666,
              "#ed7953"
             ],
             [
              0.7777777777777778,
              "#fb9f3a"
             ],
             [
              0.8888888888888888,
              "#fdca26"
             ],
             [
              1,
              "#f0f921"
             ]
            ],
            "type": "contour"
           }
          ],
          "contourcarpet": [
           {
            "colorbar": {
             "outlinewidth": 0,
             "ticks": ""
            },
            "type": "contourcarpet"
           }
          ],
          "heatmap": [
           {
            "colorbar": {
             "outlinewidth": 0,
             "ticks": ""
            },
            "colorscale": [
             [
              0,
              "#0d0887"
             ],
             [
              0.1111111111111111,
              "#46039f"
             ],
             [
              0.2222222222222222,
              "#7201a8"
             ],
             [
              0.3333333333333333,
              "#9c179e"
             ],
             [
              0.4444444444444444,
              "#bd3786"
             ],
             [
              0.5555555555555556,
              "#d8576b"
             ],
             [
              0.6666666666666666,
              "#ed7953"
             ],
             [
              0.7777777777777778,
              "#fb9f3a"
             ],
             [
              0.8888888888888888,
              "#fdca26"
             ],
             [
              1,
              "#f0f921"
             ]
            ],
            "type": "heatmap"
           }
          ],
          "heatmapgl": [
           {
            "colorbar": {
             "outlinewidth": 0,
             "ticks": ""
            },
            "colorscale": [
             [
              0,
              "#0d0887"
             ],
             [
              0.1111111111111111,
              "#46039f"
             ],
             [
              0.2222222222222222,
              "#7201a8"
             ],
             [
              0.3333333333333333,
              "#9c179e"
             ],
             [
              0.4444444444444444,
              "#bd3786"
             ],
             [
              0.5555555555555556,
              "#d8576b"
             ],
             [
              0.6666666666666666,
              "#ed7953"
             ],
             [
              0.7777777777777778,
              "#fb9f3a"
             ],
             [
              0.8888888888888888,
              "#fdca26"
             ],
             [
              1,
              "#f0f921"
             ]
            ],
            "type": "heatmapgl"
           }
          ],
          "histogram": [
           {
            "marker": {
             "pattern": {
              "fillmode": "overlay",
              "size": 10,
              "solidity": 0.2
             }
            },
            "type": "histogram"
           }
          ],
          "histogram2d": [
           {
            "colorbar": {
             "outlinewidth": 0,
             "ticks": ""
            },
            "colorscale": [
             [
              0,
              "#0d0887"
             ],
             [
              0.1111111111111111,
              "#46039f"
             ],
             [
              0.2222222222222222,
              "#7201a8"
             ],
             [
              0.3333333333333333,
              "#9c179e"
             ],
             [
              0.4444444444444444,
              "#bd3786"
             ],
             [
              0.5555555555555556,
              "#d8576b"
             ],
             [
              0.6666666666666666,
              "#ed7953"
             ],
             [
              0.7777777777777778,
              "#fb9f3a"
             ],
             [
              0.8888888888888888,
              "#fdca26"
             ],
             [
              1,
              "#f0f921"
             ]
            ],
            "type": "histogram2d"
           }
          ],
          "histogram2dcontour": [
           {
            "colorbar": {
             "outlinewidth": 0,
             "ticks": ""
            },
            "colorscale": [
             [
              0,
              "#0d0887"
             ],
             [
              0.1111111111111111,
              "#46039f"
             ],
             [
              0.2222222222222222,
              "#7201a8"
             ],
             [
              0.3333333333333333,
              "#9c179e"
             ],
             [
              0.4444444444444444,
              "#bd3786"
             ],
             [
              0.5555555555555556,
              "#d8576b"
             ],
             [
              0.6666666666666666,
              "#ed7953"
             ],
             [
              0.7777777777777778,
              "#fb9f3a"
             ],
             [
              0.8888888888888888,
              "#fdca26"
             ],
             [
              1,
              "#f0f921"
             ]
            ],
            "type": "histogram2dcontour"
           }
          ],
          "mesh3d": [
           {
            "colorbar": {
             "outlinewidth": 0,
             "ticks": ""
            },
            "type": "mesh3d"
           }
          ],
          "parcoords": [
           {
            "line": {
             "colorbar": {
              "outlinewidth": 0,
              "ticks": ""
             }
            },
            "type": "parcoords"
           }
          ],
          "pie": [
           {
            "automargin": true,
            "type": "pie"
           }
          ],
          "scatter": [
           {
            "marker": {
             "line": {
              "color": "#283442"
             }
            },
            "type": "scatter"
           }
          ],
          "scatter3d": [
           {
            "line": {
             "colorbar": {
              "outlinewidth": 0,
              "ticks": ""
             }
            },
            "marker": {
             "colorbar": {
              "outlinewidth": 0,
              "ticks": ""
             }
            },
            "type": "scatter3d"
           }
          ],
          "scattercarpet": [
           {
            "marker": {
             "colorbar": {
              "outlinewidth": 0,
              "ticks": ""
             }
            },
            "type": "scattercarpet"
           }
          ],
          "scattergeo": [
           {
            "marker": {
             "colorbar": {
              "outlinewidth": 0,
              "ticks": ""
             }
            },
            "type": "scattergeo"
           }
          ],
          "scattergl": [
           {
            "marker": {
             "line": {
              "color": "#283442"
             }
            },
            "type": "scattergl"
           }
          ],
          "scattermapbox": [
           {
            "marker": {
             "colorbar": {
              "outlinewidth": 0,
              "ticks": ""
             }
            },
            "type": "scattermapbox"
           }
          ],
          "scatterpolar": [
           {
            "marker": {
             "colorbar": {
              "outlinewidth": 0,
              "ticks": ""
             }
            },
            "type": "scatterpolar"
           }
          ],
          "scatterpolargl": [
           {
            "marker": {
             "colorbar": {
              "outlinewidth": 0,
              "ticks": ""
             }
            },
            "type": "scatterpolargl"
           }
          ],
          "scatterternary": [
           {
            "marker": {
             "colorbar": {
              "outlinewidth": 0,
              "ticks": ""
             }
            },
            "type": "scatterternary"
           }
          ],
          "surface": [
           {
            "colorbar": {
             "outlinewidth": 0,
             "ticks": ""
            },
            "colorscale": [
             [
              0,
              "#0d0887"
             ],
             [
              0.1111111111111111,
              "#46039f"
             ],
             [
              0.2222222222222222,
              "#7201a8"
             ],
             [
              0.3333333333333333,
              "#9c179e"
             ],
             [
              0.4444444444444444,
              "#bd3786"
             ],
             [
              0.5555555555555556,
              "#d8576b"
             ],
             [
              0.6666666666666666,
              "#ed7953"
             ],
             [
              0.7777777777777778,
              "#fb9f3a"
             ],
             [
              0.8888888888888888,
              "#fdca26"
             ],
             [
              1,
              "#f0f921"
             ]
            ],
            "type": "surface"
           }
          ],
          "table": [
           {
            "cells": {
             "fill": {
              "color": "#506784"
             },
             "line": {
              "color": "rgb(17,17,17)"
             }
            },
            "header": {
             "fill": {
              "color": "#2a3f5f"
             },
             "line": {
              "color": "rgb(17,17,17)"
             }
            },
            "type": "table"
           }
          ]
         },
         "layout": {
          "annotationdefaults": {
           "arrowcolor": "#f2f5fa",
           "arrowhead": 0,
           "arrowwidth": 1
          },
          "autotypenumbers": "strict",
          "coloraxis": {
           "colorbar": {
            "outlinewidth": 0,
            "ticks": ""
           }
          },
          "colorscale": {
           "diverging": [
            [
             0,
             "#8e0152"
            ],
            [
             0.1,
             "#c51b7d"
            ],
            [
             0.2,
             "#de77ae"
            ],
            [
             0.3,
             "#f1b6da"
            ],
            [
             0.4,
             "#fde0ef"
            ],
            [
             0.5,
             "#f7f7f7"
            ],
            [
             0.6,
             "#e6f5d0"
            ],
            [
             0.7,
             "#b8e186"
            ],
            [
             0.8,
             "#7fbc41"
            ],
            [
             0.9,
             "#4d9221"
            ],
            [
             1,
             "#276419"
            ]
           ],
           "sequential": [
            [
             0,
             "#0d0887"
            ],
            [
             0.1111111111111111,
             "#46039f"
            ],
            [
             0.2222222222222222,
             "#7201a8"
            ],
            [
             0.3333333333333333,
             "#9c179e"
            ],
            [
             0.4444444444444444,
             "#bd3786"
            ],
            [
             0.5555555555555556,
             "#d8576b"
            ],
            [
             0.6666666666666666,
             "#ed7953"
            ],
            [
             0.7777777777777778,
             "#fb9f3a"
            ],
            [
             0.8888888888888888,
             "#fdca26"
            ],
            [
             1,
             "#f0f921"
            ]
           ],
           "sequentialminus": [
            [
             0,
             "#0d0887"
            ],
            [
             0.1111111111111111,
             "#46039f"
            ],
            [
             0.2222222222222222,
             "#7201a8"
            ],
            [
             0.3333333333333333,
             "#9c179e"
            ],
            [
             0.4444444444444444,
             "#bd3786"
            ],
            [
             0.5555555555555556,
             "#d8576b"
            ],
            [
             0.6666666666666666,
             "#ed7953"
            ],
            [
             0.7777777777777778,
             "#fb9f3a"
            ],
            [
             0.8888888888888888,
             "#fdca26"
            ],
            [
             1,
             "#f0f921"
            ]
           ]
          },
          "colorway": [
           "#636efa",
           "#EF553B",
           "#00cc96",
           "#ab63fa",
           "#FFA15A",
           "#19d3f3",
           "#FF6692",
           "#B6E880",
           "#FF97FF",
           "#FECB52"
          ],
          "font": {
           "color": "#f2f5fa"
          },
          "geo": {
           "bgcolor": "rgb(17,17,17)",
           "lakecolor": "rgb(17,17,17)",
           "landcolor": "rgb(17,17,17)",
           "showlakes": true,
           "showland": true,
           "subunitcolor": "#506784"
          },
          "hoverlabel": {
           "align": "left"
          },
          "hovermode": "closest",
          "mapbox": {
           "style": "dark"
          },
          "paper_bgcolor": "rgb(17,17,17)",
          "plot_bgcolor": "rgb(17,17,17)",
          "polar": {
           "angularaxis": {
            "gridcolor": "#506784",
            "linecolor": "#506784",
            "ticks": ""
           },
           "bgcolor": "rgb(17,17,17)",
           "radialaxis": {
            "gridcolor": "#506784",
            "linecolor": "#506784",
            "ticks": ""
           }
          },
          "scene": {
           "xaxis": {
            "backgroundcolor": "rgb(17,17,17)",
            "gridcolor": "#506784",
            "gridwidth": 2,
            "linecolor": "#506784",
            "showbackground": true,
            "ticks": "",
            "zerolinecolor": "#C8D4E3"
           },
           "yaxis": {
            "backgroundcolor": "rgb(17,17,17)",
            "gridcolor": "#506784",
            "gridwidth": 2,
            "linecolor": "#506784",
            "showbackground": true,
            "ticks": "",
            "zerolinecolor": "#C8D4E3"
           },
           "zaxis": {
            "backgroundcolor": "rgb(17,17,17)",
            "gridcolor": "#506784",
            "gridwidth": 2,
            "linecolor": "#506784",
            "showbackground": true,
            "ticks": "",
            "zerolinecolor": "#C8D4E3"
           }
          },
          "shapedefaults": {
           "line": {
            "color": "#f2f5fa"
           }
          },
          "sliderdefaults": {
           "bgcolor": "#C8D4E3",
           "bordercolor": "rgb(17,17,17)",
           "borderwidth": 1,
           "tickwidth": 0
          },
          "ternary": {
           "aaxis": {
            "gridcolor": "#506784",
            "linecolor": "#506784",
            "ticks": ""
           },
           "baxis": {
            "gridcolor": "#506784",
            "linecolor": "#506784",
            "ticks": ""
           },
           "bgcolor": "rgb(17,17,17)",
           "caxis": {
            "gridcolor": "#506784",
            "linecolor": "#506784",
            "ticks": ""
           }
          },
          "title": {
           "x": 0.05
          },
          "updatemenudefaults": {
           "bgcolor": "#506784",
           "borderwidth": 0
          },
          "xaxis": {
           "automargin": true,
           "gridcolor": "#283442",
           "linecolor": "#506784",
           "ticks": "",
           "title": {
            "standoff": 15
           },
           "zerolinecolor": "#283442",
           "zerolinewidth": 2
          },
          "yaxis": {
           "automargin": true,
           "gridcolor": "#283442",
           "linecolor": "#506784",
           "ticks": "",
           "title": {
            "standoff": 15
           },
           "zerolinecolor": "#283442",
           "zerolinewidth": 2
          }
         }
        },
        "title": {
         "text": "An Interactive Galaxy of Pre-Code Hollywood Films",
         "x": 0.5,
         "xanchor": "center",
         "y": 0.95,
         "yanchor": "top"
        },
        "xaxis": {
         "anchor": "y",
         "domain": [
          0,
          1
         ],
         "title": {}
        },
        "yaxis": {
         "anchor": "x",
         "domain": [
          0,
          1
         ],
         "title": {}
        }
       }
      }
     },
     "metadata": {},
     "output_type": "display_data"
    }
   ],
   "source": [
    "import pandas as pd\n",
    "import plotly.express as px\n",
    "\n",
    "# --- 1. Load the Final, Processed Data ---\n",
    "FINAL_DF_PATH = \"../data/processed/hollywood_galaxy_df.pkl\"\n",
    "final_galaxy_df = pd.read_pickle(FINAL_DF_PATH)\n",
    "print(\"Final galaxy data loaded successfully.\")\n",
    "\n",
    "# --- 2. Prepare Data for Visualization ---\n",
    "# Create the primary_genre column\n",
    "final_galaxy_df['primary_genre'] = final_galaxy_df['genres'].fillna('Unknown').str.split(',').str.get(0)\n",
    "\n",
    "# --- FIX: Re-introduce filtering to focus on the main clusters ---\n",
    "genre_counts = final_galaxy_df['primary_genre'].value_counts()\n",
    "# We will only plot genres that have more than 15 movies\n",
    "major_genres = genre_counts[genre_counts > 15].index\n",
    "plot_df = final_galaxy_df[final_galaxy_df['primary_genre'].isin(major_genres)]\n",
    "print(f\"Plotting {len(plot_df)} movies from major genres for a clearer view.\")\n",
    "\n",
    "# --- 3. Create the Interactive Scatter Plot ---\n",
    "fig = px.scatter(\n",
    "    plot_df,\n",
    "    x='x',\n",
    "    y='y',\n",
    "    color='primary_genre',\n",
    "    hover_name='primaryTitle',\n",
    "    hover_data={'startYear': True, 'keywords': True, 'x': False, 'y': False},\n",
    "    title=\"An Interactive Galaxy of Pre-Code Hollywood Films\"\n",
    ")\n",
    "\n",
    "# --- 4. Style the Visualization ---\n",
    "fig.update_layout(\n",
    "    template='plotly_dark',\n",
    "    legend_title_text='Primary Genre',\n",
    "    title={'y':0.95, 'x':0.5, 'xanchor': 'center', 'yanchor': 'top'},\n",
    "    xaxis_title=None, # The axes have no direct meaning, so we hide the titles\n",
    "    yaxis_title=None\n",
    ")\n",
    "fig.update_traces(marker=dict(size=6, opacity=0.9, line=dict(width=0.5, color='DarkSlateGrey')))\n",
    "\n",
    "# --- 5. NEW: Add Annotations to Label Key Clusters ---\n",
    "# These coordinates are estimates based on the plot layout.\n",
    "# They add a layer of human-readable meaning to the clusters.\n",
    "annotations = [\n",
    "    dict(x=-25, y=-25, text=\"<b>Drama & Romance Cluster</b>\", showarrow=False, font=dict(color=\"white\", size=14)),\n",
    "    dict(x=35, y=-15, text=\"<b>Comedy & Musical<br>Neighborhood</b>\", showarrow=False, font=dict(color=\"white\", size=14)),\n",
    "    dict(x=-5, y=40, text=\"<b>Crime & Mystery<br>Territory</b>\", showarrow=False, font=dict(color=\"white\", size=14))\n",
    "]\n",
    "fig.update_layout(annotations=annotations)\n",
    "\n",
    "\n",
    "# --- 6. Show the Final Plot ---\n",
    "fig.show()"
   ]
  }
 ],
 "metadata": {
  "kernelspec": {
   "display_name": "base",
   "language": "python",
   "name": "python3"
  },
  "language_info": {
   "codemirror_mode": {
    "name": "ipython",
    "version": 3
   },
   "file_extension": ".py",
   "mimetype": "text/x-python",
   "name": "python",
   "nbconvert_exporter": "python",
   "pygments_lexer": "ipython3",
   "version": "3.12.4"
  }
 },
 "nbformat": 4,
 "nbformat_minor": 5
}
